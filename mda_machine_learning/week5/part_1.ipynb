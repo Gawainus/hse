{
 "cells": [
  {
   "cell_type": "code",
   "execution_count": 1,
   "metadata": {},
   "outputs": [],
   "source": [
    "import numpy as np\n",
    "import pandas as pd\n",
    "import matplotlib.pylab as plt\n",
    "\n",
    "%matplotlib inline"
   ]
  },
  {
   "cell_type": "markdown",
   "metadata": {},
   "source": [
    "Goals:\n",
    "* Train decision trees for regression and classification in sklearn\n",
    "* Visualize a tree\n",
    "* Observe high variance"
   ]
  },
  {
   "cell_type": "markdown",
   "metadata": {},
   "source": [
    "## 1.1 Decision Trees: classification"
   ]
  },
  {
   "cell_type": "code",
   "execution_count": 2,
   "metadata": {},
   "outputs": [],
   "source": [
    "from sklearn.datasets import load_iris\n",
    "\n",
    "X, y = load_iris(return_X_y=True)"
   ]
  },
  {
   "cell_type": "code",
   "execution_count": 3,
   "metadata": {},
   "outputs": [
    {
     "name": "stdout",
     "output_type": "stream",
     "text": [
      "(150, 4)\n",
      "[0 1 2]\n"
     ]
    }
   ],
   "source": [
    "print(X.shape)\n",
    "print(np.unique(y))"
   ]
  },
  {
   "cell_type": "markdown",
   "metadata": {},
   "source": [
    "Train classification tree: sklearn estimator `DecisionTreeClassifier`"
   ]
  },
  {
   "cell_type": "code",
   "execution_count": null,
   "metadata": {},
   "outputs": [],
   "source": [
    "from sklearn.tree import DecisionTreeClassifier\n",
    "\n",
    "# define a tree\n",
    "\n",
    "# fit\n"
   ]
  },
  {
   "cell_type": "markdown",
   "metadata": {},
   "source": [
    "We can nicely visualize the result using `plot_tree` function"
   ]
  },
  {
   "cell_type": "code",
   "execution_count": null,
   "metadata": {},
   "outputs": [],
   "source": [
    "from sklearn.tree import plot_tree\n"
   ]
  },
  {
   "cell_type": "markdown",
   "metadata": {},
   "source": [
    "## 1.2. Decision Trees: Regression\n",
    "\n",
    "We will use synthetic 2d dataset in order to make some visualizations"
   ]
  },
  {
   "cell_type": "code",
   "execution_count": 8,
   "metadata": {},
   "outputs": [],
   "source": [
    "X = np.random.normal(size=(100, 2))\n",
    "y = (X[:, 0] ** 2 + X[:, 1] ** 2) ** 0.5"
   ]
  },
  {
   "cell_type": "code",
   "execution_count": 9,
   "metadata": {},
   "outputs": [
    {
     "data": {
      "image/png": "[encoded data removed]",
      "text/plain": [
       "<Figure size 576x576 with 1 Axes>"
      ]
     },
     "metadata": {
      "needs_background": "light"
     },
     "output_type": "display_data"
    }
   ],
   "source": [
    "plt.figure(figsize=(8, 8));\n",
    "plt.scatter(X[:, 0], X[:, 1], s=50, c=y);\n",
    "plt.grid()"
   ]
  },
  {
   "cell_type": "markdown",
   "metadata": {},
   "source": [
    "Split dataset into train and test, then fit regression tree"
   ]
  },
  {
   "cell_type": "code",
   "execution_count": 5,
   "metadata": {},
   "outputs": [],
   "source": [
    "from sklearn.model_selection import train_test_split\n",
    "from sklearn.tree import DecisionTreeRegressor\n",
    "\n",
    "X_train, X_test, y_train, y_test = train_test_split(X, y)\n",
    "\n",
    "# fit the tree on the train dataset\n"
   ]
  },
  {
   "cell_type": "markdown",
   "metadata": {},
   "source": [
    "Evaluate on the test data using MSE"
   ]
  },
  {
   "cell_type": "code",
   "execution_count": null,
   "metadata": {},
   "outputs": [],
   "source": [
    "from sklearn.metrics import mean_squared_error\n",
    "\n"
   ]
  },
  {
   "cell_type": "markdown",
   "metadata": {},
   "source": [
    "We will now plot prediction of the resulting decision boundary"
   ]
  },
  {
   "cell_type": "code",
   "execution_count": 13,
   "metadata": {},
   "outputs": [],
   "source": [
    "def get_grid(data):\n",
    "    x_min, x_max = data[:, 0].min() - 1, data[:, 0].max() + 1\n",
    "    y_min, y_max = data[:, 1].min() - 1, data[:, 1].max() + 1\n",
    "    return np.meshgrid(np.arange(x_min, x_max, 0.01),\n",
    "                         np.arange(y_min, y_max, 0.01))"
   ]
  },
  {
   "cell_type": "code",
   "execution_count": null,
   "metadata": {},
   "outputs": [],
   "source": [
    "# plot decision boundary\n"
   ]
  },
  {
   "cell_type": "markdown",
   "metadata": {},
   "source": [
    "## 1.3 Observe High Variance\n",
    "\n",
    "Let us try different train dataset and see how different the resulting tree will be"
   ]
  },
  {
   "cell_type": "code",
   "execution_count": 1,
   "metadata": {},
   "outputs": [],
   "source": [
    "fig, ax = plt.subplots(ncols=4, sharey=True, figsize=(16, 4))\n",
    "x1, x2 = get_grid(X)\n",
    "\n",
    "for i in range(4):\n",
    "    # split\n",
    "    \n",
    "    # train the tree\n",
    " \n",
    "    # plot\n"
   ]
  },
  {
   "cell_type": "markdown",
   "metadata": {},
   "source": [
    "---\n",
    "**[Optional task]**\n",
    "\n",
    "## 1.4 Select hyperparameters on cross-validation\n",
    "\n",
    "Read the documentation of the `DecisionTreeRegressor` to find out, which hyperparameters the model has and add ones that you find important to the `param_grid`. "
   ]
  },
  {
   "cell_type": "code",
   "execution_count": null,
   "metadata": {},
   "outputs": [],
   "source": [
    "# read the documentation\n",
    "??DecisionTreeRegressor"
   ]
  },
  {
   "cell_type": "code",
   "execution_count": 10,
   "metadata": {},
   "outputs": [],
   "source": [
    "from sklearn.model_selection import GridSearchCV\n",
    "\n",
    "# use regression tree with default hyperparameters as a base model\n",
    "model = DecisionTreeRegressor()\n",
    "\n",
    "# define parameter grid\n",
    "param_grid = {\n",
    "    'criterion': ['mse', 'mae'],\n",
    "    'max_depth': [1, 5, 10, 50],\n",
    "    # YOUR CODE HERE (add model parameters)\n",
    "}\n",
    "\n",
    "#define grid search object\n",
    "pipe_cv = GridSearchCV(model, param_grid, cv=5, scoring='neg_mean_squared_error')"
   ]
  },
  {
   "cell_type": "code",
   "execution_count": 13,
   "metadata": {},
   "outputs": [],
   "source": [
    "# fit the grid_search object\n",
    "pipe_cv.fit(X_train, y_train)\n",
    "\n",
    "# print best estimator and its score on CV\n",
    "# YOUR CODE HERE"
   ]
  },
  {
   "cell_type": "code",
   "execution_count": null,
   "metadata": {},
   "outputs": [],
   "source": [
    "# use best estimator to predict on the test set\n",
    "# YOUR CODE HERE\n",
    "\n",
    "# compute MSE on the test set\n",
    "# YOUR CODE HERE"
   ]
  },
  {
   "cell_type": "markdown",
   "metadata": {},
   "source": [
    "\n",
    "## 1.5 Compare with Lasso and Ridge Regression. \n",
    "\n",
    "Use grid search to compare three models: `DecisionTreeRegressor`, `Lasso` and `Ridge`. \n",
    "\n",
    "Note that `DecisionTreeRegressor` has hyperparameters, which differ from `Lasso` and `Ridge`. Therefore, we'll have to use the list of 2 dictionaries to define `param_grid` for all the models. "
   ]
  },
  {
   "cell_type": "code",
   "execution_count": 17,
   "metadata": {},
   "outputs": [],
   "source": [
    "from sklearn.linear_model import Lasso, Ridge\n",
    "from sklearn.pipeline import Pipeline\n",
    "\n",
    "# use regression tree with default hyperparameters as a base model\n",
    "model = Pipeline([\n",
    "    ('model', DecisionTreeRegressor())\n",
    "])\n",
    "\n",
    "# define parameter grid (list of dictionaries)\n",
    "param_grid = [\n",
    "    # first dict - for the DecisionTree\n",
    "    {\n",
    "        'model': [DecisionTreeRegressor()],\n",
    "        'model__criterion': ['mse', 'mae'],\n",
    "        'model__max_depth': [1, 5, 10, 50],\n",
    "        # YOUR CODE HERE (add model parameters)\n",
    "    },\n",
    "    # second dict - for Lasso and Ridge\n",
    "    {\n",
    "        'model': [Lasso(), Ridge()],\n",
    "        # YOUR CODE HERE (add model parameters)\n",
    "    }\n",
    "]\n",
    "\n",
    "#define grid search object\n",
    "pipe_cv = GridSearchCV(model, param_grid, cv=5, scoring='neg_mean_squared_error')"
   ]
  },
  {
   "cell_type": "code",
   "execution_count": null,
   "metadata": {},
   "outputs": [],
   "source": [
    "# fit the grid_search object\n",
    "\n",
    "\n",
    "# print best estimator and its score on CV\n"
   ]
  },
  {
   "cell_type": "code",
   "execution_count": null,
   "metadata": {},
   "outputs": [],
   "source": [
    "# use best estimator to predict on the test set\n",
    "\n",
    "# compute MSE on the test set\n"
   ]
  }
 ],
 "metadata": {
  "kernelspec": {
   "display_name": "Python 3",
   "language": "python",
   "name": "python3"
  },
  "language_info": {
   "codemirror_mode": {
    "name": "ipython",
    "version": 3
   },
   "file_extension": ".py",
   "mimetype": "text/x-python",
   "name": "python",
   "nbconvert_exporter": "python",
   "pygments_lexer": "ipython3",
   "version": "3.7.6"
  }
 },
 "nbformat": 4,
 "nbformat_minor": 4
}
