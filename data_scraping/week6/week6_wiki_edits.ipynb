{
 "cells": [
  {
   "cell_type": "markdown",
   "metadata": {
    "pycharm": {
     "name": "#%% md\n"
    }
   },
   "source": [
    "# Wikipedia Edits"
   ]
  },
  {
   "cell_type": "markdown",
   "metadata": {
    "pycharm": {
     "name": "#%% md\n"
    }
   },
   "source": [
    "## Week 6. Practice Programming Assignment 1"
   ]
  },
  {
   "cell_type": "markdown",
   "metadata": {
    "pycharm": {
     "name": "#%% md\n"
    }
   },
   "source": [
    "Let's look at top-5 countries of the European Union by population. They are [Germany](https://en.wikipedia.org/w/index.php?title=Germany), [France](https://en.wikipedia.org/w/index.php?title=France), [Italy](https://en.wikipedia.org/w/index.php?title=Italy), [Spain](https://en.wikipedia.org/w/index.php?title=Spain), [Poland](https://en.wikipedia.org/w/index.php?title=Poland).\n",
    "\n",
    "\n",
    "In this assignment you are required to look at wikipedia pages of these countries. More specifically, at history of edits of the pages (Click on 'View History' at the top right when you are on wikipedia article page). You are free to use any scraping tools we have covered to answer the questions, that you will find below."
   ]
  },
  {
   "cell_type": "markdown",
   "metadata": {
    "pycharm": {
     "name": "#%% md\n"
    }
   },
   "source": [
    "###### Import coursera grader tools"
   ]
  },
  {
   "cell_type": "code",
   "execution_count": 1,
   "metadata": {
    "pycharm": {
     "name": "#%%\n"
    }
   },
   "outputs": [],
   "source": [
    "import sys\n",
    "sys.path.append(\"..\")\n",
    "import grading\n",
    "grader = grading.Grader(assignment_key=\"Qjww7pPCR5uU7FGL3xV9tw\",\n",
    "                      all_parts=[\"XSHot\", \"dPTWK\", \"JquX6\", \"Yjvdq\", \"L53Sc\",\n",
    "                                 \"XUNG7\", \"hyfsg\", \"8S5EP\", \"ZNeVq\", \"GnJp7\"])"
   ]
  },
  {
   "cell_type": "code",
   "execution_count": null,
   "metadata": {
    "pycharm": {
     "name": "#%%\n"
    }
   },
   "outputs": [],
   "source": [
    "# token expires every 30 min\n",
    "COURSERA_EMAIL = ### YOUR EMAIL HERE\n",
    "COURSERA_TOKEN = ### YOUR TOKEN"
   ]
  },
  {
   "cell_type": "markdown",
   "metadata": {
    "pycharm": {
     "name": "#%% md\n"
    }
   },
   "source": [
    "<br><br><br><br>"
   ]
  },
  {
   "cell_type": "markdown",
   "metadata": {
    "pycharm": {
     "name": "#%% md\n"
    }
   },
   "source": [
    "### Coding part"
   ]
  },
  {
   "cell_type": "code",
   "execution_count": 40,
   "metadata": {
    "pycharm": {
     "name": "#%%\n"
    }
   },
   "outputs": [],
   "source": [
    "# you can start your web-scraping here\n",
    "from bs4 import BeautifulSoup\n",
    "import requests"
   ]
  },
  {
   "cell_type": "code",
   "execution_count": 41,
   "outputs": [],
   "source": [
    "germ = requests.get('https://en.wikipedia.org/w/index.php?title=Germany&offset=20200101000000&limit=500&tagfilter=&action=history')\n",
    "bs_germ = BeautifulSoup(germ.text)"
   ],
   "metadata": {
    "collapsed": false,
    "pycharm": {
     "name": "#%%\n"
    }
   }
  },
  {
   "cell_type": "code",
   "execution_count": 59,
   "outputs": [],
   "source": [
    "fran = requests.get('https://en.wikipedia.org/w/index.php?title=France&offset=20200101000000&limit=500&tagfilter=&action=history')\n",
    "bs_fran = BeautifulSoup(fran.text)"
   ],
   "metadata": {
    "collapsed": false,
    "pycharm": {
     "name": "#%%\n"
    }
   }
  },
  {
   "cell_type": "code",
   "execution_count": 56,
   "outputs": [],
   "source": [
    "italy = requests.get('https://en.wikipedia.org/w/index.php?title=Italy&offset=20200101000000&limit=500&tagfilter=&action=history')\n",
    "italy2 = requests.get('https://en.wikipedia.org/w/index.php?title=Italy&offset=20190219184131%7C884131077&limit=500&tagfilter=&action=history')\n",
    "\n",
    "bs_italy = BeautifulSoup(italy.text)\n",
    "bs_italy2 = BeautifulSoup(italy2.text)"
   ],
   "metadata": {
    "collapsed": false,
    "pycharm": {
     "name": "#%%\n"
    }
   }
  },
  {
   "cell_type": "code",
   "execution_count": null,
   "outputs": [],
   "source": [
    "spain = requests.get('https://en.wikipedia.org/w/index.php?title=Spain&offset=20200101000000&limit=500&tagfilter=&action=history')\n",
    "bs_spain = BeautifulSoup(spain.text)"
   ],
   "metadata": {
    "collapsed": false,
    "pycharm": {
     "name": "#%%\n"
    }
   }
  },
  {
   "cell_type": "code",
   "execution_count": 57,
   "outputs": [],
   "source": [
    "poland = requests.get('https://en.wikipedia.org/w/index.php?title=Poland&offset=20200101000000&limit=500&tagfilter=&action=history')\n",
    "poland2 = requests.get('https://en.wikipedia.org/w/index.php?title=Poland&offset=20190205002759%7C881817845&limit=500&tagfilter=&action=history')\n",
    "bs_poland = BeautifulSoup(poland.text)\n",
    "bs_poland2 = BeautifulSoup(poland2.text)"
   ],
   "metadata": {
    "collapsed": false,
    "pycharm": {
     "name": "#%%\n"
    }
   }
  },
  {
   "cell_type": "code",
   "execution_count": 69,
   "outputs": [
    {
     "name": "stdout",
     "output_type": "stream",
     "text": [
      "06:26, 28 December 2019\n",
      "23:24, 27 December 2019\n",
      "19:49, 27 December 2019\n",
      "15:14, 26 December 2019\n",
      "03:55, 26 December 2019\n",
      "20:10, 20 December 2019\n",
      "15:21, 20 December 2019\n",
      "15:18, 20 December 2019\n",
      "15:16, 20 December 2019\n",
      "09:03, 20 December 2019\n",
      "20:19, 19 December 2019\n",
      "13:43, 19 December 2019\n",
      "13:50, 18 December 2019\n",
      "13:48, 18 December 2019\n",
      "03:58, 18 December 2019\n",
      "13:08, 12 December 2019\n",
      "12:10, 10 December 2019\n",
      "14:44, 6 December 2019\n",
      "14:31, 30 November 2019\n",
      "23:21, 29 November 2019\n",
      "23:17, 29 November 2019\n",
      "23:03, 29 November 2019\n",
      "22:39, 29 November 2019\n",
      "22:28, 29 November 2019\n",
      "13:43, 28 November 2019\n",
      "13:32, 28 November 2019\n",
      "16:21, 23 November 2019\n",
      "20:11, 22 November 2019\n",
      "19:08, 22 November 2019\n",
      "14:32, 19 November 2019\n",
      "09:13, 19 November 2019\n",
      "02:46, 16 November 2019\n",
      "23:05, 15 November 2019\n",
      "17:05, 15 November 2019\n",
      "17:05, 15 November 2019\n",
      "01:57, 14 November 2019\n",
      "23:40, 13 November 2019\n",
      "23:37, 13 November 2019\n",
      "00:48, 11 November 2019\n",
      "00:10, 11 November 2019\n",
      "23:22, 10 November 2019\n",
      "21:55, 10 November 2019\n",
      "21:41, 10 November 2019\n",
      "21:21, 10 November 2019\n",
      "21:07, 10 November 2019\n",
      "06:19, 10 November 2019\n",
      "20:49, 8 November 2019\n",
      "12:26, 6 November 2019\n",
      "09:26, 3 November 2019\n",
      "16:26, 31 October 2019\n",
      "23:17, 30 October 2019\n",
      "06:28, 28 October 2019\n",
      "04:34, 28 October 2019\n",
      "02:06, 28 October 2019\n",
      "01:44, 28 October 2019\n",
      "16:43, 27 October 2019\n",
      "16:15, 27 October 2019\n",
      "23:53, 26 October 2019\n",
      "22:59, 26 October 2019\n",
      "21:55, 26 October 2019\n",
      "21:53, 26 October 2019\n",
      "13:56, 26 October 2019\n",
      "13:44, 26 October 2019\n",
      "00:56, 26 October 2019\n",
      "17:16, 24 October 2019\n",
      "04:09, 17 October 2019\n",
      "21:53, 16 October 2019\n",
      "21:52, 16 October 2019\n",
      "21:51, 16 October 2019\n",
      "17:01, 15 October 2019\n",
      "07:05, 14 October 2019\n",
      "15:01, 13 October 2019\n",
      "14:58, 13 October 2019\n",
      "09:07, 13 October 2019\n",
      "09:07, 13 October 2019\n",
      "09:06, 13 October 2019\n",
      "03:42, 13 October 2019\n",
      "10:38, 12 October 2019\n",
      "22:04, 1 October 2019\n",
      "21:37, 28 September 2019\n",
      "16:58, 26 September 2019\n",
      "11:47, 24 September 2019\n",
      "10:56, 24 September 2019\n",
      "21:10, 23 September 2019\n",
      "17:41, 22 September 2019\n",
      "17:37, 22 September 2019\n",
      "12:35, 21 September 2019\n",
      "01:45, 20 September 2019\n",
      "23:58, 18 September 2019\n",
      "23:47, 18 September 2019\n",
      "23:43, 18 September 2019\n",
      "23:42, 18 September 2019\n",
      "23:40, 18 September 2019\n",
      "23:39, 18 September 2019\n",
      "23:28, 18 September 2019\n",
      "23:25, 18 September 2019\n",
      "23:19, 18 September 2019\n",
      "16:05, 16 September 2019\n",
      "05:09, 12 September 2019\n",
      "22:53, 10 September 2019\n",
      "22:52, 10 September 2019\n",
      "02:20, 10 September 2019\n",
      "02:19, 10 September 2019\n",
      "02:18, 10 September 2019\n",
      "02:16, 10 September 2019\n",
      "02:16, 10 September 2019\n",
      "02:13, 10 September 2019\n",
      "02:11, 10 September 2019\n",
      "02:06, 10 September 2019\n",
      "02:06, 10 September 2019\n",
      "02:04, 10 September 2019\n",
      "02:04, 10 September 2019\n",
      "01:58, 10 September 2019\n",
      "05:56, 3 September 2019\n",
      "15:57, 26 August 2019\n",
      "05:45, 25 August 2019\n",
      "08:51, 24 August 2019\n",
      "02:20, 23 August 2019\n",
      "09:04, 16 August 2019\n",
      "20:38, 15 August 2019\n",
      "20:34, 15 August 2019\n",
      "20:33, 15 August 2019\n",
      "20:31, 15 August 2019\n",
      "16:35, 8 August 2019\n",
      "16:30, 8 August 2019\n",
      "00:38, 7 August 2019\n",
      "07:43, 6 August 2019\n",
      "22:05, 5 August 2019\n",
      "21:01, 5 August 2019\n",
      "19:39, 5 August 2019\n",
      "19:30, 5 August 2019\n",
      "22:14, 4 August 2019\n",
      "22:11, 4 August 2019\n",
      "18:01, 4 August 2019\n",
      "13:16, 4 August 2019\n",
      "12:49, 4 August 2019\n",
      "11:48, 4 August 2019\n",
      "17:45, 1 August 2019\n",
      "15:31, 1 August 2019\n",
      "13:38, 30 July 2019\n",
      "12:14, 30 July 2019\n",
      "10:25, 30 July 2019\n",
      "08:17, 30 July 2019\n",
      "05:44, 30 July 2019\n",
      "00:38, 28 July 2019\n",
      "22:23, 26 July 2019\n",
      "20:13, 26 July 2019\n",
      "10:13, 26 July 2019\n",
      "22:26, 23 July 2019\n",
      "04:49, 23 July 2019\n",
      "11:12, 22 July 2019\n",
      "08:08, 21 July 2019\n",
      "18:35, 20 July 2019\n",
      "15:50, 20 July 2019\n",
      "13:39, 19 July 2019\n",
      "13:18, 19 July 2019\n",
      "06:51, 14 July 2019\n",
      "07:52, 13 July 2019\n",
      "20:16, 11 July 2019\n",
      "00:03, 11 July 2019\n",
      "14:34, 8 July 2019\n",
      "17:16, 2 July 2019\n",
      "00:06, 1 July 2019\n",
      "22:38, 28 June 2019\n",
      "20:38, 28 June 2019\n",
      "02:33, 28 June 2019\n",
      "16:22, 27 June 2019\n",
      "16:08, 27 June 2019\n",
      "12:04, 27 June 2019\n",
      "12:03, 27 June 2019\n",
      "11:39, 27 June 2019\n",
      "10:05, 27 June 2019\n",
      "17:03, 25 June 2019\n",
      "13:42, 25 June 2019\n",
      "12:15, 25 June 2019\n",
      "09:52, 25 June 2019\n",
      "17:32, 24 June 2019\n",
      "07:57, 23 June 2019\n",
      "15:07, 22 June 2019\n",
      "22:29, 17 June 2019\n",
      "19:48, 17 June 2019\n",
      "19:47, 17 June 2019\n",
      "19:51, 16 June 2019\n",
      "03:01, 11 June 2019\n",
      "00:53, 1 June 2019\n",
      "00:52, 1 June 2019\n",
      "10:02, 27 May 2019\n",
      "20:08, 26 May 2019\n",
      "11:18, 26 May 2019\n",
      "10:51, 26 May 2019\n",
      "10:46, 26 May 2019\n",
      "12:15, 24 May 2019\n",
      "10:11, 24 May 2019\n",
      "15:05, 23 May 2019\n",
      "15:51, 21 May 2019\n",
      "11:17, 18 May 2019\n",
      "11:11, 18 May 2019\n",
      "03:16, 15 May 2019\n",
      "12:53, 12 May 2019\n",
      "12:45, 12 May 2019\n",
      "21:44, 8 May 2019\n",
      "00:46, 8 May 2019\n",
      "20:50, 7 May 2019\n",
      "19:24, 7 May 2019\n",
      "19:21, 7 May 2019\n",
      "16:43, 4 May 2019\n",
      "21:01, 25 April 2019\n",
      "20:13, 24 April 2019\n",
      "23:43, 22 April 2019\n",
      "17:18, 22 April 2019\n",
      "11:59, 22 April 2019\n",
      "10:14, 22 April 2019\n",
      "22:23, 21 April 2019\n",
      "19:58, 21 April 2019\n",
      "18:20, 21 April 2019\n",
      "18:18, 21 April 2019\n",
      "18:17, 21 April 2019\n",
      "10:50, 19 April 2019\n",
      "15:32, 17 April 2019\n",
      "14:41, 14 April 2019\n",
      "10:39, 11 April 2019\n",
      "10:36, 11 April 2019\n",
      "10:30, 11 April 2019\n",
      "18:03, 8 April 2019\n",
      "17:31, 8 April 2019\n",
      "16:33, 8 April 2019\n",
      "16:31, 8 April 2019\n",
      "16:30, 8 April 2019\n",
      "16:21, 8 April 2019\n",
      "14:48, 8 April 2019\n",
      "14:19, 8 April 2019\n",
      "14:01, 8 April 2019\n",
      "13:35, 8 April 2019\n",
      "13:15, 8 April 2019\n",
      "13:05, 8 April 2019\n",
      "13:04, 8 April 2019\n",
      "10:18, 30 March 2019\n",
      "15:36, 29 March 2019\n",
      "07:27, 25 March 2019\n",
      "10:01, 22 March 2019\n",
      "11:17, 21 March 2019\n",
      "14:57, 11 March 2019\n",
      "12:56, 7 March 2019\n",
      "05:55, 7 March 2019\n",
      "16:11, 4 March 2019\n",
      "15:46, 4 March 2019\n",
      "20:54, 3 March 2019\n",
      "21:25, 2 March 2019\n",
      "00:58, 28 February 2019\n",
      "07:20, 23 February 2019\n",
      "05:15, 22 February 2019\n",
      "01:18, 21 February 2019\n",
      "00:34, 21 February 2019\n",
      "07:35, 18 February 2019\n",
      "07:33, 18 February 2019\n",
      "07:32, 18 February 2019\n",
      "07:31, 18 February 2019\n",
      "07:29, 18 February 2019\n",
      "07:38, 16 February 2019\n",
      "07:22, 16 February 2019\n",
      "06:49, 16 February 2019\n",
      "06:47, 16 February 2019\n",
      "06:46, 16 February 2019\n",
      "06:46, 16 February 2019\n",
      "19:33, 11 February 2019\n",
      "09:05, 9 February 2019\n",
      "09:04, 9 February 2019\n",
      "09:02, 9 February 2019\n",
      "08:55, 8 February 2019\n",
      "00:59, 2 February 2019\n",
      "00:20, 2 February 2019\n",
      "15:49, 1 February 2019\n",
      "14:46, 1 February 2019\n",
      "11:55, 1 February 2019\n",
      "21:27, 31 January 2019\n",
      "22:14, 30 January 2019\n",
      "11:44, 29 January 2019\n",
      "19:40, 27 January 2019\n",
      "00:21, 27 January 2019\n",
      "00:20, 27 January 2019\n",
      "19:21, 26 January 2019\n",
      "17:16, 26 January 2019\n",
      "17:09, 26 January 2019\n",
      "11:49, 22 January 2019\n",
      "11:36, 17 January 2019\n",
      "11:30, 17 January 2019\n",
      "04:37, 17 January 2019\n",
      "11:33, 13 January 2019\n",
      "08:54, 10 January 2019\n",
      "22:20, 6 January 2019\n",
      "16:43, 6 January 2019\n",
      "16:03, 6 January 2019\n",
      "09:49, 6 January 2019\n",
      "22:07, 5 January 2019\n",
      "17:54, 3 January 2019\n",
      "01:02, 3 January 2019\n",
      "00:35, 31 December 2018\n",
      "18:27, 26 December 2018\n",
      "19:53, 22 December 2018\n",
      "22:15, 7 December 2018\n",
      "22:14, 7 December 2018\n",
      "21:01, 7 December 2018\n",
      "21:01, 7 December 2018\n",
      "19:57, 7 December 2018\n",
      "19:56, 7 December 2018\n",
      "19:49, 7 December 2018\n",
      "20:43, 6 December 2018\n",
      "19:38, 6 December 2018\n",
      "14:38, 5 December 2018\n",
      "22:06, 2 December 2018\n",
      "15:02, 1 December 2018\n",
      "17:15, 30 November 2018\n",
      "07:05, 30 November 2018\n",
      "20:03, 29 November 2018\n",
      "23:10, 27 November 2018\n",
      "07:08, 25 November 2018\n",
      "05:43, 25 November 2018\n",
      "14:18, 21 November 2018\n",
      "19:11, 11 November 2018\n",
      "19:00, 11 November 2018\n",
      "17:58, 10 November 2018\n",
      "11:18, 9 November 2018\n",
      "05:19, 9 November 2018\n",
      "23:22, 8 November 2018\n",
      "12:55, 7 November 2018\n",
      "04:28, 7 November 2018\n",
      "04:21, 7 November 2018\n",
      "00:07, 1 November 2018\n",
      "21:30, 30 October 2018\n",
      "00:54, 27 October 2018\n",
      "19:27, 24 October 2018\n",
      "14:16, 22 October 2018\n",
      "09:51, 21 October 2018\n",
      "02:24, 21 October 2018\n",
      "20:36, 20 October 2018\n",
      "20:33, 20 October 2018\n",
      "20:46, 19 October 2018\n",
      "20:43, 19 October 2018\n",
      "17:20, 14 October 2018\n",
      "02:46, 13 October 2018\n",
      "19:38, 12 October 2018\n",
      "04:28, 9 October 2018\n",
      "08:22, 8 October 2018\n",
      "03:51, 8 October 2018\n",
      "00:32, 8 October 2018\n",
      "17:34, 5 October 2018\n",
      "18:35, 1 October 2018\n",
      "10:16, 29 September 2018\n",
      "11:13, 27 September 2018\n",
      "08:18, 27 September 2018\n",
      "20:48, 23 September 2018\n",
      "06:03, 16 September 2018\n",
      "19:43, 14 September 2018\n",
      "16:01, 14 September 2018\n",
      "16:01, 14 September 2018\n",
      "16:00, 14 September 2018\n",
      "02:48, 12 September 2018\n",
      "12:25, 10 September 2018\n",
      "09:19, 31 August 2018\n",
      "09:18, 31 August 2018\n",
      "11:15, 26 August 2018\n",
      "10:53, 26 August 2018\n",
      "05:23, 26 August 2018\n",
      "04:18, 26 August 2018\n",
      "21:36, 25 August 2018\n",
      "15:40, 25 August 2018\n",
      "17:19, 21 August 2018\n",
      "15:55, 21 August 2018\n",
      "22:50, 18 August 2018\n",
      "23:18, 16 August 2018\n",
      "23:18, 16 August 2018\n",
      "23:16, 16 August 2018\n",
      "23:14, 16 August 2018\n",
      "03:57, 16 August 2018\n",
      "03:55, 16 August 2018\n",
      "00:09, 16 August 2018\n",
      "00:00, 16 August 2018\n",
      "23:58, 15 August 2018\n",
      "12:41, 13 August 2018\n",
      "21:04, 12 August 2018\n",
      "13:47, 9 August 2018\n",
      "10:52, 8 August 2018\n",
      "15:35, 29 July 2018\n",
      "14:43, 29 July 2018\n",
      "23:28, 25 July 2018\n",
      "21:33, 25 July 2018\n",
      "20:12, 24 July 2018\n",
      "19:34, 21 July 2018\n",
      "17:06, 21 July 2018\n",
      "14:08, 21 July 2018\n",
      "14:05, 21 July 2018\n",
      "13:53, 21 July 2018\n",
      "18:43, 20 July 2018\n",
      "18:43, 20 July 2018\n",
      "22:25, 17 July 2018\n",
      "22:08, 17 July 2018\n",
      "15:01, 17 July 2018\n",
      "20:54, 15 July 2018\n",
      "19:35, 15 July 2018\n",
      "19:29, 15 July 2018\n",
      "05:36, 15 July 2018\n",
      "05:18, 15 July 2018\n",
      "05:05, 15 July 2018\n",
      "04:23, 15 July 2018\n",
      "09:37, 12 July 2018\n",
      "08:11, 12 July 2018\n",
      "02:03, 10 July 2018\n",
      "02:03, 10 July 2018\n",
      "02:01, 10 July 2018\n",
      "20:50, 5 July 2018\n",
      "18:17, 5 July 2018\n",
      "05:51, 5 July 2018\n",
      "05:16, 5 July 2018\n",
      "16:58, 1 July 2018\n",
      "13:05, 25 June 2018\n",
      "13:04, 25 June 2018\n",
      "07:58, 23 June 2018\n",
      "00:01, 23 June 2018\n",
      "23:57, 22 June 2018\n",
      "23:52, 22 June 2018\n",
      "13:44, 22 June 2018\n",
      "13:30, 22 June 2018\n",
      "18:44, 21 June 2018\n",
      "16:22, 19 June 2018\n",
      "15:15, 16 June 2018\n",
      "11:03, 16 June 2018\n",
      "06:58, 14 June 2018\n",
      "17:23, 9 June 2018\n",
      "16:42, 9 June 2018\n",
      "13:14, 8 June 2018\n",
      "13:05, 8 June 2018\n",
      "14:26, 5 June 2018\n",
      "14:08, 2 June 2018\n",
      "14:07, 2 June 2018\n",
      "14:07, 2 June 2018\n",
      "14:04, 2 June 2018\n",
      "14:03, 2 June 2018\n",
      "14:02, 2 June 2018\n",
      "10:13, 2 June 2018\n",
      "09:20, 1 June 2018\n",
      "10:49, 31 May 2018\n",
      "00:06, 29 May 2018\n",
      "23:59, 28 May 2018\n",
      "21:39, 27 May 2018\n",
      "10:56, 27 May 2018\n",
      "10:55, 27 May 2018\n",
      "10:48, 27 May 2018\n",
      "10:46, 27 May 2018\n",
      "08:13, 23 May 2018\n",
      "19:38, 22 May 2018\n",
      "20:15, 21 May 2018\n",
      "19:25, 18 May 2018\n",
      "19:03, 15 May 2018\n",
      "13:40, 14 May 2018\n",
      "12:38, 14 May 2018\n",
      "12:27, 11 May 2018\n",
      "09:00, 11 May 2018\n",
      "04:22, 11 May 2018\n",
      "04:17, 11 May 2018\n",
      "01:24, 11 May 2018\n",
      "01:22, 11 May 2018\n",
      "18:54, 10 May 2018\n",
      "17:03, 10 May 2018\n",
      "16:57, 10 May 2018\n",
      "12:07, 10 May 2018\n",
      "10:59, 10 May 2018\n",
      "01:08, 9 May 2018\n",
      "01:05, 9 May 2018\n",
      "22:10, 8 May 2018\n",
      "13:39, 8 May 2018\n",
      "09:57, 8 May 2018\n",
      "09:56, 8 May 2018\n",
      "09:55, 8 May 2018\n",
      "09:51, 8 May 2018\n",
      "02:21, 8 May 2018\n",
      "19:25, 4 May 2018\n",
      "22:31, 26 April 2018\n",
      "05:22, 26 April 2018\n",
      "22:03, 21 April 2018\n",
      "22:01, 21 April 2018\n",
      "22:00, 21 April 2018\n",
      "19:42, 20 April 2018\n",
      "13:00, 19 April 2018\n",
      "20:29, 14 April 2018\n",
      "20:26, 14 April 2018\n",
      "15:17, 14 April 2018\n",
      "13:02, 14 April 2018\n",
      "07:36, 8 April 2018\n",
      "17:01, 7 April 2018\n",
      "03:55, 5 April 2018\n",
      "13:43, 3 April 2018\n",
      "19:28, 2 April 2018\n",
      "23:20, 1 April 2018\n",
      "22:30, 1 April 2018\n",
      "22:14, 1 April 2018\n",
      "03:23, 1 April 2018\n",
      "10:16, 30 March 2018\n",
      "21:17, 20 March 2018\n",
      "21:16, 20 March 2018\n"
     ]
    }
   ],
   "source": [
    "counter = 0\n",
    "\n",
    "in_2019 = False\n",
    "for c in bs_germ.find(id='pagehistory').children:\n",
    "    if c.name == 'ul':\n",
    "        items = c.find_all(name='li')\n",
    "        for li in items:\n",
    "            edit = li.find(name='a', recursive=False)\n",
    "            if edit:\n",
    "                print(edit.text)\n"
   ],
   "metadata": {
    "collapsed": false,
    "pycharm": {
     "name": "#%%\n"
    }
   }
  },
  {
   "cell_type": "code",
   "execution_count": 71,
   "outputs": [
    {
     "name": "stdout",
     "output_type": "stream",
     "text": [
      "296\n",
      "401\n",
      "500\n",
      "101\n",
      "375\n",
      "500\n",
      "30\n"
     ]
    },
    {
     "data": {
      "text/plain": "2203"
     },
     "execution_count": 71,
     "metadata": {},
     "output_type": "execute_result"
    }
   ],
   "source": [
    "counter = 0\n",
    "\n",
    "for bs in [bs_germ, bs_fran, bs_italy, bs_italy2, bs_spain, bs_poland, bs_poland2]:\n",
    "    indi_counter = 0\n",
    "    for c in bs.find(id='pagehistory').children:\n",
    "        if c.name == 'ul':\n",
    "            items = c.find_all(name='li')\n",
    "            for li in items:\n",
    "                edit = li.find(name='a', recursive=False)\n",
    "                if edit and '2019' in li.find(name='a', recursive=False).text:\n",
    "                    indi_counter += 1\n",
    "\n",
    "    print(indi_counter)\n",
    "    counter += indi_counter\n",
    "\n",
    "counter"
   ],
   "metadata": {
    "collapsed": false,
    "pycharm": {
     "name": "#%%\n"
    }
   }
  },
  {
   "cell_type": "code",
   "execution_count": 98,
   "outputs": [
    {
     "data": {
      "text/plain": "{'Barjimoa': 33,\n 'Monkbot': 3,\n 'Bender the Bot': 1,\n 'Yakme': 42,\n 'InternetArchiveBot': 13,\n 'Stevekeiretsu': 1,\n 'Daringsmith': 1,\n 'Alborzagros': 1,\n 'DavideVeloria88': 96,\n 'Alinstan': 2,\n 'Citation bot': 2,\n 'Nick.mon': 10,\n 'Interstellarity': 1,\n 'Paul2520': 1,\n 'Shack76': 1,\n 'ForensicReapers': 1,\n 'Deacon Vorbis': 2,\n 'Nihil novi': 2,\n 'Lord Cornwallis': 1,\n 'RL0919': 3,\n 'JJMC89 bot III': 1,\n 'Megyeye': 1,\n 'Bellowhead678': 1,\n 'KREOH': 4,\n 'Jellysandwich0': 1,\n 'Enullnull': 2,\n 'Mazewaxie': 2,\n 'Dino245': 2,\n 'Rodw': 2,\n 'LukeWiller': 1,\n 'SmithGraves': 3,\n 'Madreterra': 33,\n 'Ita140188': 1,\n 'Sbb1413': 1,\n 'Goldsztajn': 2,\n 'Vaselineeeeeeee': 4,\n 'KingofGangsters': 1,\n \"Isaac D'Freitas\": 1,\n 'Diannaa': 1,\n 'IvarT': 1,\n 'The-': 2,\n 'Jaywubba1887': 1,\n 'Luc19': 1,\n 'Oronsay': 1,\n 'MatiW97': 1,\n 'David1775': 1,\n 'Île flottante': 1,\n 'Haqeem Putra': 1,\n 'Moxy': 20,\n 'DerTorx': 1,\n 'Bornsommer': 1,\n 'BrownHairedGirl': 1,\n 'Davey2010': 1,\n 'Kozuch': 1,\n 'Amscheip': 3,\n 'Afus199620': 1,\n 'TheNavigatrr': 3,\n 'Aledownload': 4,\n 'BernardaAlba': 1,\n 'MB': 1,\n 'GreenC bot': 2,\n 'Zojomars': 1,\n 'Xqq1238': 1,\n 'Yeungkahchun': 1,\n 'Orenburg1': 1,\n 'AnomieBOT': 3,\n 'TheRealLB': 1,\n '33Hudsonbay33': 16,\n 'Merangs': 1,\n 'Scip.': 2,\n 'Houseofmhatre': 1,\n 'LucaGaletti95': 3,\n 'EddieHugh': 12,\n 'Trappist the monk': 1,\n 'Roastedturkey': 1,\n 'Myasuda': 1,\n 'Jjdelv': 1,\n 'Kenwick': 3,\n 'JTPOB': 1,\n 'ChrisTakey': 1,\n 'Yayan550': 2,\n 'TheWikipedian1250': 3,\n 'BrugesFR': 5,\n 'Italewe': 7,\n 'Zziccardi': 1,\n 'EdmundT': 1,\n 'Charlie Foxtrot66': 1,\n 'ThecentreCZ': 1,\n 'Vanished user 355622': 1,\n 'RandiGashti': 2,\n 'Cristiano Tomás': 1,\n 'Berean Hunter': 1,\n 'DavisAndrew416': 7,\n 'Izno': 1,\n 'Epf2018': 10,\n 'DIYeditor': 2,\n 'Onel5969': 2,\n 'Iffy': 1,\n 'Havsjö': 1,\n 'JustAMuggle': 1,\n 'Rostockhansa': 44,\n 'AlfaRocket': 1,\n 'Rchard2scout': 1,\n 'Dk1919 Franking': 8,\n 'ComplexRational': 1,\n 'Auric': 1,\n 'Narky Blert': 1,\n 'Favonian': 2,\n 'ChirpSk8r': 1,\n 'Pithon314': 1,\n 'Marcobetticarboncini1': 26,\n 'Jpo': 1,\n 'Doughton': 37,\n 'Vif12vf': 5,\n 'Doug Weller': 1,\n 'Alessandro57': 1,\n 'Thenabster126': 1,\n 'Randy Kryn': 1,\n 'Haakonsson': 1,\n 'DancingPhilosopher': 2,\n 'JJMC89 bot': 1,\n 'Mai-Sachme': 1,\n 'Gjcdeluxe': 1,\n 'Inoteator': 8,\n 'Sashko1999': 1,\n 'Leo Sammallahti': 1,\n 'Ragityman': 3,\n 'Kanguole': 1,\n 'BD2412': 2,\n 'Simostar': 1,\n 'Haribanshnp': 2,\n 'InfoSearcher999': 1,\n 'Srich32977': 1,\n 'Wikifresc': 1,\n 'WikiInspector42': 1,\n 'Fbergo': 1,\n 'Iaof2017': 1,\n 'CitationCleanerBot': 1,\n 'Radom1967': 1}"
     },
     "execution_count": 98,
     "metadata": {},
     "output_type": "execute_result"
    }
   ],
   "source": [
    "author_to_edits = {}\n",
    "for bs in [bs_italy, bs_italy2]:\n",
    "    indi_counter = 0\n",
    "    for c in bs.find(id='pagehistory').children:\n",
    "        if c.name == 'ul':\n",
    "            items = c.find_all(name='li')\n",
    "            for li in items:\n",
    "                edit = li.find(name='a', recursive=False)\n",
    "                if edit and '2019' in li.find(name='a', recursive=False).text:\n",
    "                    author = li.find('span', {'class':'history-user'}).find(name='a')['title']\n",
    "                    loc_start = author.find(':') + 1\n",
    "                    no_link_mark = ' (page does not exist)'\n",
    "                    if no_link_mark in author:\n",
    "                        loc_end = author.find(no_link_mark)\n",
    "                        author = author[loc_start:loc_end]\n",
    "                    else:\n",
    "                        author = author[loc_start:]\n",
    "\n",
    "                    if author not in author_to_edits:\n",
    "                        author_to_edits[author] = 0\n",
    "\n",
    "                    author_to_edits[author] += 1\n",
    "\n",
    "author_to_edits"
   ],
   "metadata": {
    "collapsed": false,
    "pycharm": {
     "name": "#%%\n"
    }
   }
  },
  {
   "cell_type": "code",
   "execution_count": 99,
   "outputs": [
    {
     "data": {
      "text/plain": "4.323741007194244"
     },
     "execution_count": 99,
     "metadata": {},
     "output_type": "execute_result"
    }
   ],
   "source": [
    "sum([v for k, v in author_to_edits.items()]) / len(author_to_edits.keys())"
   ],
   "metadata": {
    "collapsed": false,
    "pycharm": {
     "name": "#%%\n"
    }
   }
  },
  {
   "cell_type": "code",
   "execution_count": 85,
   "outputs": [
    {
     "data": {
      "text/plain": "{'Zutt': 1,\n 'Monkbot': 15,\n 'InternetArchiveBot': 38,\n 'DDWilliams1': 1,\n 'Bender the Bot': 9,\n 'TheHistoryBuff101': 98,\n 'TheCyclonicStorm': 2,\n 'Jaellee': 2,\n 'Astrokalender': 1,\n 'ClaireFanch': 6,\n 'Alinstan': 9,\n 'SharabSalam': 1,\n 'Interstellarity': 5,\n 'Nikury2004': 11,\n 'Yossarian flew': 1,\n 'BegbertBiggs': 1,\n 'Connor Straube': 1,\n 'IamNotU': 22,\n 'Balolay': 3,\n 'Moxy': 60,\n 'MS47': 2,\n 'JJMC89 bot III': 3,\n 'Megyeye': 5,\n 'Csimma Viktor': 1,\n 'Dinan8': 1,\n 'KREOH': 33,\n 'Flags200': 4,\n 'Nillurcheier': 3,\n 'MarkH21': 1,\n 'Mich. Mar. 987': 2,\n 'Boulevard of broken dreams': 1,\n 'Bokmanrocks01': 1,\n 'Concordia1899': 4,\n 'Hrodvarsson': 4,\n 'DuckeggAlex': 3,\n 'Certes': 1,\n 'Wzanderoyisk': 3,\n 'Sm4rk0': 1,\n 'Maxeto0910': 2,\n 'Marianna251': 1,\n 'Anthologetes': 1,\n 'Glottran': 1,\n 'Age20035': 1,\n 'Doric Loon': 2,\n 'Jellysandwich0': 3,\n '1980fast': 9,\n 'BaeyerDrewson': 1,\n 'RL0919': 9,\n 'Jnnc19': 13,\n '77snekkins': 1,\n 'Merangs': 156,\n 'BroVic': 1,\n 'Anasaitis': 3,\n 'Tobby72': 5,\n 'Nordostsüdwest': 2,\n 'Xqq1238': 29,\n 'Shellwood': 2,\n 'Kozuch': 7,\n 'Afus199620': 2,\n 'Plk': 2,\n 'Canterbury Tail': 3,\n 'Vsmith': 1,\n 'Kinetic37': 1,\n 'Векочел': 2,\n 'TheCarlos1975': 2,\n 'JustAMuggle': 2,\n 'Mandarax': 2,\n 'GreenC bot': 9,\n 'DrKay': 3,\n 'Malcolmxl5': 1,\n 'AnomieBOT': 14,\n 'Prophet of Truth and Knowledge': 1,\n 'BrownHairedGirl': 7,\n 'Tionran': 1,\n 'MikeLynch': 1,\n 'HerkusMonte': 1,\n 'Eyer': 1,\n 'Illegitimate Barrister': 6,\n 'Ouzhoulang': 1,\n 'I dream of horses': 2,\n 'Viva Nicolás': 1,\n 'Timothy2b': 4,\n 'Rocket1': 3,\n 'Yamla': 1,\n 'Monopoly31121993(2)': 2,\n 'Jack90s15': 7,\n 'IznoRepeat': 2,\n 'BrugesFR': 38,\n 'TI1880': 1,\n 'StAnselm': 1,\n 'RandiGashti': 16,\n 'Mikeblas': 1,\n 'Cristiano Tomás': 6,\n 'LJF2019': 1,\n 'MarcusVetus': 1,\n 'Jaywubba1887': 8,\n 'Île flottante': 2,\n 'SS49': 3,\n 'RudnikU': 1,\n 'HWSager': 1,\n 'Strawberry': 1,\n 'Nicbou': 1,\n 'Sorabino': 1,\n 'Espoo': 1,\n 'Eem dik doun in toene': 2,\n 'MTWEmperor': 2,\n 'Wikirictor': 1,\n 'Epiphyllumlover': 1,\n 'Allice Hunter': 1,\n 'RhinosF1': 5,\n 'Kgfleischmann': 2,\n 'Foster tree': 4,\n 'MiXT4PE': 1,\n 'Genadigeno': 3,\n 'John of Reading': 1,\n 'WhisperToMe': 1,\n 'Khajidha': 3,\n 'Sashko1999': 3,\n 'E-960': 69,\n 'Leo Sammallahti': 3,\n 'Rodw': 6,\n 'PAustin4thApril1980': 1,\n 'JaneHuds93': 1,\n 'MosheA': 2,\n 'Alektor89': 1,\n 'XodoX': 2,\n 'Xjs': 1,\n 'Moonraker': 2,\n 'Bassball Batman': 1,\n 'MURIEL43': 1,\n 'Qualitätssteigerung': 2,\n 'ArminKow': 1,\n 'Joefromrandb': 1,\n 'Snipershot325': 1,\n 'Nyttend': 1,\n 'LucaGaletti95': 4,\n 'Zurkhardo': 6,\n 'Stevekeiretsu': 2,\n 'Suavemarimagno': 6,\n 'Philippe49730': 1,\n 'Arjayay': 2,\n 'Lhommeayantdelajeunesse': 1,\n 'FlightTime': 1,\n 'Jim Michael': 1,\n 'Satyabrat Shanu': 1,\n 'Phil wink': 1,\n 'AnnaBruta': 8,\n 'DavideVeloria88': 100,\n 'Theo sandhu': 1,\n 'Euanjohnb': 5,\n 'Arinid': 1,\n 'Qualcomm250': 1,\n 'Météo&Nature': 2,\n '3knolls': 1,\n '5 albert square': 1,\n 'Joshua khor': 2,\n 'Robynthehode': 1,\n 'Anthony Baratier': 2,\n 'Mattcymru2': 1,\n 'Tony1': 3,\n 'Ssolbergj': 2,\n 'Hugue008': 1,\n 'Aman.kumar.goel': 2,\n 'SkyRobin': 2,\n 'Psherman122': 1,\n 'Currentlybiscuit': 2,\n 'Huiva': 3,\n 'Renamed user 2563edsdasdvas1d': 1,\n 'Kbb2': 6,\n 'Aacases': 2,\n 'Trappist the monk': 3,\n 'Kahtar': 1,\n 'MB': 2,\n 'Billinghurst': 1,\n 'Þjarkur': 2,\n 'IvanScrooge98': 2,\n 'Claquerat': 1,\n 'Royalistandlegitimist': 1,\n 'Akshay888777': 2,\n 'Soveryvivid': 1,\n 'Somedifferentstuff': 2,\n 'Roselle Charles': 6,\n 'Danski454': 1,\n 'Dino245': 10,\n 'RandomIntrigue': 2,\n 'Mistakefinder': 1,\n 'Mitchellhobbs': 1,\n 'Euandrew': 1,\n 'FrescoBot': 1,\n \"Neptune's Trident\": 3,\n 'Hihellowhatsup': 1,\n 'GreenMeansGo': 2,\n 'Fwaig': 1,\n 'JalenFolf': 1,\n 'Eco-climber': 2,\n 'GrandEscogriffe': 1,\n 'Favonian': 8,\n 'Kinderda': 5,\n 'Keith D': 1,\n 'Thomas.W': 1,\n 'M.Bitton': 3,\n 'RMSBCM': 11,\n 'Lemarche': 2,\n 'Futurist110': 2,\n 'DadaNeem': 1,\n 'OwenBlacker': 1,\n 'LaVieEstSympathique': 7,\n 'Pauli133': 1,\n 'Nuitetjour': 1,\n 'Vif12vf': 7,\n 'HDI2001': 3,\n 'Rantemario': 1,\n 'Fireandblood02': 2,\n 'Dash9Z': 1,\n 'Iconic272': 1,\n 'Guardian101': 1,\n 'Maltrópa': 1,\n 'Funnyhat': 3,\n 'PaLaPaPaLo': 1,\n 'Imintery': 29,\n 'Mukogodo': 1,\n 'Williamxaviertanner': 1,\n 'Robert.stefan.m': 3,\n 'Kaloyan34-FR': 2,\n 'Erp': 2,\n 'Alfwin Fernando': 6,\n 'Cassiopeia': 1,\n 'Josvebot': 1,\n 'Rchard2scout': 4,\n 'Gerardogoldenberg': 18,\n 'Erlisitz': 1,\n 'Jgmccue': 1,\n 'JimRenge': 2,\n 'Doughton': 44,\n 'NiciVampireHeart': 2,\n 'Aboideau': 1,\n 'Highway 89': 1,\n 'NicoScribe': 1,\n 'GoodDay': 1,\n 'Callind': 35,\n 'Dr.K.': 3,\n 'Blaue Max': 7,\n 'Kuru': 1,\n 'Kingerikthesecond': 1,\n 'Georgepodros': 1,\n 'Citation bot': 3,\n 'AlanJohnZimmermann': 1,\n 'Kanguole': 4,\n 'BD2412': 3,\n 'Srich32977': 5,\n 'Koopinator': 1,\n 'Cymru.lass': 1,\n 'Radom1967': 11,\n 'Ynmsn': 3,\n 'DynamoDegsy': 1,\n 'Barjimoa': 37,\n 'Yakme': 42,\n 'Daringsmith': 1,\n 'Alborzagros': 1,\n 'Nick.mon': 10,\n 'Paul2520': 1,\n 'Shack76': 1,\n 'ForensicReapers': 1,\n 'Deacon Vorbis': 2,\n 'Nihil novi': 2,\n 'Lord Cornwallis': 1,\n 'Bellowhead678': 3,\n 'Enullnull': 2,\n 'Mazewaxie': 2,\n 'LukeWiller': 1,\n 'SmithGraves': 8,\n 'Madreterra': 35,\n 'Ita140188': 1,\n 'Sbb1413': 1,\n 'Goldsztajn': 2,\n 'Vaselineeeeeeee': 4,\n 'KingofGangsters': 1,\n \"Isaac D'Freitas\": 1,\n 'Diannaa': 2,\n 'IvarT': 1,\n 'The-': 2,\n 'Luc19': 1,\n 'Oronsay': 1,\n 'MatiW97': 1,\n 'David1775': 1,\n 'Haqeem Putra': 1,\n 'DerTorx': 1,\n 'Bornsommer': 1,\n 'Davey2010': 1,\n 'Amscheip': 3,\n 'TheNavigatrr': 5,\n 'Aledownload': 4,\n 'BernardaAlba': 32,\n 'Zojomars': 1,\n 'Yeungkahchun': 1,\n 'Orenburg1': 1,\n 'TheRealLB': 1,\n '33Hudsonbay33': 40,\n 'Scip.': 2,\n 'Houseofmhatre': 1,\n 'EddieHugh': 29,\n 'Roastedturkey': 1,\n 'Myasuda': 1,\n 'Jjdelv': 1,\n 'Kenwick': 3,\n 'JTPOB': 1,\n 'ChrisTakey': 1,\n 'Yayan550': 2,\n 'TheWikipedian1250': 3,\n 'Italewe': 7,\n 'Zziccardi': 1,\n 'EdmundT': 1,\n 'Charlie Foxtrot66': 1,\n 'ThecentreCZ': 1,\n 'Vanished user 355622': 1,\n 'Berean Hunter': 1,\n 'DavisAndrew416': 8,\n 'Izno': 1,\n 'Epf2018': 10,\n 'DIYeditor': 2,\n 'Onel5969': 4,\n 'Iffy': 1,\n 'Havsjö': 1,\n 'Rostockhansa': 44,\n 'AlfaRocket': 1,\n 'Dk1919 Franking': 8,\n 'ComplexRational': 1,\n 'Auric': 1,\n 'Narky Blert': 3,\n 'ChirpSk8r': 1,\n 'Pithon314': 1,\n 'Marcobetticarboncini1': 26,\n 'Jpo': 1,\n 'Doug Weller': 1,\n 'Alessandro57': 1,\n 'Thenabster126': 1,\n 'Randy Kryn': 1,\n 'Haakonsson': 1,\n 'DancingPhilosopher': 2,\n 'JJMC89 bot': 1,\n 'Mai-Sachme': 1,\n 'Gjcdeluxe': 1,\n 'Inoteator': 8,\n 'Ragityman': 3,\n 'Simostar': 1,\n 'Haribanshnp': 3,\n 'InfoSearcher999': 1,\n 'Wikifresc': 1,\n 'WikiInspector42': 1,\n 'Fbergo': 1,\n 'Iaof2017': 1,\n 'CitationCleanerBot': 1,\n 'Minketorn': 2,\n 'Jonesey95': 1,\n 'Wowimsonick': 1,\n 'PrussianOwl': 6,\n 'Alsoriano97': 2,\n 'Elizium23': 3,\n 'QuestFour': 3,\n 'Levivich': 1,\n 'Lojwe': 2,\n 'Hildeoc': 1,\n 'Kessler': 7,\n 'Carlstak': 2,\n 'Pip bittersweet': 1,\n 'Dharmalion76': 1,\n 'Generic515': 1,\n 'Califate123': 1,\n 'Boothsift': 1,\n 'David O. Johnson': 1,\n 'Melroross': 4,\n 'Shadow4ya': 1,\n 'Gashibenghor': 1,\n 'Henryshaw21': 1,\n 'Aude9331': 2,\n 'Egsan Bacon': 1,\n 'Error': 1,\n 'Asqueladd': 24,\n 'Jacob34T': 1,\n 'Thederpinator': 2,\n 'Julietdeltalima': 1,\n 'Frietjes': 3,\n 'Isra2911': 1,\n 'Briantri': 1,\n 'Monorster': 5,\n 'Comeonduckling': 1,\n 'PhagoCytosis': 3,\n 'Cloigtheach': 1,\n 'Alonso de Mendoza': 5,\n 'Valenciano': 2,\n 'TheRichic': 2,\n 'Molisone': 1,\n 'Bender235': 1,\n 'Nikki070': 1,\n 'Melrorross': 2,\n 'Subtropical-man': 2,\n 'Prattlement': 1,\n 'Cwmhiraeth': 1,\n 'Snowflake91': 1,\n 'The Professor (Time Lord)': 1,\n 'Equawikipedizer': 1,\n 'Narciso003': 1,\n 'Corriebertus': 1,\n 'Conejero intl': 1,\n 'DavidLupin7': 4,\n 'El cid, el campeador': 1,\n 'Blade and the rest': 4,\n 'William Avery': 2,\n 'Giraffedata': 2,\n 'ZFT': 1,\n 'Estoy Aquí': 2,\n 'Jprg1966': 1,\n 'AlHazen': 1,\n 'TechnicianGB': 6,\n 'Dustz': 1,\n 'JamesOredan': 2,\n 'HombreDHojalata': 2,\n 'Alexandros TW': 1,\n 'Musicfan122': 22,\n 'Healandn': 4,\n 'Ineedisin': 43,\n 'Hannah Abbott': 1,\n 'Coastside': 1,\n 'KylieTastic': 1,\n 'Rene Bascos Sarabia Jr.': 1,\n 'LaCucaracha91': 4,\n 'François Robere': 1,\n 'Marcocapelle': 1,\n 'Shkrata': 2,\n 'Piotrus': 1,\n 'BattyBot': 1,\n 'KIENGIR': 2,\n 'LordParsifal': 3,\n 'The Banner': 3,\n 'Of 19': 2,\n 'Pawello071': 1,\n 'MozeTak': 1,\n 'Howcheng': 1,\n 'Rich Farmbrough': 1,\n 'Flyguy1020': 1,\n 'SoulMen98': 1,\n 'Kallerna': 1,\n 'Wtmitchell': 1,\n 'Sonukumar13341': 1,\n 'PavKls': 19,\n 'NeonFor': 3,\n 'Oshawott 12': 1,\n 'Oklollmao': 1,\n 'A2soup': 1,\n 'Abbyjjjj96': 2,\n 'Xx236': 2,\n 'Super Miron': 1,\n 'Onedayiwillediteverypageventhemainpage2': 1,\n 'Volunteer Marek': 3,\n 'Icewhiz': 6,\n 'JWilk': 1,\n 'Cosmopolitan268': 1,\n \"Robert P. O'Shea\": 1,\n 'Pofka': 1,\n 'Seba00PL': 2,\n 'Jirka.h23': 3,\n 'AudmanOut': 2,\n 'Mitleser': 1,\n 'Dynamo458': 3,\n 'Paul Zawkiewicz': 1,\n 'Double sharp': 1,\n 'Cassjus': 1,\n 'Urabura': 13,\n 'Zaslav': 1,\n 'Boscaswell': 1,\n 'Rogerd': 1,\n 'Str1977': 1,\n 'ProhibitOnions': 2,\n 'SealStealer': 1,\n 'StringRay': 1,\n 'Imoti95': 5,\n 'HorCrux48': 4,\n 'Babooneh': 1,\n 'PrimaPrime': 1,\n 'Powertranz': 1}"
     },
     "execution_count": 85,
     "metadata": {},
     "output_type": "execute_result"
    }
   ],
   "source": [
    "author_to_edits = {}\n",
    "for bs in [bs_germ, bs_fran, bs_italy, bs_italy2, bs_spain, bs_poland, bs_poland2]:\n",
    "    indi_counter = 0\n",
    "    for c in bs.find(id='pagehistory').children:\n",
    "        if c.name == 'ul':\n",
    "            items = c.find_all(name='li')\n",
    "            for li in items:\n",
    "                edit = li.find(name='a', recursive=False)\n",
    "                if edit and '2019' in li.find(name='a', recursive=False).text:\n",
    "                    author = li.find('span', {'class':'history-user'}).find(name='a')['title']\n",
    "                    loc_start = author.find(':') + 1\n",
    "                    no_link_mark = ' (page does not exist)'\n",
    "                    if no_link_mark in author:\n",
    "                        loc_end = author.find(no_link_mark)\n",
    "                        author = author[loc_start:loc_end]\n",
    "                    else:\n",
    "                        author = author[loc_start:]\n",
    "\n",
    "                    if author not in author_to_edits:\n",
    "                        author_to_edits[author] = 0\n",
    "\n",
    "                    author_to_edits[author] += 1\n",
    "\n",
    "author_to_edits"
   ],
   "metadata": {
    "collapsed": false,
    "pycharm": {
     "name": "#%%\n"
    }
   }
  },
  {
   "cell_type": "code",
   "execution_count": 89,
   "outputs": [
    {
     "data": {
      "text/plain": "[('Merangs', 156),\n ('DavideVeloria88', 100),\n ('TheHistoryBuff101', 98),\n ('E-960', 69),\n ('Moxy', 60),\n ('Doughton', 44),\n ('Rostockhansa', 44),\n ('Ineedisin', 43),\n ('Yakme', 42),\n ('33Hudsonbay33', 40),\n ('InternetArchiveBot', 38),\n ('BrugesFR', 38),\n ('Barjimoa', 37),\n ('Callind', 35),\n ('Madreterra', 35),\n ('KREOH', 33),\n ('BernardaAlba', 32),\n ('Xqq1238', 29),\n ('Imintery', 29),\n ('EddieHugh', 29),\n ('Marcobetticarboncini1', 26),\n ('Asqueladd', 24),\n ('IamNotU', 22),\n ('Musicfan122', 22),\n ('PavKls', 19),\n ('Gerardogoldenberg', 18),\n ('RandiGashti', 16),\n ('Monkbot', 15),\n ('AnomieBOT', 14),\n ('Jnnc19', 13),\n ('Urabura', 13),\n ('Nikury2004', 11),\n ('RMSBCM', 11),\n ('Radom1967', 11),\n ('Dino245', 10),\n ('Nick.mon', 10),\n ('Epf2018', 10),\n ('Bender the Bot', 9),\n ('Alinstan', 9),\n ('1980fast', 9),\n ('RL0919', 9),\n ('GreenC bot', 9),\n ('Jaywubba1887', 8),\n ('AnnaBruta', 8),\n ('Favonian', 8),\n ('SmithGraves', 8),\n ('DavisAndrew416', 8),\n ('Dk1919 Franking', 8),\n ('Inoteator', 8),\n ('Kozuch', 7),\n ('BrownHairedGirl', 7),\n ('Jack90s15', 7),\n ('LaVieEstSympathique', 7),\n ('Vif12vf', 7),\n ('Blaue Max', 7),\n ('Italewe', 7),\n ('Kessler', 7),\n ('ClaireFanch', 6),\n ('Illegitimate Barrister', 6),\n ('Cristiano Tomás', 6),\n ('Rodw', 6),\n ('Zurkhardo', 6),\n ('Suavemarimagno', 6),\n ('Kbb2', 6),\n ('Roselle Charles', 6),\n ('Alfwin Fernando', 6),\n ('PrussianOwl', 6),\n ('TechnicianGB', 6),\n ('Icewhiz', 6),\n ('Interstellarity', 5),\n ('Megyeye', 5),\n ('Tobby72', 5),\n ('RhinosF1', 5),\n ('Euanjohnb', 5),\n ('Kinderda', 5),\n ('Srich32977', 5),\n ('TheNavigatrr', 5),\n ('Monorster', 5),\n ('Alonso de Mendoza', 5),\n ('Imoti95', 5),\n ('Flags200', 4),\n ('Concordia1899', 4),\n ('Hrodvarsson', 4),\n ('Timothy2b', 4),\n ('Foster tree', 4),\n ('LucaGaletti95', 4),\n ('Rchard2scout', 4),\n ('Kanguole', 4),\n ('Vaselineeeeeeee', 4),\n ('Aledownload', 4),\n ('Onel5969', 4),\n ('Melroross', 4),\n ('DavidLupin7', 4),\n ('Blade and the rest', 4),\n ('Healandn', 4),\n ('LaCucaracha91', 4),\n ('HorCrux48', 4),\n ('Balolay', 3),\n ('JJMC89 bot III', 3),\n ('Nillurcheier', 3),\n ('DuckeggAlex', 3),\n ('Wzanderoyisk', 3),\n ('Jellysandwich0', 3),\n ('Anasaitis', 3),\n ('Canterbury Tail', 3),\n ('DrKay', 3),\n ('Rocket1', 3),\n ('SS49', 3),\n ('Genadigeno', 3),\n ('Khajidha', 3),\n ('Sashko1999', 3),\n ('Leo Sammallahti', 3),\n ('Tony1', 3),\n ('Huiva', 3),\n ('Trappist the monk', 3),\n (\"Neptune's Trident\", 3),\n ('M.Bitton', 3),\n ('HDI2001', 3),\n ('Funnyhat', 3),\n ('Robert.stefan.m', 3),\n ('Dr.K.', 3),\n ('Citation bot', 3),\n ('BD2412', 3),\n ('Ynmsn', 3),\n ('Bellowhead678', 3),\n ('Amscheip', 3),\n ('Kenwick', 3),\n ('TheWikipedian1250', 3),\n ('Narky Blert', 3),\n ('Ragityman', 3),\n ('Haribanshnp', 3),\n ('Elizium23', 3),\n ('QuestFour', 3),\n ('Frietjes', 3),\n ('PhagoCytosis', 3),\n ('LordParsifal', 3),\n ('The Banner', 3),\n ('NeonFor', 3),\n ('Volunteer Marek', 3),\n ('Jirka.h23', 3),\n ('Dynamo458', 3),\n ('TheCyclonicStorm', 2),\n ('Jaellee', 2),\n ('MS47', 2),\n ('Mich. Mar. 987', 2),\n ('Maxeto0910', 2),\n ('Doric Loon', 2),\n ('Nordostsüdwest', 2),\n ('Shellwood', 2),\n ('Afus199620', 2),\n ('Plk', 2),\n ('Векочел', 2),\n ('TheCarlos1975', 2),\n ('JustAMuggle', 2),\n ('Mandarax', 2),\n ('I dream of horses', 2),\n ('Monopoly31121993(2)', 2),\n ('IznoRepeat', 2),\n ('Île flottante', 2),\n ('Eem dik doun in toene', 2),\n ('MTWEmperor', 2),\n ('Kgfleischmann', 2),\n ('MosheA', 2),\n ('XodoX', 2),\n ('Moonraker', 2),\n ('Qualitätssteigerung', 2),\n ('Stevekeiretsu', 2),\n ('Arjayay', 2),\n ('Météo&Nature', 2),\n ('Joshua khor', 2),\n ('Anthony Baratier', 2),\n ('Ssolbergj', 2),\n ('Aman.kumar.goel', 2),\n ('SkyRobin', 2),\n ('Currentlybiscuit', 2),\n ('Aacases', 2),\n ('MB', 2),\n ('Þjarkur', 2),\n ('IvanScrooge98', 2),\n ('Akshay888777', 2),\n ('Somedifferentstuff', 2),\n ('RandomIntrigue', 2),\n ('GreenMeansGo', 2),\n ('Eco-climber', 2),\n ('Lemarche', 2),\n ('Futurist110', 2),\n ('Fireandblood02', 2),\n ('Kaloyan34-FR', 2),\n ('Erp', 2),\n ('JimRenge', 2),\n ('NiciVampireHeart', 2),\n ('Deacon Vorbis', 2),\n ('Nihil novi', 2),\n ('Enullnull', 2),\n ('Mazewaxie', 2),\n ('Goldsztajn', 2),\n ('Diannaa', 2),\n ('The-', 2),\n ('Scip.', 2),\n ('Yayan550', 2),\n ('DIYeditor', 2),\n ('DancingPhilosopher', 2),\n ('Minketorn', 2),\n ('Alsoriano97', 2),\n ('Lojwe', 2),\n ('Carlstak', 2),\n ('Aude9331', 2),\n ('Thederpinator', 2),\n ('Valenciano', 2),\n ('TheRichic', 2),\n ('Melrorross', 2),\n ('Subtropical-man', 2),\n ('William Avery', 2),\n ('Giraffedata', 2),\n ('Estoy Aquí', 2),\n ('JamesOredan', 2),\n ('HombreDHojalata', 2),\n ('Shkrata', 2),\n ('KIENGIR', 2),\n ('Of 19', 2),\n ('Abbyjjjj96', 2),\n ('Xx236', 2),\n ('Seba00PL', 2),\n ('AudmanOut', 2),\n ('ProhibitOnions', 2),\n ('Zutt', 1),\n ('DDWilliams1', 1),\n ('Astrokalender', 1),\n ('SharabSalam', 1),\n ('Yossarian flew', 1),\n ('BegbertBiggs', 1),\n ('Connor Straube', 1),\n ('Csimma Viktor', 1),\n ('Dinan8', 1),\n ('MarkH21', 1),\n ('Boulevard of broken dreams', 1),\n ('Bokmanrocks01', 1),\n ('Certes', 1),\n ('Sm4rk0', 1),\n ('Marianna251', 1),\n ('Anthologetes', 1),\n ('Glottran', 1),\n ('Age20035', 1),\n ('BaeyerDrewson', 1),\n ('77snekkins', 1),\n ('BroVic', 1),\n ('Vsmith', 1),\n ('Kinetic37', 1),\n ('Malcolmxl5', 1),\n ('Prophet of Truth and Knowledge', 1),\n ('Tionran', 1),\n ('MikeLynch', 1),\n ('HerkusMonte', 1),\n ('Eyer', 1),\n ('Ouzhoulang', 1),\n ('Viva Nicolás', 1),\n ('Yamla', 1),\n ('TI1880', 1),\n ('StAnselm', 1),\n ('Mikeblas', 1),\n ('LJF2019', 1),\n ('MarcusVetus', 1),\n ('RudnikU', 1),\n ('HWSager', 1),\n ('Strawberry', 1),\n ('Nicbou', 1),\n ('Sorabino', 1),\n ('Espoo', 1),\n ('Wikirictor', 1),\n ('Epiphyllumlover', 1),\n ('Allice Hunter', 1),\n ('MiXT4PE', 1),\n ('John of Reading', 1),\n ('WhisperToMe', 1),\n ('PAustin4thApril1980', 1),\n ('JaneHuds93', 1),\n ('Alektor89', 1),\n ('Xjs', 1),\n ('Bassball Batman', 1),\n ('MURIEL43', 1),\n ('ArminKow', 1),\n ('Joefromrandb', 1),\n ('Snipershot325', 1),\n ('Nyttend', 1),\n ('Philippe49730', 1),\n ('Lhommeayantdelajeunesse', 1),\n ('FlightTime', 1),\n ('Jim Michael', 1),\n ('Satyabrat Shanu', 1),\n ('Phil wink', 1),\n ('Theo sandhu', 1),\n ('Arinid', 1),\n ('Qualcomm250', 1),\n ('3knolls', 1),\n ('5 albert square', 1),\n ('Robynthehode', 1),\n ('Mattcymru2', 1),\n ('Hugue008', 1),\n ('Psherman122', 1),\n ('Renamed user 2563edsdasdvas1d', 1),\n ('Kahtar', 1),\n ('Billinghurst', 1),\n ('Claquerat', 1),\n ('Royalistandlegitimist', 1),\n ('Soveryvivid', 1),\n ('Danski454', 1),\n ('Mistakefinder', 1),\n ('Mitchellhobbs', 1),\n ('Euandrew', 1),\n ('FrescoBot', 1),\n ('Hihellowhatsup', 1),\n ('Fwaig', 1),\n ('JalenFolf', 1),\n ('GrandEscogriffe', 1),\n ('Keith D', 1),\n ('Thomas.W', 1),\n ('DadaNeem', 1),\n ('OwenBlacker', 1),\n ('Pauli133', 1),\n ('Nuitetjour', 1),\n ('Rantemario', 1),\n ('Dash9Z', 1),\n ('Iconic272', 1),\n ('Guardian101', 1),\n ('Maltrópa', 1),\n ('PaLaPaPaLo', 1),\n ('Mukogodo', 1),\n ('Williamxaviertanner', 1),\n ('Cassiopeia', 1),\n ('Josvebot', 1),\n ('Erlisitz', 1),\n ('Jgmccue', 1),\n ('Aboideau', 1),\n ('Highway 89', 1),\n ('NicoScribe', 1),\n ('GoodDay', 1),\n ('Kuru', 1),\n ('Kingerikthesecond', 1),\n ('Georgepodros', 1),\n ('AlanJohnZimmermann', 1),\n ('Koopinator', 1),\n ('Cymru.lass', 1),\n ('DynamoDegsy', 1),\n ('Daringsmith', 1),\n ('Alborzagros', 1),\n ('Paul2520', 1),\n ('Shack76', 1),\n ('ForensicReapers', 1),\n ('Lord Cornwallis', 1),\n ('LukeWiller', 1),\n ('Ita140188', 1),\n ('Sbb1413', 1),\n ('KingofGangsters', 1),\n (\"Isaac D'Freitas\", 1),\n ('IvarT', 1),\n ('Luc19', 1),\n ('Oronsay', 1),\n ('MatiW97', 1),\n ('David1775', 1),\n ('Haqeem Putra', 1),\n ('DerTorx', 1),\n ('Bornsommer', 1),\n ('Davey2010', 1),\n ('Zojomars', 1),\n ('Yeungkahchun', 1),\n ('Orenburg1', 1),\n ('TheRealLB', 1),\n ('Houseofmhatre', 1),\n ('Roastedturkey', 1),\n ('Myasuda', 1),\n ('Jjdelv', 1),\n ('JTPOB', 1),\n ('ChrisTakey', 1),\n ('Zziccardi', 1),\n ('EdmundT', 1),\n ('Charlie Foxtrot66', 1),\n ('ThecentreCZ', 1),\n ('Vanished user 355622', 1),\n ('Berean Hunter', 1),\n ('Izno', 1),\n ('Iffy', 1),\n ('Havsjö', 1),\n ('AlfaRocket', 1),\n ('ComplexRational', 1),\n ('Auric', 1),\n ('ChirpSk8r', 1),\n ('Pithon314', 1),\n ('Jpo', 1),\n ('Doug Weller', 1),\n ('Alessandro57', 1),\n ('Thenabster126', 1),\n ('Randy Kryn', 1),\n ('Haakonsson', 1),\n ('JJMC89 bot', 1),\n ('Mai-Sachme', 1),\n ('Gjcdeluxe', 1),\n ('Simostar', 1),\n ('InfoSearcher999', 1),\n ('Wikifresc', 1),\n ('WikiInspector42', 1),\n ('Fbergo', 1),\n ('Iaof2017', 1),\n ('CitationCleanerBot', 1),\n ('Jonesey95', 1),\n ('Wowimsonick', 1),\n ('Levivich', 1),\n ('Hildeoc', 1),\n ('Pip bittersweet', 1),\n ('Dharmalion76', 1),\n ('Generic515', 1),\n ('Califate123', 1),\n ('Boothsift', 1),\n ('David O. Johnson', 1),\n ('Shadow4ya', 1),\n ('Gashibenghor', 1),\n ('Henryshaw21', 1),\n ('Egsan Bacon', 1),\n ('Error', 1),\n ('Jacob34T', 1),\n ('Julietdeltalima', 1),\n ('Isra2911', 1),\n ('Briantri', 1),\n ('Comeonduckling', 1),\n ('Cloigtheach', 1),\n ('Molisone', 1),\n ('Bender235', 1),\n ('Nikki070', 1),\n ('Prattlement', 1),\n ('Cwmhiraeth', 1),\n ('Snowflake91', 1),\n ('The Professor (Time Lord)', 1),\n ('Equawikipedizer', 1),\n ('Narciso003', 1),\n ('Corriebertus', 1),\n ('Conejero intl', 1),\n ('El cid, el campeador', 1),\n ('ZFT', 1),\n ('Jprg1966', 1),\n ('AlHazen', 1),\n ('Dustz', 1),\n ('Alexandros TW', 1),\n ('Hannah Abbott', 1),\n ('Coastside', 1),\n ('KylieTastic', 1),\n ('Rene Bascos Sarabia Jr.', 1),\n ('François Robere', 1),\n ('Marcocapelle', 1),\n ('Piotrus', 1),\n ('BattyBot', 1),\n ('Pawello071', 1),\n ('MozeTak', 1),\n ('Howcheng', 1),\n ('Rich Farmbrough', 1),\n ('Flyguy1020', 1),\n ('SoulMen98', 1),\n ('Kallerna', 1),\n ('Wtmitchell', 1),\n ('Sonukumar13341', 1),\n ('Oshawott 12', 1),\n ('Oklollmao', 1),\n ('A2soup', 1),\n ('Super Miron', 1),\n ('Onedayiwillediteverypageventhemainpage2', 1),\n ('JWilk', 1),\n ('Cosmopolitan268', 1),\n (\"Robert P. O'Shea\", 1),\n ('Pofka', 1),\n ('Mitleser', 1),\n ('Paul Zawkiewicz', 1),\n ('Double sharp', 1),\n ('Cassjus', 1),\n ('Zaslav', 1),\n ('Boscaswell', 1),\n ('Rogerd', 1),\n ('Str1977', 1),\n ('SealStealer', 1),\n ('StringRay', 1),\n ('Babooneh', 1),\n ('PrimaPrime', 1),\n ('Powertranz', 1)]"
     },
     "execution_count": 89,
     "metadata": {},
     "output_type": "execute_result"
    }
   ],
   "source": [
    "sorted(author_to_edits.items(), key=lambda x:x[1], reverse=True)"
   ],
   "metadata": {
    "collapsed": false,
    "pycharm": {
     "name": "#%%\n"
    }
   }
  },
  {
   "cell_type": "code",
   "execution_count": 97,
   "outputs": [
    {
     "data": {
      "text/plain": "4.589583333333334"
     },
     "execution_count": 97,
     "metadata": {},
     "output_type": "execute_result"
    }
   ],
   "source": [
    "sum([v for k, v in author_to_edits.items()]) / len(author_to_edits.keys())"
   ],
   "metadata": {
    "collapsed": false,
    "pycharm": {
     "name": "#%%\n"
    }
   }
  },
  {
   "cell_type": "code",
   "execution_count": 104,
   "outputs": [
    {
     "name": "stdout",
     "output_type": "stream",
     "text": [
      "135\n",
      "152\n",
      "120\n",
      "31\n",
      "125\n",
      "88\n",
      "14\n"
     ]
    }
   ],
   "source": [
    "for bs in [bs_germ, bs_fran, bs_italy, bs_italy2, bs_spain, bs_poland, bs_poland2]:\n",
    "    author_to_edits = {}\n",
    "    for c in bs.find(id='pagehistory').children:\n",
    "        if c.name == 'ul':\n",
    "            items = c.find_all(name='li')\n",
    "            for li in items:\n",
    "                edit = li.find(name='a', recursive=False)\n",
    "                if edit and '2019' in li.find(name='a', recursive=False).text:\n",
    "                    author = li.find('span', {'class':'history-user'}).find(name='a')['title']\n",
    "                    loc_start = author.find(':') + 1\n",
    "                    no_link_mark = ' (page does not exist)'\n",
    "                    if no_link_mark in author:\n",
    "                        loc_end = author.find(no_link_mark)\n",
    "                        author = author[loc_start:loc_end]\n",
    "                    else:\n",
    "                        author = author[loc_start:]\n",
    "\n",
    "                    if author not in author_to_edits:\n",
    "                        author_to_edits[author] = 0\n",
    "\n",
    "                    author_to_edits[author] += 1\n",
    "\n",
    "    print(len(author_to_edits.keys()))\n"
   ],
   "metadata": {
    "collapsed": false,
    "pycharm": {
     "name": "#%%\n"
    }
   }
  },
  {
   "cell_type": "markdown",
   "metadata": {
    "pycharm": {
     "name": "#%% md\n"
    }
   },
   "source": [
    "<br><br>\n",
    "\n",
    "### Questions\n",
    "\n",
    "<br><br>\n",
    "\n",
    "**Question 1.** How many edits overall were made on pages of all the countries in 2019? "
   ]
  },
  {
   "cell_type": "code",
   "execution_count": null,
   "metadata": {
    "pycharm": {
     "name": "#%%\n"
    }
   },
   "outputs": [],
   "source": [
    "answer_part_1 = ..."
   ]
  },
  {
   "cell_type": "code",
   "execution_count": null,
   "metadata": {
    "pycharm": {
     "name": "#%%\n"
    }
   },
   "outputs": [],
   "source": [
    "# Setting our answers to grader. Do not change!\n",
    "grader.set_answer(\"XSHot\", answer_part_1)"
   ]
  },
  {
   "cell_type": "markdown",
   "metadata": {
    "pycharm": {
     "name": "#%% md\n"
    }
   },
   "source": [
    "<br>\n",
    "\n",
    "**Question 2.** What is the highest number of edits per country in 2019 among all countries present? "
   ]
  },
  {
   "cell_type": "code",
   "execution_count": null,
   "metadata": {
    "pycharm": {
     "name": "#%%\n"
    }
   },
   "outputs": [],
   "source": [
    "answer_part_2 = ..."
   ]
  },
  {
   "cell_type": "code",
   "execution_count": null,
   "metadata": {
    "pycharm": {
     "name": "#%%\n"
    }
   },
   "outputs": [],
   "source": [
    "# Setting our answers to grader. Do not change!\n",
    "grader.set_answer(\"dPTWK\", answer_part_2)"
   ]
  },
  {
   "cell_type": "markdown",
   "metadata": {
    "pycharm": {
     "name": "#%% md\n"
    }
   },
   "source": [
    "<br>\n",
    "\n",
    "**Question 3.** What is the lowest number of edits per country in 2019 among all countries present? "
   ]
  },
  {
   "cell_type": "code",
   "execution_count": null,
   "metadata": {
    "pycharm": {
     "name": "#%%\n"
    }
   },
   "outputs": [],
   "source": [
    "answer_part_3 = ..."
   ]
  },
  {
   "cell_type": "code",
   "execution_count": null,
   "metadata": {
    "pycharm": {
     "name": "#%%\n"
    }
   },
   "outputs": [],
   "source": [
    "# Setting our answers to grader. Do not change!\n",
    "grader.set_answer(\"JquX6\", answer_part_3)"
   ]
  },
  {
   "cell_type": "markdown",
   "metadata": {
    "pycharm": {
     "name": "#%% md\n"
    }
   },
   "source": [
    "<br>\n",
    "\n",
    "**Question 4.** How many users overall made edits on the countries' pages in 2019? "
   ]
  },
  {
   "cell_type": "code",
   "execution_count": null,
   "metadata": {
    "pycharm": {
     "name": "#%%\n"
    }
   },
   "outputs": [],
   "source": [
    "answer_part_4 = ..."
   ]
  },
  {
   "cell_type": "code",
   "execution_count": null,
   "metadata": {
    "pycharm": {
     "name": "#%%\n"
    }
   },
   "outputs": [],
   "source": [
    "# Setting our answers to grader. Do not change!\n",
    "grader.set_answer(\"Yjvdq\", answer_part_4)"
   ]
  },
  {
   "cell_type": "markdown",
   "metadata": {
    "pycharm": {
     "name": "#%% md\n"
    }
   },
   "source": [
    "<br>\n",
    "\n",
    "**Question 5.** What is the highest number of users made edits on country's page among all countries present in 2019? "
   ]
  },
  {
   "cell_type": "code",
   "execution_count": null,
   "metadata": {
    "pycharm": {
     "name": "#%%\n"
    }
   },
   "outputs": [],
   "source": [
    "answer_part_5 = ..."
   ]
  },
  {
   "cell_type": "code",
   "execution_count": null,
   "metadata": {
    "pycharm": {
     "name": "#%%\n"
    }
   },
   "outputs": [],
   "source": [
    "# Setting our answers to grader. Do not change!\n",
    "grader.set_answer(\"L53Sc\", answer_part_5)"
   ]
  },
  {
   "cell_type": "markdown",
   "metadata": {
    "pycharm": {
     "name": "#%% md\n"
    }
   },
   "source": [
    "<br><br>\n",
    "\n",
    "**Question 6.** What user made the most edits? "
   ]
  },
  {
   "cell_type": "code",
   "execution_count": null,
   "metadata": {
    "pycharm": {
     "name": "#%%\n"
    }
   },
   "outputs": [],
   "source": [
    "answer_part_6 = ..."
   ]
  },
  {
   "cell_type": "code",
   "execution_count": null,
   "metadata": {
    "pycharm": {
     "name": "#%%\n"
    }
   },
   "outputs": [],
   "source": [
    "# Setting our answers to grader. Do not change!\n",
    "grader.set_answer(\"XUNG7\", answer_part_6)"
   ]
  },
  {
   "cell_type": "markdown",
   "metadata": {
    "pycharm": {
     "name": "#%% md\n"
    }
   },
   "source": [
    "<br>\n",
    "\n",
    "**Question 7.** What is average number of edits per day in 2019? "
   ]
  },
  {
   "cell_type": "code",
   "execution_count": null,
   "metadata": {
    "pycharm": {
     "name": "#%%\n"
    }
   },
   "outputs": [],
   "source": [
    "answer_part_7 = ..."
   ]
  },
  {
   "cell_type": "code",
   "execution_count": null,
   "metadata": {
    "pycharm": {
     "name": "#%%\n"
    }
   },
   "outputs": [],
   "source": [
    "# Setting our answers to grader. Do not change!\n",
    "grader.set_answer(\"hyfsg\", answer_part_7)"
   ]
  },
  {
   "cell_type": "markdown",
   "metadata": {
    "pycharm": {
     "name": "#%% md\n"
    }
   },
   "source": [
    "<br>\n",
    "\n",
    "**Question 8.** What is average number of edits per user in 2019? "
   ]
  },
  {
   "cell_type": "code",
   "execution_count": null,
   "metadata": {
    "pycharm": {
     "name": "#%%\n"
    }
   },
   "outputs": [],
   "source": [
    "answer_part_8 = ..."
   ]
  },
  {
   "cell_type": "code",
   "execution_count": null,
   "metadata": {
    "pycharm": {
     "name": "#%%\n"
    }
   },
   "outputs": [],
   "source": [
    "# Setting our answers to grader. Do not change!\n",
    "grader.set_answer(\"8S5EP\", answer_part_8)"
   ]
  },
  {
   "cell_type": "markdown",
   "metadata": {
    "pycharm": {
     "name": "#%% md\n"
    }
   },
   "source": [
    "<br>\n",
    "\n",
    "**Question 9.** What is average number of edits per day in the country with most edits in 2019? "
   ]
  },
  {
   "cell_type": "code",
   "execution_count": null,
   "metadata": {
    "pycharm": {
     "name": "#%%\n"
    }
   },
   "outputs": [],
   "source": [
    "answer_part_9 = ..."
   ]
  },
  {
   "cell_type": "code",
   "execution_count": null,
   "metadata": {
    "pycharm": {
     "name": "#%%\n"
    }
   },
   "outputs": [],
   "source": [
    "# Setting our answers to grader. Do not change!\n",
    "grader.set_answer(\"ZNeVq\", answer_part_9)"
   ]
  },
  {
   "cell_type": "markdown",
   "metadata": {
    "pycharm": {
     "name": "#%% md\n"
    }
   },
   "source": [
    "<br>\n",
    "\n",
    "**Question 10.** What is average number of edits per user in the country with most edits in 2019?"
   ]
  },
  {
   "cell_type": "code",
   "execution_count": null,
   "metadata": {
    "pycharm": {
     "name": "#%%\n"
    }
   },
   "outputs": [],
   "source": [
    "answer_part_10 = ..."
   ]
  },
  {
   "cell_type": "code",
   "execution_count": null,
   "metadata": {
    "pycharm": {
     "name": "#%%\n"
    }
   },
   "outputs": [],
   "source": [
    "# Setting our answers to grader. Do not change!\n",
    "grader.set_answer(\"GnJp7\", answer_part_10)"
   ]
  },
  {
   "cell_type": "markdown",
   "metadata": {
    "pycharm": {
     "name": "#%% md\n"
    }
   },
   "source": [
    "<br>\n",
    "<br>\n",
    "\n",
    "### Submitting answers"
   ]
  },
  {
   "cell_type": "code",
   "execution_count": null,
   "metadata": {
    "pycharm": {
     "name": "#%%\n"
    }
   },
   "outputs": [],
   "source": [
    "# you can make submission with answers so far to check yourself at this stage\n",
    "grader.submit(COURSERA_EMAIL, COURSERA_TOKEN)"
   ]
  }
 ],
 "metadata": {
  "kernelspec": {
   "display_name": "Python 3",
   "language": "python",
   "name": "python3"
  },
  "language_info": {
   "codemirror_mode": {
    "name": "ipython",
    "version": 3
   },
   "file_extension": ".py",
   "mimetype": "text/x-python",
   "name": "python",
   "nbconvert_exporter": "python",
   "pygments_lexer": "ipython3",
   "version": "3.7.6"
  }
 },
 "nbformat": 4,
 "nbformat_minor": 4
}