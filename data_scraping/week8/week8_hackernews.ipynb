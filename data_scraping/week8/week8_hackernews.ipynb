{
 "cells": [
  {
   "cell_type": "markdown",
   "metadata": {
    "pycharm": {
     "name": "#%% md\n"
    }
   },
   "source": [
    "# Using HackerNews API"
   ]
  },
  {
   "cell_type": "markdown",
   "metadata": {
    "pycharm": {
     "name": "#%% md\n"
    }
   },
   "source": [
    "## Week 8. Practice Programming Assignment 1"
   ]
  },
  {
   "cell_type": "markdown",
   "metadata": {
    "pycharm": {
     "name": "#%% md\n"
    }
   },
   "source": [
    "In this assignment we going to work with [HackerNews](https://news.ycombinator.com/). You are required to use its [API](https://github.com/HackerNews/API) to get all items from 2007-04-01 00:01 to 2007-04-07 23:59, and then use the data to answer questions you will find below."
   ]
  },
  {
   "cell_type": "markdown",
   "metadata": {
    "pycharm": {
     "name": "#%% md\n"
    }
   },
   "source": [
    "###### Import coursera grader tools"
   ]
  },
  {
   "cell_type": "code",
   "execution_count": null,
   "metadata": {
    "pycharm": {
     "name": "#%%\n"
    }
   },
   "outputs": [],
   "source": [
    "import sys\n",
    "sys.path.append(\"..\")\n",
    "import grading\n",
    "grader = grading.Grader(assignment_key=\"1wDR6Z0HRy6HXERfu3xZfw\", \n",
    "                      all_parts=[\"1OMZ7\", \"ERjp0\", \"QQkMj\", \"CNPy6\", \"yuulf\",\n",
    "                                 \"8WcJM\", \"EUQgy\", \"9xil0\", \"cz9lO\", \"JLFk8\"])"
   ]
  },
  {
   "cell_type": "code",
   "execution_count": null,
   "metadata": {
    "pycharm": {
     "name": "#%%\n"
    }
   },
   "outputs": [],
   "source": [
    "# token expires every 30 min\n",
    "COURSERA_EMAIL = ### YOUR EMAIL HERE\n",
    "COURSERA_TOKEN = ### YOUR TOKEN"
   ]
  },
  {
   "cell_type": "markdown",
   "metadata": {
    "pycharm": {
     "name": "#%% md\n"
    }
   },
   "source": [
    "<br><br><br><br>"
   ]
  },
  {
   "cell_type": "markdown",
   "metadata": {
    "pycharm": {
     "name": "#%% md\n"
    }
   },
   "source": [
    "### Coding part"
   ]
  },
  {
   "cell_type": "code",
   "execution_count": null,
   "metadata": {
    "pycharm": {
     "name": "#%%\n"
    }
   },
   "outputs": [],
   "source": [
    "# you can start your web-scraping here"
   ]
  },
  {
   "cell_type": "markdown",
   "metadata": {
    "pycharm": {
     "name": "#%% md\n"
    }
   },
   "source": [
    "<br><br>\n",
    "\n",
    "### Questions\n",
    "\n",
    "<br><br>\n",
    "\n",
    "**Question 1.** How many stories were created during the period??"
   ]
  },
  {
   "cell_type": "code",
   "execution_count": 7,
   "outputs": [],
   "source": [
    "import requests\n",
    "import json"
   ],
   "metadata": {
    "collapsed": false,
    "pycharm": {
     "name": "#%%\n"
    }
   }
  },
  {
   "cell_type": "code",
   "execution_count": 18,
   "outputs": [],
   "source": [
    "ts_start = 1175385601\n",
    "ts_end = 1175990340"
   ],
   "metadata": {
    "collapsed": false,
    "pycharm": {
     "name": "#%%\n"
    }
   }
  },
  {
   "cell_type": "code",
   "execution_count": 79,
   "outputs": [],
   "source": [
    "objs = []\n",
    "for i in range (7900, 10300):\n",
    "    url = f'https://hacker-news.firebaseio.com/v0/item/{i}.json'\n",
    "    res = requests.get(url)\n",
    "    if res.status_code != 200:\n",
    "        continue\n",
    "\n",
    "    js = json.loads(res.text)\n",
    "    if ts_start <= js['time'] <= ts_end:\n",
    "        objs.append(js)"
   ],
   "metadata": {
    "collapsed": false,
    "pycharm": {
     "name": "#%%\n"
    }
   }
  },
  {
   "cell_type": "code",
   "execution_count": 30,
   "outputs": [
    {
     "data": {
      "text/plain": "1176001577"
     },
     "execution_count": 30,
     "metadata": {},
     "output_type": "execute_result"
    }
   ],
   "source": [
    "i = 10300\n",
    "url = f'https://hacker-news.firebaseio.com/v0/item/{i}.json'\n",
    "res = requests.get(url)\n",
    "js = json.loads(res.text)\n",
    "js['time']"
   ],
   "metadata": {
    "collapsed": false,
    "pycharm": {
     "name": "#%%\n"
    }
   }
  },
  {
   "cell_type": "code",
   "execution_count": 80,
   "outputs": [
    {
     "data": {
      "text/plain": "487"
     },
     "execution_count": 80,
     "metadata": {},
     "output_type": "execute_result"
    }
   ],
   "source": [
    "len([obj for obj in objs if obj['type'] == 'story'])"
   ],
   "metadata": {
    "collapsed": false,
    "pycharm": {
     "name": "#%%\n"
    }
   }
  },
  {
   "cell_type": "code",
   "execution_count": 37,
   "outputs": [
    {
     "data": {
      "text/plain": "69.57142857142857"
     },
     "execution_count": 37,
     "metadata": {},
     "output_type": "execute_result"
    }
   ],
   "source": [
    "487/7"
   ],
   "metadata": {
    "collapsed": false,
    "pycharm": {
     "name": "#%%\n"
    }
   }
  },
  {
   "cell_type": "code",
   "execution_count": 38,
   "outputs": [],
   "source": [
    "stories = [obj for obj in objs if obj['type'] == 'story']"
   ],
   "metadata": {
    "collapsed": false,
    "pycharm": {
     "name": "#%%\n"
    }
   }
  },
  {
   "cell_type": "code",
   "execution_count": 114,
   "outputs": [
    {
     "data": {
      "text/plain": "[3,\n 2,\n 10,\n 2,\n 1,\n 1,\n 4,\n 1,\n 2,\n 1,\n 1,\n 3,\n 4,\n 1,\n 2,\n 4,\n 1,\n 3,\n 2,\n 1,\n 1,\n 2,\n 1,\n 4,\n 1,\n 3,\n 1,\n 1,\n 2,\n 1,\n 7,\n 1,\n 1,\n 2,\n 1,\n 12,\n 1,\n 2,\n 1,\n 7,\n 4,\n 3,\n 1,\n 1,\n 1,\n 3,\n 1,\n 3,\n 1,\n 2,\n 1,\n 6,\n 1,\n 2,\n 1,\n 3,\n 3,\n 3,\n 1,\n 5,\n 2,\n 4,\n 1,\n 1,\n 8,\n 2,\n 1,\n 5,\n 1,\n 1,\n 2,\n 1,\n 5,\n 2,\n 2,\n 1,\n 6,\n 1,\n 6,\n 4,\n 3,\n 5,\n 1,\n 3,\n 1,\n 1,\n 1,\n 2,\n 2,\n 3,\n 1,\n 1,\n 3,\n 2,\n 1,\n 1,\n 7,\n 1,\n 1,\n 1,\n 3,\n 6,\n 1,\n 2,\n 1,\n 2,\n 3,\n 1,\n 5,\n 1,\n 5,\n 1,\n 2,\n 3,\n 3,\n 16,\n 3,\n 1,\n 2,\n 8,\n 3,\n 6,\n 1,\n 4,\n 3,\n 5,\n 7,\n 2,\n 2,\n 2,\n 1,\n 3,\n 1,\n 5,\n 1,\n 3,\n 33,\n 3,\n 5,\n 2,\n 3,\n 4,\n 8,\n 2,\n 1,\n 3,\n 4,\n 3,\n 1,\n 2,\n 6,\n 2,\n 1,\n 1,\n 7,\n 1,\n 3,\n 3,\n 5,\n 1,\n 1,\n 2,\n 3,\n 1,\n 4,\n 7,\n 3,\n 1,\n 2,\n 13,\n 12,\n 6,\n 2,\n 4,\n 8,\n 1,\n 1,\n 2,\n 10,\n 3,\n 1,\n 2,\n 1,\n 5,\n 1,\n 5,\n 3,\n 5,\n 1,\n 11,\n 3,\n 1,\n 30,\n 1,\n 3,\n 3,\n 4,\n 1,\n 3,\n 1,\n 3,\n 3,\n 1,\n 2,\n 1,\n 2,\n 1,\n 2,\n 1,\n 6,\n 2,\n 8,\n 1,\n 1,\n 2,\n 5,\n 1,\n 2,\n 1,\n 6,\n 1,\n 2,\n 1,\n 1,\n 9,\n 7,\n 1,\n 11,\n 1,\n 3,\n 2,\n 6,\n 16,\n 2,\n 1,\n 4,\n 1,\n 297,\n 7,\n 4,\n 6,\n 5,\n 1,\n 1,\n 1,\n 1,\n 5,\n 1,\n 2,\n 3,\n 1,\n 23,\n 5,\n 2,\n 5,\n 1,\n 2,\n 1,\n 2,\n 4,\n 4,\n 5,\n 3,\n 1,\n 1,\n 2,\n 1,\n 2,\n 1,\n 4,\n 4,\n 1,\n 1,\n 1,\n 1,\n 6,\n 1,\n 1,\n 1]"
     },
     "execution_count": 114,
     "metadata": {},
     "output_type": "execute_result"
    }
   ],
   "source": [
    "[len(s['kids']) for s in stories if 'kids' in s]"
   ],
   "metadata": {
    "collapsed": false,
    "pycharm": {
     "name": "#%%\n"
    }
   }
  },
  {
   "cell_type": "code",
   "execution_count": 113,
   "outputs": [
    {
     "data": {
      "text/plain": "297"
     },
     "execution_count": 113,
     "metadata": {},
     "output_type": "execute_result"
    }
   ],
   "source": [
    "max()"
   ],
   "metadata": {
    "collapsed": false,
    "pycharm": {
     "name": "#%%\n"
    }
   }
  },
  {
   "cell_type": "code",
   "execution_count": 81,
   "outputs": [],
   "source": [
    "id_to_obj = dict()\n",
    "for o in objs:\n",
    "    id_to_obj[o['id']] = o"
   ],
   "metadata": {
    "collapsed": false,
    "pycharm": {
     "name": "#%%\n"
    }
   }
  },
  {
   "cell_type": "code",
   "execution_count": 48,
   "outputs": [
    {
     "data": {
      "text/plain": "{'by': 'pg',\n 'id': 7925,\n 'kids': [7926],\n 'parent': 7922,\n 'text': 'That name will not help them.',\n 'time': 1175392328,\n 'type': 'comment'}"
     },
     "execution_count": 48,
     "metadata": {},
     "output_type": "execute_result"
    }
   ],
   "source": [
    "id_to_obj[7925]"
   ],
   "metadata": {
    "collapsed": false,
    "pycharm": {
     "name": "#%%\n"
    }
   }
  },
  {
   "cell_type": "code",
   "execution_count": 84,
   "outputs": [],
   "source": [
    "def fill_tree(node, depth):\n",
    "    if 'kids' not in node:\n",
    "        return 0\n",
    "\n",
    "    max_depth = 0\n",
    "    for kid in node['kids']:\n",
    "        # if kid not in id_to_obj:\n",
    "        #     url = f'https://hacker-news.firebaseio.com/v0/item/{kid}.json'\n",
    "        #     res = requests.get(url)\n",
    "        #     js = json.loads(res.text)\n",
    "        #     id_to_obj[kid] = js\n",
    "        #     print('Got', url)\n",
    "\n",
    "        if kid in id_to_obj:\n",
    "            max_depth = max(fill_tree(id_to_obj[kid], depth + 1), max_depth)\n",
    "\n",
    "    return max_depth + 1"
   ],
   "metadata": {
    "collapsed": false,
    "pycharm": {
     "name": "#%%\n"
    }
   }
  },
  {
   "cell_type": "code",
   "execution_count": 116,
   "outputs": [
    {
     "ename": "TypeError",
     "evalue": "fill_tree() takes 1 positional argument but 2 were given",
     "output_type": "error",
     "traceback": [
      "\u001B[0;31m---------------------------------------------------------------------------\u001B[0m",
      "\u001B[0;31mTypeError\u001B[0m                                 Traceback (most recent call last)",
      "\u001B[0;32m/var/folders/9l/1yvkt0w11xdg3v1lfnd143f40000gn/T/ipykernel_67347/3705063023.py\u001B[0m in \u001B[0;36m<module>\u001B[0;34m\u001B[0m\n\u001B[0;32m----> 1\u001B[0;31m \u001B[0mmax\u001B[0m\u001B[0;34m(\u001B[0m\u001B[0;34m[\u001B[0m\u001B[0mfill_tree\u001B[0m\u001B[0;34m(\u001B[0m\u001B[0ms\u001B[0m\u001B[0;34m,\u001B[0m \u001B[0;36m1\u001B[0m\u001B[0;34m)\u001B[0m \u001B[0;32mfor\u001B[0m \u001B[0ms\u001B[0m \u001B[0;32min\u001B[0m \u001B[0mstories\u001B[0m\u001B[0;34m]\u001B[0m\u001B[0;34m)\u001B[0m\u001B[0;34m\u001B[0m\u001B[0;34m\u001B[0m\u001B[0m\n\u001B[0m",
      "\u001B[0;32m/var/folders/9l/1yvkt0w11xdg3v1lfnd143f40000gn/T/ipykernel_67347/3705063023.py\u001B[0m in \u001B[0;36m<listcomp>\u001B[0;34m(.0)\u001B[0m\n\u001B[0;32m----> 1\u001B[0;31m \u001B[0mmax\u001B[0m\u001B[0;34m(\u001B[0m\u001B[0;34m[\u001B[0m\u001B[0mfill_tree\u001B[0m\u001B[0;34m(\u001B[0m\u001B[0ms\u001B[0m\u001B[0;34m,\u001B[0m \u001B[0;36m1\u001B[0m\u001B[0;34m)\u001B[0m \u001B[0;32mfor\u001B[0m \u001B[0ms\u001B[0m \u001B[0;32min\u001B[0m \u001B[0mstories\u001B[0m\u001B[0;34m]\u001B[0m\u001B[0;34m)\u001B[0m\u001B[0;34m\u001B[0m\u001B[0;34m\u001B[0m\u001B[0m\n\u001B[0m",
      "\u001B[0;31mTypeError\u001B[0m: fill_tree() takes 1 positional argument but 2 were given"
     ]
    }
   ],
   "source": [
    "max([fill_tree(s, 1) for s in stories])"
   ],
   "metadata": {
    "collapsed": false,
    "pycharm": {
     "name": "#%%\n"
    }
   }
  },
  {
   "cell_type": "code",
   "execution_count": 121,
   "outputs": [],
   "source": [
    "def fill_tree(node):\n",
    "    if 'kids' not in node:\n",
    "        return 1\n",
    "\n",
    "    num_nodes = 0\n",
    "    for kid in node['kids']:\n",
    "        # if kid not in id_to_obj:\n",
    "        #     url = f'https://hacker-news.firebaseio.com/v0/item/{kid}.json'\n",
    "        #     res = requests.get(url)\n",
    "        #     js = json.loads(res.text)\n",
    "        #     id_to_obj[kid] = js\n",
    "        #     print('Got', url)\n",
    "\n",
    "        if kid in id_to_obj:\n",
    "            num_nodes += fill_tree(id_to_obj[kid])\n",
    "\n",
    "    return num_nodes"
   ],
   "metadata": {
    "collapsed": false,
    "pycharm": {
     "name": "#%%\n"
    }
   }
  },
  {
   "cell_type": "code",
   "execution_count": 122,
   "outputs": [
    {
     "data": {
      "text/plain": "126"
     },
     "execution_count": 122,
     "metadata": {},
     "output_type": "execute_result"
    }
   ],
   "source": [
    "max([fill_tree(s) for s in stories])"
   ],
   "metadata": {
    "collapsed": false,
    "pycharm": {
     "name": "#%%\n"
    }
   }
  },
  {
   "cell_type": "code",
   "execution_count": 93,
   "outputs": [
    {
     "data": {
      "text/plain": "{'domp': 19,\n 'zach': 21,\n 'herdrick': 4,\n 'rfrey': 3,\n 'JMiao': 24,\n 'pg': 62,\n 'bootload': 29,\n 'mattculbreth': 39,\n 'juwo': 28,\n 'Tron': 2,\n 'RyanGWU82': 12,\n 'mynameishere': 1,\n 'yc1': 1,\n 'danielha': 25,\n 'zaidf': 47,\n 'awt': 2,\n 'raganwald': 5,\n 'vlad': 37,\n 'binarybana': 3,\n 'nickb': 13,\n 'pyc': 4,\n 'jsjenkins168': 12,\n 'brett': 16,\n 'jamongkad': 4,\n 'lee': 1,\n 'whacked_new': 19,\n 'marcell': 3,\n 'ced': 10,\n 'admp': 1,\n 'Alex3917': 13,\n 'ralph': 2,\n 'jewelsbranch': 1,\n 'dstowell': 1,\n 'comforteagle': 1,\n 'dpapathanasiou': 20,\n 'amichail': 35,\n 'gms': 4,\n 'sf2007': 9,\n 'nostrademons': 30,\n 'leoc': 1,\n 'schoudha': 7,\n 'rsynnott': 4,\n 'e1ven': 11,\n 'Elfan': 12,\n 'notabel': 4,\n 'ewheeler': 1,\n 'inklesspen': 21,\n 'ulfstein': 1,\n 'omarish': 6,\n 'jadams': 7,\n 'python_kiss': 6,\n 'dawie': 25,\n 'jayliew': 3,\n 'BitGeek': 12,\n 'pashle': 2,\n 'lupin_sansei': 1,\n 'anil': 2,\n 'epall': 7,\n 'igrigorik': 1,\n 'nandan': 3,\n 'plusbryan': 1,\n 'colmworth': 4,\n 'zkinion': 24,\n 'rms': 35,\n 'greendestiny': 3,\n 'semigeek': 3,\n 'DanielH': 1,\n 'kul': 1,\n 'jward': 3,\n 'startforfun': 1,\n 'jamiequint': 5,\n 'andreyf': 11,\n 'theoutlander': 15,\n 'MEHOM': 9,\n 'volida': 9,\n 'sharpshoot': 4,\n 'guyinblackshirt': 1,\n 'jkush': 35,\n 'brlewis': 14,\n 'Goladus': 12,\n 'nonrecursive': 7,\n 'Leonidas': 7,\n 'Readmore': 13,\n 'dcostolo': 1,\n 'jmtame': 1,\n 'cwilbur': 2,\n 'abossy': 8,\n 'andyjenn': 1,\n 'immad': 3,\n 'erdos2': 7,\n 'davidcatalano': 1,\n 'timg': 7,\n 'run4yourlives': 4,\n 'Benja': 3,\n 'damien': 2,\n 'randallsquared': 16,\n 'far33d': 28,\n 'felipe': 4,\n 'boomstrap': 4,\n 'blakeross': 4,\n 'ClintonKarr': 8,\n 'allen-cn': 2,\n 'veritas': 3,\n 'xinroman': 4,\n 'danw': 15,\n 'yaacovtp': 23,\n 'gcaprio': 1,\n 'vegashacker': 3,\n 'aston': 15,\n 'mgandhi': 2,\n 'chandrab': 5,\n 'johnm': 7,\n 'onetimeliner': 1,\n 'SwellJoe': 2,\n 'mukund': 49,\n 'nirs': 2,\n 'RareBlueMonkey': 2,\n 'staunch': 13,\n 'adamsmith': 1,\n 'shsung': 6,\n 'euccastro': 1,\n 'dcurtis': 1,\n 'kallena': 8,\n 'Todd': 2,\n 'akkartik': 7,\n 'starkfist': 1,\n 'mauricecheeks': 17,\n 'mattjaynes': 23,\n 'AurSaraf': 1,\n 'Mattster': 1,\n 'MMax': 1,\n 'sri': 6,\n 'acgourley': 2,\n 'imp': 1,\n 'entelarust': 1,\n 'richcollins': 6,\n 'orlick': 1,\n 'dfranke': 13,\n 'ntoshev': 2,\n 'keven': 5,\n 'floozyspeak': 8,\n 'vo0do0': 2,\n 'gibsonf1': 11,\n 'Harj': 4,\n 'Mistone': 10,\n 'mdakin': 9,\n 'mstefff': 2,\n 'lurker': 1,\n 'arasakik': 1,\n 'joshwa': 21,\n 'jaed': 4,\n 'djwronghole': 1,\n 'stacegirl': 1,\n 'ereldon': 1,\n 'JPSC': 1,\n 'brezina': 3,\n 'vinit': 4,\n 'righteousraven': 1,\n 'waleedka': 1,\n 'startupdaze': 2,\n 'blader': 24,\n 'x2': 1,\n 'jaf656s': 1,\n 'Terhorst': 2,\n 'samb': 4,\n 'palish': 9,\n 'morselsrule': 1,\n 'Wintermute': 1,\n 'paul': 1,\n 'dhouston': 10,\n 'tyohn': 1,\n 'tcg': 2,\n 'iamwil': 1,\n 'nefele': 4,\n 'markovich': 5,\n 'budu3': 6,\n 'eugenejen': 1,\n 'madmotive': 1,\n 'aaroniba': 1,\n 'jmclain': 1,\n 'daliso': 1,\n 'jganetsk': 19,\n 'rwalker': 4,\n 'drop19': 4,\n 'MrAnalogy': 2,\n 'teki321': 1,\n 'npk': 4,\n 'ashu': 2,\n 'rokhayakebe': 2,\n 'abstractbill': 2,\n 'zzzeek': 1,\n 'ph0rque': 3,\n 'shbrown': 1,\n 'BrandonM': 29,\n 'ottawastart': 1,\n 'sumantra2': 3,\n 'gojomo': 2,\n 'comatose_kid': 4,\n 'Sam_Odio': 1,\n 'andy': 1,\n 'gyro_robo': 1,\n 'drewp': 1,\n 'asdf333': 2,\n 'noisemaker': 3,\n 'ecuzzillo': 5,\n 'soeren': 1,\n 'ido': 1,\n 'tinkertim': 3,\n 'andybourassa': 2,\n 'JohnN': 1,\n 'dageroth': 1,\n 'wensing': 7,\n 'marcinc': 1,\n 'startupguy': 1,\n 'supahfly_remix': 1,\n 'dshah': 8,\n 'carefreeliving': 1,\n 'aquarin': 1,\n 'sethjohn': 2,\n 'neurokinetikz': 1,\n 'chapster': 1,\n 'eli': 8,\n 'farmer': 2,\n 'ryantmulligan': 1,\n 'rebecca_d': 6,\n 'webwright': 2,\n 'monty': 1,\n 'phony_identity': 2,\n 'entrepreneur': 1,\n 'edw519': 1,\n 'pootytang': 1,\n 'mojuba': 1,\n 'alexiso': 1,\n 'edgeztv': 2,\n 'voiceofreason': 7,\n 'prabuinet': 1,\n 'divia': 2,\n 'kevinxray': 2,\n 'harlune': 1,\n 'ktappe': 1,\n 'ballred': 2,\n 'raju': 1,\n 'michelson01': 1,\n 'jey': 2,\n 'aberrantfunk': 1,\n 'drrogera': 1,\n 'PStamatiou': 1,\n 'drusenko': 1,\n 'kogir': 3,\n 'oltsm': 1,\n 'bigtoga': 2,\n 'Tichy': 5,\n 'chendy': 4,\n 'boris': 1,\n 'sergiutruta': 2,\n 'neilc': 2,\n 'bls': 3,\n 'pixcavator': 2,\n 'markrages': 1,\n 'startupstarter': 4,\n 'aristus': 1,\n 'jimbo': 1,\n 'philc': 1,\n 'vikram': 4,\n 'lak': 1,\n 'hello_moto': 2,\n 'tiger_uppercut': 1,\n 'me_jobs_r_u_woz': 9,\n 'papersmith': 3,\n 'TrueOrient': 1,\n 'jmpeters': 1,\n 'BobG': 1,\n 'brad': 1,\n 'gabrielroth': 1,\n 'gknauth': 1,\n 'apansari': 1,\n 'chai': 1,\n 'Peter_G': 1,\n 'jim-in-austin': 1,\n 'cweekly': 1,\n 'look': 1,\n 'pc': 1,\n 'william42': 4,\n 'busy_beaver': 5,\n 'ehabkost': 1,\n 'celoyd': 1,\n 'nicodaemos': 1,\n 'gweb': 1,\n 'jellerbee': 2,\n 'grauenwolf': 2,\n 'kyro': 4,\n 'projectileboy': 1,\n 'bartsimpson007': 2,\n 'joeschmoe': 4,\n 'rrameshp': 1,\n 'dietzsignals': 1,\n 'aprocrastinator': 1,\n 'flarosa': 1,\n 'gommm': 1,\n 'frobot': 1,\n 'neilk': 1,\n 'bobsil1': 1,\n 'jrbedard': 1,\n 'stevecla': 1,\n 'slk': 1,\n 'jmd': 1,\n 'Hexayurt': 1,\n 'shiv': 1,\n 'chris_l': 1,\n 'jjrs': 5,\n 'BearOfNH': 1,\n 'polibius': 1,\n 'fuzzyman': 1,\n 'niklas72': 1,\n 'bitdiddle': 1,\n 'rasputnik': 2,\n 'artsnooze': 1,\n 'rsheridan6': 1,\n 'gwint': 1,\n 'atanas': 1,\n 'morlock_man': 1,\n 'pyite': 1,\n 'marksashton': 1,\n 'pablos': 1,\n 'justified': 1,\n 'mrpostmaster': 3,\n 'fryke': 1,\n 'teddlesruss': 1,\n 'rickt287': 1,\n 'poopstech': 1,\n 'MikeLevin': 1,\n 'blabla': 2,\n 'wanderson': 2,\n 'leoderja': 1,\n 'mikev': 1,\n 'nivi': 1,\n 'jetforme': 1,\n 'henning': 1,\n 'weblivz': 2,\n 'wykthorr': 1,\n 'Skyhoper': 1,\n 'rickygee': 1,\n 'redbeard': 1,\n 'talkingtab': 1,\n 'davedash': 1,\n 'rayteagarden': 1,\n 'gregshortdotcom': 2,\n 'Wanderlust': 1,\n 'sachman': 1,\n 'yaddoshi': 1,\n 'ernie': 1,\n 'DITSS': 1,\n 'ka': 1,\n 'yb927': 1,\n 'Lessien': 1,\n 'prometheas': 1,\n 'twocents': 1,\n 'peter': 1,\n 'JoeDuck': 1,\n 'dogbert': 1,\n 'davidsrose': 1,\n 'PeterdeLaat': 1,\n 'davewhittle': 1,\n 'ustrip': 2,\n 'vzakharov': 1,\n 'SFBayman': 1,\n 'dougo': 1,\n 'reality2345': 1,\n 'ar': 1,\n 'knewter': 3,\n 'starman': 2,\n 'wmorein': 1,\n 'stopbuggingme': 2,\n 'jacksprat': 1,\n 'stephenrwalli': 1,\n 'djasek': 2,\n 'biofusion': 1,\n 'jvdvyah': 1,\n 'dqualls': 1,\n 'seandc': 1,\n 'dohmer': 1,\n 'RamonFHerrera': 2,\n 'mint': 1,\n 'kawabago': 1,\n 'rolodex': 1}"
     },
     "execution_count": 93,
     "metadata": {},
     "output_type": "execute_result"
    }
   ],
   "source": [
    "usr_to_comment = dict()\n",
    "for v in id_to_obj.values():\n",
    "    if v['type'] == 'comment' and 'deleted' not in v:\n",
    "        usr = v['by']\n",
    "        if usr not in usr_to_comment:\n",
    "            usr_to_comment[usr] = 0\n",
    "        usr_to_comment[usr] += 1\n",
    "\n",
    "usr_to_comment"
   ],
   "metadata": {
    "collapsed": false,
    "pycharm": {
     "name": "#%%\n"
    }
   }
  },
  {
   "cell_type": "code",
   "execution_count": 94,
   "outputs": [
    {
     "data": {
      "text/plain": "261.57142857142856"
     },
     "execution_count": 94,
     "metadata": {},
     "output_type": "execute_result"
    }
   ],
   "source": [
    "len([v for v in id_to_obj.values() if v['type'] == 'comment' and 'deleted' not in v])/7"
   ],
   "metadata": {
    "collapsed": false,
    "pycharm": {
     "name": "#%%\n"
    }
   }
  },
  {
   "cell_type": "code",
   "execution_count": 95,
   "outputs": [],
   "source": [
    "comments = sorted(usr_to_comment.items(), key=lambda x: x[1], reverse=True)"
   ],
   "metadata": {
    "collapsed": false,
    "pycharm": {
     "name": "#%%\n"
    }
   }
  },
  {
   "cell_type": "code",
   "execution_count": 105,
   "outputs": [
    {
     "data": {
      "text/plain": "192.5"
     },
     "execution_count": 105,
     "metadata": {},
     "output_type": "execute_result"
    }
   ],
   "source": [
    "len(comments)/2"
   ],
   "metadata": {
    "collapsed": false,
    "pycharm": {
     "name": "#%%\n"
    }
   }
  },
  {
   "cell_type": "code",
   "execution_count": 109,
   "outputs": [
    {
     "data": {
      "text/plain": "('RamonFHerrera', 2)"
     },
     "execution_count": 109,
     "metadata": {},
     "output_type": "execute_result"
    }
   ],
   "source": [
    "comments[192]"
   ],
   "metadata": {
    "collapsed": false,
    "pycharm": {
     "name": "#%%\n"
    }
   }
  },
  {
   "cell_type": "code",
   "execution_count": 99,
   "outputs": [
    {
     "data": {
      "text/plain": "4.755844155844156"
     },
     "execution_count": 99,
     "metadata": {},
     "output_type": "execute_result"
    }
   ],
   "source": [
    "sum([v for _, v in usr_to_comment.items()])/len(usr_to_comment)"
   ],
   "metadata": {
    "collapsed": false,
    "pycharm": {
     "name": "#%%\n"
    }
   }
  },
  {
   "cell_type": "code",
   "execution_count": 103,
   "outputs": [
    {
     "data": {
      "text/plain": "{'gibsonf1': 4,\n 'domp': 31,\n 'mattculbreth': 19,\n 'omarish': 4,\n 'pg': 6,\n 'zaidf': 7,\n 'sf2007': 5,\n 'binarybana': 1,\n 'danw': 21,\n 'juwo': 5,\n 'bootload': 9,\n 'usablecontent': 34,\n 'daliso': 1,\n 'nate': 1,\n 'amichail': 27,\n 'graham-miln': 1,\n 'sharpshoot': 5,\n 'Sam_Odio': 2,\n 'ewheeler': 1,\n 'Tichy': 2,\n 'dawie': 9,\n 'lupin_sansei': 1,\n 'chandrab': 4,\n 'anil': 1,\n 'tw1sted': 1,\n 'nostrademons': 1,\n 'whacked_new': 1,\n 'Alex3917': 1,\n 'colmworth': 1,\n 'mgandhi': 2,\n 'phil': 1,\n 'blakeross': 1,\n 'kul': 1,\n 'brett': 9,\n 'danielha': 7,\n 'jamiequint': 4,\n 'jkush': 3,\n 'veritas': 5,\n 'aglarond': 1,\n 'jslogan': 5,\n 'Readmore': 7,\n 'jmtame': 1,\n 'farmer': 4,\n 'Mistone': 3,\n 'raganwald': 2,\n 'nickb': 2,\n 'jcwentz': 3,\n 'anonymous': 1,\n 'msgbeepa': 5,\n 'abstractbill': 1,\n 'far33d': 13,\n 'ClintonKarr': 4,\n 'pageman': 1,\n 'mcalbucci': 1,\n 'digg': 1,\n 'gcaprio': 1,\n 'Elfan': 5,\n 'iamwil': 1,\n 'node': 1,\n 'RyanGWU82': 1,\n 'aaroneous': 1,\n 'techaddress': 1,\n 'entrepreneur': 4,\n 'kallena': 5,\n 'f1alan': 1,\n 'picciu': 1,\n 'mattjaynes': 4,\n 'volida': 1,\n 'jcct11': 2,\n 'sri': 1,\n 'BillHill': 1,\n 'kevinxray': 20,\n 'mstefff': 1,\n 'ACSparks': 2,\n 'herdrick': 1,\n 'ooglega': 1,\n 'Terhorst': 6,\n 'imp': 1,\n 'keven': 3,\n 'righteousraven': 1,\n 'inklesspen': 1,\n 'yaacovtp': 5,\n 'arasakik': 3,\n 'staunch': 3,\n 'rohycgan03': 2,\n 'jaed': 2,\n 'joshwa': 8,\n 'wesbos': 1,\n 'dean': 3,\n 'felipe': 1,\n 'vinit': 1,\n 'noisemaker': 2,\n 'waleedka': 1,\n 'rms': 2,\n 'jamongkad': 5,\n 'blader': 5,\n 'tomcat111': 2,\n 'belhassen': 1,\n 'aquarin': 1,\n 'floozyspeak': 3,\n 'mmalone': 1,\n 'dhouston': 1,\n 'shara': 2,\n 'jullrich1': 1,\n 'ereldon': 1,\n 'editor': 5,\n 'ycap': 1,\n 'nefele': 1,\n 'npk': 2,\n 'HectorPapi': 1,\n 'Harj': 2,\n 'nandan': 1,\n 'vlad': 2,\n 'epall': 1,\n 'pashle': 1,\n 'ecuzzillo': 1,\n 'divia': 2,\n 'BrandonM': 1,\n 'brlewis': 1,\n 'aston': 1,\n 'python_kiss': 4,\n 'ccoyne': 1,\n 'edgeztv': 1,\n 'comatose_kid': 1,\n 'markovich': 1,\n 'startupdaze': 1,\n 'ballred': 1,\n 'e1ven': 2,\n 'BitGeek': 3,\n 'BioGeek': 1,\n 'chendy': 2,\n 'dherman76': 1,\n 'wensing': 1,\n 'sergiutruta': 1,\n 'johnm': 1,\n 'palish': 1,\n 'aristus': 1,\n 'shankys': 1,\n 'startupstarter': 1,\n 'mauricecheeks': 1,\n 'superficial': 1,\n 'mukund': 3,\n 'vikram': 1,\n 'kkim': 1,\n 'me_jobs_r_u_woz': 1,\n 'kyro': 1,\n 'rwalker': 1,\n 'andres': 1,\n 'JMiao': 1,\n 'theoutlander': 1,\n 'nonrecursive': 2,\n 'randallsquared': 1,\n 'rokhayakebe': 1,\n 'elwood': 1,\n 'ivan': 1}"
     },
     "execution_count": 103,
     "metadata": {},
     "output_type": "execute_result"
    }
   ],
   "source": [
    "usr_to_thread = dict()\n",
    "for v in id_to_obj.values():\n",
    "    if v['type'] == 'story' and 'deleted' not in v:\n",
    "        usr = v['by']\n",
    "        if usr not in usr_to_thread:\n",
    "            usr_to_thread[usr] = 0\n",
    "        usr_to_thread[usr] += 1\n",
    "\n",
    "usr_to_thread"
   ],
   "metadata": {
    "collapsed": false,
    "pycharm": {
     "name": "#%%\n"
    }
   }
  },
  {
   "cell_type": "code",
   "execution_count": 104,
   "outputs": [
    {
     "data": {
      "text/plain": "[('usablecontent', 34),\n ('domp', 31),\n ('amichail', 27),\n ('danw', 21),\n ('kevinxray', 20),\n ('mattculbreth', 19),\n ('far33d', 13),\n ('bootload', 9),\n ('dawie', 9),\n ('brett', 9),\n ('joshwa', 8),\n ('zaidf', 7),\n ('danielha', 7),\n ('Readmore', 7),\n ('pg', 6),\n ('Terhorst', 6),\n ('sf2007', 5),\n ('juwo', 5),\n ('sharpshoot', 5),\n ('veritas', 5),\n ('jslogan', 5),\n ('msgbeepa', 5),\n ('Elfan', 5),\n ('kallena', 5),\n ('yaacovtp', 5),\n ('jamongkad', 5),\n ('blader', 5),\n ('editor', 5),\n ('gibsonf1', 4),\n ('omarish', 4),\n ('chandrab', 4),\n ('jamiequint', 4),\n ('farmer', 4),\n ('ClintonKarr', 4),\n ('entrepreneur', 4),\n ('mattjaynes', 4),\n ('python_kiss', 4),\n ('jkush', 3),\n ('Mistone', 3),\n ('jcwentz', 3),\n ('keven', 3),\n ('arasakik', 3),\n ('staunch', 3),\n ('dean', 3),\n ('floozyspeak', 3),\n ('BitGeek', 3),\n ('mukund', 3),\n ('Sam_Odio', 2),\n ('Tichy', 2),\n ('mgandhi', 2),\n ('raganwald', 2),\n ('nickb', 2),\n ('jcct11', 2),\n ('ACSparks', 2),\n ('rohycgan03', 2),\n ('jaed', 2),\n ('noisemaker', 2),\n ('rms', 2),\n ('tomcat111', 2),\n ('shara', 2),\n ('npk', 2),\n ('Harj', 2),\n ('vlad', 2),\n ('divia', 2),\n ('e1ven', 2),\n ('chendy', 2),\n ('nonrecursive', 2),\n ('binarybana', 1),\n ('daliso', 1),\n ('nate', 1),\n ('graham-miln', 1),\n ('ewheeler', 1),\n ('lupin_sansei', 1),\n ('anil', 1),\n ('tw1sted', 1),\n ('nostrademons', 1),\n ('whacked_new', 1),\n ('Alex3917', 1),\n ('colmworth', 1),\n ('phil', 1),\n ('blakeross', 1),\n ('kul', 1),\n ('aglarond', 1),\n ('jmtame', 1),\n ('anonymous', 1),\n ('abstractbill', 1),\n ('pageman', 1),\n ('mcalbucci', 1),\n ('digg', 1),\n ('gcaprio', 1),\n ('iamwil', 1),\n ('node', 1),\n ('RyanGWU82', 1),\n ('aaroneous', 1),\n ('techaddress', 1),\n ('f1alan', 1),\n ('picciu', 1),\n ('volida', 1),\n ('sri', 1),\n ('BillHill', 1),\n ('mstefff', 1),\n ('herdrick', 1),\n ('ooglega', 1),\n ('imp', 1),\n ('righteousraven', 1),\n ('inklesspen', 1),\n ('wesbos', 1),\n ('felipe', 1),\n ('vinit', 1),\n ('waleedka', 1),\n ('belhassen', 1),\n ('aquarin', 1),\n ('mmalone', 1),\n ('dhouston', 1),\n ('jullrich1', 1),\n ('ereldon', 1),\n ('ycap', 1),\n ('nefele', 1),\n ('HectorPapi', 1),\n ('nandan', 1),\n ('epall', 1),\n ('pashle', 1),\n ('ecuzzillo', 1),\n ('BrandonM', 1),\n ('brlewis', 1),\n ('aston', 1),\n ('ccoyne', 1),\n ('edgeztv', 1),\n ('comatose_kid', 1),\n ('markovich', 1),\n ('startupdaze', 1),\n ('ballred', 1),\n ('BioGeek', 1),\n ('dherman76', 1),\n ('wensing', 1),\n ('sergiutruta', 1),\n ('johnm', 1),\n ('palish', 1),\n ('aristus', 1),\n ('shankys', 1),\n ('startupstarter', 1),\n ('mauricecheeks', 1),\n ('superficial', 1),\n ('vikram', 1),\n ('kkim', 1),\n ('me_jobs_r_u_woz', 1),\n ('kyro', 1),\n ('rwalker', 1),\n ('andres', 1),\n ('JMiao', 1),\n ('theoutlander', 1),\n ('randallsquared', 1),\n ('rokhayakebe', 1),\n ('elwood', 1),\n ('ivan', 1)]"
     },
     "execution_count": 104,
     "metadata": {},
     "output_type": "execute_result"
    }
   ],
   "source": [
    "sorted(usr_to_thread.items(), key=lambda x: x[1], reverse=True)"
   ],
   "metadata": {
    "collapsed": false,
    "pycharm": {
     "name": "#%%\n"
    }
   }
  },
  {
   "cell_type": "code",
   "execution_count": null,
   "metadata": {
    "pycharm": {
     "name": "#%%\n"
    }
   },
   "outputs": [],
   "source": [
    "answer_part_1 = ..."
   ]
  },
  {
   "cell_type": "code",
   "execution_count": null,
   "metadata": {
    "pycharm": {
     "name": "#%%\n"
    }
   },
   "outputs": [],
   "source": [
    "# Setting our answers to grader. Do not change!\n",
    "grader.set_answer(\"1OMZ7\", answer_part_1)"
   ]
  },
  {
   "cell_type": "markdown",
   "metadata": {
    "pycharm": {
     "name": "#%% md\n"
    }
   },
   "source": [
    "<br>\n",
    "\n",
    "**Question 2.** What was the length of the longest story?"
   ]
  },
  {
   "cell_type": "code",
   "execution_count": null,
   "metadata": {
    "pycharm": {
     "name": "#%%\n"
    }
   },
   "outputs": [],
   "source": [
    "answer_part_2 = ..."
   ]
  },
  {
   "cell_type": "code",
   "execution_count": null,
   "metadata": {
    "pycharm": {
     "name": "#%%\n"
    }
   },
   "outputs": [],
   "source": [
    "# Setting our answers to grader. Do not change!\n",
    "grader.set_answer(\"ERjp0\", answer_part_2)"
   ]
  },
  {
   "cell_type": "markdown",
   "metadata": {
    "pycharm": {
     "name": "#%% md\n"
    }
   },
   "source": [
    "<br>\n",
    "\n",
    "**Question 3.** What user left the most comments?"
   ]
  },
  {
   "cell_type": "code",
   "execution_count": null,
   "metadata": {
    "pycharm": {
     "name": "#%%\n"
    }
   },
   "outputs": [],
   "source": [
    "answer_part_3 = ..."
   ]
  },
  {
   "cell_type": "code",
   "execution_count": null,
   "metadata": {
    "pycharm": {
     "name": "#%%\n"
    }
   },
   "outputs": [],
   "source": [
    "# Setting our answers to grader. Do not change!\n",
    "grader.set_answer(\"QQkMj\", answer_part_3)"
   ]
  },
  {
   "cell_type": "markdown",
   "metadata": {
    "pycharm": {
     "name": "#%% md\n"
    }
   },
   "source": [
    "<br>\n",
    "\n",
    "**Question 4.** What user created the most stories?"
   ]
  },
  {
   "cell_type": "code",
   "execution_count": null,
   "metadata": {
    "pycharm": {
     "name": "#%%\n"
    }
   },
   "outputs": [],
   "source": [
    "answer_part_4 = ..."
   ]
  },
  {
   "cell_type": "code",
   "execution_count": null,
   "metadata": {
    "pycharm": {
     "name": "#%%\n"
    }
   },
   "outputs": [],
   "source": [
    "# Setting our answers to grader. Do not change!\n",
    "grader.set_answer(\"CNPy6\", answer_part_4)"
   ]
  },
  {
   "cell_type": "markdown",
   "metadata": {
    "pycharm": {
     "name": "#%% md\n"
    }
   },
   "source": [
    "<br>\n",
    "\n",
    "**Question 5.** What is day of the week with the most stories created? Enter one of the following as an answer: Monday, Tuesday, Wednesday, Thursday, Friday, Saturday, Sunday."
   ]
  },
  {
   "cell_type": "code",
   "execution_count": null,
   "metadata": {
    "pycharm": {
     "name": "#%%\n"
    }
   },
   "outputs": [],
   "source": [
    "answer_part_5 = ..."
   ]
  },
  {
   "cell_type": "code",
   "execution_count": null,
   "metadata": {
    "pycharm": {
     "name": "#%%\n"
    }
   },
   "outputs": [],
   "source": [
    "# Setting our answers to grader. Do not change!\n",
    "grader.set_answer(\"yuulf\", answer_part_5)"
   ]
  },
  {
   "cell_type": "markdown",
   "metadata": {
    "pycharm": {
     "name": "#%% md\n"
    }
   },
   "source": [
    "<br><br>\n",
    "\n",
    "**Question 6.** What is day of the week with the most comments left? Enter one of the following as an answer: Monday, Tuesday, Wednesday, Thursday, Friday, Saturday, Sunday."
   ]
  },
  {
   "cell_type": "code",
   "execution_count": null,
   "metadata": {
    "pycharm": {
     "name": "#%%\n"
    }
   },
   "outputs": [],
   "source": [
    "answer_part_6 = ..."
   ]
  },
  {
   "cell_type": "code",
   "execution_count": null,
   "metadata": {
    "pycharm": {
     "name": "#%%\n"
    }
   },
   "outputs": [],
   "source": [
    "# Setting our answers to grader. Do not change!\n",
    "grader.set_answer(\"8WcJM\", answer_part_6)"
   ]
  },
  {
   "cell_type": "markdown",
   "metadata": {
    "pycharm": {
     "name": "#%% md\n"
    }
   },
   "source": [
    "<br>\n",
    "\n",
    "**Question 7.** How many comments does user leave on average?"
   ]
  },
  {
   "cell_type": "code",
   "execution_count": null,
   "metadata": {
    "pycharm": {
     "name": "#%%\n"
    }
   },
   "outputs": [],
   "source": [
    "answer_part_7 = ..."
   ]
  },
  {
   "cell_type": "code",
   "execution_count": null,
   "metadata": {
    "pycharm": {
     "name": "#%%\n"
    }
   },
   "outputs": [],
   "source": [
    "# Setting our answers to grader. Do not change!\n",
    "grader.set_answer(\"EUQgy\", answer_part_7)"
   ]
  },
  {
   "cell_type": "markdown",
   "metadata": {
    "pycharm": {
     "name": "#%% md\n"
    }
   },
   "source": [
    "<br>\n",
    "\n",
    "**Question 8.** What is a median comments per user?"
   ]
  },
  {
   "cell_type": "code",
   "execution_count": null,
   "metadata": {
    "pycharm": {
     "name": "#%%\n"
    }
   },
   "outputs": [],
   "source": [
    "answer_part_8 = ..."
   ]
  },
  {
   "cell_type": "code",
   "execution_count": null,
   "metadata": {
    "pycharm": {
     "name": "#%%\n"
    }
   },
   "outputs": [],
   "source": [
    "# Setting our answers to grader. Do not change!\n",
    "grader.set_answer(\"9xil0\", answer_part_8)"
   ]
  },
  {
   "cell_type": "markdown",
   "metadata": {
    "pycharm": {
     "name": "#%% md\n"
    }
   },
   "source": [
    "<br>\n",
    "\n",
    "**Question 9.** What is an average number of stories per day?"
   ]
  },
  {
   "cell_type": "code",
   "execution_count": null,
   "metadata": {
    "pycharm": {
     "name": "#%%\n"
    }
   },
   "outputs": [],
   "source": [
    "answer_part_9 = ..."
   ]
  },
  {
   "cell_type": "code",
   "execution_count": null,
   "metadata": {
    "pycharm": {
     "name": "#%%\n"
    }
   },
   "outputs": [],
   "source": [
    "# Setting our answers to grader. Do not change!\n",
    "grader.set_answer(\"cz9lO\", answer_part_9)"
   ]
  },
  {
   "cell_type": "markdown",
   "metadata": {
    "pycharm": {
     "name": "#%% md\n"
    }
   },
   "source": [
    "<br>\n",
    "\n",
    "**Question 10.** How many comments per day are left on average?"
   ]
  },
  {
   "cell_type": "code",
   "execution_count": null,
   "metadata": {
    "pycharm": {
     "name": "#%%\n"
    }
   },
   "outputs": [],
   "source": [
    "answer_part_10 = ..."
   ]
  },
  {
   "cell_type": "code",
   "execution_count": null,
   "metadata": {
    "pycharm": {
     "name": "#%%\n"
    }
   },
   "outputs": [],
   "source": [
    "# Setting our answers to grader. Do not change!\n",
    "grader.set_answer(\"JLFk8\", answer_part_10)"
   ]
  },
  {
   "cell_type": "markdown",
   "metadata": {
    "pycharm": {
     "name": "#%% md\n"
    }
   },
   "source": [
    "<br>\n",
    "<br>\n",
    "\n",
    "### Submitting answers"
   ]
  },
  {
   "cell_type": "code",
   "execution_count": null,
   "metadata": {
    "pycharm": {
     "name": "#%%\n"
    }
   },
   "outputs": [],
   "source": [
    "# you can make submission with answers so far to check yourself at this stage\n",
    "grader.submit(COURSERA_EMAIL, COURSERA_TOKEN)"
   ]
  }
 ],
 "metadata": {
  "kernelspec": {
   "display_name": "Python 3",
   "language": "python",
   "name": "python3"
  },
  "language_info": {
   "codemirror_mode": {
    "name": "ipython",
    "version": 3
   },
   "file_extension": ".py",
   "mimetype": "text/x-python",
   "name": "python",
   "nbconvert_exporter": "python",
   "pygments_lexer": "ipython3",
   "version": "3.7.6"
  }
 },
 "nbformat": 4,
 "nbformat_minor": 4
}