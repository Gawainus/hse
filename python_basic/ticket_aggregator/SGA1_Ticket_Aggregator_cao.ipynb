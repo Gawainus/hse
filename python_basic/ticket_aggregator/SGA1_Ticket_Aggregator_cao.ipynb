{
 "cells": [
  {
   "cell_type": "code",
   "execution_count": null,
   "outputs": [],
   "source": [
    "\"\"\"\n",
    "Criteria\n",
    "price, transfers, refundable, luggage_included\n",
    "\"\"\""
   ],
   "metadata": {
    "collapsed": false,
    "pycharm": {
     "name": "#%%\n"
    }
   }
  },
  {
   "cell_type": "code",
   "execution_count": 9,
   "outputs": [],
   "source": [
    "class Offer:\n",
    "    '''\n",
    "    This class represent a ticket from Moscow to NYC.\n",
    "    '''\n",
    "    def __init__(self, px, num_tsf, refundable, lug_incl):\n",
    "        self.px = px\n",
    "        self.num_tsf = num_tsf\n",
    "        self.refundable = refundable\n",
    "        self.lug_incl = lug_incl"
   ],
   "metadata": {
    "collapsed": false,
    "pycharm": {
     "name": "#%%\n"
    }
   }
  },
  {
   "cell_type": "code",
   "execution_count": 26,
   "outputs": [],
   "source": [
    "def classify(offer):\n",
    "    '''\n",
    "    This `classify` an offter object\n",
    "    :param offer:\n",
    "    :return: category, description\n",
    "    '''\n",
    "    if offer.px < 200 and offer.num_tsf < 2 and offer.refundable and offer.lug_incl:\n",
    "        return 'the best', 'the one which costs less than $200; it should be either a direct flight or a flight with one transfer; refund is included; luggage is included'\n",
    "    elif 200 <= offer.px <= 250 and offer.num_tsf < 3:\n",
    "        return 'good enough', 'price is in a range from $200 to $250; it is either a direct flight or might require one or two transfers; refund is either included or not; the same for luggage - it is either included or not'\n",
    "    elif offer.px > 250 and offer.num_tsf > 3:\n",
    "        return 'bad', 'price is more than $250; three and more transfers are required; refund is either included or not; the same for luggage - it is either included or not'\n",
    "    else:\n",
    "        return 'other', 'We cannot classify this ticket'\n",
    "\n",
    "def parse_data(d):\n",
    "    parts = d.split(\",\")\n",
    "    if len(parts) != 4:\n",
    "        return False, None\n",
    "\n",
    "    try:\n",
    "        px = int(parts[0])\n",
    "    except ValueError:\n",
    "        print('Please enter an integer for price')\n",
    "        return False, None\n",
    "    try:\n",
    "        num_tsf = int(parts[1])\n",
    "    except ValueError:\n",
    "        print('Please enter an integer for number of transfers')\n",
    "        return False, None\n",
    "\n",
    "    refundable = parts[2]\n",
    "    if refundable not in ['T', 'F']:\n",
    "        print('Please enter an T or F for whether the refund is provided')\n",
    "        return False, None\n",
    "\n",
    "    lug_incl = parts[3]\n",
    "    if lug_incl not in ['T', 'F']:\n",
    "        print('Please enter T or F for whether luggage is included')\n",
    "        return False, None\n",
    "\n",
    "    refundable = True if refundable == 'T' else False\n",
    "    lug_incl = True if lug_incl == 'T' else False\n",
    "    return True, Offer(px, num_tsf, refundable, lug_incl)\n"
   ],
   "metadata": {
    "collapsed": false,
    "pycharm": {
     "name": "#%%\n"
    }
   }
  },
  {
   "cell_type": "code",
   "execution_count": 27,
   "outputs": [
    {
     "name": "stdout",
     "output_type": "stream",
     "text": [
      "good enough\n",
      "price is in a range from $200 to $250; it is either a direct flight or might require one or two transfers; refund is either included or not; the same for luggage - it is either included or not\n"
     ]
    }
   ],
   "source": [
    "prompt = \"Input an offer in a comma-separated row, i.e. price (int), transfers (int), refundable(T/F),\" \\\n",
    "         \" luggage_included (T/F). For example\" \\\n",
    "         \"for a ticket of price 200, 1 transfer, refundable and no luggage included should be entered as\" \\\n",
    "         \"200,1,T,F\"\n",
    "data = input(prompt)\n",
    "good, offer = parse_data(data)\n",
    "if good:\n",
    "    category, desc = classify(offer)\n",
    "    print(category)\n",
    "    print(desc)\n",
    "else:\n",
    "    print(\"No valid offer parse from entered data\")"
   ],
   "metadata": {
    "collapsed": false,
    "pycharm": {
     "name": "#%%\n"
    }
   }
  },
  {
   "cell_type": "markdown",
   "source": [
    "# Analysis\n",
    "\n",
    "## Advantage\n",
    "The rules for classifying are simple and easy to implement. It is a low-cost solution and should be effective for a version 1 of a startup.\n",
    "\n",
    "## Disadvantage\n",
    "The rules are too simple with no considerate attentions to different target audience. Some people may not care about refundability as their schedule is very predictable. Some people may not carry luggage as they prefer to travel light.\n",
    "Also the rules do not consider time of the year, different seasons and holidays will have difference ranges for a good ticket."
   ],
   "metadata": {
    "collapsed": false
   }
  },
  {
   "cell_type": "markdown",
   "source": [
    "# Alternative solution\n",
    "A good alternative would be taking lots of input from all the offers. We would like to rank them based on price, number of transfers, leg room, food options, luggage, etc. and partition them into several categories. We should include filters too and let customers pick what matters to them most."
   ],
   "metadata": {
    "collapsed": false,
    "pycharm": {
     "name": "#%% md\n"
    }
   }
  }
 ],
 "metadata": {
  "kernelspec": {
   "display_name": "Python 3",
   "language": "python",
   "name": "python3"
  },
  "language_info": {
   "codemirror_mode": {
    "name": "ipython",
    "version": 2
   },
   "file_extension": ".py",
   "mimetype": "text/x-python",
   "name": "python",
   "nbconvert_exporter": "python",
   "pygments_lexer": "ipython2",
   "version": "2.7.6"
  }
 },
 "nbformat": 4,
 "nbformat_minor": 0
}