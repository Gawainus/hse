{
 "cells": [
  {
   "cell_type": "code",
   "execution_count": 1,
   "metadata": {
    "collapsed": true,
    "pycharm": {
     "name": "#%%\n"
    }
   },
   "outputs": [],
   "source": [
    "import numpy as np\n",
    "import pandas as pd"
   ]
  },
  {
   "cell_type": "code",
   "execution_count": 2,
   "metadata": {
    "collapsed": false,
    "pycharm": {
     "name": "#%%\n"
    }
   },
   "outputs": [],
   "source": [
    "import matplotlib.pyplot as plt\n",
    "import seaborn as sns\n",
    "%matplotlib inline"
   ]
  },
  {
   "cell_type": "code",
   "execution_count": 3,
   "metadata": {
    "collapsed": false,
    "pycharm": {
     "name": "#%%\n"
    }
   },
   "outputs": [],
   "source": [
    "from scipy.stats import t\n",
    "from scipy.stats import norm"
   ]
  },
  {
   "cell_type": "code",
   "execution_count": 4,
   "metadata": {
    "collapsed": false,
    "pycharm": {
     "name": "#%%\n"
    }
   },
   "outputs": [
    {
     "name": "stdout",
     "output_type": "stream",
     "text": [
      "-1.6448536269514729 1.6448536269514722\n"
     ]
    },
    {
     "data": {
      "image/png": "[encoded data removed]",
      "text/plain": [
       "<Figure size 432x288 with 1 Axes>"
      ]
     },
     "metadata": {
      "needs_background": "light"
     },
     "output_type": "display_data"
    }
   ],
   "source": [
    "ci = 0.9\n",
    "left, right = norm.interval(ci)\n",
    "\n",
    "x = np.linspace(-7, 7, 200)\n",
    "plt.plot(x, norm.pdf(x))\n",
    "\n",
    "x_int = np.linspace(left, right, 200)\n",
    "plt.fill_between(x_int, norm.pdf(x_int))\n",
    "\n",
    "x_left = np.linspace(-7, left, 200)\n",
    "plt.fill_between(x_left, norm.pdf(x_left))\n",
    "\n",
    "x_right = np.linspace(right, 7, 200)\n",
    "plt.fill_between(x_right, norm.pdf(x_right))\n",
    "\n",
    "print(left, right)"
   ]
  },
  {
   "cell_type": "code",
   "execution_count": 5,
   "metadata": {
    "collapsed": false,
    "pycharm": {
     "name": "#%%\n"
    }
   },
   "outputs": [
    {
     "name": "stdout",
     "output_type": "stream",
     "text": [
      "-1.9431802803927822 1.9431802803927816\n"
     ]
    },
    {
     "data": {
      "image/png": "[encoded data removed]",
      "text/plain": [
       "<Figure size 432x288 with 1 Axes>"
      ]
     },
     "metadata": {
      "needs_background": "light"
     },
     "output_type": "display_data"
    }
   ],
   "source": [
    "sample = [1,2,2,4,3,2,5]\n",
    "dof = len(sample) - 1\n",
    "left, right = t.interval(ci, df=dof)\n",
    "\n",
    "x = np.linspace(-7, 7, 200)\n",
    "plt.plot(x, t.pdf(x, df=dof))\n",
    "\n",
    "x_int = np.linspace(left, right, 200)\n",
    "plt.fill_between(x_int, t.pdf(x_int, df=dof))\n",
    "\n",
    "x_left = np.linspace(-7, left, 200)\n",
    "plt.fill_between(x_left, t.pdf(x_left, df=dof))\n",
    "\n",
    "x_right = np.linspace(right, 7, 200)\n",
    "plt.fill_between(x_right, t.pdf(x_right, df=dof))\n",
    "\n",
    "print(left, right)"
   ]
  },
  {
   "cell_type": "code",
   "execution_count": 6,
   "metadata": {
    "collapsed": false,
    "pycharm": {
     "name": "#%%\n"
    }
   },
   "outputs": [
    {
     "name": "stdout",
     "output_type": "stream",
     "text": [
      "4.057942679844338 4.648230435815615\n"
     ]
    }
   ],
   "source": [
    "sample = [1,2,2,4,3,2,5]\n",
    "dof = len(sample) - 1\n",
    "stderr = np.std(sample, ddof=1) / np.sqrt(len(sample))\n",
    "\n",
    "ci = 0.99\n",
    "left_norm, right_norm = norm.interval(ci)\n",
    "left_t, right_t = t.interval(ci, df=dof)\n",
    "\n",
    "r_norm = right_norm * stderr\n",
    "r_t = right_t * stderr\n",
    "\n",
    "ci_right_norm = np.mean(sample) + r_norm\n",
    "ci_right_t = np.mean(sample) + r_t\n",
    "\n",
    "print(ci_right_norm, ci_right_t)"
   ]
  },
  {
   "cell_type": "code",
   "execution_count": 9,
   "metadata": {},
   "outputs": [
    {
     "data": {
      "text/plain": [
       "0.521640530957301"
      ]
     },
     "execution_count": 9,
     "metadata": {},
     "output_type": "execute_result"
    }
   ],
   "source": [
    "stderr"
   ]
  }
 ],
 "metadata": {
  "kernelspec": {
   "display_name": "Python 3 (ipykernel)",
   "language": "python",
   "name": "python3"
  }
 },
 "nbformat": 4,
 "nbformat_minor": 0
}
