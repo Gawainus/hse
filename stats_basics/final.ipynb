{
 "cells": [
  {
   "cell_type": "markdown",
   "source": [
    "# Statistics basics\n",
    "## Final project\n",
    "Good news! You are hired by some retail company to analyse transaction statistics in a retail chain. (Sorry, this is just an imaginary company so far, but if you successfully finish our program, I'm sure it will become reality.)\n",
    "\n",
    "You have to use everything that we learned so far to answer questions that are asked by your employer.\n",
    "\n",
    "Part of the questions require that you write some code that will be automatically tested with autograding. So when you are finished, please, send this work to automatic grading.\n",
    "\n",
    "The other part of questions are presented in the appropriate quiz. Answer them using your results.\n",
    "\n",
    "Finally, some problems will be assessed manually. So, please, submit your notebook to staff graded assignment as well.\n",
    "\n",
    "Note you are not allowed to use loops anywhere in this project!\n",
    "\n",
    "Let's begin!\n",
    "\n",
    "### Data\n",
    "\n",
    "There are three datasets: `customers.csv`, `purchases.csv` and `shops.csv`. They are stored in `data` folder.\n",
    "\n",
    "`customers.csv` contains information about each customer registered in loyalty program.\n",
    "\n",
    "`shops.csv` contains information about shops and special offers they organized. One shap can organize several offers and therefore there are usually several rows that correspond to the same shops. However, some shops do not organize special offers at all, but they are presented in this table nevertheless.\n",
    "\n",
    "`purchases.csv` is a purchase log. It contains information for all customers, either registered in a loyalty program (in this case we know the corresponding customer id) or not registered. One purchase can be a collection of several items, but we see only the total price of everything bought."
   ],
   "metadata": {
    "collapsed": false,
    "pycharm": {
     "name": "#%% md\n"
    }
   }
  },
  {
   "cell_type": "code",
   "execution_count": 1,
   "outputs": [],
   "source": [
    "import numpy as np\n",
    "import pandas as pd\n",
    "import matplotlib.pyplot as plt\n",
    "\n",
    "%matplotlib inline"
   ],
   "metadata": {
    "collapsed": false,
    "pycharm": {
     "name": "#%%\n"
    }
   }
  },
  {
   "cell_type": "code",
   "execution_count": 2,
   "outputs": [],
   "source": [
    "customers = pd.read_csv('https://github.com/mbburova/MDS/raw/main/customers.csv', sep = ',')\n",
    "purchases = pd.read_csv('https://github.com/mbburova/MDS/raw/main/purchases.csv', sep = ',')\n",
    "shops = pd.read_csv('https://github.com/mbburova/MDS/raw/main/shops.csv')"
   ],
   "metadata": {
    "collapsed": false,
    "pycharm": {
     "name": "#%%\n"
    }
   }
  },
  {
   "cell_type": "code",
   "execution_count": null,
   "outputs": [],
   "source": [],
   "metadata": {
    "collapsed": false,
    "pycharm": {
     "name": "#%%\n"
    }
   }
  },
  {
   "cell_type": "code",
   "execution_count": 3,
   "outputs": [
    {
     "data": {
      "text/plain": "0        0.0\n1        0.0\n2        0.0\n3        0.0\n4        0.0\n        ... \n40397    NaN\n40398    NaN\n40399    NaN\n40400    NaN\n40401    NaN\nName: customer_id, Length: 40402, dtype: float64"
     },
     "execution_count": 3,
     "metadata": {},
     "output_type": "execute_result"
    }
   ],
   "source": [
    "purchases['customer_id']"
   ],
   "metadata": {
    "collapsed": false,
    "pycharm": {
     "name": "#%%\n"
    }
   }
  },
  {
   "cell_type": "code",
   "execution_count": 4,
   "outputs": [
    {
     "data": {
      "text/plain": "0      71.0\n1      21.0\n2      36.0\n3      38.0\n4      51.0\n       ... \n862    53.0\n863    62.0\n864    23.0\n865    28.0\n866    22.0\nName: age, Length: 867, dtype: float64"
     },
     "execution_count": 4,
     "metadata": {},
     "output_type": "execute_result"
    }
   ],
   "source": [
    "customers['age']"
   ],
   "metadata": {
    "collapsed": false,
    "pycharm": {
     "name": "#%%\n"
    }
   }
  },
  {
   "cell_type": "code",
   "execution_count": 5,
   "outputs": [
    {
     "data": {
      "text/plain": "       customer_id        date  shop_id  total_price\n0              0.0  2018-05-04       40   289.673291\n1              0.0  2019-01-26       40  1316.898901\n2              0.0  2018-11-18       42   159.414367\n3              0.0  2018-05-12       42   808.791649\n4              0.0  2019-04-20       42  1207.855038\n...            ...         ...      ...          ...\n40397          NaN  2018-05-05       37   169.086474\n40398          NaN  2018-09-29        7   310.993395\n40399          NaN  2018-10-31        1    17.535630\n40400          NaN  2019-02-16       37   218.576020\n40401          NaN  2018-12-15       49   557.510380\n\n[40402 rows x 4 columns]",
      "text/html": "<div>\n<style scoped>\n    .dataframe tbody tr th:only-of-type {\n        vertical-align: middle;\n    }\n\n    .dataframe tbody tr th {\n        vertical-align: top;\n    }\n\n    .dataframe thead th {\n        text-align: right;\n    }\n</style>\n<table border=\"1\" class=\"dataframe\">\n  <thead>\n    <tr style=\"text-align: right;\">\n      <th></th>\n      <th>customer_id</th>\n      <th>date</th>\n      <th>shop_id</th>\n      <th>total_price</th>\n    </tr>\n  </thead>\n  <tbody>\n    <tr>\n      <th>0</th>\n      <td>0.0</td>\n      <td>2018-05-04</td>\n      <td>40</td>\n      <td>289.673291</td>\n    </tr>\n    <tr>\n      <th>1</th>\n      <td>0.0</td>\n      <td>2019-01-26</td>\n      <td>40</td>\n      <td>1316.898901</td>\n    </tr>\n    <tr>\n      <th>2</th>\n      <td>0.0</td>\n      <td>2018-11-18</td>\n      <td>42</td>\n      <td>159.414367</td>\n    </tr>\n    <tr>\n      <th>3</th>\n      <td>0.0</td>\n      <td>2018-05-12</td>\n      <td>42</td>\n      <td>808.791649</td>\n    </tr>\n    <tr>\n      <th>4</th>\n      <td>0.0</td>\n      <td>2019-04-20</td>\n      <td>42</td>\n      <td>1207.855038</td>\n    </tr>\n    <tr>\n      <th>...</th>\n      <td>...</td>\n      <td>...</td>\n      <td>...</td>\n      <td>...</td>\n    </tr>\n    <tr>\n      <th>40397</th>\n      <td>NaN</td>\n      <td>2018-05-05</td>\n      <td>37</td>\n      <td>169.086474</td>\n    </tr>\n    <tr>\n      <th>40398</th>\n      <td>NaN</td>\n      <td>2018-09-29</td>\n      <td>7</td>\n      <td>310.993395</td>\n    </tr>\n    <tr>\n      <th>40399</th>\n      <td>NaN</td>\n      <td>2018-10-31</td>\n      <td>1</td>\n      <td>17.535630</td>\n    </tr>\n    <tr>\n      <th>40400</th>\n      <td>NaN</td>\n      <td>2019-02-16</td>\n      <td>37</td>\n      <td>218.576020</td>\n    </tr>\n    <tr>\n      <th>40401</th>\n      <td>NaN</td>\n      <td>2018-12-15</td>\n      <td>49</td>\n      <td>557.510380</td>\n    </tr>\n  </tbody>\n</table>\n<p>40402 rows × 4 columns</p>\n</div>"
     },
     "execution_count": 5,
     "metadata": {},
     "output_type": "execute_result"
    }
   ],
   "source": [
    "purchases"
   ],
   "metadata": {
    "collapsed": false,
    "pycharm": {
     "name": "#%%\n"
    }
   }
  },
  {
   "cell_type": "code",
   "execution_count": 6,
   "outputs": [
    {
     "data": {
      "text/plain": "     customer id   age\n0           1149  71.0\n1            750  21.0\n2            428  36.0\n3            360  38.0\n4            816  51.0\n..           ...   ...\n862         1193  53.0\n863         1155  62.0\n864           21  23.0\n865          468  28.0\n866          562  22.0\n\n[867 rows x 2 columns]",
      "text/html": "<div>\n<style scoped>\n    .dataframe tbody tr th:only-of-type {\n        vertical-align: middle;\n    }\n\n    .dataframe tbody tr th {\n        vertical-align: top;\n    }\n\n    .dataframe thead th {\n        text-align: right;\n    }\n</style>\n<table border=\"1\" class=\"dataframe\">\n  <thead>\n    <tr style=\"text-align: right;\">\n      <th></th>\n      <th>customer id</th>\n      <th>age</th>\n    </tr>\n  </thead>\n  <tbody>\n    <tr>\n      <th>0</th>\n      <td>1149</td>\n      <td>71.0</td>\n    </tr>\n    <tr>\n      <th>1</th>\n      <td>750</td>\n      <td>21.0</td>\n    </tr>\n    <tr>\n      <th>2</th>\n      <td>428</td>\n      <td>36.0</td>\n    </tr>\n    <tr>\n      <th>3</th>\n      <td>360</td>\n      <td>38.0</td>\n    </tr>\n    <tr>\n      <th>4</th>\n      <td>816</td>\n      <td>51.0</td>\n    </tr>\n    <tr>\n      <th>...</th>\n      <td>...</td>\n      <td>...</td>\n    </tr>\n    <tr>\n      <th>862</th>\n      <td>1193</td>\n      <td>53.0</td>\n    </tr>\n    <tr>\n      <th>863</th>\n      <td>1155</td>\n      <td>62.0</td>\n    </tr>\n    <tr>\n      <th>864</th>\n      <td>21</td>\n      <td>23.0</td>\n    </tr>\n    <tr>\n      <th>865</th>\n      <td>468</td>\n      <td>28.0</td>\n    </tr>\n    <tr>\n      <th>866</th>\n      <td>562</td>\n      <td>22.0</td>\n    </tr>\n  </tbody>\n</table>\n<p>867 rows × 2 columns</p>\n</div>"
     },
     "execution_count": 6,
     "metadata": {},
     "output_type": "execute_result"
    }
   ],
   "source": [
    "customers"
   ],
   "metadata": {
    "collapsed": false,
    "pycharm": {
     "name": "#%%\n"
    }
   }
  },
  {
   "cell_type": "code",
   "execution_count": 11,
   "outputs": [
    {
     "data": {
      "text/plain": "Text(0, 0.5, 'count')"
     },
     "execution_count": 11,
     "metadata": {},
     "output_type": "execute_result"
    },
    {
     "data": {
      "text/plain": "<Figure size 432x288 with 1 Axes>",
      "image/png": "[encoded data removed]"
     },
     "metadata": {
      "needs_background": "light"
     },
     "output_type": "display_data"
    }
   ],
   "source": [
    "plt.hist(customers['age'], bins=10)\n",
    "plt.xlabel('age')\n",
    "plt.ylabel('count')"
   ],
   "metadata": {
    "collapsed": false,
    "pycharm": {
     "name": "#%%\n"
    }
   }
  },
  {
   "cell_type": "code",
   "execution_count": 39,
   "outputs": [
    {
     "data": {
      "text/plain": "43.0"
     },
     "execution_count": 39,
     "metadata": {},
     "output_type": "execute_result"
    }
   ],
   "source": [
    "np.nanpercentile(customers['age'], 50)"
   ],
   "metadata": {
    "collapsed": false,
    "pycharm": {
     "name": "#%%\n"
    }
   }
  },
  {
   "cell_type": "code",
   "execution_count": 41,
   "outputs": [
    {
     "data": {
      "text/plain": "43.0"
     },
     "execution_count": 41,
     "metadata": {},
     "output_type": "execute_result"
    }
   ],
   "source": [
    "customers['age'].sort_values()[831//2]"
   ],
   "metadata": {
    "collapsed": false,
    "pycharm": {
     "name": "#%%\n"
    }
   }
  },
  {
   "cell_type": "code",
   "execution_count": 29,
   "outputs": [
    {
     "data": {
      "text/plain": "(867,)"
     },
     "execution_count": 29,
     "metadata": {},
     "output_type": "execute_result"
    }
   ],
   "source": [
    "customers['age'].shape"
   ],
   "metadata": {
    "collapsed": false,
    "pycharm": {
     "name": "#%%\n"
    }
   }
  },
  {
   "cell_type": "code",
   "execution_count": 44,
   "outputs": [
    {
     "data": {
      "text/plain": "[<matplotlib.lines.Line2D at 0x7ff100e61ac0>]"
     },
     "execution_count": 44,
     "metadata": {},
     "output_type": "execute_result"
    },
    {
     "data": {
      "text/plain": "<Figure size 432x288 with 2 Axes>",
      "image/png": "[encoded data removed]"
     },
     "metadata": {
      "needs_background": "light"
     },
     "output_type": "display_data"
    }
   ],
   "source": [
    "purchases[\"date\"] = pd.to_datetime(purchases[\"date\"])\n",
    "\n",
    "fig, (ax1, ax2) = plt.subplots(2,1,sharex=True)\n",
    "ax1.plot(purchases.groupby(purchases[\"date\"].dt.month)['total_price'].count(), '*')\n",
    "ax2.plot(purchases.groupby(purchases[\"date\"].dt.month)['total_price'].sum(), '*')"
   ],
   "metadata": {
    "collapsed": false,
    "pycharm": {
     "name": "#%%\n"
    }
   }
  },
  {
   "cell_type": "code",
   "execution_count": 45,
   "outputs": [
    {
     "data": {
      "text/plain": "     shop_id offer_begin   offer_end\n0          0  2019-02-28  2019-03-13\n1          0  2018-07-22  2018-08-10\n2          0  2018-09-21  2018-09-27\n3          1         NaN         NaN\n4          2         NaN         NaN\n..       ...         ...         ...\n178       72  2018-05-07  2018-05-26\n179       73  2019-05-08  2019-06-11\n180       74  2018-09-14  2018-10-12\n181       74  2018-12-08  2019-01-10\n182       74  2018-08-22  2018-08-28\n\n[183 rows x 3 columns]",
      "text/html": "<div>\n<style scoped>\n    .dataframe tbody tr th:only-of-type {\n        vertical-align: middle;\n    }\n\n    .dataframe tbody tr th {\n        vertical-align: top;\n    }\n\n    .dataframe thead th {\n        text-align: right;\n    }\n</style>\n<table border=\"1\" class=\"dataframe\">\n  <thead>\n    <tr style=\"text-align: right;\">\n      <th></th>\n      <th>shop_id</th>\n      <th>offer_begin</th>\n      <th>offer_end</th>\n    </tr>\n  </thead>\n  <tbody>\n    <tr>\n      <th>0</th>\n      <td>0</td>\n      <td>2019-02-28</td>\n      <td>2019-03-13</td>\n    </tr>\n    <tr>\n      <th>1</th>\n      <td>0</td>\n      <td>2018-07-22</td>\n      <td>2018-08-10</td>\n    </tr>\n    <tr>\n      <th>2</th>\n      <td>0</td>\n      <td>2018-09-21</td>\n      <td>2018-09-27</td>\n    </tr>\n    <tr>\n      <th>3</th>\n      <td>1</td>\n      <td>NaN</td>\n      <td>NaN</td>\n    </tr>\n    <tr>\n      <th>4</th>\n      <td>2</td>\n      <td>NaN</td>\n      <td>NaN</td>\n    </tr>\n    <tr>\n      <th>...</th>\n      <td>...</td>\n      <td>...</td>\n      <td>...</td>\n    </tr>\n    <tr>\n      <th>178</th>\n      <td>72</td>\n      <td>2018-05-07</td>\n      <td>2018-05-26</td>\n    </tr>\n    <tr>\n      <th>179</th>\n      <td>73</td>\n      <td>2019-05-08</td>\n      <td>2019-06-11</td>\n    </tr>\n    <tr>\n      <th>180</th>\n      <td>74</td>\n      <td>2018-09-14</td>\n      <td>2018-10-12</td>\n    </tr>\n    <tr>\n      <th>181</th>\n      <td>74</td>\n      <td>2018-12-08</td>\n      <td>2019-01-10</td>\n    </tr>\n    <tr>\n      <th>182</th>\n      <td>74</td>\n      <td>2018-08-22</td>\n      <td>2018-08-28</td>\n    </tr>\n  </tbody>\n</table>\n<p>183 rows × 3 columns</p>\n</div>"
     },
     "execution_count": 45,
     "metadata": {},
     "output_type": "execute_result"
    }
   ],
   "source": [
    "shops"
   ],
   "metadata": {
    "collapsed": false,
    "pycharm": {
     "name": "#%%\n"
    }
   }
  },
  {
   "cell_type": "code",
   "execution_count": 150,
   "outputs": [
    {
     "data": {
      "text/plain": "date  shop_id\n1     0          241.562998\n      1          236.556164\n      2          308.798295\n      3          216.317606\n      4          191.243990\n                    ...    \n12    70         392.298768\n      71         529.627675\n      72         305.593160\n      73         299.018209\n      74         334.744391\nName: total_price, Length: 900, dtype: float64"
     },
     "execution_count": 150,
     "metadata": {},
     "output_type": "execute_result"
    }
   ],
   "source": [
    "purchases.groupby([purchases.date.dt.month, 'shop_id'])['total_price'].mean()"
   ],
   "metadata": {
    "collapsed": false,
    "pycharm": {
     "name": "#%%\n"
    }
   }
  },
  {
   "cell_type": "code",
   "execution_count": 151,
   "outputs": [
    {
     "data": {
      "text/plain": "date             1           2           3           4           5   \\\nshop_id                                                               \n0        241.562998  314.270412  274.773667  230.820436  250.730568   \n1        236.556164  254.493568  299.033804  228.304553  241.377432   \n2        308.798295  231.334199  323.211837  219.856615  316.690753   \n3        216.317606  177.618519  234.242599  273.430201  217.868408   \n4        191.243990  197.177004  214.254871  233.296251  198.197231   \n...             ...         ...         ...         ...         ...   \n70       219.804465  315.348001  230.070683  261.674386  316.094971   \n71       400.941187  357.664963  416.915607  458.516293  422.840493   \n72       244.358678  242.730189  232.187133  381.235919  281.941734   \n73       255.306473  338.064218  276.810160  231.855179  290.718129   \n74       263.885601  242.241571  216.937445  264.508240  204.905373   \n\ndate             6           7           8           9           10  \\\nshop_id                                                               \n0        238.211430  221.974969  380.817517  202.732809  215.609940   \n1        323.394203  195.882800  285.677709  348.547684  222.506663   \n2        358.675216  330.125013  303.952729  303.031873  324.696900   \n3        185.328783  252.006970  210.166147  264.205183  253.669255   \n4        222.441290  202.779374  226.947582  291.576405  258.665440   \n...             ...         ...         ...         ...         ...   \n70       339.830831  297.537198  209.929063  262.053281  250.032964   \n71       369.427644  443.242101  325.889292  499.793410  361.083542   \n72       296.359413  274.835678  226.983419  252.955604  238.292751   \n73       247.925879  245.985195  197.122212  313.440884  251.413518   \n74       214.319648  302.325966  206.137507  226.201756  291.458423   \n\ndate             11          12  \nshop_id                          \n0        229.031047  243.490975  \n1        273.595408  307.988105  \n2        224.476430  377.453485  \n3        219.825518  250.578623  \n4        205.284412  216.818569  \n...             ...         ...  \n70       202.900924  392.298768  \n71       376.025772  529.627675  \n72       247.884335  305.593160  \n73       198.580037  299.018209  \n74       180.911598  334.744391  \n\n[75 rows x 12 columns]",
      "text/html": "<div>\n<style scoped>\n    .dataframe tbody tr th:only-of-type {\n        vertical-align: middle;\n    }\n\n    .dataframe tbody tr th {\n        vertical-align: top;\n    }\n\n    .dataframe thead th {\n        text-align: right;\n    }\n</style>\n<table border=\"1\" class=\"dataframe\">\n  <thead>\n    <tr style=\"text-align: right;\">\n      <th>date</th>\n      <th>1</th>\n      <th>2</th>\n      <th>3</th>\n      <th>4</th>\n      <th>5</th>\n      <th>6</th>\n      <th>7</th>\n      <th>8</th>\n      <th>9</th>\n      <th>10</th>\n      <th>11</th>\n      <th>12</th>\n    </tr>\n    <tr>\n      <th>shop_id</th>\n      <th></th>\n      <th></th>\n      <th></th>\n      <th></th>\n      <th></th>\n      <th></th>\n      <th></th>\n      <th></th>\n      <th></th>\n      <th></th>\n      <th></th>\n      <th></th>\n    </tr>\n  </thead>\n  <tbody>\n    <tr>\n      <th>0</th>\n      <td>241.562998</td>\n      <td>314.270412</td>\n      <td>274.773667</td>\n      <td>230.820436</td>\n      <td>250.730568</td>\n      <td>238.211430</td>\n      <td>221.974969</td>\n      <td>380.817517</td>\n      <td>202.732809</td>\n      <td>215.609940</td>\n      <td>229.031047</td>\n      <td>243.490975</td>\n    </tr>\n    <tr>\n      <th>1</th>\n      <td>236.556164</td>\n      <td>254.493568</td>\n      <td>299.033804</td>\n      <td>228.304553</td>\n      <td>241.377432</td>\n      <td>323.394203</td>\n      <td>195.882800</td>\n      <td>285.677709</td>\n      <td>348.547684</td>\n      <td>222.506663</td>\n      <td>273.595408</td>\n      <td>307.988105</td>\n    </tr>\n    <tr>\n      <th>2</th>\n      <td>308.798295</td>\n      <td>231.334199</td>\n      <td>323.211837</td>\n      <td>219.856615</td>\n      <td>316.690753</td>\n      <td>358.675216</td>\n      <td>330.125013</td>\n      <td>303.952729</td>\n      <td>303.031873</td>\n      <td>324.696900</td>\n      <td>224.476430</td>\n      <td>377.453485</td>\n    </tr>\n    <tr>\n      <th>3</th>\n      <td>216.317606</td>\n      <td>177.618519</td>\n      <td>234.242599</td>\n      <td>273.430201</td>\n      <td>217.868408</td>\n      <td>185.328783</td>\n      <td>252.006970</td>\n      <td>210.166147</td>\n      <td>264.205183</td>\n      <td>253.669255</td>\n      <td>219.825518</td>\n      <td>250.578623</td>\n    </tr>\n    <tr>\n      <th>4</th>\n      <td>191.243990</td>\n      <td>197.177004</td>\n      <td>214.254871</td>\n      <td>233.296251</td>\n      <td>198.197231</td>\n      <td>222.441290</td>\n      <td>202.779374</td>\n      <td>226.947582</td>\n      <td>291.576405</td>\n      <td>258.665440</td>\n      <td>205.284412</td>\n      <td>216.818569</td>\n    </tr>\n    <tr>\n      <th>...</th>\n      <td>...</td>\n      <td>...</td>\n      <td>...</td>\n      <td>...</td>\n      <td>...</td>\n      <td>...</td>\n      <td>...</td>\n      <td>...</td>\n      <td>...</td>\n      <td>...</td>\n      <td>...</td>\n      <td>...</td>\n    </tr>\n    <tr>\n      <th>70</th>\n      <td>219.804465</td>\n      <td>315.348001</td>\n      <td>230.070683</td>\n      <td>261.674386</td>\n      <td>316.094971</td>\n      <td>339.830831</td>\n      <td>297.537198</td>\n      <td>209.929063</td>\n      <td>262.053281</td>\n      <td>250.032964</td>\n      <td>202.900924</td>\n      <td>392.298768</td>\n    </tr>\n    <tr>\n      <th>71</th>\n      <td>400.941187</td>\n      <td>357.664963</td>\n      <td>416.915607</td>\n      <td>458.516293</td>\n      <td>422.840493</td>\n      <td>369.427644</td>\n      <td>443.242101</td>\n      <td>325.889292</td>\n      <td>499.793410</td>\n      <td>361.083542</td>\n      <td>376.025772</td>\n      <td>529.627675</td>\n    </tr>\n    <tr>\n      <th>72</th>\n      <td>244.358678</td>\n      <td>242.730189</td>\n      <td>232.187133</td>\n      <td>381.235919</td>\n      <td>281.941734</td>\n      <td>296.359413</td>\n      <td>274.835678</td>\n      <td>226.983419</td>\n      <td>252.955604</td>\n      <td>238.292751</td>\n      <td>247.884335</td>\n      <td>305.593160</td>\n    </tr>\n    <tr>\n      <th>73</th>\n      <td>255.306473</td>\n      <td>338.064218</td>\n      <td>276.810160</td>\n      <td>231.855179</td>\n      <td>290.718129</td>\n      <td>247.925879</td>\n      <td>245.985195</td>\n      <td>197.122212</td>\n      <td>313.440884</td>\n      <td>251.413518</td>\n      <td>198.580037</td>\n      <td>299.018209</td>\n    </tr>\n    <tr>\n      <th>74</th>\n      <td>263.885601</td>\n      <td>242.241571</td>\n      <td>216.937445</td>\n      <td>264.508240</td>\n      <td>204.905373</td>\n      <td>214.319648</td>\n      <td>302.325966</td>\n      <td>206.137507</td>\n      <td>226.201756</td>\n      <td>291.458423</td>\n      <td>180.911598</td>\n      <td>334.744391</td>\n    </tr>\n  </tbody>\n</table>\n<p>75 rows × 12 columns</p>\n</div>"
     },
     "execution_count": 151,
     "metadata": {},
     "output_type": "execute_result"
    }
   ],
   "source": [
    "shop_means = purchases.groupby([purchases.date.dt.month, 'shop_id'])['total_price'].mean().unstack().T\n",
    "shop_means"
   ],
   "metadata": {
    "collapsed": false,
    "pycharm": {
     "name": "#%%\n"
    }
   }
  },
  {
   "cell_type": "code",
   "execution_count": 136,
   "outputs": [
    {
     "data": {
      "text/plain": "(shop_id\n 0     229.031047\n 1     273.595408\n 2     224.476430\n 3     219.825518\n 4     205.284412\n          ...    \n 70    202.900924\n 71    376.025772\n 72    247.884335\n 73    198.580037\n 74    180.911598\n Name: 11, Length: 75, dtype: float64,\n shop_id\n 0     243.490975\n 1     307.988105\n 2     377.453485\n 3     250.578623\n 4     216.818569\n          ...    \n 70    392.298768\n 71    529.627675\n 72    305.593160\n 73    299.018209\n 74    334.744391\n Name: 12, Length: 75, dtype: float64)"
     },
     "execution_count": 136,
     "metadata": {},
     "output_type": "execute_result"
    }
   ],
   "source": [
    "nov = shop_means[11]\n",
    "dec = shop_means[12]\n",
    "nov, dec"
   ],
   "metadata": {
    "collapsed": false,
    "pycharm": {
     "name": "#%%\n"
    }
   }
  },
  {
   "cell_type": "code",
   "execution_count": 154,
   "outputs": [
    {
     "data": {
      "text/plain": "(271.0894846831165, 377.3795952012782)"
     },
     "execution_count": 154,
     "metadata": {},
     "output_type": "execute_result"
    }
   ],
   "source": [
    "nov.mean(), dec.mean()"
   ],
   "metadata": {
    "collapsed": false,
    "pycharm": {
     "name": "#%%\n"
    }
   }
  },
  {
   "cell_type": "code",
   "execution_count": 155,
   "outputs": [],
   "source": [
    "from scipy import stats"
   ],
   "metadata": {
    "collapsed": false,
    "pycharm": {
     "name": "#%%\n"
    }
   }
  },
  {
   "cell_type": "code",
   "execution_count": 157,
   "outputs": [
    {
     "data": {
      "text/plain": "Ttest_indResult(statistic=8.149108896744021, pvalue=1.4187033392441126e-13)"
     },
     "execution_count": 157,
     "metadata": {},
     "output_type": "execute_result"
    }
   ],
   "source": [
    "stats.ttest_ind(dec, nov)"
   ],
   "metadata": {
    "collapsed": false,
    "pycharm": {
     "name": "#%%\n"
    }
   }
  },
  {
   "cell_type": "code",
   "execution_count": 83,
   "outputs": [
    {
     "data": {
      "text/plain": "Index(['customer id', 'age'], dtype='object')"
     },
     "execution_count": 83,
     "metadata": {},
     "output_type": "execute_result"
    }
   ],
   "source": [
    "customers.columns"
   ],
   "metadata": {
    "collapsed": false,
    "pycharm": {
     "name": "#%%\n"
    }
   }
  },
  {
   "cell_type": "code",
   "execution_count": null,
   "outputs": [],
   "source": [],
   "metadata": {
    "collapsed": false,
    "pycharm": {
     "name": "#%%\n"
    }
   }
  },
  {
   "cell_type": "code",
   "execution_count": 75,
   "outputs": [
    {
     "data": {
      "text/plain": "       customer_id       date  shop_id  total_price\n0              0.0 2018-05-04       40   289.673291\n1              0.0 2019-01-26       40  1316.898901\n2              0.0 2018-11-18       42   159.414367\n3              0.0 2018-05-12       42   808.791649\n4              0.0 2019-04-20       42  1207.855038\n...            ...        ...      ...          ...\n40397          NaN 2018-05-05       37   169.086474\n40398          NaN 2018-09-29        7   310.993395\n40399          NaN 2018-10-31        1    17.535630\n40400          NaN 2019-02-16       37   218.576020\n40401          NaN 2018-12-15       49   557.510380\n\n[40402 rows x 4 columns]",
      "text/html": "<div>\n<style scoped>\n    .dataframe tbody tr th:only-of-type {\n        vertical-align: middle;\n    }\n\n    .dataframe tbody tr th {\n        vertical-align: top;\n    }\n\n    .dataframe thead th {\n        text-align: right;\n    }\n</style>\n<table border=\"1\" class=\"dataframe\">\n  <thead>\n    <tr style=\"text-align: right;\">\n      <th></th>\n      <th>customer_id</th>\n      <th>date</th>\n      <th>shop_id</th>\n      <th>total_price</th>\n    </tr>\n  </thead>\n  <tbody>\n    <tr>\n      <th>0</th>\n      <td>0.0</td>\n      <td>2018-05-04</td>\n      <td>40</td>\n      <td>289.673291</td>\n    </tr>\n    <tr>\n      <th>1</th>\n      <td>0.0</td>\n      <td>2019-01-26</td>\n      <td>40</td>\n      <td>1316.898901</td>\n    </tr>\n    <tr>\n      <th>2</th>\n      <td>0.0</td>\n      <td>2018-11-18</td>\n      <td>42</td>\n      <td>159.414367</td>\n    </tr>\n    <tr>\n      <th>3</th>\n      <td>0.0</td>\n      <td>2018-05-12</td>\n      <td>42</td>\n      <td>808.791649</td>\n    </tr>\n    <tr>\n      <th>4</th>\n      <td>0.0</td>\n      <td>2019-04-20</td>\n      <td>42</td>\n      <td>1207.855038</td>\n    </tr>\n    <tr>\n      <th>...</th>\n      <td>...</td>\n      <td>...</td>\n      <td>...</td>\n      <td>...</td>\n    </tr>\n    <tr>\n      <th>40397</th>\n      <td>NaN</td>\n      <td>2018-05-05</td>\n      <td>37</td>\n      <td>169.086474</td>\n    </tr>\n    <tr>\n      <th>40398</th>\n      <td>NaN</td>\n      <td>2018-09-29</td>\n      <td>7</td>\n      <td>310.993395</td>\n    </tr>\n    <tr>\n      <th>40399</th>\n      <td>NaN</td>\n      <td>2018-10-31</td>\n      <td>1</td>\n      <td>17.535630</td>\n    </tr>\n    <tr>\n      <th>40400</th>\n      <td>NaN</td>\n      <td>2019-02-16</td>\n      <td>37</td>\n      <td>218.576020</td>\n    </tr>\n    <tr>\n      <th>40401</th>\n      <td>NaN</td>\n      <td>2018-12-15</td>\n      <td>49</td>\n      <td>557.510380</td>\n    </tr>\n  </tbody>\n</table>\n<p>40402 rows × 4 columns</p>\n</div>"
     },
     "execution_count": 75,
     "metadata": {},
     "output_type": "execute_result"
    }
   ],
   "source": [
    "purchases"
   ],
   "metadata": {
    "collapsed": false,
    "pycharm": {
     "name": "#%%\n"
    }
   }
  },
  {
   "cell_type": "code",
   "execution_count": 118,
   "outputs": [
    {
     "data": {
      "text/plain": "       customer_id       date  shop_id  total_price   age\n0              0.0 2018-05-04       40   289.673291  38.0\n1              0.0 2019-01-26       40  1316.898901  38.0\n2              0.0 2018-11-18       42   159.414367  38.0\n3              0.0 2018-05-12       42   808.791649  38.0\n4              0.0 2019-04-20       42  1207.855038  38.0\n...            ...        ...      ...          ...   ...\n28794       1212.0 2018-11-08       60    46.653544  24.0\n28795       1212.0 2018-07-20       60    50.592132  24.0\n28796       1212.0 2019-04-18       15    95.459705  24.0\n28797       1212.0 2019-02-14       60    69.968788  24.0\n28798       1212.0 2018-07-13       60   129.335559  24.0\n\n[28799 rows x 5 columns]",
      "text/html": "<div>\n<style scoped>\n    .dataframe tbody tr th:only-of-type {\n        vertical-align: middle;\n    }\n\n    .dataframe tbody tr th {\n        vertical-align: top;\n    }\n\n    .dataframe thead th {\n        text-align: right;\n    }\n</style>\n<table border=\"1\" class=\"dataframe\">\n  <thead>\n    <tr style=\"text-align: right;\">\n      <th></th>\n      <th>customer_id</th>\n      <th>date</th>\n      <th>shop_id</th>\n      <th>total_price</th>\n      <th>age</th>\n    </tr>\n  </thead>\n  <tbody>\n    <tr>\n      <th>0</th>\n      <td>0.0</td>\n      <td>2018-05-04</td>\n      <td>40</td>\n      <td>289.673291</td>\n      <td>38.0</td>\n    </tr>\n    <tr>\n      <th>1</th>\n      <td>0.0</td>\n      <td>2019-01-26</td>\n      <td>40</td>\n      <td>1316.898901</td>\n      <td>38.0</td>\n    </tr>\n    <tr>\n      <th>2</th>\n      <td>0.0</td>\n      <td>2018-11-18</td>\n      <td>42</td>\n      <td>159.414367</td>\n      <td>38.0</td>\n    </tr>\n    <tr>\n      <th>3</th>\n      <td>0.0</td>\n      <td>2018-05-12</td>\n      <td>42</td>\n      <td>808.791649</td>\n      <td>38.0</td>\n    </tr>\n    <tr>\n      <th>4</th>\n      <td>0.0</td>\n      <td>2019-04-20</td>\n      <td>42</td>\n      <td>1207.855038</td>\n      <td>38.0</td>\n    </tr>\n    <tr>\n      <th>...</th>\n      <td>...</td>\n      <td>...</td>\n      <td>...</td>\n      <td>...</td>\n      <td>...</td>\n    </tr>\n    <tr>\n      <th>28794</th>\n      <td>1212.0</td>\n      <td>2018-11-08</td>\n      <td>60</td>\n      <td>46.653544</td>\n      <td>24.0</td>\n    </tr>\n    <tr>\n      <th>28795</th>\n      <td>1212.0</td>\n      <td>2018-07-20</td>\n      <td>60</td>\n      <td>50.592132</td>\n      <td>24.0</td>\n    </tr>\n    <tr>\n      <th>28796</th>\n      <td>1212.0</td>\n      <td>2019-04-18</td>\n      <td>15</td>\n      <td>95.459705</td>\n      <td>24.0</td>\n    </tr>\n    <tr>\n      <th>28797</th>\n      <td>1212.0</td>\n      <td>2019-02-14</td>\n      <td>60</td>\n      <td>69.968788</td>\n      <td>24.0</td>\n    </tr>\n    <tr>\n      <th>28798</th>\n      <td>1212.0</td>\n      <td>2018-07-13</td>\n      <td>60</td>\n      <td>129.335559</td>\n      <td>24.0</td>\n    </tr>\n  </tbody>\n</table>\n<p>28799 rows × 5 columns</p>\n</div>"
     },
     "execution_count": 118,
     "metadata": {},
     "output_type": "execute_result"
    }
   ],
   "source": [
    "purchases_c = purchases.merge(customers, left_on=['customer_id'], right_on=['customer id'], how='inner').drop(['customer id'], axis=1)\n",
    "purchases_c"
   ],
   "metadata": {
    "collapsed": false,
    "pycharm": {
     "name": "#%%\n"
    }
   }
  },
  {
   "cell_type": "code",
   "execution_count": 94,
   "outputs": [
    {
     "data": {
      "text/plain": "17548008.0"
     },
     "execution_count": 94,
     "metadata": {},
     "output_type": "execute_result"
    }
   ],
   "source": [
    "sum(purchases_c[\"customer_id\"])"
   ],
   "metadata": {
    "collapsed": false,
    "pycharm": {
     "name": "#%%\n"
    }
   }
  },
  {
   "cell_type": "code",
   "execution_count": 101,
   "outputs": [
    {
     "data": {
      "text/plain": "               shop_id  total_price   age\ncustomer_id                              \n0.0          32.333333   711.291471  38.0\n2.0          48.562500   380.286822  60.0\n3.0          38.500000   392.825462   NaN\n4.0          53.000000   349.189551  24.0\n5.0          40.000000   472.189806  24.0\n...                ...          ...   ...\n1206.0       33.000000   251.489294  57.0\n1207.0       47.120000   525.552619  42.0\n1208.0       36.500000   640.826988  31.0\n1210.0       45.026316   289.928423  41.0\n1212.0       36.176471   213.649949  24.0\n\n[867 rows x 3 columns]",
      "text/html": "<div>\n<style scoped>\n    .dataframe tbody tr th:only-of-type {\n        vertical-align: middle;\n    }\n\n    .dataframe tbody tr th {\n        vertical-align: top;\n    }\n\n    .dataframe thead th {\n        text-align: right;\n    }\n</style>\n<table border=\"1\" class=\"dataframe\">\n  <thead>\n    <tr style=\"text-align: right;\">\n      <th></th>\n      <th>shop_id</th>\n      <th>total_price</th>\n      <th>age</th>\n    </tr>\n    <tr>\n      <th>customer_id</th>\n      <th></th>\n      <th></th>\n      <th></th>\n    </tr>\n  </thead>\n  <tbody>\n    <tr>\n      <th>0.0</th>\n      <td>32.333333</td>\n      <td>711.291471</td>\n      <td>38.0</td>\n    </tr>\n    <tr>\n      <th>2.0</th>\n      <td>48.562500</td>\n      <td>380.286822</td>\n      <td>60.0</td>\n    </tr>\n    <tr>\n      <th>3.0</th>\n      <td>38.500000</td>\n      <td>392.825462</td>\n      <td>NaN</td>\n    </tr>\n    <tr>\n      <th>4.0</th>\n      <td>53.000000</td>\n      <td>349.189551</td>\n      <td>24.0</td>\n    </tr>\n    <tr>\n      <th>5.0</th>\n      <td>40.000000</td>\n      <td>472.189806</td>\n      <td>24.0</td>\n    </tr>\n    <tr>\n      <th>...</th>\n      <td>...</td>\n      <td>...</td>\n      <td>...</td>\n    </tr>\n    <tr>\n      <th>1206.0</th>\n      <td>33.000000</td>\n      <td>251.489294</td>\n      <td>57.0</td>\n    </tr>\n    <tr>\n      <th>1207.0</th>\n      <td>47.120000</td>\n      <td>525.552619</td>\n      <td>42.0</td>\n    </tr>\n    <tr>\n      <th>1208.0</th>\n      <td>36.500000</td>\n      <td>640.826988</td>\n      <td>31.0</td>\n    </tr>\n    <tr>\n      <th>1210.0</th>\n      <td>45.026316</td>\n      <td>289.928423</td>\n      <td>41.0</td>\n    </tr>\n    <tr>\n      <th>1212.0</th>\n      <td>36.176471</td>\n      <td>213.649949</td>\n      <td>24.0</td>\n    </tr>\n  </tbody>\n</table>\n<p>867 rows × 3 columns</p>\n</div>"
     },
     "execution_count": 101,
     "metadata": {},
     "output_type": "execute_result"
    }
   ],
   "source": [
    "purchases_c_mean = purchases_c.groupby('customer_id').mean()\n",
    "purchases_c_mean"
   ],
   "metadata": {
    "collapsed": false,
    "pycharm": {
     "name": "#%%\n"
    }
   }
  },
  {
   "cell_type": "code",
   "execution_count": 103,
   "outputs": [
    {
     "data": {
      "text/plain": "[<matplotlib.lines.Line2D at 0x7ff1351ee2b0>]"
     },
     "execution_count": 103,
     "metadata": {},
     "output_type": "execute_result"
    },
    {
     "data": {
      "text/plain": "<Figure size 432x288 with 1 Axes>",
      "image/png": "[encoded data removed]"
     },
     "metadata": {
      "needs_background": "light"
     },
     "output_type": "display_data"
    }
   ],
   "source": [
    "plt.plot(purchases_c_mean['age'], purchases_c_mean['total_price'], '.')"
   ],
   "metadata": {
    "collapsed": false,
    "pycharm": {
     "name": "#%%\n"
    }
   }
  },
  {
   "cell_type": "code",
   "execution_count": 105,
   "outputs": [
    {
     "data": {
      "text/plain": "array([[1.        , 0.16539508],\n       [0.16539508, 1.        ]])"
     },
     "execution_count": 105,
     "metadata": {},
     "output_type": "execute_result"
    }
   ],
   "source": [
    "purchases_c_mean_no_na = purchases_c_mean.dropna()\n",
    "np.corrcoef(purchases_c_mean_no_na['age'], purchases_c_mean_no_na['total_price'])"
   ],
   "metadata": {
    "collapsed": false,
    "pycharm": {
     "name": "#%%\n"
    }
   }
  },
  {
   "cell_type": "code",
   "execution_count": 108,
   "outputs": [
    {
     "data": {
      "text/plain": "(0.1653950812077193, 1.811078910330531e-06)"
     },
     "execution_count": 108,
     "metadata": {},
     "output_type": "execute_result"
    }
   ],
   "source": [
    "stats.pearsonr(purchases_c_mean_no_na['age'], purchases_c_mean_no_na['total_price'])"
   ],
   "metadata": {
    "collapsed": false,
    "pycharm": {
     "name": "#%%\n"
    }
   }
  },
  {
   "cell_type": "code",
   "execution_count": 114,
   "outputs": [
    {
     "data": {
      "text/plain": "       index  customer_id       date  shop_id  total_price   age\n0          0          0.0 2018-05-04       40   289.673291  38.0\n1          1          0.0 2019-01-26       40  1316.898901  38.0\n2          2          0.0 2018-11-18       42   159.414367  38.0\n3          3          0.0 2018-05-12       42   808.791649  38.0\n4          4          0.0 2019-04-20       42  1207.855038  38.0\n...      ...          ...        ...      ...          ...   ...\n28794  28794       1212.0 2018-11-08       60    46.653544  24.0\n28795  28795       1212.0 2018-07-20       60    50.592132  24.0\n28796  28796       1212.0 2019-04-18       15    95.459705  24.0\n28797  28797       1212.0 2019-02-14       60    69.968788  24.0\n28798  28798       1212.0 2018-07-13       60   129.335559  24.0\n\n[28799 rows x 6 columns]",
      "text/html": "<div>\n<style scoped>\n    .dataframe tbody tr th:only-of-type {\n        vertical-align: middle;\n    }\n\n    .dataframe tbody tr th {\n        vertical-align: top;\n    }\n\n    .dataframe thead th {\n        text-align: right;\n    }\n</style>\n<table border=\"1\" class=\"dataframe\">\n  <thead>\n    <tr style=\"text-align: right;\">\n      <th></th>\n      <th>index</th>\n      <th>customer_id</th>\n      <th>date</th>\n      <th>shop_id</th>\n      <th>total_price</th>\n      <th>age</th>\n    </tr>\n  </thead>\n  <tbody>\n    <tr>\n      <th>0</th>\n      <td>0</td>\n      <td>0.0</td>\n      <td>2018-05-04</td>\n      <td>40</td>\n      <td>289.673291</td>\n      <td>38.0</td>\n    </tr>\n    <tr>\n      <th>1</th>\n      <td>1</td>\n      <td>0.0</td>\n      <td>2019-01-26</td>\n      <td>40</td>\n      <td>1316.898901</td>\n      <td>38.0</td>\n    </tr>\n    <tr>\n      <th>2</th>\n      <td>2</td>\n      <td>0.0</td>\n      <td>2018-11-18</td>\n      <td>42</td>\n      <td>159.414367</td>\n      <td>38.0</td>\n    </tr>\n    <tr>\n      <th>3</th>\n      <td>3</td>\n      <td>0.0</td>\n      <td>2018-05-12</td>\n      <td>42</td>\n      <td>808.791649</td>\n      <td>38.0</td>\n    </tr>\n    <tr>\n      <th>4</th>\n      <td>4</td>\n      <td>0.0</td>\n      <td>2019-04-20</td>\n      <td>42</td>\n      <td>1207.855038</td>\n      <td>38.0</td>\n    </tr>\n    <tr>\n      <th>...</th>\n      <td>...</td>\n      <td>...</td>\n      <td>...</td>\n      <td>...</td>\n      <td>...</td>\n      <td>...</td>\n    </tr>\n    <tr>\n      <th>28794</th>\n      <td>28794</td>\n      <td>1212.0</td>\n      <td>2018-11-08</td>\n      <td>60</td>\n      <td>46.653544</td>\n      <td>24.0</td>\n    </tr>\n    <tr>\n      <th>28795</th>\n      <td>28795</td>\n      <td>1212.0</td>\n      <td>2018-07-20</td>\n      <td>60</td>\n      <td>50.592132</td>\n      <td>24.0</td>\n    </tr>\n    <tr>\n      <th>28796</th>\n      <td>28796</td>\n      <td>1212.0</td>\n      <td>2019-04-18</td>\n      <td>15</td>\n      <td>95.459705</td>\n      <td>24.0</td>\n    </tr>\n    <tr>\n      <th>28797</th>\n      <td>28797</td>\n      <td>1212.0</td>\n      <td>2019-02-14</td>\n      <td>60</td>\n      <td>69.968788</td>\n      <td>24.0</td>\n    </tr>\n    <tr>\n      <th>28798</th>\n      <td>28798</td>\n      <td>1212.0</td>\n      <td>2018-07-13</td>\n      <td>60</td>\n      <td>129.335559</td>\n      <td>24.0</td>\n    </tr>\n  </tbody>\n</table>\n<p>28799 rows × 6 columns</p>\n</div>"
     },
     "execution_count": 114,
     "metadata": {},
     "output_type": "execute_result"
    }
   ],
   "source": [
    "purchases_c.reset_index()"
   ],
   "metadata": {
    "collapsed": false,
    "pycharm": {
     "name": "#%%\n"
    }
   }
  },
  {
   "cell_type": "code",
   "execution_count": 112,
   "outputs": [
    {
     "data": {
      "text/plain": "       customer_id       date  shop_id  total_price   age offer_begin  \\\n0              0.0 2018-05-04       40   289.673291  38.0  2018-08-15   \n1              0.0 2019-01-26       40  1316.898901  38.0  2018-08-15   \n2              0.0 2019-06-01       40   341.922336  38.0  2018-08-15   \n3              0.0 2018-12-22       40   936.012095  38.0  2018-08-15   \n4              0.0 2018-06-24       40  1005.693540  38.0  2018-08-15   \n...            ...        ...      ...          ...   ...         ...   \n69403       1199.0 2019-04-24        4   149.715169  22.0  2018-08-28   \n69404       1199.0 2018-10-17        4   209.615582  22.0  2018-08-28   \n69405       1199.0 2018-10-17        4   209.615582  22.0  2018-08-28   \n69406       1199.0 2019-05-11        4   666.640059  22.0  2018-08-28   \n69407       1199.0 2019-05-11        4   666.640059  22.0  2018-08-28   \n\n        offer_end  \n0      2018-09-10  \n1      2018-09-10  \n2      2018-09-10  \n3      2018-09-10  \n4      2018-09-10  \n...           ...  \n69403  2018-09-04  \n69404  2018-09-28  \n69405  2018-09-04  \n69406  2018-09-28  \n69407  2018-09-04  \n\n[69408 rows x 7 columns]",
      "text/html": "<div>\n<style scoped>\n    .dataframe tbody tr th:only-of-type {\n        vertical-align: middle;\n    }\n\n    .dataframe tbody tr th {\n        vertical-align: top;\n    }\n\n    .dataframe thead th {\n        text-align: right;\n    }\n</style>\n<table border=\"1\" class=\"dataframe\">\n  <thead>\n    <tr style=\"text-align: right;\">\n      <th></th>\n      <th>customer_id</th>\n      <th>date</th>\n      <th>shop_id</th>\n      <th>total_price</th>\n      <th>age</th>\n      <th>offer_begin</th>\n      <th>offer_end</th>\n    </tr>\n  </thead>\n  <tbody>\n    <tr>\n      <th>0</th>\n      <td>0.0</td>\n      <td>2018-05-04</td>\n      <td>40</td>\n      <td>289.673291</td>\n      <td>38.0</td>\n      <td>2018-08-15</td>\n      <td>2018-09-10</td>\n    </tr>\n    <tr>\n      <th>1</th>\n      <td>0.0</td>\n      <td>2019-01-26</td>\n      <td>40</td>\n      <td>1316.898901</td>\n      <td>38.0</td>\n      <td>2018-08-15</td>\n      <td>2018-09-10</td>\n    </tr>\n    <tr>\n      <th>2</th>\n      <td>0.0</td>\n      <td>2019-06-01</td>\n      <td>40</td>\n      <td>341.922336</td>\n      <td>38.0</td>\n      <td>2018-08-15</td>\n      <td>2018-09-10</td>\n    </tr>\n    <tr>\n      <th>3</th>\n      <td>0.0</td>\n      <td>2018-12-22</td>\n      <td>40</td>\n      <td>936.012095</td>\n      <td>38.0</td>\n      <td>2018-08-15</td>\n      <td>2018-09-10</td>\n    </tr>\n    <tr>\n      <th>4</th>\n      <td>0.0</td>\n      <td>2018-06-24</td>\n      <td>40</td>\n      <td>1005.693540</td>\n      <td>38.0</td>\n      <td>2018-08-15</td>\n      <td>2018-09-10</td>\n    </tr>\n    <tr>\n      <th>...</th>\n      <td>...</td>\n      <td>...</td>\n      <td>...</td>\n      <td>...</td>\n      <td>...</td>\n      <td>...</td>\n      <td>...</td>\n    </tr>\n    <tr>\n      <th>69403</th>\n      <td>1199.0</td>\n      <td>2019-04-24</td>\n      <td>4</td>\n      <td>149.715169</td>\n      <td>22.0</td>\n      <td>2018-08-28</td>\n      <td>2018-09-04</td>\n    </tr>\n    <tr>\n      <th>69404</th>\n      <td>1199.0</td>\n      <td>2018-10-17</td>\n      <td>4</td>\n      <td>209.615582</td>\n      <td>22.0</td>\n      <td>2018-08-28</td>\n      <td>2018-09-28</td>\n    </tr>\n    <tr>\n      <th>69405</th>\n      <td>1199.0</td>\n      <td>2018-10-17</td>\n      <td>4</td>\n      <td>209.615582</td>\n      <td>22.0</td>\n      <td>2018-08-28</td>\n      <td>2018-09-04</td>\n    </tr>\n    <tr>\n      <th>69406</th>\n      <td>1199.0</td>\n      <td>2019-05-11</td>\n      <td>4</td>\n      <td>666.640059</td>\n      <td>22.0</td>\n      <td>2018-08-28</td>\n      <td>2018-09-28</td>\n    </tr>\n    <tr>\n      <th>69407</th>\n      <td>1199.0</td>\n      <td>2019-05-11</td>\n      <td>4</td>\n      <td>666.640059</td>\n      <td>22.0</td>\n      <td>2018-08-28</td>\n      <td>2018-09-04</td>\n    </tr>\n  </tbody>\n</table>\n<p>69408 rows × 7 columns</p>\n</div>"
     },
     "execution_count": 112,
     "metadata": {},
     "output_type": "execute_result"
    }
   ],
   "source": [
    "full_df_preliminary = purchases_c.merge(shops, on=['shop_id'])\n",
    "full_df_preliminary"
   ],
   "metadata": {
    "collapsed": false,
    "pycharm": {
     "name": "#%%\n"
    }
   }
  },
  {
   "cell_type": "code",
   "execution_count": 115,
   "outputs": [
    {
     "data": {
      "text/plain": "       index  customer_id       date  shop_id  total_price   age offer_begin  \\\n0          0          0.0 2018-05-04       40   289.673291  38.0  2018-08-15   \n1          1          0.0 2019-01-26       40  1316.898901  38.0  2018-08-15   \n2          7          0.0 2019-06-01       40   341.922336  38.0  2018-08-15   \n3          9          0.0 2018-12-22       40   936.012095  38.0  2018-08-15   \n4         10          0.0 2018-06-24       40  1005.693540  38.0  2018-08-15   \n...      ...          ...        ...      ...          ...   ...         ...   \n69403  28495       1199.0 2019-04-24        4   149.715169  22.0  2018-08-28   \n69404  28496       1199.0 2018-10-17        4   209.615582  22.0  2018-08-28   \n69405  28496       1199.0 2018-10-17        4   209.615582  22.0  2018-08-28   \n69406  28497       1199.0 2019-05-11        4   666.640059  22.0  2018-08-28   \n69407  28497       1199.0 2019-05-11        4   666.640059  22.0  2018-08-28   \n\n        offer_end  \n0      2018-09-10  \n1      2018-09-10  \n2      2018-09-10  \n3      2018-09-10  \n4      2018-09-10  \n...           ...  \n69403  2018-09-04  \n69404  2018-09-28  \n69405  2018-09-04  \n69406  2018-09-28  \n69407  2018-09-04  \n\n[69408 rows x 8 columns]",
      "text/html": "<div>\n<style scoped>\n    .dataframe tbody tr th:only-of-type {\n        vertical-align: middle;\n    }\n\n    .dataframe tbody tr th {\n        vertical-align: top;\n    }\n\n    .dataframe thead th {\n        text-align: right;\n    }\n</style>\n<table border=\"1\" class=\"dataframe\">\n  <thead>\n    <tr style=\"text-align: right;\">\n      <th></th>\n      <th>index</th>\n      <th>customer_id</th>\n      <th>date</th>\n      <th>shop_id</th>\n      <th>total_price</th>\n      <th>age</th>\n      <th>offer_begin</th>\n      <th>offer_end</th>\n    </tr>\n  </thead>\n  <tbody>\n    <tr>\n      <th>0</th>\n      <td>0</td>\n      <td>0.0</td>\n      <td>2018-05-04</td>\n      <td>40</td>\n      <td>289.673291</td>\n      <td>38.0</td>\n      <td>2018-08-15</td>\n      <td>2018-09-10</td>\n    </tr>\n    <tr>\n      <th>1</th>\n      <td>1</td>\n      <td>0.0</td>\n      <td>2019-01-26</td>\n      <td>40</td>\n      <td>1316.898901</td>\n      <td>38.0</td>\n      <td>2018-08-15</td>\n      <td>2018-09-10</td>\n    </tr>\n    <tr>\n      <th>2</th>\n      <td>7</td>\n      <td>0.0</td>\n      <td>2019-06-01</td>\n      <td>40</td>\n      <td>341.922336</td>\n      <td>38.0</td>\n      <td>2018-08-15</td>\n      <td>2018-09-10</td>\n    </tr>\n    <tr>\n      <th>3</th>\n      <td>9</td>\n      <td>0.0</td>\n      <td>2018-12-22</td>\n      <td>40</td>\n      <td>936.012095</td>\n      <td>38.0</td>\n      <td>2018-08-15</td>\n      <td>2018-09-10</td>\n    </tr>\n    <tr>\n      <th>4</th>\n      <td>10</td>\n      <td>0.0</td>\n      <td>2018-06-24</td>\n      <td>40</td>\n      <td>1005.693540</td>\n      <td>38.0</td>\n      <td>2018-08-15</td>\n      <td>2018-09-10</td>\n    </tr>\n    <tr>\n      <th>...</th>\n      <td>...</td>\n      <td>...</td>\n      <td>...</td>\n      <td>...</td>\n      <td>...</td>\n      <td>...</td>\n      <td>...</td>\n      <td>...</td>\n    </tr>\n    <tr>\n      <th>69403</th>\n      <td>28495</td>\n      <td>1199.0</td>\n      <td>2019-04-24</td>\n      <td>4</td>\n      <td>149.715169</td>\n      <td>22.0</td>\n      <td>2018-08-28</td>\n      <td>2018-09-04</td>\n    </tr>\n    <tr>\n      <th>69404</th>\n      <td>28496</td>\n      <td>1199.0</td>\n      <td>2018-10-17</td>\n      <td>4</td>\n      <td>209.615582</td>\n      <td>22.0</td>\n      <td>2018-08-28</td>\n      <td>2018-09-28</td>\n    </tr>\n    <tr>\n      <th>69405</th>\n      <td>28496</td>\n      <td>1199.0</td>\n      <td>2018-10-17</td>\n      <td>4</td>\n      <td>209.615582</td>\n      <td>22.0</td>\n      <td>2018-08-28</td>\n      <td>2018-09-04</td>\n    </tr>\n    <tr>\n      <th>69406</th>\n      <td>28497</td>\n      <td>1199.0</td>\n      <td>2019-05-11</td>\n      <td>4</td>\n      <td>666.640059</td>\n      <td>22.0</td>\n      <td>2018-08-28</td>\n      <td>2018-09-28</td>\n    </tr>\n    <tr>\n      <th>69407</th>\n      <td>28497</td>\n      <td>1199.0</td>\n      <td>2019-05-11</td>\n      <td>4</td>\n      <td>666.640059</td>\n      <td>22.0</td>\n      <td>2018-08-28</td>\n      <td>2018-09-04</td>\n    </tr>\n  </tbody>\n</table>\n<p>69408 rows × 8 columns</p>\n</div>"
     },
     "execution_count": 115,
     "metadata": {},
     "output_type": "execute_result"
    }
   ],
   "source": [
    "full_df = purchases_c.reset_index().merge(shops, on=['shop_id'])\n",
    "full_df"
   ],
   "metadata": {
    "collapsed": false,
    "pycharm": {
     "name": "#%%\n"
    }
   }
  },
  {
   "cell_type": "code",
   "execution_count": 123,
   "outputs": [
    {
     "data": {
      "text/plain": "174    2018-08-15\nName: offer_begin, dtype: object"
     },
     "execution_count": 123,
     "metadata": {},
     "output_type": "execute_result"
    }
   ],
   "source": [
    "full_df_preliminary.query('date == \"2019-04-24\" and customer_id == 555.0')[\n",
    "    \"offer_begin\"\n",
    "]"
   ],
   "metadata": {
    "collapsed": false,
    "pycharm": {
     "name": "#%%\n"
    }
   }
  },
  {
   "cell_type": "code",
   "execution_count": 122,
   "outputs": [
    {
     "data": {
      "text/plain": "0       2018-05-04\n1       2019-01-26\n2       2018-11-18\n3       2018-05-12\n4       2019-04-20\n           ...    \n28794   2018-11-08\n28795   2018-07-20\n28796   2019-04-18\n28797   2019-02-14\n28798   2018-07-13\nName: date, Length: 28799, dtype: datetime64[ns]"
     },
     "execution_count": 122,
     "metadata": {},
     "output_type": "execute_result"
    }
   ],
   "source": [
    "purchases_c[\"date\"]"
   ],
   "metadata": {
    "collapsed": false,
    "pycharm": {
     "name": "#%%\n"
    }
   }
  },
  {
   "cell_type": "code",
   "execution_count": 134,
   "outputs": [
    {
     "data": {
      "text/plain": "       index  customer_id       date  shop_id  total_price   age offer_begin  \\\n0          0          0.0 2018-05-04       40   289.673291  38.0  2018-08-15   \n1          1          0.0 2019-01-26       40  1316.898901  38.0  2018-08-15   \n2          7          0.0 2019-06-01       40   341.922336  38.0  2018-08-15   \n3          9          0.0 2018-12-22       40   936.012095  38.0  2018-08-15   \n4         10          0.0 2018-06-24       40  1005.693540  38.0  2018-08-15   \n...      ...          ...        ...      ...          ...   ...         ...   \n69403  28495       1199.0 2019-04-24        4   149.715169  22.0  2018-08-28   \n69404  28496       1199.0 2018-10-17        4   209.615582  22.0  2018-08-28   \n69405  28496       1199.0 2018-10-17        4   209.615582  22.0  2018-08-28   \n69406  28497       1199.0 2019-05-11        4   666.640059  22.0  2018-08-28   \n69407  28497       1199.0 2019-05-11        4   666.640059  22.0  2018-08-28   \n\n       offer_end  offer  \n0     2018-09-10  False  \n1     2018-09-10  False  \n2     2018-09-10  False  \n3     2018-09-10  False  \n4     2018-09-10  False  \n...          ...    ...  \n69403 2018-09-04  False  \n69404 2018-09-28  False  \n69405 2018-09-04  False  \n69406 2018-09-28  False  \n69407 2018-09-04  False  \n\n[69408 rows x 9 columns]",
      "text/html": "<div>\n<style scoped>\n    .dataframe tbody tr th:only-of-type {\n        vertical-align: middle;\n    }\n\n    .dataframe tbody tr th {\n        vertical-align: top;\n    }\n\n    .dataframe thead th {\n        text-align: right;\n    }\n</style>\n<table border=\"1\" class=\"dataframe\">\n  <thead>\n    <tr style=\"text-align: right;\">\n      <th></th>\n      <th>index</th>\n      <th>customer_id</th>\n      <th>date</th>\n      <th>shop_id</th>\n      <th>total_price</th>\n      <th>age</th>\n      <th>offer_begin</th>\n      <th>offer_end</th>\n      <th>offer</th>\n    </tr>\n  </thead>\n  <tbody>\n    <tr>\n      <th>0</th>\n      <td>0</td>\n      <td>0.0</td>\n      <td>2018-05-04</td>\n      <td>40</td>\n      <td>289.673291</td>\n      <td>38.0</td>\n      <td>2018-08-15</td>\n      <td>2018-09-10</td>\n      <td>False</td>\n    </tr>\n    <tr>\n      <th>1</th>\n      <td>1</td>\n      <td>0.0</td>\n      <td>2019-01-26</td>\n      <td>40</td>\n      <td>1316.898901</td>\n      <td>38.0</td>\n      <td>2018-08-15</td>\n      <td>2018-09-10</td>\n      <td>False</td>\n    </tr>\n    <tr>\n      <th>2</th>\n      <td>7</td>\n      <td>0.0</td>\n      <td>2019-06-01</td>\n      <td>40</td>\n      <td>341.922336</td>\n      <td>38.0</td>\n      <td>2018-08-15</td>\n      <td>2018-09-10</td>\n      <td>False</td>\n    </tr>\n    <tr>\n      <th>3</th>\n      <td>9</td>\n      <td>0.0</td>\n      <td>2018-12-22</td>\n      <td>40</td>\n      <td>936.012095</td>\n      <td>38.0</td>\n      <td>2018-08-15</td>\n      <td>2018-09-10</td>\n      <td>False</td>\n    </tr>\n    <tr>\n      <th>4</th>\n      <td>10</td>\n      <td>0.0</td>\n      <td>2018-06-24</td>\n      <td>40</td>\n      <td>1005.693540</td>\n      <td>38.0</td>\n      <td>2018-08-15</td>\n      <td>2018-09-10</td>\n      <td>False</td>\n    </tr>\n    <tr>\n      <th>...</th>\n      <td>...</td>\n      <td>...</td>\n      <td>...</td>\n      <td>...</td>\n      <td>...</td>\n      <td>...</td>\n      <td>...</td>\n      <td>...</td>\n      <td>...</td>\n    </tr>\n    <tr>\n      <th>69403</th>\n      <td>28495</td>\n      <td>1199.0</td>\n      <td>2019-04-24</td>\n      <td>4</td>\n      <td>149.715169</td>\n      <td>22.0</td>\n      <td>2018-08-28</td>\n      <td>2018-09-04</td>\n      <td>False</td>\n    </tr>\n    <tr>\n      <th>69404</th>\n      <td>28496</td>\n      <td>1199.0</td>\n      <td>2018-10-17</td>\n      <td>4</td>\n      <td>209.615582</td>\n      <td>22.0</td>\n      <td>2018-08-28</td>\n      <td>2018-09-28</td>\n      <td>False</td>\n    </tr>\n    <tr>\n      <th>69405</th>\n      <td>28496</td>\n      <td>1199.0</td>\n      <td>2018-10-17</td>\n      <td>4</td>\n      <td>209.615582</td>\n      <td>22.0</td>\n      <td>2018-08-28</td>\n      <td>2018-09-04</td>\n      <td>False</td>\n    </tr>\n    <tr>\n      <th>69406</th>\n      <td>28497</td>\n      <td>1199.0</td>\n      <td>2019-05-11</td>\n      <td>4</td>\n      <td>666.640059</td>\n      <td>22.0</td>\n      <td>2018-08-28</td>\n      <td>2018-09-28</td>\n      <td>False</td>\n    </tr>\n    <tr>\n      <th>69407</th>\n      <td>28497</td>\n      <td>1199.0</td>\n      <td>2019-05-11</td>\n      <td>4</td>\n      <td>666.640059</td>\n      <td>22.0</td>\n      <td>2018-08-28</td>\n      <td>2018-09-04</td>\n      <td>False</td>\n    </tr>\n  </tbody>\n</table>\n<p>69408 rows × 9 columns</p>\n</div>"
     },
     "execution_count": 134,
     "metadata": {},
     "output_type": "execute_result"
    }
   ],
   "source": [
    "full_df_offer = full_df\n",
    "full_df_offer['offer_begin'] = pd.to_datetime(full_df['offer_begin'])\n",
    "full_df_offer['offer_end'] = pd.to_datetime(full_df['offer_end'])\n",
    "full_df_offer['offer'] = (full_df_offer['offer_begin'] <= full_df_offer['date']) & (full_df_offer['date'] <= full_df_offer['offer_end'])\n",
    "full_df_offer"
   ],
   "metadata": {
    "collapsed": false,
    "pycharm": {
     "name": "#%%\n"
    }
   }
  }
 ],
 "metadata": {
  "kernelspec": {
   "display_name": "Python 3",
   "language": "python",
   "name": "python3"
  },
  "language_info": {
   "codemirror_mode": {
    "name": "ipython",
    "version": 2
   },
   "file_extension": ".py",
   "mimetype": "text/x-python",
   "name": "python",
   "nbconvert_exporter": "python",
   "pygments_lexer": "ipython2",
   "version": "2.7.6"
  }
 },
 "nbformat": 4,
 "nbformat_minor": 0
}