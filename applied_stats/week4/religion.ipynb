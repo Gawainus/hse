{
 "cells": [
  {
   "cell_type": "code",
   "execution_count": 50,
   "metadata": {},
   "outputs": [],
   "source": [
    "import pandas as pd\n",
    "import numpy as np\n",
    "\n",
    "from scipy import stats\n",
    "\n",
    "from statsmodels.sandbox.stats.multicomp import multipletests "
   ]
  },
  {
   "cell_type": "code",
   "execution_count": 4,
   "metadata": {},
   "outputs": [],
   "source": [
    "rp = pd.read_csv('/home/yukos/work/hse/applied_stats/week4/religion_politics.csv')"
   ]
  },
  {
   "cell_type": "code",
   "execution_count": 6,
   "metadata": {},
   "outputs": [
    {
     "data": {
      "text/plain": [
       "array(['Conservative', \"Don't know\", 'Slghtly conservative', 'Moderate',\n",
       "       'Extrmly conservative', 'Slightly liberal', 'Liberal',\n",
       "       'Extremely liberal'], dtype=object)"
      ]
     },
     "execution_count": 6,
     "metadata": {},
     "output_type": "execute_result"
    }
   ],
   "source": [
    "rp.politics.unique()"
   ]
  },
  {
   "cell_type": "code",
   "execution_count": 33,
   "metadata": {},
   "outputs": [
    {
     "data": {
      "text/html": [
       "<div>\n",
       "<style scoped>\n",
       "    .dataframe tbody tr th:only-of-type {\n",
       "        vertical-align: middle;\n",
       "    }\n",
       "\n",
       "    .dataframe tbody tr th {\n",
       "        vertical-align: top;\n",
       "    }\n",
       "\n",
       "    .dataframe thead th {\n",
       "        text-align: right;\n",
       "    }\n",
       "</style>\n",
       "<table border=\"1\" class=\"dataframe\">\n",
       "  <thead>\n",
       "    <tr style=\"text-align: right;\">\n",
       "      <th>politics</th>\n",
       "      <th>Conservative</th>\n",
       "      <th>Don't know</th>\n",
       "      <th>Extremely liberal</th>\n",
       "      <th>Extrmly conservative</th>\n",
       "      <th>Liberal</th>\n",
       "      <th>Moderate</th>\n",
       "      <th>Slghtly conservative</th>\n",
       "      <th>Slightly liberal</th>\n",
       "      <th>All</th>\n",
       "    </tr>\n",
       "    <tr>\n",
       "      <th>religion</th>\n",
       "      <th></th>\n",
       "      <th></th>\n",
       "      <th></th>\n",
       "      <th></th>\n",
       "      <th></th>\n",
       "      <th></th>\n",
       "      <th></th>\n",
       "      <th></th>\n",
       "      <th></th>\n",
       "    </tr>\n",
       "  </thead>\n",
       "  <tbody>\n",
       "    <tr>\n",
       "      <th>Buddhism</th>\n",
       "      <td>3</td>\n",
       "      <td>0</td>\n",
       "      <td>3</td>\n",
       "      <td>0</td>\n",
       "      <td>5</td>\n",
       "      <td>4</td>\n",
       "      <td>0</td>\n",
       "      <td>4</td>\n",
       "      <td>19</td>\n",
       "    </tr>\n",
       "    <tr>\n",
       "      <th>Catholic</th>\n",
       "      <td>73</td>\n",
       "      <td>21</td>\n",
       "      <td>8</td>\n",
       "      <td>20</td>\n",
       "      <td>38</td>\n",
       "      <td>203</td>\n",
       "      <td>70</td>\n",
       "      <td>56</td>\n",
       "      <td>489</td>\n",
       "    </tr>\n",
       "    <tr>\n",
       "      <th>Christian</th>\n",
       "      <td>8</td>\n",
       "      <td>0</td>\n",
       "      <td>2</td>\n",
       "      <td>1</td>\n",
       "      <td>2</td>\n",
       "      <td>16</td>\n",
       "      <td>4</td>\n",
       "      <td>2</td>\n",
       "      <td>35</td>\n",
       "    </tr>\n",
       "    <tr>\n",
       "      <th>Hinduism</th>\n",
       "      <td>0</td>\n",
       "      <td>0</td>\n",
       "      <td>0</td>\n",
       "      <td>0</td>\n",
       "      <td>2</td>\n",
       "      <td>5</td>\n",
       "      <td>0</td>\n",
       "      <td>1</td>\n",
       "      <td>8</td>\n",
       "    </tr>\n",
       "    <tr>\n",
       "      <th>Jewish</th>\n",
       "      <td>7</td>\n",
       "      <td>1</td>\n",
       "      <td>4</td>\n",
       "      <td>1</td>\n",
       "      <td>11</td>\n",
       "      <td>11</td>\n",
       "      <td>2</td>\n",
       "      <td>2</td>\n",
       "      <td>39</td>\n",
       "    </tr>\n",
       "    <tr>\n",
       "      <th>Moslem/islam</th>\n",
       "      <td>3</td>\n",
       "      <td>1</td>\n",
       "      <td>0</td>\n",
       "      <td>0</td>\n",
       "      <td>2</td>\n",
       "      <td>8</td>\n",
       "      <td>0</td>\n",
       "      <td>2</td>\n",
       "      <td>16</td>\n",
       "    </tr>\n",
       "    <tr>\n",
       "      <th>None</th>\n",
       "      <td>38</td>\n",
       "      <td>22</td>\n",
       "      <td>56</td>\n",
       "      <td>9</td>\n",
       "      <td>109</td>\n",
       "      <td>189</td>\n",
       "      <td>40</td>\n",
       "      <td>74</td>\n",
       "      <td>537</td>\n",
       "    </tr>\n",
       "    <tr>\n",
       "      <th>Other</th>\n",
       "      <td>1</td>\n",
       "      <td>1</td>\n",
       "      <td>0</td>\n",
       "      <td>0</td>\n",
       "      <td>9</td>\n",
       "      <td>18</td>\n",
       "      <td>3</td>\n",
       "      <td>3</td>\n",
       "      <td>35</td>\n",
       "    </tr>\n",
       "    <tr>\n",
       "      <th>Protestant</th>\n",
       "      <td>219</td>\n",
       "      <td>30</td>\n",
       "      <td>49</td>\n",
       "      <td>66</td>\n",
       "      <td>97</td>\n",
       "      <td>395</td>\n",
       "      <td>164</td>\n",
       "      <td>111</td>\n",
       "      <td>1131</td>\n",
       "    </tr>\n",
       "    <tr>\n",
       "      <th>All</th>\n",
       "      <td>352</td>\n",
       "      <td>76</td>\n",
       "      <td>122</td>\n",
       "      <td>97</td>\n",
       "      <td>275</td>\n",
       "      <td>849</td>\n",
       "      <td>283</td>\n",
       "      <td>255</td>\n",
       "      <td>2309</td>\n",
       "    </tr>\n",
       "  </tbody>\n",
       "</table>\n",
       "</div>"
      ],
      "text/plain": [
       "politics      Conservative  Don't know  Extremely liberal  \\\n",
       "religion                                                    \n",
       "Buddhism                 3           0                  3   \n",
       "Catholic                73          21                  8   \n",
       "Christian                8           0                  2   \n",
       "Hinduism                 0           0                  0   \n",
       "Jewish                   7           1                  4   \n",
       "Moslem/islam             3           1                  0   \n",
       "None                    38          22                 56   \n",
       "Other                    1           1                  0   \n",
       "Protestant             219          30                 49   \n",
       "All                    352          76                122   \n",
       "\n",
       "politics      Extrmly conservative  Liberal  Moderate  Slghtly conservative  \\\n",
       "religion                                                                      \n",
       "Buddhism                         0        5         4                     0   \n",
       "Catholic                        20       38       203                    70   \n",
       "Christian                        1        2        16                     4   \n",
       "Hinduism                         0        2         5                     0   \n",
       "Jewish                           1       11        11                     2   \n",
       "Moslem/islam                     0        2         8                     0   \n",
       "None                             9      109       189                    40   \n",
       "Other                            0        9        18                     3   \n",
       "Protestant                      66       97       395                   164   \n",
       "All                             97      275       849                   283   \n",
       "\n",
       "politics      Slightly liberal   All  \n",
       "religion                              \n",
       "Buddhism                     4    19  \n",
       "Catholic                    56   489  \n",
       "Christian                    2    35  \n",
       "Hinduism                     1     8  \n",
       "Jewish                       2    39  \n",
       "Moslem/islam                 2    16  \n",
       "None                        74   537  \n",
       "Other                        3    35  \n",
       "Protestant                 111  1131  \n",
       "All                        255  2309  "
      ]
     },
     "execution_count": 33,
     "metadata": {},
     "output_type": "execute_result"
    }
   ],
   "source": [
    "ct = pd.crosstab(rp['religion'], rp['politics'], margins=True)\n",
    "ct"
   ]
  },
  {
   "cell_type": "markdown",
   "metadata": {},
   "source": [
    "1. Calculate the matrix of expected counts under independence. What is the expected number of conservative protestants? Provide the answer rounded to 2 decimal points."
   ]
  },
  {
   "cell_type": "code",
   "execution_count": 13,
   "metadata": {},
   "outputs": [
    {
     "data": {
      "text/plain": [
       "172.41749675184062"
      ]
     },
     "execution_count": 13,
     "metadata": {},
     "output_type": "execute_result"
    }
   ],
   "source": [
    "(352 * 1131)/2309"
   ]
  },
  {
   "cell_type": "markdown",
   "metadata": {},
   "source": [
    "2.Calculate standardized Pearson residuals for the contingency table. What is the value for liberal catholics? Provide the answer rounded to 3 decimal points."
   ]
  },
  {
   "cell_type": "code",
   "execution_count": 27,
   "metadata": {},
   "outputs": [],
   "source": [
    "n = 2309\n",
    "ni = 489\n",
    "nj = 275"
   ]
  },
  {
   "cell_type": "code",
   "execution_count": 28,
   "metadata": {},
   "outputs": [
    {
     "data": {
      "text/plain": [
       "58.23949761801646"
      ]
     },
     "execution_count": 28,
     "metadata": {},
     "output_type": "execute_result"
    }
   ],
   "source": [
    "eij = (ni * nj) / n\n",
    "eij"
   ]
  },
  {
   "cell_type": "code",
   "execution_count": 29,
   "metadata": {},
   "outputs": [],
   "source": [
    "nij = 38"
   ]
  },
  {
   "cell_type": "code",
   "execution_count": 30,
   "metadata": {},
   "outputs": [
    {
     "data": {
      "text/plain": [
       "6.359105723027162"
      ]
     },
     "execution_count": 30,
     "metadata": {},
     "output_type": "execute_result"
    }
   ],
   "source": [
    "np.sqrt(eij * (1 - ni/n) * (1 - nj/n))"
   ]
  },
  {
   "cell_type": "code",
   "execution_count": 32,
   "metadata": {},
   "outputs": [
    {
     "data": {
      "text/plain": [
       "-3.182758472583112"
      ]
     },
     "execution_count": 32,
     "metadata": {},
     "output_type": "execute_result"
    }
   ],
   "source": [
    "(nij - eij) / np.sqrt(eij * (1 - ni/n) * (1 - nj/n))"
   ]
  },
  {
   "cell_type": "markdown",
   "metadata": {},
   "source": [
    "Each residual has standard normal distribution if the observed count is in line with the expected one. Let's use them to test the hypotheses that each observed count comes from a distribution with the mean equal to the corresponding expected count, against two-sided alternative.\n",
    "\n",
    "Calculate p-values for all cells of the contingency tables. How many of them are less than or equal to 0.05?"
   ]
  },
  {
   "cell_type": "code",
   "execution_count": 47,
   "metadata": {},
   "outputs": [],
   "source": [
    "num_rows = ct.shape[0] - 1\n",
    "num_columns = ct.shape[1] - 1"
   ]
  },
  {
   "cell_type": "code",
   "execution_count": 49,
   "metadata": {},
   "outputs": [
    {
     "data": {
      "text/plain": [
       "array([[ 0.07298785, -0.94903973,  2.39084153, -1.07216954,  2.18360826,\n",
       "        -1.35582745, -1.83134774,  1.57549614],\n",
       "       [-0.21496358,  1.46716103, -4.21129892, -0.14368505, -3.18275847,\n",
       "         2.07626002,  1.56043374,  0.32597402],\n",
       "       [ 1.3842412 , -1.28807638,  0.13300443, -0.46549041, -1.27461205,\n",
       "         1.04734836, -0.16788028, -1.13860099],\n",
       "       [-1.32530893, -0.6158183 , -0.7802355 , -0.69571547,  1.2874956 ,\n",
       "         1.44035576, -1.18833533,  0.1487435 ],\n",
       "       [ 0.51903438, -0.3004713 ,  1.62133467, -0.59852199,  3.53875636,\n",
       "        -1.0584776 , -1.52595825, -1.33407763],\n",
       "       [ 0.43096226,  0.78280605, -1.10341963, -0.98389025,  0.08207879,\n",
       "         1.04741348, -1.68055994,  0.21035507],\n",
       "       [-5.81801173,  1.23452083,  6.22424017, -3.42596651,  6.75936195,\n",
       "        -0.72170813, -3.81897526,  2.290025  ],\n",
       "       [-2.25254204, -0.16996797, -1.63197964, -1.4551933 ,  2.8399385 ,\n",
       "         1.71641112, -0.74730563, -0.52819243],\n",
       "       [ 4.25740455, -1.42139551, -1.67016222,  3.21869083, -3.89835964,\n",
       "        -1.2275472 ,  2.5869982 , -1.49308869]])"
      ]
     },
     "execution_count": 49,
     "metadata": {},
     "output_type": "execute_result"
    }
   ],
   "source": [
    "m = []\n",
    "for i in range(num_rows):\n",
    "    ar = []\n",
    "    for j in range(num_columns):\n",
    "        nij = ct.iloc[i, j]\n",
    "        eij = (ct.iloc[i, -1] * ct.iloc[-1, j]) / n\n",
    "        pearson = (nij - eij) / np.sqrt(eij * (1 - ni/n) * (1 - nj/n))\n",
    "        ar.append(pearson)\n",
    "    \n",
    "    m.append(ar)\n",
    "\n",
    "ps = np.array(m)\n",
    "ps"
   ]
  },
  {
   "cell_type": "code",
   "execution_count": 62,
   "metadata": {},
   "outputs": [
    {
     "data": {
      "text/plain": [
       "18"
      ]
     },
     "execution_count": 62,
     "metadata": {},
     "output_type": "execute_result"
    }
   ],
   "source": [
    "np.sum((stats.norm.cdf(ps) < 0.025) | (stats.norm.cdf(ps) > 0.975))\n"
   ]
  }
 ],
 "metadata": {
  "kernelspec": {
   "display_name": "Python 3 (ipykernel)",
   "language": "python",
   "name": "python3"
  },
  "language_info": {
   "codemirror_mode": {
    "name": "ipython",
    "version": 3
   },
   "file_extension": ".py",
   "mimetype": "text/x-python",
   "name": "python",
   "nbconvert_exporter": "python",
   "pygments_lexer": "ipython3",
   "version": "3.8.13"
  }
 },
 "nbformat": 4,
 "nbformat_minor": 1
}
