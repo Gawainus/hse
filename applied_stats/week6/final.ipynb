{
 "cells": [
  {
   "cell_type": "code",
   "execution_count": 8,
   "metadata": {},
   "outputs": [],
   "source": [
    "import numpy as np\n",
    "import pandas as pd\n",
    "import statsmodels.formula.api as smf\n",
    "import statsmodels.stats.api as sms\n",
    "import matplotlib.pyplot as plt\n",
    "\n",
    "import seaborn as sns\n",
    "sns.set_style(\"whitegrid\")\n",
    "sns.set_context(\"notebook\", font_scale=1.5, rc={\"lines.linewidth\": 2.5})\n",
    "plt.rcParams['figure.figsize'] = 10, 8"
   ]
  },
  {
   "cell_type": "code",
   "execution_count": 3,
   "metadata": {},
   "outputs": [
    {
     "data": {
      "text/html": [
       "<div>\n",
       "<style scoped>\n",
       "    .dataframe tbody tr th:only-of-type {\n",
       "        vertical-align: middle;\n",
       "    }\n",
       "\n",
       "    .dataframe tbody tr th {\n",
       "        vertical-align: top;\n",
       "    }\n",
       "\n",
       "    .dataframe thead th {\n",
       "        text-align: right;\n",
       "    }\n",
       "</style>\n",
       "<table border=\"1\" class=\"dataframe\">\n",
       "  <thead>\n",
       "    <tr style=\"text-align: right;\">\n",
       "      <th></th>\n",
       "      <th>dANB</th>\n",
       "      <th>dPPPM</th>\n",
       "      <th>dIMPA</th>\n",
       "      <th>dCoA</th>\n",
       "      <th>dGoPg</th>\n",
       "      <th>dCoGo</th>\n",
       "      <th>dT</th>\n",
       "      <th>Growth</th>\n",
       "      <th>Treatment</th>\n",
       "    </tr>\n",
       "  </thead>\n",
       "  <tbody>\n",
       "    <tr>\n",
       "      <th>0</th>\n",
       "      <td>-3.2</td>\n",
       "      <td>-1.1</td>\n",
       "      <td>-4.2</td>\n",
       "      <td>1.0</td>\n",
       "      <td>4.0</td>\n",
       "      <td>3.7</td>\n",
       "      <td>5</td>\n",
       "      <td>0</td>\n",
       "      <td>0</td>\n",
       "    </tr>\n",
       "    <tr>\n",
       "      <th>1</th>\n",
       "      <td>-0.6</td>\n",
       "      <td>-0.5</td>\n",
       "      <td>3.8</td>\n",
       "      <td>2.6</td>\n",
       "      <td>-0.1</td>\n",
       "      <td>1.4</td>\n",
       "      <td>3</td>\n",
       "      <td>1</td>\n",
       "      <td>0</td>\n",
       "    </tr>\n",
       "    <tr>\n",
       "      <th>2</th>\n",
       "      <td>-1.6</td>\n",
       "      <td>-3.1</td>\n",
       "      <td>-6.0</td>\n",
       "      <td>4.3</td>\n",
       "      <td>4.2</td>\n",
       "      <td>7.1</td>\n",
       "      <td>5</td>\n",
       "      <td>0</td>\n",
       "      <td>0</td>\n",
       "    </tr>\n",
       "    <tr>\n",
       "      <th>3</th>\n",
       "      <td>-1.1</td>\n",
       "      <td>-2.1</td>\n",
       "      <td>-12.1</td>\n",
       "      <td>14.1</td>\n",
       "      <td>20.7</td>\n",
       "      <td>17.5</td>\n",
       "      <td>9</td>\n",
       "      <td>0</td>\n",
       "      <td>0</td>\n",
       "    </tr>\n",
       "    <tr>\n",
       "      <th>4</th>\n",
       "      <td>-1.1</td>\n",
       "      <td>0.0</td>\n",
       "      <td>-6.7</td>\n",
       "      <td>7.7</td>\n",
       "      <td>8.8</td>\n",
       "      <td>11.0</td>\n",
       "      <td>5</td>\n",
       "      <td>0</td>\n",
       "      <td>0</td>\n",
       "    </tr>\n",
       "    <tr>\n",
       "      <th>...</th>\n",
       "      <td>...</td>\n",
       "      <td>...</td>\n",
       "      <td>...</td>\n",
       "      <td>...</td>\n",
       "      <td>...</td>\n",
       "      <td>...</td>\n",
       "      <td>...</td>\n",
       "      <td>...</td>\n",
       "      <td>...</td>\n",
       "    </tr>\n",
       "    <tr>\n",
       "      <th>138</th>\n",
       "      <td>0.8</td>\n",
       "      <td>-2.1</td>\n",
       "      <td>-2.0</td>\n",
       "      <td>2.7</td>\n",
       "      <td>2.0</td>\n",
       "      <td>3.3</td>\n",
       "      <td>5</td>\n",
       "      <td>1</td>\n",
       "      <td>1</td>\n",
       "    </tr>\n",
       "    <tr>\n",
       "      <th>139</th>\n",
       "      <td>2.1</td>\n",
       "      <td>0.7</td>\n",
       "      <td>1.4</td>\n",
       "      <td>8.2</td>\n",
       "      <td>12.8</td>\n",
       "      <td>9.1</td>\n",
       "      <td>10</td>\n",
       "      <td>1</td>\n",
       "      <td>1</td>\n",
       "    </tr>\n",
       "    <tr>\n",
       "      <th>140</th>\n",
       "      <td>-0.2</td>\n",
       "      <td>-3.3</td>\n",
       "      <td>-2.7</td>\n",
       "      <td>6.8</td>\n",
       "      <td>3.4</td>\n",
       "      <td>10.9</td>\n",
       "      <td>4</td>\n",
       "      <td>1</td>\n",
       "      <td>1</td>\n",
       "    </tr>\n",
       "    <tr>\n",
       "      <th>141</th>\n",
       "      <td>1.5</td>\n",
       "      <td>-3.5</td>\n",
       "      <td>1.8</td>\n",
       "      <td>4.6</td>\n",
       "      <td>6.5</td>\n",
       "      <td>6.2</td>\n",
       "      <td>5</td>\n",
       "      <td>1</td>\n",
       "      <td>1</td>\n",
       "    </tr>\n",
       "    <tr>\n",
       "      <th>142</th>\n",
       "      <td>1.3</td>\n",
       "      <td>-3.0</td>\n",
       "      <td>-19.0</td>\n",
       "      <td>7.0</td>\n",
       "      <td>4.5</td>\n",
       "      <td>6.0</td>\n",
       "      <td>2</td>\n",
       "      <td>1</td>\n",
       "      <td>1</td>\n",
       "    </tr>\n",
       "  </tbody>\n",
       "</table>\n",
       "<p>143 rows × 9 columns</p>\n",
       "</div>"
      ],
      "text/plain": [
       "     dANB  dPPPM  dIMPA  dCoA  dGoPg  dCoGo  dT  Growth  Treatment\n",
       "0    -3.2   -1.1   -4.2   1.0    4.0    3.7   5       0          0\n",
       "1    -0.6   -0.5    3.8   2.6   -0.1    1.4   3       1          0\n",
       "2    -1.6   -3.1   -6.0   4.3    4.2    7.1   5       0          0\n",
       "3    -1.1   -2.1  -12.1  14.1   20.7   17.5   9       0          0\n",
       "4    -1.1    0.0   -6.7   7.7    8.8   11.0   5       0          0\n",
       "..    ...    ...    ...   ...    ...    ...  ..     ...        ...\n",
       "138   0.8   -2.1   -2.0   2.7    2.0    3.3   5       1          1\n",
       "139   2.1    0.7    1.4   8.2   12.8    9.1  10       1          1\n",
       "140  -0.2   -3.3   -2.7   6.8    3.4   10.9   4       1          1\n",
       "141   1.5   -3.5    1.8   4.6    6.5    6.2   5       1          1\n",
       "142   1.3   -3.0  -19.0   7.0    4.5    6.0   2       1          1\n",
       "\n",
       "[143 rows x 9 columns]"
      ]
     },
     "execution_count": 3,
     "metadata": {},
     "output_type": "execute_result"
    }
   ],
   "source": [
    "df = pd.read_csv('/home/yukos/work/hse/applied_stats/week6/malocclusion.csv')\n",
    "df"
   ]
  },
  {
   "cell_type": "markdown",
   "metadata": {},
   "source": [
    "Given the graph, \n",
    "    select the variables to condition on, apply suitable adjustment method,\n",
    "    calculate your estimates of causal effects: \n",
    "        1. Treatment on Growth\n",
    "        2. Treatment on dANB\n",
    "            both ATE and ATET."
   ]
  },
  {
   "cell_type": "code",
   "execution_count": 6,
   "metadata": {},
   "outputs": [
    {
     "data": {
      "text/plain": [
       "0.1471861471861472"
      ]
     },
     "execution_count": 6,
     "metadata": {},
     "output_type": "execute_result"
    }
   ],
   "source": [
    "df.Growth[df.Treatment == 1].mean() - df.Growth[df.Treatment == 0].mean()"
   ]
  },
  {
   "cell_type": "markdown",
   "metadata": {},
   "source": [
    "# For dANB, it depends on `Treatment` and `Growth`"
   ]
  },
  {
   "cell_type": "code",
   "execution_count": 7,
   "metadata": {},
   "outputs": [
    {
     "data": {
      "text/plain": [
       "2.0287878787878784"
      ]
     },
     "execution_count": 7,
     "metadata": {},
     "output_type": "execute_result"
    }
   ],
   "source": [
    "df.dANB[df.Treatment == 1].mean() - df.dANB[df.Treatment == 0].mean()"
   ]
  },
  {
   "cell_type": "code",
   "execution_count": 10,
   "metadata": {},
   "outputs": [
    {
     "name": "stdout",
     "output_type": "stream",
     "text": [
      "                            OLS Regression Results                            \n",
      "==============================================================================\n",
      "Dep. Variable:                   dANB   R-squared:                       0.409\n",
      "Model:                            OLS   Adj. R-squared:                  0.397\n",
      "Method:                 Least Squares   F-statistic:                     32.12\n",
      "Date:                Sun, 30 Oct 2022   Prob (F-statistic):           7.78e-16\n",
      "Time:                        19:05:17   Log-Likelihood:                -250.87\n",
      "No. Observations:                 143   AIC:                             509.7\n",
      "Df Residuals:                     139   BIC:                             521.6\n",
      "Df Model:                           3                                         \n",
      "Covariance Type:            nonrobust                                         \n",
      "==============================================================================\n",
      "                 coef    std err          t      P>|t|      [0.025      0.975]\n",
      "------------------------------------------------------------------------------\n",
      "Intercept     -1.4021      0.276     -5.075      0.000      -1.948      -0.856\n",
      "Treatment      1.9336      0.261      7.394      0.000       1.417       2.451\n",
      "dT            -0.0386      0.051     -0.758      0.450      -0.139       0.062\n",
      "Growth         1.1443      0.247      4.625      0.000       0.655       1.634\n",
      "==============================================================================\n",
      "Omnibus:                        9.566   Durbin-Watson:                   2.107\n",
      "Prob(Omnibus):                  0.008   Jarque-Bera (JB):               10.722\n",
      "Skew:                           0.475   Prob(JB):                      0.00470\n",
      "Kurtosis:                       3.948   Cond. No.                         14.6\n",
      "==============================================================================\n",
      "\n",
      "Notes:\n",
      "[1] Standard Errors assume that the covariance matrix of the errors is correctly specified.\n"
     ]
    }
   ],
   "source": [
    "m = smf.ols('dANB ~ Treatment + dT + Growth', data=df)\n",
    "fitted = m.fit()\n",
    "print(fitted.summary())"
   ]
  },
  {
   "cell_type": "code",
   "execution_count": 11,
   "metadata": {},
   "outputs": [
    {
     "name": "stdout",
     "output_type": "stream",
     "text": [
      "                            OLS Regression Results                            \n",
      "==============================================================================\n",
      "Dep. Variable:                   dANB   R-squared:                       0.407\n",
      "Model:                            OLS   Adj. R-squared:                  0.398\n",
      "Method:                 Least Squares   F-statistic:                     48.04\n",
      "Date:                Sun, 30 Oct 2022   Prob (F-statistic):           1.31e-16\n",
      "Time:                        19:05:38   Log-Likelihood:                -251.17\n",
      "No. Observations:                 143   AIC:                             508.3\n",
      "Df Residuals:                     140   BIC:                             517.2\n",
      "Df Model:                           2                                         \n",
      "Covariance Type:            nonrobust                                         \n",
      "==============================================================================\n",
      "                 coef    std err          t      P>|t|      [0.025      0.975]\n",
      "------------------------------------------------------------------------------\n",
      "Intercept     -1.5600      0.181     -8.609      0.000      -1.918      -1.202\n",
      "Treatment      1.8560      0.240      7.724      0.000       1.381       2.331\n",
      "Growth         1.1740      0.244      4.812      0.000       0.692       1.656\n",
      "==============================================================================\n",
      "Omnibus:                        7.303   Durbin-Watson:                   2.122\n",
      "Prob(Omnibus):                  0.026   Jarque-Bera (JB):                7.911\n",
      "Skew:                           0.383   Prob(JB):                       0.0191\n",
      "Kurtosis:                       3.862   Cond. No.                         2.77\n",
      "==============================================================================\n",
      "\n",
      "Notes:\n",
      "[1] Standard Errors assume that the covariance matrix of the errors is correctly specified.\n"
     ]
    }
   ],
   "source": [
    "m = smf.ols('dANB ~ Treatment + Growth', data=df)\n",
    "fitted = m.fit()\n",
    "print(fitted.summary())"
   ]
  }
 ],
 "metadata": {
  "kernelspec": {
   "display_name": "Python 3 (ipykernel)",
   "language": "python",
   "name": "python3"
  },
  "language_info": {
   "codemirror_mode": {
    "name": "ipython",
    "version": 3
   },
   "file_extension": ".py",
   "mimetype": "text/x-python",
   "name": "python",
   "nbconvert_exporter": "python",
   "pygments_lexer": "ipython3",
   "version": "3.8.13"
  },
  "orig_nbformat": 4
 },
 "nbformat": 4,
 "nbformat_minor": 2
}
