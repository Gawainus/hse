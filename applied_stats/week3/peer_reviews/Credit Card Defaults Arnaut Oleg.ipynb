{
 "cells": [
  {
   "cell_type": "markdown",
   "id": "7678a88f",
   "metadata": {},
   "source": [
    "## Credit Card Defaults - task description\n",
    "\n",
    "1.    **Credit limit**: test whether there are differences between median credit limits of two groups.\n",
    "\n",
    "2.    **Gender**: test whether gender composition of two groups differ.\n",
    "\n",
    "3.    **Education**: test whether education levels differs between two groups. If it does, then how exactly?\n",
    "\n",
    "4.    **Marital status**: Check how marital status is related to the default indicator: you need to propose a measure by which you can measure the possible relationship of these variables and calculate its value.\n",
    "\n",
    "5.    **Age**: test whether there are differences between mean ages of clients in two groups."
   ]
  },
  {
   "cell_type": "markdown",
   "id": "bc42d243",
   "metadata": {},
   "source": [
    "·    Upload a jupyter notebook with the results of your analysis\n",
    "\n",
    "·      Start addressing each question by plotting the corresponding feature across two groups in a way that makes it easy to compare them\n",
    "\n",
    "·      For every comparison, provide calculations of test p-value and appropriate effect size estimates\n",
    "\n",
    "·      For every question, describe what hypothesis you are testing, what is the alternative. Describe the test you are using, what assumptions does it use and why do they hold. Say whether the hypotheses is accepted or rejected at 0.05. If the question allows, estimate effect size and state whether you thing it is practically significant.\n"
   ]
  },
  {
   "cell_type": "code",
   "execution_count": 1,
   "id": "2fd20cd2",
   "metadata": {},
   "outputs": [
    {
     "name": "stdout",
     "output_type": "stream",
     "text": [
      "Requirement already satisfied: mlxtend in c:\\programdata\\anaconda3\\lib\\site-packages (0.21.0)\n",
      "Requirement already satisfied: matplotlib>=3.0.0 in c:\\programdata\\anaconda3\\lib\\site-packages (from mlxtend) (3.4.3)\n",
      "Requirement already satisfied: scikit-learn>=1.0.2 in c:\\programdata\\anaconda3\\lib\\site-packages (from mlxtend) (1.1.2)\n",
      "Requirement already satisfied: joblib>=0.13.2 in c:\\programdata\\anaconda3\\lib\\site-packages (from mlxtend) (1.1.0)\n",
      "Requirement already satisfied: numpy>=1.16.2 in c:\\programdata\\anaconda3\\lib\\site-packages (from mlxtend) (1.20.3)\n",
      "Requirement already satisfied: setuptools in c:\\programdata\\anaconda3\\lib\\site-packages (from mlxtend) (58.0.4)\n",
      "Requirement already satisfied: scipy>=1.2.1 in c:\\programdata\\anaconda3\\lib\\site-packages (from mlxtend) (1.7.1)\n",
      "Requirement already satisfied: pandas>=0.24.2 in c:\\programdata\\anaconda3\\lib\\site-packages (from mlxtend) (1.3.4)\n",
      "Requirement already satisfied: cycler>=0.10 in c:\\programdata\\anaconda3\\lib\\site-packages (from matplotlib>=3.0.0->mlxtend) (0.10.0)\n",
      "Requirement already satisfied: pillow>=6.2.0 in c:\\programdata\\anaconda3\\lib\\site-packages (from matplotlib>=3.0.0->mlxtend) (9.2.0)\n",
      "Requirement already satisfied: python-dateutil>=2.7 in c:\\programdata\\anaconda3\\lib\\site-packages (from matplotlib>=3.0.0->mlxtend) (2.8.2)\n",
      "Requirement already satisfied: kiwisolver>=1.0.1 in c:\\programdata\\anaconda3\\lib\\site-packages (from matplotlib>=3.0.0->mlxtend) (1.3.1)\n",
      "Requirement already satisfied: pyparsing>=2.2.1 in c:\\programdata\\anaconda3\\lib\\site-packages (from matplotlib>=3.0.0->mlxtend) (3.0.4)\n",
      "Requirement already satisfied: pytz>=2017.3 in c:\\programdata\\anaconda3\\lib\\site-packages (from pandas>=0.24.2->mlxtend) (2021.3)\n",
      "Requirement already satisfied: threadpoolctl>=2.0.0 in c:\\programdata\\anaconda3\\lib\\site-packages (from scikit-learn>=1.0.2->mlxtend) (2.2.0)\n",
      "Requirement already satisfied: six in c:\\programdata\\anaconda3\\lib\\site-packages (from cycler>=0.10->matplotlib>=3.0.0->mlxtend) (1.16.0)\n",
      "Note: you may need to restart the kernel to use updated packages.\n"
     ]
    },
    {
     "name": "stderr",
     "output_type": "stream",
     "text": [
      "WARNING: Ignoring invalid distribution -illow (c:\\programdata\\anaconda3\\lib\\site-packages)\n",
      "WARNING: Ignoring invalid distribution -illow (c:\\programdata\\anaconda3\\lib\\site-packages)\n",
      "WARNING: Ignoring invalid distribution -illow (c:\\programdata\\anaconda3\\lib\\site-packages)\n",
      "WARNING: Ignoring invalid distribution -illow (c:\\programdata\\anaconda3\\lib\\site-packages)\n",
      "WARNING: Ignoring invalid distribution -illow (c:\\programdata\\anaconda3\\lib\\site-packages)\n",
      "WARNING: Ignoring invalid distribution -illow (c:\\programdata\\anaconda3\\lib\\site-packages)\n",
      "\n",
      "[notice] A new release of pip available: 22.2.2 -> 22.3\n",
      "[notice] To update, run: python.exe -m pip install --upgrade pip\n"
     ]
    }
   ],
   "source": [
    "pip install mlxtend"
   ]
  },
  {
   "cell_type": "code",
   "execution_count": 2,
   "id": "32fc7d6c",
   "metadata": {},
   "outputs": [
    {
     "name": "stdout",
     "output_type": "stream",
     "text": [
      "Populating the interactive namespace from numpy and matplotlib\n"
     ]
    }
   ],
   "source": [
    "import numpy as np\n",
    "import pandas as pd\n",
    "import seaborn as sns\n",
    "import scipy\n",
    "import math\n",
    "from scipy import stats\n",
    "from mlxtend.evaluate import permutation_test\n",
    "%pylab inline\n"
   ]
  },
  {
   "cell_type": "code",
   "execution_count": 3,
   "id": "8381e783",
   "metadata": {
    "scrolled": true
   },
   "outputs": [
    {
     "data": {
      "text/html": [
       "<div>\n",
       "<style scoped>\n",
       "    .dataframe tbody tr th:only-of-type {\n",
       "        vertical-align: middle;\n",
       "    }\n",
       "\n",
       "    .dataframe tbody tr th {\n",
       "        vertical-align: top;\n",
       "    }\n",
       "\n",
       "    .dataframe thead th {\n",
       "        text-align: right;\n",
       "    }\n",
       "</style>\n",
       "<table border=\"1\" class=\"dataframe\">\n",
       "  <thead>\n",
       "    <tr style=\"text-align: right;\">\n",
       "      <th></th>\n",
       "      <th>ID</th>\n",
       "      <th>LIMIT_BAL</th>\n",
       "      <th>GENDER</th>\n",
       "      <th>EDUCATION</th>\n",
       "      <th>MARITAL</th>\n",
       "      <th>AGE</th>\n",
       "      <th>PAY_SEP</th>\n",
       "      <th>PAY_AUG</th>\n",
       "      <th>PAY_JUL</th>\n",
       "      <th>PAY_JUN</th>\n",
       "      <th>...</th>\n",
       "      <th>BILL_JUN</th>\n",
       "      <th>BILL_MAY</th>\n",
       "      <th>BILL_APR</th>\n",
       "      <th>PAY_SEP.1</th>\n",
       "      <th>PAY_AUG.1</th>\n",
       "      <th>PAY_JUL.1</th>\n",
       "      <th>PAY_JUN.1</th>\n",
       "      <th>PAY_MAY.1</th>\n",
       "      <th>PAY_APR.1</th>\n",
       "      <th>default</th>\n",
       "    </tr>\n",
       "  </thead>\n",
       "  <tbody>\n",
       "    <tr>\n",
       "      <th>0</th>\n",
       "      <td>1</td>\n",
       "      <td>20000</td>\n",
       "      <td>2</td>\n",
       "      <td>2</td>\n",
       "      <td>1</td>\n",
       "      <td>24</td>\n",
       "      <td>2</td>\n",
       "      <td>2</td>\n",
       "      <td>0</td>\n",
       "      <td>0</td>\n",
       "      <td>...</td>\n",
       "      <td>0</td>\n",
       "      <td>0</td>\n",
       "      <td>0</td>\n",
       "      <td>0</td>\n",
       "      <td>689</td>\n",
       "      <td>0</td>\n",
       "      <td>0</td>\n",
       "      <td>0</td>\n",
       "      <td>0</td>\n",
       "      <td>1</td>\n",
       "    </tr>\n",
       "    <tr>\n",
       "      <th>1</th>\n",
       "      <td>2</td>\n",
       "      <td>120000</td>\n",
       "      <td>2</td>\n",
       "      <td>2</td>\n",
       "      <td>2</td>\n",
       "      <td>26</td>\n",
       "      <td>0</td>\n",
       "      <td>2</td>\n",
       "      <td>0</td>\n",
       "      <td>0</td>\n",
       "      <td>...</td>\n",
       "      <td>3272</td>\n",
       "      <td>3455</td>\n",
       "      <td>3261</td>\n",
       "      <td>0</td>\n",
       "      <td>1000</td>\n",
       "      <td>1000</td>\n",
       "      <td>1000</td>\n",
       "      <td>0</td>\n",
       "      <td>2000</td>\n",
       "      <td>1</td>\n",
       "    </tr>\n",
       "    <tr>\n",
       "      <th>2</th>\n",
       "      <td>3</td>\n",
       "      <td>90000</td>\n",
       "      <td>2</td>\n",
       "      <td>2</td>\n",
       "      <td>2</td>\n",
       "      <td>34</td>\n",
       "      <td>0</td>\n",
       "      <td>0</td>\n",
       "      <td>0</td>\n",
       "      <td>0</td>\n",
       "      <td>...</td>\n",
       "      <td>14331</td>\n",
       "      <td>14948</td>\n",
       "      <td>15549</td>\n",
       "      <td>1518</td>\n",
       "      <td>1500</td>\n",
       "      <td>1000</td>\n",
       "      <td>1000</td>\n",
       "      <td>1000</td>\n",
       "      <td>5000</td>\n",
       "      <td>0</td>\n",
       "    </tr>\n",
       "    <tr>\n",
       "      <th>3</th>\n",
       "      <td>4</td>\n",
       "      <td>50000</td>\n",
       "      <td>2</td>\n",
       "      <td>2</td>\n",
       "      <td>1</td>\n",
       "      <td>37</td>\n",
       "      <td>0</td>\n",
       "      <td>0</td>\n",
       "      <td>0</td>\n",
       "      <td>0</td>\n",
       "      <td>...</td>\n",
       "      <td>28314</td>\n",
       "      <td>28959</td>\n",
       "      <td>29547</td>\n",
       "      <td>2000</td>\n",
       "      <td>2019</td>\n",
       "      <td>1200</td>\n",
       "      <td>1100</td>\n",
       "      <td>1069</td>\n",
       "      <td>1000</td>\n",
       "      <td>0</td>\n",
       "    </tr>\n",
       "    <tr>\n",
       "      <th>4</th>\n",
       "      <td>5</td>\n",
       "      <td>50000</td>\n",
       "      <td>1</td>\n",
       "      <td>2</td>\n",
       "      <td>1</td>\n",
       "      <td>57</td>\n",
       "      <td>0</td>\n",
       "      <td>0</td>\n",
       "      <td>0</td>\n",
       "      <td>0</td>\n",
       "      <td>...</td>\n",
       "      <td>20940</td>\n",
       "      <td>19146</td>\n",
       "      <td>19131</td>\n",
       "      <td>2000</td>\n",
       "      <td>36681</td>\n",
       "      <td>10000</td>\n",
       "      <td>9000</td>\n",
       "      <td>689</td>\n",
       "      <td>679</td>\n",
       "      <td>0</td>\n",
       "    </tr>\n",
       "  </tbody>\n",
       "</table>\n",
       "<p>5 rows × 25 columns</p>\n",
       "</div>"
      ],
      "text/plain": [
       "   ID  LIMIT_BAL  GENDER  EDUCATION  MARITAL  AGE  PAY_SEP  PAY_AUG  PAY_JUL  \\\n",
       "0   1      20000       2          2        1   24        2        2        0   \n",
       "1   2     120000       2          2        2   26        0        2        0   \n",
       "2   3      90000       2          2        2   34        0        0        0   \n",
       "3   4      50000       2          2        1   37        0        0        0   \n",
       "4   5      50000       1          2        1   57        0        0        0   \n",
       "\n",
       "   PAY_JUN  ...  BILL_JUN  BILL_MAY  BILL_APR  PAY_SEP.1  PAY_AUG.1  \\\n",
       "0        0  ...         0         0         0          0        689   \n",
       "1        0  ...      3272      3455      3261          0       1000   \n",
       "2        0  ...     14331     14948     15549       1518       1500   \n",
       "3        0  ...     28314     28959     29547       2000       2019   \n",
       "4        0  ...     20940     19146     19131       2000      36681   \n",
       "\n",
       "   PAY_JUL.1  PAY_JUN.1  PAY_MAY.1  PAY_APR.1  default  \n",
       "0          0          0          0          0        1  \n",
       "1       1000       1000          0       2000        1  \n",
       "2       1000       1000       1000       5000        0  \n",
       "3       1200       1100       1069       1000        0  \n",
       "4      10000       9000        689        679        0  \n",
       "\n",
       "[5 rows x 25 columns]"
      ]
     },
     "execution_count": 3,
     "metadata": {},
     "output_type": "execute_result"
    }
   ],
   "source": [
    "data = pd.read_csv('credit_card_default_analysis.csv')\n",
    "data.head()"
   ]
  },
  {
   "cell_type": "markdown",
   "id": "efd3d74c",
   "metadata": {},
   "source": [
    "## 1. Credit limit: test whether there are differences between median credit limits of two groups."
   ]
  },
  {
   "cell_type": "code",
   "execution_count": 4,
   "id": "82999fa2",
   "metadata": {
    "scrolled": true
   },
   "outputs": [
    {
     "data": {
      "text/plain": [
       "50000      3365\n",
       "20000      1976\n",
       "30000      1610\n",
       "80000      1567\n",
       "200000     1528\n",
       "           ... \n",
       "730000        2\n",
       "1000000       1\n",
       "327680        1\n",
       "760000        1\n",
       "690000        1\n",
       "Name: LIMIT_BAL, Length: 81, dtype: int64"
      ]
     },
     "execution_count": 4,
     "metadata": {},
     "output_type": "execute_result"
    }
   ],
   "source": [
    "data.LIMIT_BAL.value_counts()"
   ]
  },
  {
   "cell_type": "code",
   "execution_count": 5,
   "id": "74c09eec",
   "metadata": {},
   "outputs": [
    {
     "data": {
      "text/plain": [
       "(30000, 25)"
      ]
     },
     "execution_count": 5,
     "metadata": {},
     "output_type": "execute_result"
    }
   ],
   "source": [
    "data.shape"
   ]
  },
  {
   "cell_type": "markdown",
   "id": "6453c7ed",
   "metadata": {},
   "source": [
    "Taking in account the frequency analysis for this variable we can expect the problem for CLT (only 81 possible values for 30000 rows).Lets split the data by the default status"
   ]
  },
  {
   "cell_type": "code",
   "execution_count": 6,
   "id": "19dac4b6",
   "metadata": {},
   "outputs": [],
   "source": [
    "default_n = data[data.default == 0] # who did have default\n",
    "default_y  = data[data.default == 1] # who did default"
   ]
  },
  {
   "cell_type": "markdown",
   "id": "99755fb1",
   "metadata": {},
   "source": [
    "Lets generate a histograme to see the distributions"
   ]
  },
  {
   "cell_type": "code",
   "execution_count": 7,
   "id": "d2091812",
   "metadata": {
    "scrolled": false
   },
   "outputs": [
    {
     "data": {
      "image/png": "[encoded data removed]",
      "text/plain": [
       "<Figure size 1152x432 with 2 Axes>"
      ]
     },
     "metadata": {
      "needs_background": "light"
     },
     "output_type": "display_data"
    }
   ],
   "source": [
    "pylab.figure(figsize(16, 6))\n",
    "\n",
    "pylab.subplot(121)\n",
    "default_n.LIMIT_BAL.hist(color='lightskyblue', bins = 30, range = (0, 1000000))\n",
    "plt.title('Credit limit in NT dollars for Non-default clients')\n",
    "\n",
    "pylab.subplot(122)\n",
    "default_y.LIMIT_BAL.hist(color='green', bins = 30, range = (0, 1000000))\n",
    "plt.title('Credit limit in NT dollars for Default clients')\n",
    "\n",
    "\n",
    "plt.show()\n"
   ]
  },
  {
   "cell_type": "markdown",
   "id": "4e6202e4",
   "metadata": {},
   "source": [
    "**The hypothesis**:\n",
    "\n",
    "- **Null Hypothesis**: the medians values of the credit limit for people who defaulted and who did not defaulted the credit are equal. \n",
    "- **Alternative Hypothesis**: medians are different.\n",
    "\n",
    "**Maths form**:\n",
    "- $H_0:median_0=median_1$\n",
    "\n",
    "- $H_1:median_0≠median_1$"
   ]
  },
  {
   "cell_type": "code",
   "execution_count": 8,
   "id": "86f74cd7",
   "metadata": {
    "scrolled": true
   },
   "outputs": [
    {
     "name": "stdout",
     "output_type": "stream",
     "text": [
      "median credit value for clients who did not default = 150000.0\n",
      "median credit value for clients who defaulted = 90000.0\n",
      "Difference in medians = 60000.0\n",
      "95 percent  Conf. int. for median difference (60000.0, 70000.0)\n"
     ]
    }
   ],
   "source": [
    "print(f'median credit value for clients who did not default = {default_n.LIMIT_BAL.median()}')\n",
    "print(f'median credit value for clients who defaulted = {default_y.LIMIT_BAL.median()}')    \n",
    "med_dif = abs(np.median(default_n.LIMIT_BAL) - np.median(default_y.LIMIT_BAL))\n",
    "print(f'Difference in medians = {med_dif}')\n",
    "\n",
    "def get_bootstrap_samples(x, n_resamples):\n",
    "    indices = np.random.randint(0, len(x), (n_resamples, len(x)))\n",
    "    resamples = x[indices]\n",
    "    return resamples\n",
    "def stat_intervals(stat, alpha):\n",
    "    boundaries = np.percentile(stat, [100 * alpha / 2., 100 * (1 - alpha / 2.)])\n",
    "    return boundaries\n",
    "\n",
    "np.random.seed(0)\n",
    "\n",
    "limit_0_ = list(map(np.median, get_bootstrap_samples(np.array(default_n.LIMIT_BAL), 1000)))\n",
    "limit_1_ = list(map(np.median, get_bootstrap_samples(np.array(default_y.LIMIT_BAL), 1000)))\n",
    "\n",
    "med_dif_conf_inf = list(map(lambda x, y: abs(x - y), limit_0_, limit_1_))\n",
    "\n",
    "print(f'95 percent  Conf. int. for median difference {stat_intervals(med_dif_conf_inf, 0.05)[0], stat_intervals(med_dif_conf_inf, 0.05)[1]}')"
   ]
  },
  {
   "cell_type": "markdown",
   "id": "89926dc7",
   "metadata": {},
   "source": [
    "Let's test whether there are differences between median credit limits of two group. As option we can \n",
    "build 95% interval for the medians difference using bootstrap method (no needs for any assumption regarding a population)"
   ]
  },
  {
   "cell_type": "markdown",
   "id": "ca2fe3f8",
   "metadata": {},
   "source": [
    "As result we can see no overlapping of 95%CI. Acording to to obtained data we can conclude that we have an important effect size, confidence inteval for median difference [60000, 70000], medians being 150000 and 90000\n",
    "Another option is permutation test"
   ]
  },
  {
   "cell_type": "code",
   "execution_count": 9,
   "id": "4dcd8b7e",
   "metadata": {},
   "outputs": [
    {
     "name": "stdout",
     "output_type": "stream",
     "text": [
      "P value = 9.999000099990002e-05\n"
     ]
    }
   ],
   "source": [
    "\n",
    "p_value = permutation_test(default_n.LIMIT_BAL, default_y.LIMIT_BAL, paired=False, \n",
    "                           method='approximate', seed=0, num_rounds=10000)\n",
    "\n",
    "print(f'P value = {p_value}')\n"
   ]
  },
  {
   "cell_type": "markdown",
   "id": "63666d23",
   "metadata": {},
   "source": [
    "Conclusion: Finally we can reject null hypotesis ($H_0:median_0=median_1$) versus two-side alternative ($H_1:median_0≠median_1$) at level 0.05, permutation test p = 9.999000099990002e-05. Moreover, the practical significance was determined median difference 60000 (CI 95% 60000, 70000)    \n"
   ]
  },
  {
   "cell_type": "markdown",
   "id": "1aac43fa",
   "metadata": {},
   "source": [
    "## 2. Gender: test whether gender composition of two groups differ."
   ]
  },
  {
   "cell_type": "code",
   "execution_count": 10,
   "id": "1ef33354",
   "metadata": {},
   "outputs": [],
   "source": [
    "import numpy as np\n",
    "import scipy as sc\n",
    "from matplotlib import pyplot as plt\n",
    "\n",
    "from statsmodels.stats.proportion import proportion_confint, proportions_ztest, \\\n",
    "confint_proportions_2indep, test_proportions_2indep"
   ]
  },
  {
   "cell_type": "code",
   "execution_count": 11,
   "id": "dc6eff70",
   "metadata": {},
   "outputs": [
    {
     "name": "stdout",
     "output_type": "stream",
     "text": [
      "9015 2873 14349 3763\n"
     ]
    }
   ],
   "source": [
    "data_mens = data[data['GENDER'] == 1]\n",
    "data_womans = data[data['GENDER'] == 2]\n",
    "\n",
    "\n",
    "Mens_n = len(data_mens[data_mens['default'] == 0])\n",
    "Mens_d = len(data_mens[data_mens['default'] == 1])\n",
    "Womens_n = len(data_womans[data_womans['default'] == 0])\n",
    "Womens_d = len(data_womans[data_womans['default'] == 1])\n",
    "\n",
    "print(Mens_n, Mens_d, Womens_n, Womens_d)\n"
   ]
  },
  {
   "cell_type": "code",
   "execution_count": 12,
   "id": "7025f885",
   "metadata": {
    "scrolled": true
   },
   "outputs": [
    {
     "data": {
      "image/png": "[encoded data removed]",
      "text/plain": [
       "<Figure size 1152x432 with 1 Axes>"
      ]
     },
     "metadata": {
      "needs_background": "light"
     },
     "output_type": "display_data"
    }
   ],
   "source": [
    "# libraries\n",
    "import numpy as np\n",
    "import matplotlib.pyplot as plt\n",
    "from matplotlib import rc\n",
    "import pandas as pd\n",
    " \n",
    "# Data\n",
    "r = [0,1]\n",
    "raw_data = {'greenBars': [Mens_n, Womens_n], 'orangeBars': [Mens_d, Womens_d]}\n",
    "df = pd.DataFrame(raw_data)\n",
    " \n",
    "# From raw value to percentage\n",
    "totals = [i+j for i,j in zip(df['greenBars'], df['orangeBars'])]\n",
    "greenBars = [i / j * 100 for i,j in zip(df['greenBars'], totals)]\n",
    "orangeBars = [i / j * 100 for i,j in zip(df['orangeBars'], totals)]\n",
    " \n",
    "# plot\n",
    "barWidth = 0.80\n",
    "names = ('Mens','Womens')\n",
    "# Create green Bars\n",
    "plt.bar(r, greenBars, color='#b5ffb9', edgecolor='white', width=barWidth)\n",
    "# Create orange Bars\n",
    "plt.bar(r, orangeBars, bottom=greenBars, color='#f9bc86', edgecolor='white', width=barWidth)\n",
    " \n",
    "# Custom x axis\n",
    "plt.xticks(r, names)\n",
    "plt.xlabel(\"group\")\n",
    " \n",
    "# Show graphic\n",
    "plt.show()"
   ]
  },
  {
   "cell_type": "markdown",
   "id": "81edda82",
   "metadata": {},
   "source": [
    "To test whether gender composition of two groups differ let's use Chi-squared test for independence. According to the null hypothesis variables **GENDER** and **default** are independent, the alternative hypothesis states that null hypothesis is false (significance level a = 0.05)"
   ]
  },
  {
   "cell_type": "markdown",
   "id": "1ba5f1ee",
   "metadata": {},
   "source": [
    "**Null hypothesis**: GENDER and default are independent                     \n",
    "\n",
    "**Alternative hypothesis**: Null hypothesis is false\n",
    "                           "
   ]
  },
  {
   "cell_type": "code",
   "execution_count": 13,
   "id": "22d5baf5",
   "metadata": {},
   "outputs": [
    {
     "data": {
      "text/html": [
       "<div>\n",
       "<style scoped>\n",
       "    .dataframe tbody tr th:only-of-type {\n",
       "        vertical-align: middle;\n",
       "    }\n",
       "\n",
       "    .dataframe tbody tr th {\n",
       "        vertical-align: top;\n",
       "    }\n",
       "\n",
       "    .dataframe thead th {\n",
       "        text-align: right;\n",
       "    }\n",
       "</style>\n",
       "<table border=\"1\" class=\"dataframe\">\n",
       "  <thead>\n",
       "    <tr style=\"text-align: right;\">\n",
       "      <th>GENDER</th>\n",
       "      <th>1</th>\n",
       "      <th>2</th>\n",
       "    </tr>\n",
       "    <tr>\n",
       "      <th>default</th>\n",
       "      <th></th>\n",
       "      <th></th>\n",
       "    </tr>\n",
       "  </thead>\n",
       "  <tbody>\n",
       "    <tr>\n",
       "      <th>0</th>\n",
       "      <td>9015</td>\n",
       "      <td>14349</td>\n",
       "    </tr>\n",
       "    <tr>\n",
       "      <th>1</th>\n",
       "      <td>2873</td>\n",
       "      <td>3763</td>\n",
       "    </tr>\n",
       "  </tbody>\n",
       "</table>\n",
       "</div>"
      ],
      "text/plain": [
       "GENDER      1      2\n",
       "default             \n",
       "0        9015  14349\n",
       "1        2873   3763"
      ]
     },
     "execution_count": 13,
     "metadata": {},
     "output_type": "execute_result"
    }
   ],
   "source": [
    "ct = pd.crosstab(data.default, data.GENDER)\n",
    "ct"
   ]
  },
  {
   "cell_type": "code",
   "execution_count": 14,
   "id": "c2b301ec",
   "metadata": {},
   "outputs": [
    {
     "data": {
      "text/plain": [
       "(47.70879689062111,\n",
       " 4.944678999412044e-12,\n",
       " 1,\n",
       " array([[ 9258.3744, 14105.6256],\n",
       "        [ 2629.6256,  4006.3744]]))"
      ]
     },
     "execution_count": 14,
     "metadata": {},
     "output_type": "execute_result"
    }
   ],
   "source": [
    "stats.chi2_contingency(ct, correction=True) # Yates’ correction for continuity because of 2 by 2 table"
   ]
  },
  {
   "cell_type": "code",
   "execution_count": 15,
   "id": "7bd8dd4d",
   "metadata": {},
   "outputs": [
    {
     "data": {
      "text/plain": [
       "0.2754468672751328"
      ]
     },
     "execution_count": 15,
     "metadata": {},
     "output_type": "execute_result"
    }
   ],
   "source": [
    "\n",
    "### In 2-b-2 tables, phi can be interpreted as symmetric percent difference, \n",
    "### measuring the percent of concentration of cases on the diagonal. \n",
    "### Also in 2-by-2 tables, phi is identical to the correlation coefficient.\n",
    "\n",
    "Phi = 47.70879689062111/math.sqrt(30000) # effect size estimation\n",
    "Phi "
   ]
  },
  {
   "cell_type": "markdown",
   "id": "db88f81a",
   "metadata": {},
   "source": [
    "$p=4.9\\times10^{-12}<0.05$ – null hypothesis is rejected. None of the expected counts (the array returned above) are below 5, so chi-squared test is accurate. In the same time the effect size was estimated at the small level (small 0.1 - 0.29, medium 0.3 - 0.49, Large more than 0.5). \n",
    "Thus, rejecting null hypothesis we have no practical significant effect. The association is not strong enought, gender composition in both group does not differ.\n"
   ]
  },
  {
   "cell_type": "markdown",
   "id": "72652b6a",
   "metadata": {},
   "source": [
    "## 3. Education: test whether education levels differs between two groups. If it does, then how exactly?"
   ]
  },
  {
   "cell_type": "markdown",
   "id": "9ddd4142",
   "metadata": {},
   "source": [
    "EDUCATION: 0 = doctorate, 1 = masters; 2 = bachelor; 3 = school graduate; 4 = elementary education; 5 = other; 6 = no data."
   ]
  },
  {
   "cell_type": "code",
   "execution_count": 16,
   "id": "83dc652e",
   "metadata": {
    "scrolled": true
   },
   "outputs": [
    {
     "name": "stdout",
     "output_type": "stream",
     "text": [
      "default        0     1\n",
      "EDUCATION             \n",
      "0             14     0\n",
      "1           8549  2036\n",
      "2          10700  3330\n",
      "3           3680  1237\n",
      "4            116     7\n",
      "5            262    18\n",
      "6             43     8\n"
     ]
    }
   ],
   "source": [
    "import statsmodels.api as sm\n",
    "\n",
    "data_ct = data[[\"EDUCATION\", \"default\"]]\n",
    "\n",
    "tbl = sm.stats.Table.from_data(data_ct)\n",
    "\n",
    "print(tbl.table_orig)\n",
    "\n"
   ]
  },
  {
   "cell_type": "code",
   "execution_count": 17,
   "id": "e4956dd0",
   "metadata": {
    "scrolled": false
   },
   "outputs": [
    {
     "data": {
      "text/plain": [
       "<seaborn.axisgrid.FacetGrid at 0x21670029dc0>"
      ]
     },
     "execution_count": 17,
     "metadata": {},
     "output_type": "execute_result"
    },
    {
     "data": {
      "image/png": "[encoded data removed]",
      "text/plain": [
       "<Figure size 432x432 with 1 Axes>"
      ]
     },
     "metadata": {
      "needs_background": "light"
     },
     "output_type": "display_data"
    }
   ],
   "source": [
    "sns.catplot(x='EDUCATION', y='default',  data=data, kind=\"bar\", height = 6)\n"
   ]
  },
  {
   "cell_type": "markdown",
   "id": "2d521cf6",
   "metadata": {},
   "source": [
    "Analysing the contingency table is optimal to fuse the category 0 and category 1 (masterate and doctorate are somethere close to each other) \n",
    "Also we can put in the same category 3 and 4. Last optimization being analysing categories 5 and 6 as one."
   ]
  },
  {
   "cell_type": "code",
   "execution_count": 18,
   "id": "fa9ecbb1",
   "metadata": {},
   "outputs": [],
   "source": [
    "data_opt = data.copy()\n",
    "data_opt.EDUCATION[data_opt.EDUCATION == 0] = 1\n",
    "data_opt.EDUCATION[data_opt.EDUCATION == 4] = 3\n",
    "data_opt.EDUCATION[data_opt.EDUCATION == 6] = 5"
   ]
  },
  {
   "cell_type": "markdown",
   "id": "9e364113",
   "metadata": {},
   "source": [
    "**Null hypothesis**: Education and default are independent                     \n",
    "\n",
    "**Alternative hypothesis**: Null hypothesis is false"
   ]
  },
  {
   "cell_type": "code",
   "execution_count": 19,
   "id": "c7215155",
   "metadata": {},
   "outputs": [
    {
     "data": {
      "text/html": [
       "<div>\n",
       "<style scoped>\n",
       "    .dataframe tbody tr th:only-of-type {\n",
       "        vertical-align: middle;\n",
       "    }\n",
       "\n",
       "    .dataframe tbody tr th {\n",
       "        vertical-align: top;\n",
       "    }\n",
       "\n",
       "    .dataframe thead th {\n",
       "        text-align: right;\n",
       "    }\n",
       "</style>\n",
       "<table border=\"1\" class=\"dataframe\">\n",
       "  <thead>\n",
       "    <tr style=\"text-align: right;\">\n",
       "      <th>default</th>\n",
       "      <th>0</th>\n",
       "      <th>1</th>\n",
       "    </tr>\n",
       "    <tr>\n",
       "      <th>EDUCATION</th>\n",
       "      <th></th>\n",
       "      <th></th>\n",
       "    </tr>\n",
       "  </thead>\n",
       "  <tbody>\n",
       "    <tr>\n",
       "      <th>1</th>\n",
       "      <td>8563</td>\n",
       "      <td>2036</td>\n",
       "    </tr>\n",
       "    <tr>\n",
       "      <th>2</th>\n",
       "      <td>10700</td>\n",
       "      <td>3330</td>\n",
       "    </tr>\n",
       "    <tr>\n",
       "      <th>3</th>\n",
       "      <td>3796</td>\n",
       "      <td>1244</td>\n",
       "    </tr>\n",
       "    <tr>\n",
       "      <th>5</th>\n",
       "      <td>305</td>\n",
       "      <td>26</td>\n",
       "    </tr>\n",
       "  </tbody>\n",
       "</table>\n",
       "</div>"
      ],
      "text/plain": [
       "default        0     1\n",
       "EDUCATION             \n",
       "1           8563  2036\n",
       "2          10700  3330\n",
       "3           3796  1244\n",
       "5            305    26"
      ]
     },
     "execution_count": 19,
     "metadata": {},
     "output_type": "execute_result"
    }
   ],
   "source": [
    "ct = pd.crosstab(data_opt.EDUCATION, data_opt.default)\n",
    "ct"
   ]
  },
  {
   "cell_type": "code",
   "execution_count": 20,
   "id": "4096b926",
   "metadata": {},
   "outputs": [
    {
     "data": {
      "text/plain": [
       "(131.67125551365388,\n",
       " 2.3599198278262482e-28,\n",
       " 3,\n",
       " array([[ 8254.5012,  2344.4988],\n",
       "        [10926.564 ,  3103.436 ],\n",
       "        [ 3925.152 ,  1114.848 ],\n",
       "        [  257.7828,    73.2172]]))"
      ]
     },
     "execution_count": 20,
     "metadata": {},
     "output_type": "execute_result"
    }
   ],
   "source": [
    "stats.chi2_contingency(ct)"
   ]
  },
  {
   "cell_type": "code",
   "execution_count": 21,
   "id": "900eb8b1",
   "metadata": {},
   "outputs": [
    {
     "name": "stdout",
     "output_type": "stream",
     "text": [
      "v_cramer:  0.06624984415419502\n"
     ]
    }
   ],
   "source": [
    "# effect size determination\n",
    "\n",
    "def v_cramer(chi, n, shape):\n",
    "    return np.sqrt(chi/n/(min(shape[0], shape[1])-1))\n",
    "\n",
    "n = len(data) \n",
    "\n",
    "print ('v_cramer: ', v_cramer(stats.chi2_contingency(ct, correction=False)[0], \n",
    "                             n, ct.shape))"
   ]
  },
  {
   "cell_type": "markdown",
   "id": "00587e5d",
   "metadata": {},
   "source": [
    "$p=2.36\\times10^{-28}<0.05$ – null hypothesis is rejected. None of the expected counts (the array returned above) are below 5, so chi-squared test is accurate. \n",
    "In the same time the effect size was estimated at the small level (Cramer's V = 0.07). \n",
    "Thus, rejecting null hypothesis we have no practical significant effect. The association is not strong enought, education level in both group does not differ."
   ]
  },
  {
   "cell_type": "markdown",
   "id": "8bf84e0d",
   "metadata": {},
   "source": [
    "## 4. Marital status: Check how marital status is related to the default indicator: you need to propose a measure by which you can measure the possible relationship of these variables and calculate its value."
   ]
  },
  {
   "cell_type": "markdown",
   "id": "ef00133d",
   "metadata": {},
   "source": [
    "MARITAL: marital status: 0 = no answer; 1 = married; 2 = single; 3 = no data."
   ]
  },
  {
   "cell_type": "code",
   "execution_count": 22,
   "id": "b20168a1",
   "metadata": {
    "scrolled": true
   },
   "outputs": [
    {
     "data": {
      "text/plain": [
       "MARITAL\n",
       "0       54\n",
       "1    13659\n",
       "2    15964\n",
       "3      323\n",
       "Name: MARITAL, dtype: int64"
      ]
     },
     "execution_count": 22,
     "metadata": {},
     "output_type": "execute_result"
    }
   ],
   "source": [
    "data.groupby(['MARITAL'])['MARITAL'].count()"
   ]
  },
  {
   "cell_type": "markdown",
   "id": "f5f6c0b1",
   "metadata": {},
   "source": [
    "No answer and no data can be fused"
   ]
  },
  {
   "cell_type": "code",
   "execution_count": 23,
   "id": "7704797a",
   "metadata": {
    "scrolled": true
   },
   "outputs": [
    {
     "data": {
      "text/plain": [
       "MARITAL\n",
       "1    13659\n",
       "2    15964\n",
       "3      377\n",
       "Name: MARITAL, dtype: int64"
      ]
     },
     "execution_count": 23,
     "metadata": {},
     "output_type": "execute_result"
    }
   ],
   "source": [
    "data_opt = data.copy()\n",
    "data_opt.loc[data_opt.MARITAL == 0, 'MARITAL'] = 3\n",
    "data_opt.groupby(['MARITAL'])['MARITAL'].count()"
   ]
  },
  {
   "cell_type": "markdown",
   "id": "09368514",
   "metadata": {},
   "source": [
    "$H_0$: marital status and default status are independent\n",
    "\n",
    "$H_1$: $H_0$ is false"
   ]
  },
  {
   "cell_type": "code",
   "execution_count": 24,
   "id": "e44c7ac5",
   "metadata": {
    "scrolled": false
   },
   "outputs": [
    {
     "data": {
      "text/html": [
       "<div>\n",
       "<style scoped>\n",
       "    .dataframe tbody tr th:only-of-type {\n",
       "        vertical-align: middle;\n",
       "    }\n",
       "\n",
       "    .dataframe tbody tr th {\n",
       "        vertical-align: top;\n",
       "    }\n",
       "\n",
       "    .dataframe thead th {\n",
       "        text-align: right;\n",
       "    }\n",
       "</style>\n",
       "<table border=\"1\" class=\"dataframe\">\n",
       "  <thead>\n",
       "    <tr style=\"text-align: right;\">\n",
       "      <th>default</th>\n",
       "      <th>0</th>\n",
       "      <th>1</th>\n",
       "    </tr>\n",
       "    <tr>\n",
       "      <th>MARITAL</th>\n",
       "      <th></th>\n",
       "      <th></th>\n",
       "    </tr>\n",
       "  </thead>\n",
       "  <tbody>\n",
       "    <tr>\n",
       "      <th>1</th>\n",
       "      <td>10453</td>\n",
       "      <td>3206</td>\n",
       "    </tr>\n",
       "    <tr>\n",
       "      <th>2</th>\n",
       "      <td>12623</td>\n",
       "      <td>3341</td>\n",
       "    </tr>\n",
       "    <tr>\n",
       "      <th>3</th>\n",
       "      <td>288</td>\n",
       "      <td>89</td>\n",
       "    </tr>\n",
       "  </tbody>\n",
       "</table>\n",
       "</div>"
      ],
      "text/plain": [
       "default      0     1\n",
       "MARITAL             \n",
       "1        10453  3206\n",
       "2        12623  3341\n",
       "3          288    89"
      ]
     },
     "execution_count": 24,
     "metadata": {},
     "output_type": "execute_result"
    }
   ],
   "source": [
    "ct = pd.crosstab(data_opt.MARITAL, data_opt.default)\n",
    "ct"
   ]
  },
  {
   "cell_type": "code",
   "execution_count": 25,
   "id": "e74389b9",
   "metadata": {
    "scrolled": true
   },
   "outputs": [
    {
     "data": {
      "text/plain": [
       "(28.13032464482199,\n",
       " 7.790720364202813e-07,\n",
       " 2,\n",
       " array([[10637.6292,  3021.3708],\n",
       "        [12432.7632,  3531.2368],\n",
       "        [  293.6076,    83.3924]]))"
      ]
     },
     "execution_count": 25,
     "metadata": {},
     "output_type": "execute_result"
    }
   ],
   "source": [
    "stats.chi2_contingency(ct)"
   ]
  },
  {
   "cell_type": "code",
   "execution_count": 26,
   "id": "8fde5c3c",
   "metadata": {},
   "outputs": [
    {
     "name": "stdout",
     "output_type": "stream",
     "text": [
      "v_cramer:  0.030621520017150242\n"
     ]
    }
   ],
   "source": [
    "# effect size determination\n",
    "\n",
    "def v_cramer(chi, n, shape):\n",
    "    return np.sqrt(chi/n/(min(shape[0], shape[1])-1))\n",
    "\n",
    "n = len(data) \n",
    "\n",
    "print ('v_cramer: ', v_cramer(stats.chi2_contingency(ct, correction=False)[0], \n",
    "                             n, ct.shape))\n"
   ]
  },
  {
   "cell_type": "markdown",
   "id": "85384d44",
   "metadata": {
    "scrolled": true
   },
   "source": [
    "$p=7.79\\times10^{-07}<0.05$ – null hypothesis is rejected. None of the expected counts (the array returned above) are below 5, so chi-squared test is accurate. \n",
    "In the same time the effect size was estimated at the small level (Cramer's V = 0.03). \n",
    "Thus, rejecting null hypothesis we have no practical significant effect. The association is not strong enought, marital status and default status are independent."
   ]
  },
  {
   "cell_type": "markdown",
   "id": "a9b288c7",
   "metadata": {},
   "source": [
    "Another option is to remove no answer and no data categories. \n",
    "In this case multiple testing problem has to be considered"
   ]
  },
  {
   "cell_type": "code",
   "execution_count": 27,
   "id": "b8cb9574",
   "metadata": {},
   "outputs": [
    {
     "data": {
      "text/plain": [
       "MARITAL\n",
       "1    13659\n",
       "2    15964\n",
       "Name: MARITAL, dtype: int64"
      ]
     },
     "execution_count": 27,
     "metadata": {},
     "output_type": "execute_result"
    }
   ],
   "source": [
    "data_opt_2 = data.copy()\n",
    "data_opt_2.drop(data_opt_2.loc[data_opt_2['MARITAL'] == 0].index, inplace=True)\n",
    "data_opt_2.drop(data_opt_2.loc[data_opt_2['MARITAL'] == 3].index, inplace=True)\n",
    "data_opt_2.groupby(['MARITAL'])['MARITAL'].count()\n"
   ]
  },
  {
   "cell_type": "markdown",
   "id": "eea437e9",
   "metadata": {},
   "source": [
    "$H_0$: marital status and default status are independent\n",
    "\n",
    "$H_1$: $H_0$ is false"
   ]
  },
  {
   "cell_type": "code",
   "execution_count": 28,
   "id": "1bf75616",
   "metadata": {},
   "outputs": [
    {
     "data": {
      "text/html": [
       "<div>\n",
       "<style scoped>\n",
       "    .dataframe tbody tr th:only-of-type {\n",
       "        vertical-align: middle;\n",
       "    }\n",
       "\n",
       "    .dataframe tbody tr th {\n",
       "        vertical-align: top;\n",
       "    }\n",
       "\n",
       "    .dataframe thead th {\n",
       "        text-align: right;\n",
       "    }\n",
       "</style>\n",
       "<table border=\"1\" class=\"dataframe\">\n",
       "  <thead>\n",
       "    <tr style=\"text-align: right;\">\n",
       "      <th>default</th>\n",
       "      <th>0</th>\n",
       "      <th>1</th>\n",
       "    </tr>\n",
       "    <tr>\n",
       "      <th>MARITAL</th>\n",
       "      <th></th>\n",
       "      <th></th>\n",
       "    </tr>\n",
       "  </thead>\n",
       "  <tbody>\n",
       "    <tr>\n",
       "      <th>1</th>\n",
       "      <td>10453</td>\n",
       "      <td>3206</td>\n",
       "    </tr>\n",
       "    <tr>\n",
       "      <th>2</th>\n",
       "      <td>12623</td>\n",
       "      <td>3341</td>\n",
       "    </tr>\n",
       "  </tbody>\n",
       "</table>\n",
       "</div>"
      ],
      "text/plain": [
       "default      0     1\n",
       "MARITAL             \n",
       "1        10453  3206\n",
       "2        12623  3341"
      ]
     },
     "execution_count": 28,
     "metadata": {},
     "output_type": "execute_result"
    }
   ],
   "source": [
    "ct = pd.crosstab(data_opt_2.MARITAL, data_opt_2.default)\n",
    "ct"
   ]
  },
  {
   "cell_type": "code",
   "execution_count": 29,
   "id": "fe0cf1df",
   "metadata": {},
   "outputs": [
    {
     "data": {
      "text/plain": [
       "(27.5094090929579,\n",
       " 1.5633210355976673e-07,\n",
       " 1,\n",
       " array([[10640.21483307,  3018.78516693],\n",
       "        [12435.78516693,  3528.21483307]]))"
      ]
     },
     "execution_count": 29,
     "metadata": {},
     "output_type": "execute_result"
    }
   ],
   "source": [
    "stats.chi2_contingency(ct, correction=True) # Yates’ correction for continuity because of 2 by 2 table"
   ]
  },
  {
   "cell_type": "code",
   "execution_count": 30,
   "id": "5c174848",
   "metadata": {},
   "outputs": [
    {
     "data": {
      "text/plain": [
       "0.15882564745066782"
      ]
     },
     "execution_count": 30,
     "metadata": {},
     "output_type": "execute_result"
    }
   ],
   "source": [
    "# effect size determination\n",
    "\n",
    "Phi = 27.5094090929579/math.sqrt(30000) # effect size estimation\n",
    "Phi "
   ]
  },
  {
   "cell_type": "code",
   "execution_count": 31,
   "id": "52f9005f",
   "metadata": {},
   "outputs": [
    {
     "data": {
      "text/plain": [
       "3.1266420711953346e-07"
      ]
     },
     "execution_count": 31,
     "metadata": {},
     "output_type": "execute_result"
    }
   ],
   "source": [
    "# multiple testing correction (Bonferroni)\n",
    "\n",
    "p = 1.5633210355976673e-07*2\n",
    "p"
   ]
  },
  {
   "cell_type": "markdown",
   "id": "16eb8a3d",
   "metadata": {},
   "source": [
    "Also we need to change the p-value for the first test"
   ]
  },
  {
   "cell_type": "markdown",
   "id": "b3e85b12",
   "metadata": {},
   "source": [
    "$p=3.12\\times10^{-07}<0.05$ – null hypothesis is rejected. None of the expected counts (the array returned above) are below 5, so chi-squared test is accurate. \n",
    "In the same time the effect size was estimated at the small level (Phi = 0.16). \n",
    "Thus, rejecting null hypothesis we have no practical significant effect. The association is not strong enought, marital status and default status are independent."
   ]
  },
  {
   "cell_type": "markdown",
   "id": "5c109e9c",
   "metadata": {},
   "source": [
    "## 5. Age: test whether there are differences between mean ages of clients in two groups."
   ]
  },
  {
   "cell_type": "code",
   "execution_count": 32,
   "id": "90b381f7",
   "metadata": {},
   "outputs": [],
   "source": [
    "repayment = data[data.default == 0]\n",
    "loan = data[data.default == 1]"
   ]
  },
  {
   "cell_type": "code",
   "execution_count": 33,
   "id": "1b86573f",
   "metadata": {
    "scrolled": true
   },
   "outputs": [
    {
     "data": {
      "image/png": "[encoded data removed]",
      "text/plain": [
       "<Figure size 1152x288 with 2 Axes>"
      ]
     },
     "metadata": {
      "needs_background": "light"
     },
     "output_type": "display_data"
    }
   ],
   "source": [
    "pylab.figure(figsize(16, 4))\n",
    "pylab.subplot(1,2,1)\n",
    "repayment.AGE.hist(color='lightskyblue', bins = 60, range = (20, 80))\n",
    "pylab.xlabel('Age, years')\n",
    "pylab.ylabel('Frequency')\n",
    "plt.title('No default');\n",
    "\n",
    "\n",
    "pylab.subplot(1,2,2)\n",
    "loan.AGE.hist(color='lightcoral', bins = 60, range = (20, 80))\n",
    "pylab.xlabel('Age, years')\n",
    "pylab.ylabel('Frequency')\n",
    "plt.title('Default');\n",
    "\n"
   ]
  },
  {
   "cell_type": "code",
   "execution_count": 34,
   "id": "5c5edf69",
   "metadata": {},
   "outputs": [
    {
     "name": "stdout",
     "output_type": "stream",
     "text": [
      "ShapiroResult(statistic=0.9496142864227295, pvalue=0.0)\n",
      "ShapiroResult(statistic=0.9501639008522034, pvalue=1.0733946236728099e-42)\n"
     ]
    },
    {
     "name": "stderr",
     "output_type": "stream",
     "text": [
      "C:\\ProgramData\\Anaconda3\\lib\\site-packages\\scipy\\stats\\morestats.py:1760: UserWarning: p-value may not be accurate for N > 5000.\n",
      "  warnings.warn(\"p-value may not be accurate for N > 5000.\")\n"
     ]
    }
   ],
   "source": [
    "print(scipy.stats.shapiro(repayment.AGE))\n",
    "print(scipy.stats.shapiro(loan.AGE))\n"
   ]
  },
  {
   "cell_type": "code",
   "execution_count": 35,
   "id": "4ecf83ab",
   "metadata": {},
   "outputs": [
    {
     "name": "stdout",
     "output_type": "stream",
     "text": [
      "NormaltestResult(statistic=1774.1491725831022, pvalue=0.0)\n",
      "NormaltestResult(statistic=417.8892064354769, pvalue=1.805143779273549e-91)\n"
     ]
    }
   ],
   "source": [
    "\n",
    "print(scipy.stats.normaltest(repayment.AGE))\n",
    "print(scipy.stats.normaltest(loan.AGE))\n"
   ]
  },
  {
   "cell_type": "markdown",
   "id": "53226369",
   "metadata": {},
   "source": [
    "Both Shapiro-Wilk test and D’Agostino test shows possible problems for CLT at least for loan.age variable. There is limitation 5000 for Shapiro Wilk test. So, the one option is data transformation, another to use non-parametric tests, permutation test being as good option (we know the age distribution). After that we will estimate the effect size using the 95% CI"
   ]
  },
  {
   "cell_type": "markdown",
   "id": "09c56b8a",
   "metadata": {},
   "source": [
    "### Permutation test\n",
    "$H_0\\colon$ average age are the same in both groups.\n",
    "\n",
    "$H_1\\colon$ average age are not the same in both groups."
   ]
  },
  {
   "cell_type": "code",
   "execution_count": 36,
   "id": "340d6126",
   "metadata": {},
   "outputs": [],
   "source": [
    "def permutation_t_stat_2s(sample1, sample2):\n",
    "    return np.mean(sample1) - np.mean(sample2)\n",
    "\n",
    "def get_random_combinations(n1, n2, max_permutations):\n",
    "    index = np.array(range(n1 + n2))\n",
    "    indices = set([tuple(index)])\n",
    "    for i in range(max_permutations - 1):\n",
    "        np.random.shuffle(index)\n",
    "        indices.add(tuple(index))\n",
    "    return [(index[:n1], index[n1:]) for index in indices]\n",
    "\n",
    "def permutation_null_dist_2s(sample1, sample2, max_permutations = None):\n",
    "    pooled_sample = np.hstack((sample1, sample2))\n",
    "    n1 = len(sample1)\n",
    "    n2 = len(sample2)\n",
    "    n = n1 + n2\n",
    "    \n",
    "    if max_permutations:\n",
    "        indices = get_random_combinations(n1, n2, max_permutations)\n",
    "    else:\n",
    "        indices = [(list(index), filter(lambda i: i not in index, range(n))) \\\n",
    "                    for index in itertools.combinations(range(n), n1)]\n",
    "    \n",
    "    distr = [permutation_t_stat_2s(pooled_sample[list(i[0])], pooled_sample[list(i[1])]) \\\n",
    "             for i in indices]\n",
    "    return distr\n",
    "\n",
    "def permutation_test_2s(sample1, sample2, max_permutations = None, alternative = 'two-sided', return_distr = False):\n",
    "    if alternative not in ('two-sided', 'less', 'greater'):\n",
    "        raise ValueError(\"alternative not recognized\\n\"\n",
    "                         \"should be 'two-sided', 'less' or 'greater'\")\n",
    "    \n",
    "    t_stat = permutation_t_stat_2s(sample1, sample2)\n",
    "    \n",
    "    null_distr = permutation_null_dist_2s(sample1, sample2, max_permutations)\n",
    "    \n",
    "    if alternative == 'two-sided':\n",
    "        p = sum([1. if abs(x) >= abs(t_stat) else 0. for x in null_distr]) / len(null_distr)\n",
    "    elif alternative == 'less':\n",
    "        p = sum([1. if x <= t_stat else 0. for x in null_distr]) / len(null_distr)\n",
    "    else: # alternative == 'greater':\n",
    "        p = sum([1. if x >= t_stat else 0. for x in null_distr]) / len(null_distr)\n",
    "    \n",
    "    if return_distr:\n",
    "        return {'t': t_stat, 'p': p, 'null_distr': null_distr}\n",
    "    else:\n",
    "        return {'t': t_stat, 'p': p}"
   ]
  },
  {
   "cell_type": "code",
   "execution_count": 38,
   "id": "04d0c7b7",
   "metadata": {},
   "outputs": [
    {
     "name": "stdout",
     "output_type": "stream",
     "text": [
      "Permutation test: t = -0.308473, p = 0.015000\n"
     ]
    }
   ],
   "source": [
    "res = permutation_test_2s(repayment.AGE, loan.AGE, max_permutations = 1000, return_distr = True)\n",
    "print(\"Permutation test: t = %f, p = %f\" % (res['t'], res['p']))"
   ]
  },
  {
   "cell_type": "code",
   "execution_count": 39,
   "id": "5e840436",
   "metadata": {},
   "outputs": [],
   "source": [
    "def get_bootstrap_samples(data, n_samples):\n",
    "    indices = np.random.randint(0, len(data), (n_samples, len(data)))\n",
    "    samples = data[indices]\n",
    "    return samples\n",
    "\n",
    "def stat_intervals(stat, alpha):\n",
    "    boundaries = np.percentile(stat, [100 * alpha / 2., 100 * (1 - alpha / 2.)])\n",
    "    return boundaries"
   ]
  },
  {
   "cell_type": "code",
   "execution_count": 40,
   "id": "ec4d33c8",
   "metadata": {
    "scrolled": true
   },
   "outputs": [
    {
     "name": "stdout",
     "output_type": "stream",
     "text": [
      "Median in age distirbution for default = 0 34.000000\n",
      "Median in age distirbution for default = 1 34.000000\n",
      "Conf. interval for median of age distirbution for default = 0 [34.000000,34.000000]\n",
      "Conf. interval for median of age distirbution for default = 1 [34.000000,35.000000]\n",
      "Difference in medians = 0.000000\n"
     ]
    }
   ],
   "source": [
    "# effect size estimation\n",
    "\n",
    "print('Median in age distirbution for default = 0 %f' % np.median(repayment.AGE))\n",
    "print('Median in age distirbution for default = 1 %f' % np.median(loan.AGE))\n",
    "age0 = data[data['default'] == 0].loc[:, ['AGE']]\n",
    "age1 = data[data['default'] == 1].loc[:, ['AGE']]\n",
    "\n",
    "age0_bs = list(map(np.median, get_bootstrap_samples(age0.values, 100)))\n",
    "age1_bs = list(map(np.median, get_bootstrap_samples(age1.values, 100)))\n",
    "\n",
    "print('Conf. interval for median of age distirbution for default = 0 [%f,%f]' % (stat_intervals(age0_bs, 0.05)[0], \n",
    "      stat_intervals(age0_bs, 0.05)[1]))\n",
    "print('Conf. interval for median of age distirbution for default = 1 [%f,%f]' % (stat_intervals(age1_bs, 0.05)[0], \n",
    "     stat_intervals(age1_bs, 0.05)[1]))\n",
    "\n",
    "delta_med = np.median(age0) - np.median(age1)\n",
    "print('Difference in medians = %f' % delta_med)"
   ]
  },
  {
   "cell_type": "code",
   "execution_count": 41,
   "id": "78ba29a2",
   "metadata": {},
   "outputs": [
    {
     "name": "stdout",
     "output_type": "stream",
     "text": [
      "95 percent  Conf. int. for median difference [-1.000000, 0.000000]\n"
     ]
    }
   ],
   "source": [
    "\n",
    "delta_med_list = list(map(lambda x,y: x-y, age0_bs, age1_bs))\n",
    "print('95 percent  Conf. int. for median difference [%f, %f]' % (stat_intervals(delta_med_list, 0.05)[0], \n",
    "                                                          stat_intervals(delta_med_list, 0.05)[1]))"
   ]
  },
  {
   "cell_type": "markdown",
   "id": "e5b0df59",
   "metadata": {},
   "source": [
    "As conclusion we can reject null hypothesis versus 2 side alternative one (permutation test t = -0.308473, p = 0.015000) at significance level < 0.05. In the same time the effect size is reduce one (Difference in medians = 0.000000, 95% CI for median difference is -1, 0). Finally there is no practical significant difference in average Age between groups"
   ]
  }
 ],
 "metadata": {
  "kernelspec": {
   "display_name": "Python 3 (ipykernel)",
   "language": "python",
   "name": "python3"
  },
  "language_info": {
   "codemirror_mode": {
    "name": "ipython",
    "version": 3
   },
   "file_extension": ".py",
   "mimetype": "text/x-python",
   "name": "python",
   "nbconvert_exporter": "python",
   "pygments_lexer": "ipython3",
   "version": "3.9.7"
  }
 },
 "nbformat": 4,
 "nbformat_minor": 5
}
