{
 "cells": [
  {
   "cell_type": "code",
   "execution_count": 108,
   "metadata": {
    "collapsed": true,
    "pycharm": {
     "name": "#%%\n"
    }
   },
   "outputs": [],
   "source": [
    "import numpy as np\n",
    "import pandas as pd\n",
    "import sklearn as sk\n",
    "from scipy import stats as st\n",
    "import matplotlib.pyplot as plt\n",
    "from statsmodels.stats.descriptivestats import sign_test\n",
    "from statsmodels.stats.weightstats import zconfint"
   ]
  },
  {
   "cell_type": "code",
   "execution_count": 109,
   "metadata": {
    "collapsed": false,
    "pycharm": {
     "name": "#%%\n"
    }
   },
   "outputs": [],
   "source": [
    "def get_bootstrap_samples(x, n_resamples):\n",
    "    indices = np.random.randint(0, len(x), (n_resamples, len(x)))\n",
    "    resamples = x[indices]\n",
    "    return resamples\n",
    "\n",
    "def percentile_interval(stat, alpha):\n",
    "    boundaries = np.percentile(stat, [100 * alpha / 2., 100 * (1 - alpha / 2.)])\n",
    "    return boundaries"
   ]
  },
  {
   "cell_type": "markdown",
   "metadata": {
    "collapsed": false,
    "pycharm": {
     "name": "#%% md\n"
    }
   },
   "source": [
    "# Load the data #"
   ]
  },
  {
   "cell_type": "code",
   "execution_count": 110,
   "metadata": {
    "collapsed": false,
    "pycharm": {
     "name": "#%%\n"
    }
   },
   "outputs": [
    {
     "data": {
      "text/html": [
       "<div>\n",
       "<style scoped>\n",
       "    .dataframe tbody tr th:only-of-type {\n",
       "        vertical-align: middle;\n",
       "    }\n",
       "\n",
       "    .dataframe tbody tr th {\n",
       "        vertical-align: top;\n",
       "    }\n",
       "\n",
       "    .dataframe thead th {\n",
       "        text-align: right;\n",
       "    }\n",
       "</style>\n",
       "<table border=\"1\" class=\"dataframe\">\n",
       "  <thead>\n",
       "    <tr style=\"text-align: right;\">\n",
       "      <th></th>\n",
       "      <th>ID</th>\n",
       "      <th>LIMIT_BAL</th>\n",
       "      <th>GENDER</th>\n",
       "      <th>EDUCATION</th>\n",
       "      <th>MARITAL</th>\n",
       "      <th>AGE</th>\n",
       "      <th>PAY_SEP</th>\n",
       "      <th>PAY_AUG</th>\n",
       "      <th>PAY_JUL</th>\n",
       "      <th>PAY_JUN</th>\n",
       "      <th>...</th>\n",
       "      <th>BILL_JUN</th>\n",
       "      <th>BILL_MAY</th>\n",
       "      <th>BILL_APR</th>\n",
       "      <th>PAY_SEP.1</th>\n",
       "      <th>PAY_AUG.1</th>\n",
       "      <th>PAY_JUL.1</th>\n",
       "      <th>PAY_JUN.1</th>\n",
       "      <th>PAY_MAY.1</th>\n",
       "      <th>PAY_APR.1</th>\n",
       "      <th>default</th>\n",
       "    </tr>\n",
       "  </thead>\n",
       "  <tbody>\n",
       "    <tr>\n",
       "      <th>0</th>\n",
       "      <td>1</td>\n",
       "      <td>20000</td>\n",
       "      <td>2</td>\n",
       "      <td>2</td>\n",
       "      <td>1</td>\n",
       "      <td>24</td>\n",
       "      <td>2</td>\n",
       "      <td>2</td>\n",
       "      <td>0</td>\n",
       "      <td>0</td>\n",
       "      <td>...</td>\n",
       "      <td>0</td>\n",
       "      <td>0</td>\n",
       "      <td>0</td>\n",
       "      <td>0</td>\n",
       "      <td>689</td>\n",
       "      <td>0</td>\n",
       "      <td>0</td>\n",
       "      <td>0</td>\n",
       "      <td>0</td>\n",
       "      <td>1</td>\n",
       "    </tr>\n",
       "    <tr>\n",
       "      <th>1</th>\n",
       "      <td>2</td>\n",
       "      <td>120000</td>\n",
       "      <td>2</td>\n",
       "      <td>2</td>\n",
       "      <td>2</td>\n",
       "      <td>26</td>\n",
       "      <td>0</td>\n",
       "      <td>2</td>\n",
       "      <td>0</td>\n",
       "      <td>0</td>\n",
       "      <td>...</td>\n",
       "      <td>3272</td>\n",
       "      <td>3455</td>\n",
       "      <td>3261</td>\n",
       "      <td>0</td>\n",
       "      <td>1000</td>\n",
       "      <td>1000</td>\n",
       "      <td>1000</td>\n",
       "      <td>0</td>\n",
       "      <td>2000</td>\n",
       "      <td>1</td>\n",
       "    </tr>\n",
       "    <tr>\n",
       "      <th>2</th>\n",
       "      <td>3</td>\n",
       "      <td>90000</td>\n",
       "      <td>2</td>\n",
       "      <td>2</td>\n",
       "      <td>2</td>\n",
       "      <td>34</td>\n",
       "      <td>0</td>\n",
       "      <td>0</td>\n",
       "      <td>0</td>\n",
       "      <td>0</td>\n",
       "      <td>...</td>\n",
       "      <td>14331</td>\n",
       "      <td>14948</td>\n",
       "      <td>15549</td>\n",
       "      <td>1518</td>\n",
       "      <td>1500</td>\n",
       "      <td>1000</td>\n",
       "      <td>1000</td>\n",
       "      <td>1000</td>\n",
       "      <td>5000</td>\n",
       "      <td>0</td>\n",
       "    </tr>\n",
       "    <tr>\n",
       "      <th>3</th>\n",
       "      <td>4</td>\n",
       "      <td>50000</td>\n",
       "      <td>2</td>\n",
       "      <td>2</td>\n",
       "      <td>1</td>\n",
       "      <td>37</td>\n",
       "      <td>0</td>\n",
       "      <td>0</td>\n",
       "      <td>0</td>\n",
       "      <td>0</td>\n",
       "      <td>...</td>\n",
       "      <td>28314</td>\n",
       "      <td>28959</td>\n",
       "      <td>29547</td>\n",
       "      <td>2000</td>\n",
       "      <td>2019</td>\n",
       "      <td>1200</td>\n",
       "      <td>1100</td>\n",
       "      <td>1069</td>\n",
       "      <td>1000</td>\n",
       "      <td>0</td>\n",
       "    </tr>\n",
       "    <tr>\n",
       "      <th>4</th>\n",
       "      <td>5</td>\n",
       "      <td>50000</td>\n",
       "      <td>1</td>\n",
       "      <td>2</td>\n",
       "      <td>1</td>\n",
       "      <td>57</td>\n",
       "      <td>0</td>\n",
       "      <td>0</td>\n",
       "      <td>0</td>\n",
       "      <td>0</td>\n",
       "      <td>...</td>\n",
       "      <td>20940</td>\n",
       "      <td>19146</td>\n",
       "      <td>19131</td>\n",
       "      <td>2000</td>\n",
       "      <td>36681</td>\n",
       "      <td>10000</td>\n",
       "      <td>9000</td>\n",
       "      <td>689</td>\n",
       "      <td>679</td>\n",
       "      <td>0</td>\n",
       "    </tr>\n",
       "  </tbody>\n",
       "</table>\n",
       "<p>5 rows × 25 columns</p>\n",
       "</div>"
      ],
      "text/plain": [
       "   ID  LIMIT_BAL  GENDER  EDUCATION  MARITAL  AGE  PAY_SEP  PAY_AUG  PAY_JUL  \\\n",
       "0   1      20000       2          2        1   24        2        2        0   \n",
       "1   2     120000       2          2        2   26        0        2        0   \n",
       "2   3      90000       2          2        2   34        0        0        0   \n",
       "3   4      50000       2          2        1   37        0        0        0   \n",
       "4   5      50000       1          2        1   57        0        0        0   \n",
       "\n",
       "   PAY_JUN  ...  BILL_JUN  BILL_MAY  BILL_APR  PAY_SEP.1  PAY_AUG.1  \\\n",
       "0        0  ...         0         0         0          0        689   \n",
       "1        0  ...      3272      3455      3261          0       1000   \n",
       "2        0  ...     14331     14948     15549       1518       1500   \n",
       "3        0  ...     28314     28959     29547       2000       2019   \n",
       "4        0  ...     20940     19146     19131       2000      36681   \n",
       "\n",
       "   PAY_JUL.1  PAY_JUN.1  PAY_MAY.1  PAY_APR.1  default  \n",
       "0          0          0          0          0        1  \n",
       "1       1000       1000          0       2000        1  \n",
       "2       1000       1000       1000       5000        0  \n",
       "3       1200       1100       1069       1000        0  \n",
       "4      10000       9000        689        679        0  \n",
       "\n",
       "[5 rows x 25 columns]"
      ]
     },
     "execution_count": 110,
     "metadata": {},
     "output_type": "execute_result"
    }
   ],
   "source": [
    "df = pd.read_csv(\"credit_card_default_analysis.csv\", sep=\",\")\n",
    "df.head()"
   ]
  },
  {
   "cell_type": "markdown",
   "metadata": {
    "collapsed": false,
    "pycharm": {
     "name": "#%% md\n"
    }
   },
   "source": [
    "## Task #1 - Credit limit test ##"
   ]
  },
  {
   "cell_type": "markdown",
   "metadata": {
    "collapsed": false,
    "pycharm": {
     "name": "#%% md\n"
    }
   },
   "source": [
    "$H_0\\colon$ Median of the limit for the default group is equals non-default group $F_{X_1}(x) = F_{X_2}(x)$\n",
    "$H_1\\colon$ Median of the limit for the default group is equals non-default group plus some shift delta $F_{X_1}(x) = F_{X_2}(x + \\Delta), \\Delta\\neq 0$"
   ]
  },
  {
   "cell_type": "markdown",
   "metadata": {
    "collapsed": false,
    "pycharm": {
     "name": "#%% md\n"
    }
   },
   "source": [
    "### Take corresponding groups ###"
   ]
  },
  {
   "cell_type": "code",
   "execution_count": 75,
   "metadata": {
    "collapsed": false,
    "pycharm": {
     "name": "#%%\n"
    }
   },
   "outputs": [],
   "source": [
    "default_group_limits = df.loc[df['default'] == 1, ['LIMIT_BAL']]\n",
    "non_default_group_limits = df.loc[df['default'] == 0, ['LIMIT_BAL']]"
   ]
  },
  {
   "cell_type": "markdown",
   "metadata": {
    "collapsed": false,
    "pycharm": {
     "name": "#%% md\n"
    }
   },
   "source": [
    "### Let's plot bar plots of corresponding groups ###"
   ]
  },
  {
   "cell_type": "code",
   "execution_count": 76,
   "metadata": {
    "collapsed": false,
    "pycharm": {
     "name": "#%%\n"
    }
   },
   "outputs": [
    {
     "data": {
      "image/png": "[encoded data removed]",
      "text/plain": [
       "<Figure size 1080x576 with 2 Axes>"
      ]
     },
     "metadata": {
      "needs_background": "light"
     },
     "output_type": "display_data"
    }
   ],
   "source": [
    "fig = plt.figure(figsize=(15, 8))\n",
    "\n",
    "plt.subplot(2, 2, 1);\n",
    "plt.title(\"Limits for default group\")\n",
    "plt.hist(default_group_limits.values, bins=20);\n",
    "\n",
    "plt.subplot(2, 2, 2);\n",
    "plt.title(\"Limits for non-default group\")\n",
    "plt.hist(non_default_group_limits.values, bins=20);"
   ]
  },
  {
   "cell_type": "markdown",
   "metadata": {
    "collapsed": false,
    "pycharm": {
     "name": "#%% md\n"
    }
   },
   "source": [
    "This is shown on the plot, that they look pretty similar, and I supposed the difference only in scale (x10).\n",
    "First of all need check confidence intervals using bootstrap."
   ]
  },
  {
   "cell_type": "code",
   "execution_count": 112,
   "metadata": {
    "collapsed": false,
    "pycharm": {
     "name": "#%%\n"
    }
   },
   "outputs": [
    {
     "name": "stdout",
     "output_type": "stream",
     "text": [
      "95% confidence interval for the debt median group: [80000. 90000.]\n",
      "95% confidence interval for the without debt median group: [150000. 150000.]\n"
     ]
    }
   ],
   "source": [
    "np.random.seed(0)\n",
    "\n",
    "debt_group_median_scores = list(map(np.median, get_bootstrap_samples(default_group_limits.values, 5000)))\n",
    "without_debt_group_median_scores = list(map(np.median, get_bootstrap_samples(non_default_group_limits.values, 5000)))\n",
    "\n",
    "print(\"95% confidence interval for the debt median group:\",  percentile_interval(debt_group_median_scores, 0.05))\n",
    "print(\"95% confidence interval for the without debt median group:\",  percentile_interval(without_debt_group_median_scores, 0.05))"
   ]
  },
  {
   "cell_type": "markdown",
   "metadata": {
    "collapsed": false,
    "pycharm": {
     "name": "#%% md\n"
    }
   },
   "source": [
    "Confidence intervals don't cross. First conclusion: difference between medians exists."
   ]
  },
  {
   "cell_type": "markdown",
   "metadata": {
    "collapsed": false,
    "pycharm": {
     "name": "#%% md\n"
    }
   },
   "source": [
    "### Let's use signed rank test (Mann-Whitney) for comparing medians"
   ]
  },
  {
   "cell_type": "code",
   "execution_count": 123,
   "metadata": {
    "collapsed": false,
    "pycharm": {
     "name": "#%%\n"
    }
   },
   "outputs": [
    {
     "name": "stdout",
     "output_type": "stream",
     "text": [
      "P-value: [1.22554858e-189], Effect Size: [0.38219736]\n"
     ]
    }
   ],
   "source": [
    "U1, p = st.mannwhitneyu(default_group_limits.values, non_default_group_limits.values)\n",
    "group1_len, group2_len = len(default_group_limits), len(non_default_group_limits)\n",
    "effect_size = U1 / (group1_len*group2_len)\n",
    "print(f\"P-value: {p}, Effect Size: {effect_size}\")"
   ]
  },
  {
   "cell_type": "markdown",
   "metadata": {
    "collapsed": false,
    "pycharm": {
     "name": "#%% md\n"
    }
   },
   "source": [
    "The result ~ **1.226e-189** is significant at 0.05 level, we reject null hypothesis in favour of alternative. Conclusion: we see the difference between median of groups. Calculated Effect Size : ~ 0.38219736. From practical point of view credit limits for non-debt group definitely higher."
   ]
  },
  {
   "cell_type": "markdown",
   "metadata": {
    "collapsed": false,
    "pycharm": {
     "name": "#%% md\n"
    }
   },
   "source": [
    "## Task #2 Gender Test ##"
   ]
  },
  {
   "cell_type": "markdown",
   "metadata": {
    "collapsed": false,
    "pycharm": {
     "name": "#%% md\n"
    }
   },
   "source": [
    "### Take corresponding groups"
   ]
  },
  {
   "cell_type": "code",
   "execution_count": 114,
   "metadata": {
    "collapsed": false,
    "pycharm": {
     "name": "#%%\n"
    }
   },
   "outputs": [],
   "source": [
    "gender_in_default_group_limits = df.loc[df['default'] == 0, ['GENDER']]\n",
    "gender_in_non_default_group_limits = df.loc[df['default'] == 1, ['GENDER']]"
   ]
  },
  {
   "cell_type": "markdown",
   "metadata": {
    "collapsed": false,
    "pycharm": {
     "name": "#%% md\n"
    }
   },
   "source": [
    "### Let’s plot bar plots of corresponding groups ###"
   ]
  },
  {
   "cell_type": "markdown",
   "metadata": {
    "collapsed": false,
    "pycharm": {
     "name": "#%% md\n"
    }
   },
   "source": []
  },
  {
   "cell_type": "code",
   "execution_count": 115,
   "metadata": {
    "collapsed": false,
    "pycharm": {
     "name": "#%%\n"
    }
   },
   "outputs": [
    {
     "data": {
      "image/png": "[encoded data removed]",
      "text/plain": [
       "<Figure size 1080x576 with 2 Axes>"
      ]
     },
     "metadata": {
      "needs_background": "light"
     },
     "output_type": "display_data"
    }
   ],
   "source": [
    "fig = plt.figure(figsize=(15, 8))\n",
    "\n",
    "plt.subplot(2, 2, 1);\n",
    "plt.title(\"Default for gender\")\n",
    "plt.hist(gender_in_default_group_limits.values, bins=3);\n",
    "\n",
    "plt.subplot(2, 2, 2);\n",
    "plt.title(\"Non Default gender\")\n",
    "plt.hist(gender_in_non_default_group_limits.values, bins=3);"
   ]
  },
  {
   "cell_type": "markdown",
   "metadata": {
    "collapsed": false,
    "pycharm": {
     "name": "#%% md\n"
    }
   },
   "source": [
    "$H_0\\colon$ Composition of genders the same\n",
    "$H_1\\colon$ Composition of genders is different"
   ]
  },
  {
   "cell_type": "markdown",
   "metadata": {
    "collapsed": false,
    "pycharm": {
     "name": "#%% md\n"
    }
   },
   "source": [
    "In both examples amount of woman bigger. But proportions slightly different.\n",
    "Firstly let's check proportions in debt group."
   ]
  },
  {
   "cell_type": "markdown",
   "metadata": {
    "collapsed": false,
    "pycharm": {
     "name": "#%% md\n"
    }
   },
   "source": []
  },
  {
   "cell_type": "code",
   "execution_count": 28,
   "metadata": {
    "collapsed": false,
    "pycharm": {
     "name": "#%%\n"
    }
   },
   "outputs": [
    {
     "name": "stdout",
     "output_type": "stream",
     "text": [
      "Percent of man in debt group 75.83277254374158 %\n",
      "Percent of woman in debt group 79.22371908127208 %\n",
      "Difference : 3.390946537530496\n"
     ]
    }
   ],
   "source": [
    "men_count = df[df['GENDER'] == 1].shape[0]\n",
    "woman_count = df[df['GENDER'] == 2].shape[0]\n",
    "\n",
    "men_with_deb = gender_in_default_group_limits[gender_in_default_group_limits['GENDER'] == 1].shape[0]\n",
    "wo_with_deb = gender_in_default_group_limits[gender_in_default_group_limits['GENDER'] == 2].shape[0]\n",
    "\n",
    "men_percent_with_deb = men_with_deb / men_count * 100\n",
    "woman_percent_with_deb = wo_with_deb / woman_count * 100\n",
    "\n",
    "diff = abs(men_percent_with_deb-woman_percent_with_deb)\n",
    "print(f'Percent of man in debt group {men_percent_with_deb} %')\n",
    "print(f'Percent of woman in debt group {woman_percent_with_deb} %')\n",
    "print(f'Difference : {diff}')"
   ]
  },
  {
   "cell_type": "markdown",
   "metadata": {
    "collapsed": false,
    "pycharm": {
     "name": "#%% md\n"
    }
   },
   "source": [
    "Woman's more frequently become debtors ~3.4%"
   ]
  },
  {
   "cell_type": "markdown",
   "metadata": {
    "collapsed": false,
    "pycharm": {
     "name": "#%% md\n"
    }
   },
   "source": [
    "Again i've decided to use Mann-Whitney U Test as special case of permutation test. The goal is to test the medians. Alternative - two-sided."
   ]
  },
  {
   "cell_type": "code",
   "execution_count": 124,
   "metadata": {
    "collapsed": false,
    "pycharm": {
     "name": "#%%\n"
    }
   },
   "outputs": [
    {
     "name": "stdout",
     "output_type": "stream",
     "text": [
      "P-value: [4.47647869e-12], Effect Size: [0.52354575]\n"
     ]
    }
   ],
   "source": [
    "U1, p = st.mannwhitneyu(gender_in_default_group_limits.values, gender_in_non_default_group_limits.values)\n",
    "group1_len, group2_len = len(gender_in_default_group_limits), len(gender_in_non_default_group_limits)\n",
    "effect_size = U1 / (group1_len*group2_len)\n",
    "print(f\"P-value: {p}, Effect Size: {effect_size}\")"
   ]
  },
  {
   "cell_type": "markdown",
   "metadata": {
    "collapsed": false,
    "pycharm": {
     "name": "#%% md\n"
    }
   },
   "source": [
    "We reject null hypothesis in favor of alternative. P-Value small enough at level $a$=0.05. Effect size big enough (0.52354575). We can say that groups are differ and gender have meaning."
   ]
  },
  {
   "cell_type": "markdown",
   "metadata": {
    "collapsed": false,
    "pycharm": {
     "name": "#%% md\n"
    }
   },
   "source": [
    "## Task #3 Education Level Test ##"
   ]
  },
  {
   "cell_type": "code",
   "execution_count": 117,
   "metadata": {
    "collapsed": false,
    "pycharm": {
     "name": "#%%\n"
    }
   },
   "outputs": [
    {
     "data": {
      "text/plain": [
       "<BarContainer object of 7 artists>"
      ]
     },
     "execution_count": 117,
     "metadata": {},
     "output_type": "execute_result"
    },
    {
     "data": {
      "image/png": "[encoded data removed]",
      "text/plain": [
       "<Figure size 1152x720 with 2 Axes>"
      ]
     },
     "metadata": {
      "needs_background": "light"
     },
     "output_type": "display_data"
    }
   ],
   "source": [
    "levels = {\n",
    "    0: \"doctorate\",\n",
    "    1: \"masters\",\n",
    "    2: \"bachelor\",\n",
    "    3: \"school gr.\",\n",
    "    4: \"elementary ed.\",\n",
    "    5: \"other\",\n",
    "    6: \"no data\"\n",
    "}\n",
    "\n",
    "data = pd.DataFrame(pd.crosstab(index=df['default'], columns=df['EDUCATION']));\n",
    "data.rename(columns=levels, inplace=True);\n",
    "data.reset_index(drop=True, inplace=True);\n",
    "data.columns.name = None;\n",
    "\n",
    "fig = plt.figure(figsize=(16, 10));\n",
    "\n",
    "plt.subplot(2, 2, 1);\n",
    "plt.title(\"Education/With debt\");\n",
    "plt.bar(data.columns, data.values[0], width=0.5, color='g')\n",
    "\n",
    "plt.subplot(2, 2, 2);\n",
    "plt.title(\"Education/Without debt\");\n",
    "plt.bar(data.columns, data.values[1], width=0.5, color='r')"
   ]
  },
  {
   "cell_type": "markdown",
   "metadata": {
    "collapsed": false,
    "pycharm": {
     "name": "#%% md\n"
    }
   },
   "source": [
    "$H_0\\colon$ Education levels between two groups the same\n",
    "$H_1\\colon$ Education levels between two groups differs"
   ]
  },
  {
   "cell_type": "markdown",
   "metadata": {
    "collapsed": false,
    "pycharm": {
     "name": "#%% md\n"
    }
   },
   "source": [
    "It is easy to see, that doctorate level almost have no loans, the main part of debtors concentrated in 3 categories: bachelor, masters, school.\n",
    "For comparing I've decided to use $X^2$ test. Because it is the best option for comparing categorical variables. For calculating an effect size - cramer's v coeff."
   ]
  },
  {
   "cell_type": "code",
   "execution_count": 118,
   "metadata": {
    "collapsed": false,
    "pycharm": {
     "name": "#%%\n"
    }
   },
   "outputs": [
    {
     "data": {
      "text/html": [
       "<div>\n",
       "<style scoped>\n",
       "    .dataframe tbody tr th:only-of-type {\n",
       "        vertical-align: middle;\n",
       "    }\n",
       "\n",
       "    .dataframe tbody tr th {\n",
       "        vertical-align: top;\n",
       "    }\n",
       "\n",
       "    .dataframe thead th {\n",
       "        text-align: right;\n",
       "    }\n",
       "</style>\n",
       "<table border=\"1\" class=\"dataframe\">\n",
       "  <thead>\n",
       "    <tr style=\"text-align: right;\">\n",
       "      <th></th>\n",
       "      <th>doctorate</th>\n",
       "      <th>masters</th>\n",
       "      <th>bachelor</th>\n",
       "      <th>school gr.</th>\n",
       "      <th>elementary ed.</th>\n",
       "      <th>other</th>\n",
       "      <th>no data</th>\n",
       "    </tr>\n",
       "  </thead>\n",
       "  <tbody>\n",
       "    <tr>\n",
       "      <th>0</th>\n",
       "      <td>14</td>\n",
       "      <td>8549</td>\n",
       "      <td>10700</td>\n",
       "      <td>3680</td>\n",
       "      <td>116</td>\n",
       "      <td>262</td>\n",
       "      <td>43</td>\n",
       "    </tr>\n",
       "    <tr>\n",
       "      <th>1</th>\n",
       "      <td>0</td>\n",
       "      <td>2036</td>\n",
       "      <td>3330</td>\n",
       "      <td>1237</td>\n",
       "      <td>7</td>\n",
       "      <td>18</td>\n",
       "      <td>8</td>\n",
       "    </tr>\n",
       "  </tbody>\n",
       "</table>\n",
       "</div>"
      ],
      "text/plain": [
       "   doctorate  masters  bachelor  school gr.  elementary ed.  other  no data\n",
       "0         14     8549     10700        3680             116    262       43\n",
       "1          0     2036      3330        1237               7     18        8"
      ]
     },
     "execution_count": 118,
     "metadata": {},
     "output_type": "execute_result"
    }
   ],
   "source": [
    "data"
   ]
  },
  {
   "cell_type": "code",
   "execution_count": 119,
   "metadata": {
    "collapsed": false,
    "pycharm": {
     "name": "#%%\n"
    }
   },
   "outputs": [
    {
     "name": "stdout",
     "output_type": "stream",
     "text": [
      "P-value:  1.2332626245415605e-32\n",
      "Cramer's V coeff (effect-size):  0.07376009713252163\n"
     ]
    }
   ],
   "source": [
    "chi2, p, _, _ = st.chi2_contingency(data.values,  correction=False)\n",
    "N = np.sum(data.values)\n",
    "minimum_dimension = min(data.values.shape)-1\n",
    "print(\"P-value: \", p)\n",
    "print(\"Cramer's V coeff (effect-size): \", np.sqrt((chi2/(len(df) * minimum_dimension))))"
   ]
  },
  {
   "cell_type": "markdown",
   "metadata": {
    "collapsed": false,
    "pycharm": {
     "name": "#%% md\n"
    }
   },
   "source": [
    "And again we reject null hypothesis in favor of alternative. P-Value ~ $1.23326e-32$ small enough at level $a$=0.05. Effect size ~ 0.07376009 - education level has no correlation between groups. As conclusion - education matters."
   ]
  },
  {
   "cell_type": "markdown",
   "metadata": {
    "collapsed": false,
    "pycharm": {
     "name": "#%% md\n"
    }
   },
   "source": [
    "## Task #4 Marital Test ##"
   ]
  },
  {
   "cell_type": "markdown",
   "metadata": {
    "collapsed": false,
    "pycharm": {
     "name": "#%% md\n"
    }
   },
   "source": []
  },
  {
   "cell_type": "code",
   "execution_count": 120,
   "metadata": {
    "collapsed": false,
    "pycharm": {
     "name": "#%%\n"
    }
   },
   "outputs": [],
   "source": [
    "marital_statuses_with_debt = df.loc[df['default'] == 0, ['MARITAL']]\n",
    "marital_statuses_without_debt = df.loc[df['default'] == 1, ['MARITAL']]"
   ]
  },
  {
   "cell_type": "markdown",
   "metadata": {
    "collapsed": false,
    "pycharm": {
     "name": "#%% md\n"
    }
   },
   "source": [
    "### Bar plot visualising ###"
   ]
  },
  {
   "cell_type": "code",
   "execution_count": 121,
   "metadata": {
    "collapsed": false,
    "pycharm": {
     "name": "#%%\n"
    }
   },
   "outputs": [
    {
     "data": {
      "text/plain": [
       "<BarContainer object of 4 artists>"
      ]
     },
     "execution_count": 121,
     "metadata": {},
     "output_type": "execute_result"
    },
    {
     "data": {
      "image/png": "[encoded data removed]",
      "text/plain": [
       "<Figure size 1152x720 with 2 Axes>"
      ]
     },
     "metadata": {
      "needs_background": "light"
     },
     "output_type": "display_data"
    }
   ],
   "source": [
    "levels = {\n",
    "    0: \"no answer\",\n",
    "    1: \"married\",\n",
    "    2: \"single\",\n",
    "    3: \"no data\",\n",
    "}\n",
    "\n",
    "data = pd.DataFrame(pd.crosstab(index=df['default'], columns=df['MARITAL']));\n",
    "data.rename(columns=levels, inplace=True);\n",
    "data.reset_index(drop=True, inplace=True);\n",
    "data.columns.name = None;\n",
    "\n",
    "fig = plt.figure(figsize=(16, 10));\n",
    "\n",
    "plt.subplot(2, 2, 1);\n",
    "plt.title(\"Marital Statuses/With debt\");\n",
    "plt.bar(data.columns, data.values[0], width=0.5, color='g')\n",
    "\n",
    "plt.subplot(2, 2, 2);\n",
    "plt.title(\"Marital Statuses/Without debt\");\n",
    "plt.bar(data.columns, data.values[1], width=0.5, color='r')"
   ]
  },
  {
   "cell_type": "markdown",
   "metadata": {
    "collapsed": false,
    "pycharm": {
     "name": "#%% md\n"
    }
   },
   "source": [
    "Two groups are leaders on both plots: \"Married\" and \"Single\"."
   ]
  },
  {
   "cell_type": "markdown",
   "metadata": {
    "collapsed": false,
    "pycharm": {
     "name": "#%% md\n"
    }
   },
   "source": [
    "$H_0\\colon$ Marital statuses composition between two groups the same\n",
    "$H_1\\colon$ Marital statuses composition between two groups differs"
   ]
  },
  {
   "cell_type": "markdown",
   "metadata": {
    "collapsed": false,
    "pycharm": {
     "name": "#%% md\n"
    }
   },
   "source": [
    "Because it is categorical variable I applied the same approach as for education test. $X^2$ Test and $Cramer V$ coefficient as effect size."
   ]
  },
  {
   "cell_type": "code",
   "execution_count": 122,
   "metadata": {
    "collapsed": false,
    "pycharm": {
     "name": "#%%\n"
    }
   },
   "outputs": [
    {
     "name": "stdout",
     "output_type": "stream",
     "text": [
      "P-value:  8.825862457577375e-08\n",
      "Cramer's V coeff (effect-size):  0.034478203662766466\n"
     ]
    }
   ],
   "source": [
    "chi2, p, _, _ = st.chi2_contingency(data.values,  correction=False)\n",
    "N = len(df)\n",
    "minimum_dimension = min(data.shape)-1\n",
    "print(\"P-value: \", p)\n",
    "print(\"Cramer's V coeff (effect-size): \", np.sqrt(chi2/(N*minimum_dimension)))"
   ]
  },
  {
   "cell_type": "markdown",
   "metadata": {
    "collapsed": false,
    "pycharm": {
     "name": "#%% md\n"
    }
   },
   "source": [
    "And again we reject null hypothesis in favor of alternative. P-Value ~ $8.825862e-08$ small enough at level $a$=0.05. Effect size ~ 0.034478203 - marital status has no correlation between groups. Practical conclusion - we should pay attention to status of person if we want give a loan."
   ]
  },
  {
   "cell_type": "markdown",
   "metadata": {
    "collapsed": false,
    "pycharm": {
     "name": "#%% md\n"
    }
   },
   "source": [
    "## Task #5 Age Test ##"
   ]
  },
  {
   "cell_type": "code",
   "execution_count": 100,
   "metadata": {
    "collapsed": false,
    "pycharm": {
     "name": "#%%\n"
    }
   },
   "outputs": [],
   "source": [
    "age_with_debt = df.loc[df['default'] == 0, ['AGE']]\n",
    "age_without_debt = df.loc[df['default'] == 1, ['AGE']]"
   ]
  },
  {
   "cell_type": "code",
   "execution_count": 101,
   "metadata": {
    "collapsed": false,
    "pycharm": {
     "name": "#%%\n"
    }
   },
   "outputs": [
    {
     "data": {
      "image/png": "[encoded data removed]",
      "text/plain": [
       "<Figure size 1152x720 with 2 Axes>"
      ]
     },
     "metadata": {
      "needs_background": "light"
     },
     "output_type": "display_data"
    }
   ],
   "source": [
    "fig = plt.figure(figsize=(16, 10));\n",
    "\n",
    "plt.subplot(2, 2, 1);\n",
    "plt.title(\"Age/With debt\");\n",
    "plt.hist(age_with_debt, color='g', bins=20);\n",
    "\n",
    "plt.subplot(2, 2, 2);\n",
    "plt.title(\"Age/Without debt\");\n",
    "plt.hist(age_without_debt, color='r', bins=20);"
   ]
  },
  {
   "cell_type": "markdown",
   "metadata": {
    "collapsed": false,
    "pycharm": {
     "name": "#%% md\n"
    }
   },
   "source": [
    "Distribution looks similar. Time to test median using famous Mann-Whitney U Test."
   ]
  },
  {
   "cell_type": "markdown",
   "metadata": {
    "collapsed": false,
    "pycharm": {
     "name": "#%% md\n"
    }
   },
   "source": [
    "$H_0\\colon$ Age median of two groups the same $F_{X_1}(x) = F_{X_2}(x)$\n",
    "$H_1\\colon$ Age median of two groups differs by shift $F_{X_1}(x) = F_{X_2}(x + \\Delta)$"
   ]
  },
  {
   "cell_type": "code",
   "execution_count": 126,
   "metadata": {
    "collapsed": false,
    "pycharm": {
     "name": "#%%\n"
    }
   },
   "outputs": [
    {
     "name": "stdout",
     "output_type": "stream",
     "text": [
      "P-value: [0.37250354], Effect Size: [0.49642118]\n"
     ]
    }
   ],
   "source": [
    "U1, p = st.mannwhitneyu(age_with_debt.values, age_without_debt.values)\n",
    "group1_len, group2_len = len(age_with_debt), len(age_without_debt)\n",
    "effect_size = U1 / (group1_len*group2_len)\n",
    "print(f\"P-value: {p}, Effect Size: {effect_size}\")"
   ]
  },
  {
   "cell_type": "markdown",
   "metadata": {
    "collapsed": false,
    "pycharm": {
     "name": "#%% md\n"
    }
   },
   "source": [
    "We cannot reject null hyphotesis at level $a$=0.05 (P-value: 0.37250354). Effect size also shows large ~ 0.49642. Surprisingly, but age have no influence on probability fall into debt group."
   ]
  },
  {
   "cell_type": "markdown",
   "metadata": {
    "collapsed": false,
    "pycharm": {
     "name": "#%% md\n"
    }
   },
   "source": [
    "Let's also check distributions of samples using Kolmogorov-Smirnov test.\n",
    "$H_0\\colon$ Distribution of age in two groups the same\n",
    "$H_1\\colon$ Distribution of age in two groups differs\n"
   ]
  },
  {
   "cell_type": "code",
   "execution_count": 65,
   "metadata": {
    "collapsed": false,
    "pycharm": {
     "name": "#%%\n"
    }
   },
   "outputs": [
    {
     "name": "stdout",
     "output_type": "stream",
     "text": [
      "P-value: 1.2584243902803685e-05\n"
     ]
    }
   ],
   "source": [
    "stat, p = st.ks_2samp(age_with_debt.values.reshape(-1), age_without_debt.values.reshape(-1))\n",
    "print(f\"P-value: {p}\")"
   ]
  },
  {
   "cell_type": "markdown",
   "metadata": {
    "collapsed": false,
    "pycharm": {
     "name": "#%% md\n"
    }
   },
   "source": [
    "We reject null hypothesis in favor of alternative. P-Value ~ $1.258424e-05$ small enough at level $a$=0.05. Distribution of ages is differs."
   ]
  },
  {
   "cell_type": "code",
   "execution_count": null,
   "metadata": {
    "collapsed": false,
    "pycharm": {
     "name": "#%%\n"
    }
   },
   "outputs": [],
   "source": []
  }
 ],
 "metadata": {
  "kernelspec": {
   "display_name": "Python 3 (ipykernel)",
   "language": "python",
   "name": "python3"
  }
 },
 "nbformat": 4,
 "nbformat_minor": 0
}
