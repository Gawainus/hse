{
 "cells": [
  {
   "cell_type": "code",
   "execution_count": 13,
   "metadata": {},
   "outputs": [],
   "source": [
    "import numpy as np\n",
    "import pandas as pd\n",
    "\n",
    "from scipy import stats\n",
    "\n",
    "from statsmodels.stats.descriptivestats import sign_test\n",
    "from statsmodels.stats.weightstats import zconfint\n",
    "\n",
    "import matplotlib.pyplot as plt\n",
    "\n",
    "%matplotlib inline\n"
   ]
  },
  {
   "cell_type": "markdown",
   "metadata": {},
   "source": [
    "## Data: Verizon repair time\n",
    "\n",
    "Verizon was an Incumbent Local Exchange Carrier (ILEC), responsible for maintaining land-line phone service in certain areas. Verizon also sold long-distance service, as did a number of competitors, termed Competitive Local Exchange Carriers (CLEC). When something went wrong, Verizon was responsible for repairs, and was supposed to make repairs as quickly for CLEC long-distance customers as for their own. The New York Public Utilities Commission (PUC) monitored fairness by comparing repair times for Verizon and different CLECs, for different classes of repairs and time periods.\n",
    "\n",
    "The data is for one combination of CLEC, class of service, and period."
   ]
  },
  {
   "cell_type": "code",
   "execution_count": 2,
   "metadata": {},
   "outputs": [
    {
     "data": {
      "text/html": [
       "<div>\n",
       "<style scoped>\n",
       "    .dataframe tbody tr th:only-of-type {\n",
       "        vertical-align: middle;\n",
       "    }\n",
       "\n",
       "    .dataframe tbody tr th {\n",
       "        vertical-align: top;\n",
       "    }\n",
       "\n",
       "    .dataframe thead th {\n",
       "        text-align: right;\n",
       "    }\n",
       "</style>\n",
       "<table border=\"1\" class=\"dataframe\">\n",
       "  <thead>\n",
       "    <tr style=\"text-align: right;\">\n",
       "      <th></th>\n",
       "      <th>Time</th>\n",
       "      <th>Group</th>\n",
       "    </tr>\n",
       "  </thead>\n",
       "  <tbody>\n",
       "    <tr>\n",
       "      <th>0</th>\n",
       "      <td>17.50</td>\n",
       "      <td>ILEC</td>\n",
       "    </tr>\n",
       "    <tr>\n",
       "      <th>1</th>\n",
       "      <td>2.40</td>\n",
       "      <td>ILEC</td>\n",
       "    </tr>\n",
       "    <tr>\n",
       "      <th>2</th>\n",
       "      <td>0.00</td>\n",
       "      <td>ILEC</td>\n",
       "    </tr>\n",
       "    <tr>\n",
       "      <th>3</th>\n",
       "      <td>0.65</td>\n",
       "      <td>ILEC</td>\n",
       "    </tr>\n",
       "    <tr>\n",
       "      <th>4</th>\n",
       "      <td>22.23</td>\n",
       "      <td>ILEC</td>\n",
       "    </tr>\n",
       "  </tbody>\n",
       "</table>\n",
       "</div>"
      ],
      "text/plain": [
       "    Time Group\n",
       "0  17.50  ILEC\n",
       "1   2.40  ILEC\n",
       "2   0.00  ILEC\n",
       "3   0.65  ILEC\n",
       "4  22.23  ILEC"
      ]
     },
     "execution_count": 2,
     "metadata": {},
     "output_type": "execute_result"
    }
   ],
   "source": [
    "verizon_data = pd.read_csv('work/hse/applied_stats/week3/verizon.csv', sep='\\t')\n",
    "verizon_data.head()"
   ]
  },
  {
   "cell_type": "code",
   "execution_count": 3,
   "metadata": {},
   "outputs": [],
   "source": [
    "ilec_time = verizon_data[verizon_data.Group == 'ILEC'].Time.values\n",
    "clec_time = verizon_data[verizon_data.Group == 'CLEC'].Time.values"
   ]
  },
  {
   "cell_type": "code",
   "execution_count": 5,
   "metadata": {},
   "outputs": [
    {
     "data": {
      "text/plain": [
       "-8.097519857859533"
      ]
     },
     "execution_count": 5,
     "metadata": {},
     "output_type": "execute_result"
    }
   ],
   "source": [
    "ilec_time.mean() - clec_time.mean()"
   ]
  },
  {
   "cell_type": "code",
   "execution_count": 11,
   "metadata": {},
   "outputs": [
    {
     "data": {
      "text/plain": [
       "(3.5, 0.21003961563110352)"
      ]
     },
     "execution_count": 11,
     "metadata": {},
     "output_type": "execute_result"
    }
   ],
   "source": [
    "sign_test(clec_time, 8)"
   ]
  },
  {
   "cell_type": "code",
   "execution_count": 12,
   "metadata": {},
   "outputs": [
    {
     "data": {
      "text/plain": [
       "0.10501980781555176"
      ]
     },
     "execution_count": 12,
     "metadata": {},
     "output_type": "execute_result"
    }
   ],
   "source": [
    "_, p = sign_test(clec_time, 8)\n",
    "p/2"
   ]
  },
  {
   "cell_type": "code",
   "execution_count": 30,
   "metadata": {},
   "outputs": [
    {
     "data": {
      "text/plain": [
       "BinomTestResult(k=15, n=23, alternative='greater', proportion_estimate=0.6521739130434783, pvalue=0.10501980781555176)"
      ]
     },
     "execution_count": 30,
     "metadata": {},
     "output_type": "execute_result"
    }
   ],
   "source": [
    "stats.binomtest(clec_time[clec_time > 8].size, clec_time.size, 0.5, alternative='greater')"
   ]
  },
  {
   "cell_type": "code",
   "execution_count": 17,
   "metadata": {},
   "outputs": [
    {
     "data": {
      "text/plain": [
       "(8.411610576923076, 16.50913043478261)"
      ]
     },
     "execution_count": 17,
     "metadata": {},
     "output_type": "execute_result"
    }
   ],
   "source": [
    "ilec_time.mean(), clec_time.mean()"
   ]
  },
  {
   "cell_type": "code",
   "execution_count": 21,
   "metadata": {},
   "outputs": [
    {
     "data": {
      "text/plain": [
       "Ttest_indResult(statistic=-1.9833785404229538, pvalue=0.9701269392926206)"
      ]
     },
     "execution_count": 21,
     "metadata": {},
     "output_type": "execute_result"
    }
   ],
   "source": [
    "stats.ttest_ind(ilec_time, clec_time, equal_var=False, alternative='greater')"
   ]
  },
  {
   "cell_type": "code",
   "execution_count": 31,
   "metadata": {},
   "outputs": [
    {
     "name": "stdout",
     "output_type": "stream",
     "text": [
      "\u001b[0;31mSignature:\u001b[0m\n",
      "\u001b[0mstats\u001b[0m\u001b[0;34m.\u001b[0m\u001b[0mttest_rel\u001b[0m\u001b[0;34m(\u001b[0m\u001b[0;34m\u001b[0m\n",
      "\u001b[0;34m\u001b[0m    \u001b[0ma\u001b[0m\u001b[0;34m,\u001b[0m\u001b[0;34m\u001b[0m\n",
      "\u001b[0;34m\u001b[0m    \u001b[0mb\u001b[0m\u001b[0;34m,\u001b[0m\u001b[0;34m\u001b[0m\n",
      "\u001b[0;34m\u001b[0m    \u001b[0maxis\u001b[0m\u001b[0;34m=\u001b[0m\u001b[0;36m0\u001b[0m\u001b[0;34m,\u001b[0m\u001b[0;34m\u001b[0m\n",
      "\u001b[0;34m\u001b[0m    \u001b[0mnan_policy\u001b[0m\u001b[0;34m=\u001b[0m\u001b[0;34m'propagate'\u001b[0m\u001b[0;34m,\u001b[0m\u001b[0;34m\u001b[0m\n",
      "\u001b[0;34m\u001b[0m    \u001b[0malternative\u001b[0m\u001b[0;34m=\u001b[0m\u001b[0;34m'two-sided'\u001b[0m\u001b[0;34m,\u001b[0m\u001b[0;34m\u001b[0m\n",
      "\u001b[0;34m\u001b[0m\u001b[0;34m)\u001b[0m\u001b[0;34m\u001b[0m\u001b[0;34m\u001b[0m\u001b[0m\n",
      "\u001b[0;31mDocstring:\u001b[0m\n",
      "Calculate the t-test on TWO RELATED samples of scores, a and b.\n",
      "\n",
      "This is a test for the null hypothesis that two related or\n",
      "repeated samples have identical average (expected) values.\n",
      "\n",
      "Parameters\n",
      "----------\n",
      "a, b : array_like\n",
      "    The arrays must have the same shape.\n",
      "axis : int or None, optional\n",
      "    Axis along which to compute test. If None, compute over the whole\n",
      "    arrays, `a`, and `b`.\n",
      "nan_policy : {'propagate', 'raise', 'omit'}, optional\n",
      "    Defines how to handle when input contains nan.\n",
      "    The following options are available (default is 'propagate'):\n",
      "\n",
      "      * 'propagate': returns nan\n",
      "      * 'raise': throws an error\n",
      "      * 'omit': performs the calculations ignoring nan values\n",
      "alternative : {'two-sided', 'less', 'greater'}, optional\n",
      "    Defines the alternative hypothesis.\n",
      "    The following options are available (default is 'two-sided'):\n",
      "\n",
      "    * 'two-sided': the means of the distributions underlying the samples\n",
      "      are unequal.\n",
      "    * 'less': the mean of the distribution underlying the first sample\n",
      "      is less than the mean of the distribution underlying the second\n",
      "      sample.\n",
      "    * 'greater': the mean of the distribution underlying the first\n",
      "      sample is greater than the mean of the distribution underlying\n",
      "      the second sample.\n",
      "\n",
      "    .. versionadded:: 1.6.0\n",
      "\n",
      "Returns\n",
      "-------\n",
      "statistic : float or array\n",
      "    t-statistic.\n",
      "pvalue : float or array\n",
      "    The p-value.\n",
      "\n",
      "Notes\n",
      "-----\n",
      "Examples for use are scores of the same set of student in\n",
      "different exams, or repeated sampling from the same units. The\n",
      "test measures whether the average score differs significantly\n",
      "across samples (e.g. exams). If we observe a large p-value, for\n",
      "example greater than 0.05 or 0.1 then we cannot reject the null\n",
      "hypothesis of identical average scores. If the p-value is smaller\n",
      "than the threshold, e.g. 1%, 5% or 10%, then we reject the null\n",
      "hypothesis of equal averages. Small p-values are associated with\n",
      "large t-statistics.\n",
      "\n",
      "References\n",
      "----------\n",
      "https://en.wikipedia.org/wiki/T-test#Dependent_t-test_for_paired_samples\n",
      "\n",
      "Examples\n",
      "--------\n",
      ">>> from scipy import stats\n",
      ">>> rng = np.random.default_rng()\n",
      "\n",
      ">>> rvs1 = stats.norm.rvs(loc=5, scale=10, size=500, random_state=rng)\n",
      ">>> rvs2 = (stats.norm.rvs(loc=5, scale=10, size=500, random_state=rng)\n",
      "...         + stats.norm.rvs(scale=0.2, size=500, random_state=rng))\n",
      ">>> stats.ttest_rel(rvs1, rvs2)\n",
      "Ttest_relResult(statistic=-0.4549717054410304, pvalue=0.6493274702088672)\n",
      ">>> rvs3 = (stats.norm.rvs(loc=8, scale=10, size=500, random_state=rng)\n",
      "...         + stats.norm.rvs(scale=0.2, size=500, random_state=rng))\n",
      ">>> stats.ttest_rel(rvs1, rvs3)\n",
      "Ttest_relResult(statistic=-5.879467544540889, pvalue=7.540777129099917e-09)\n",
      "\u001b[0;31mFile:\u001b[0m      ~/anaconda3/envs/ml/lib/python3.8/site-packages/scipy/stats/_stats_py.py\n",
      "\u001b[0;31mType:\u001b[0m      function\n"
     ]
    }
   ],
   "source": [
    "stats.ttest_rel?"
   ]
  },
  {
   "cell_type": "code",
   "execution_count": null,
   "metadata": {},
   "outputs": [],
   "source": []
  },
  {
   "cell_type": "code",
   "execution_count": 29,
   "metadata": {},
   "outputs": [
    {
     "data": {
      "text/plain": [
       "WilcoxonResult(statistic=165073.0, pvalue=1.0)"
      ]
     },
     "execution_count": 29,
     "metadata": {},
     "output_type": "execute_result"
    }
   ],
   "source": [
    "stats.wilcoxon(ilec_time - clec_time.mean(), alternative='greater')"
   ]
  },
  {
   "cell_type": "code",
   "execution_count": 28,
   "metadata": {},
   "outputs": [
    {
     "name": "stdout",
     "output_type": "stream",
     "text": [
      "\u001b[0;31mSignature:\u001b[0m\n",
      "\u001b[0mstats\u001b[0m\u001b[0;34m.\u001b[0m\u001b[0mwilcoxon\u001b[0m\u001b[0;34m(\u001b[0m\u001b[0;34m\u001b[0m\n",
      "\u001b[0;34m\u001b[0m    \u001b[0mx\u001b[0m\u001b[0;34m,\u001b[0m\u001b[0;34m\u001b[0m\n",
      "\u001b[0;34m\u001b[0m    \u001b[0my\u001b[0m\u001b[0;34m=\u001b[0m\u001b[0;32mNone\u001b[0m\u001b[0;34m,\u001b[0m\u001b[0;34m\u001b[0m\n",
      "\u001b[0;34m\u001b[0m    \u001b[0mzero_method\u001b[0m\u001b[0;34m=\u001b[0m\u001b[0;34m'wilcox'\u001b[0m\u001b[0;34m,\u001b[0m\u001b[0;34m\u001b[0m\n",
      "\u001b[0;34m\u001b[0m    \u001b[0mcorrection\u001b[0m\u001b[0;34m=\u001b[0m\u001b[0;32mFalse\u001b[0m\u001b[0;34m,\u001b[0m\u001b[0;34m\u001b[0m\n",
      "\u001b[0;34m\u001b[0m    \u001b[0malternative\u001b[0m\u001b[0;34m=\u001b[0m\u001b[0;34m'two-sided'\u001b[0m\u001b[0;34m,\u001b[0m\u001b[0;34m\u001b[0m\n",
      "\u001b[0;34m\u001b[0m    \u001b[0mmode\u001b[0m\u001b[0;34m=\u001b[0m\u001b[0;34m'auto'\u001b[0m\u001b[0;34m,\u001b[0m\u001b[0;34m\u001b[0m\n",
      "\u001b[0;34m\u001b[0m    \u001b[0;34m*\u001b[0m\u001b[0;34m,\u001b[0m\u001b[0;34m\u001b[0m\n",
      "\u001b[0;34m\u001b[0m    \u001b[0maxis\u001b[0m\u001b[0;34m=\u001b[0m\u001b[0;36m0\u001b[0m\u001b[0;34m,\u001b[0m\u001b[0;34m\u001b[0m\n",
      "\u001b[0;34m\u001b[0m    \u001b[0mnan_policy\u001b[0m\u001b[0;34m=\u001b[0m\u001b[0;34m'propagate'\u001b[0m\u001b[0;34m,\u001b[0m\u001b[0;34m\u001b[0m\n",
      "\u001b[0;34m\u001b[0m\u001b[0;34m)\u001b[0m\u001b[0;34m\u001b[0m\u001b[0;34m\u001b[0m\u001b[0m\n",
      "\u001b[0;31mDocstring:\u001b[0m\n",
      "Calculate the Wilcoxon signed-rank test.\n",
      "\n",
      "The Wilcoxon signed-rank test tests the null hypothesis that two\n",
      "related paired samples come from the same distribution. In particular,\n",
      "it tests whether the distribution of the differences x - y is symmetric\n",
      "about zero. It is a non-parametric version of the paired T-test.\n",
      "\n",
      "Parameters\n",
      "----------\n",
      "x : array_like\n",
      "    Either the first set of measurements (in which case ``y`` is the second\n",
      "    set of measurements), or the differences between two sets of\n",
      "    measurements (in which case ``y`` is not to be specified.)  Must be\n",
      "    one-dimensional.\n",
      "y : array_like, optional\n",
      "    Either the second set of measurements (if ``x`` is the first set of\n",
      "    measurements), or not specified (if ``x`` is the differences between\n",
      "    two sets of measurements.)  Must be one-dimensional.\n",
      "zero_method : {\"pratt\", \"wilcox\", \"zsplit\"}, optional\n",
      "    The following options are available (default is \"wilcox\"):\n",
      "    \n",
      "      * \"pratt\": Includes zero-differences in the ranking process,\n",
      "        but drops the ranks of the zeros, see [4]_, (more conservative).\n",
      "      * \"wilcox\": Discards all zero-differences, the default.\n",
      "      * \"zsplit\": Includes zero-differences in the ranking process and\n",
      "        split the zero rank between positive and negative ones.\n",
      "correction : bool, optional\n",
      "    If True, apply continuity correction by adjusting the Wilcoxon rank\n",
      "    statistic by 0.5 towards the mean value when computing the\n",
      "    z-statistic if a normal approximation is used.  Default is False.\n",
      "alternative : {\"two-sided\", \"greater\", \"less\"}, optional\n",
      "    The alternative hypothesis to be tested, see Notes. Default is\n",
      "    \"two-sided\".\n",
      "mode : {\"auto\", \"exact\", \"approx\"}\n",
      "    Method to calculate the p-value, see Notes. Default is \"auto\".\n",
      "axis : int or None, default: 0\n",
      "    If an int, the axis of the input along which to compute the statistic.\n",
      "    The statistic of each axis-slice (e.g. row) of the input will appear in a\n",
      "    corresponding element of the output.\n",
      "    If ``None``, the input will be raveled before computing the statistic.\n",
      "nan_policy : {'propagate', 'omit', 'raise'}\n",
      "    Defines how to handle input NaNs.\n",
      "    \n",
      "    - ``propagate``: if a NaN is present in the axis slice (e.g. row) along\n",
      "      which the  statistic is computed, the corresponding entry of the output\n",
      "      will be NaN.\n",
      "    - ``omit``: NaNs will be omitted when performing the calculation.\n",
      "      If insufficient data remains in the axis slice along which the\n",
      "      statistic is computed, the corresponding entry of the output will be\n",
      "      NaN.\n",
      "    - ``raise``: if a NaN is present, a ``ValueError`` will be raised.\n",
      "\n",
      "Returns\n",
      "-------\n",
      "statistic : float\n",
      "    If ``alternative`` is \"two-sided\", the sum of the ranks of the\n",
      "    differences above or below zero, whichever is smaller.\n",
      "    Otherwise the sum of the ranks of the differences above zero.\n",
      "pvalue : float\n",
      "    The p-value for the test depending on ``alternative`` and ``mode``.\n",
      "\n",
      "See Also\n",
      "--------\n",
      "\n",
      ":func:`kruskal`, :func:`mannwhitneyu`\n",
      "    ..\n",
      "\n",
      "Notes\n",
      "-----\n",
      "The test has been introduced in [4]_. Given n independent samples\n",
      "(xi, yi) from a bivariate distribution (i.e. paired samples),\n",
      "it computes the differences di = xi - yi. One assumption of the test\n",
      "is that the differences are symmetric, see [2]_.\n",
      "The two-sided test has the null hypothesis that the median of the\n",
      "differences is zero against the alternative that it is different from\n",
      "zero. The one-sided test has the null hypothesis that the median is\n",
      "positive against the alternative that it is negative\n",
      "(``alternative == 'less'``), or vice versa (``alternative == 'greater.'``).\n",
      "\n",
      "To derive the p-value, the exact distribution (``mode == 'exact'``)\n",
      "can be used for sample sizes of up to 25. The default ``mode == 'auto'``\n",
      "uses the exact distribution if there are at most 25 observations and no\n",
      "ties, otherwise a normal approximation is used (``mode == 'approx'``).\n",
      "\n",
      "The treatment of ties can be controlled by the parameter `zero_method`.\n",
      "If ``zero_method == 'pratt'``, the normal approximation is adjusted as in\n",
      "[5]_. A typical rule is to require that n > 20 ([2]_, p. 383).\n",
      "\n",
      "References\n",
      "----------\n",
      ".. [1] https://en.wikipedia.org/wiki/Wilcoxon_signed-rank_test\n",
      ".. [2] Conover, W.J., Practical Nonparametric Statistics, 1971.\n",
      ".. [3] Pratt, J.W., Remarks on Zeros and Ties in the Wilcoxon Signed\n",
      "   Rank Procedures, Journal of the American Statistical Association,\n",
      "   Vol. 54, 1959, pp. 655-667. :doi:`10.1080/01621459.1959.10501526`\n",
      ".. [4] Wilcoxon, F., Individual Comparisons by Ranking Methods,\n",
      "   Biometrics Bulletin, Vol. 1, 1945, pp. 80-83. :doi:`10.2307/3001968`\n",
      ".. [5] Cureton, E.E., The Normal Approximation to the Signed-Rank\n",
      "   Sampling Distribution When Zero Differences are Present,\n",
      "   Journal of the American Statistical Association, Vol. 62, 1967,\n",
      "   pp. 1068-1069. :doi:`10.1080/01621459.1967.10500917`\n",
      "\n",
      "Examples\n",
      "--------\n",
      "In [4]_, the differences in height between cross- and self-fertilized\n",
      "corn plants is given as follows:\n",
      "\n",
      ">>> d = [6, 8, 14, 16, 23, 24, 28, 29, 41, -48, 49, 56, 60, -67, 75]\n",
      "\n",
      "Cross-fertilized plants appear to be be higher. To test the null\n",
      "hypothesis that there is no height difference, we can apply the\n",
      "two-sided test:\n",
      "\n",
      ">>> from scipy.stats import wilcoxon\n",
      ">>> w, p = wilcoxon(d)\n",
      ">>> w, p\n",
      "(24.0, 0.041259765625)\n",
      "\n",
      "Hence, we would reject the null hypothesis at a confidence level of 5%,\n",
      "concluding that there is a difference in height between the groups.\n",
      "To confirm that the median of the differences can be assumed to be\n",
      "positive, we use:\n",
      "\n",
      ">>> w, p = wilcoxon(d, alternative='greater')\n",
      ">>> w, p\n",
      "(96.0, 0.0206298828125)\n",
      "\n",
      "This shows that the null hypothesis that the median is negative can be\n",
      "rejected at a confidence level of 5% in favor of the alternative that\n",
      "the median is greater than zero. The p-values above are exact. Using the\n",
      "normal approximation gives very similar values:\n",
      "\n",
      ">>> w, p = wilcoxon(d, mode='approx')\n",
      ">>> w, p\n",
      "(24.0, 0.04088813291185591)\n",
      "\n",
      "Note that the statistic changed to 96 in the one-sided case (the sum\n",
      "of ranks of positive differences) whereas it is 24 in the two-sided\n",
      "case (the minimum of sum of ranks above and below zero).\n",
      "\u001b[0;31mFile:\u001b[0m      ~/anaconda3/envs/ml/lib/python3.8/site-packages/scipy/stats/_morestats.py\n",
      "\u001b[0;31mType:\u001b[0m      function\n"
     ]
    }
   ],
   "source": [
    "stats.wilcoxon?"
   ]
  }
 ],
 "metadata": {
  "anaconda-cloud": {},
  "kernelspec": {
   "display_name": "Python 3 (ipykernel)",
   "language": "python",
   "name": "python3"
  },
  "language_info": {
   "codemirror_mode": {
    "name": "ipython",
    "version": 3
   },
   "file_extension": ".py",
   "mimetype": "text/x-python",
   "name": "python",
   "nbconvert_exporter": "python",
   "pygments_lexer": "ipython3",
   "version": "3.8.13"
  }
 },
 "nbformat": 4,
 "nbformat_minor": 1
}
