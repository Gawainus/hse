{
 "cells": [
  {
   "cell_type": "code",
   "execution_count": 2,
   "metadata": {},
   "outputs": [],
   "source": [
    "import numpy as np\n",
    "import pandas as pd\n",
    "import itertools\n",
    "import random\n",
    "\n",
    "from scipy import stats\n",
    "\n",
    "import matplotlib.pyplot as plt\n",
    "%matplotlib inline\n"
   ]
  },
  {
   "cell_type": "code",
   "execution_count": 3,
   "metadata": {},
   "outputs": [],
   "source": [
    "ar = np.loadtxt('work/hse/applied_stats/week3/failure_times.csv')\n",
    "ar = np.diff(ar)"
   ]
  },
  {
   "cell_type": "code",
   "execution_count": 4,
   "metadata": {},
   "outputs": [
    {
     "data": {
      "text/plain": [
       "array([3.000e+01, 1.130e+02, 8.100e+01, 1.150e+02, 9.000e+00, 2.000e+00,\n",
       "       9.100e+01, 1.120e+02, 1.500e+01, 1.380e+02, 5.000e+01, 7.700e+01,\n",
       "       2.400e+01, 1.080e+02, 8.800e+01, 6.700e+02, 1.200e+02, 2.600e+01,\n",
       "       1.140e+02, 3.250e+02, 5.500e+01, 2.420e+02, 6.800e+01, 4.220e+02,\n",
       "       1.800e+02, 1.000e+01, 1.146e+03, 6.000e+02, 1.500e+01, 3.600e+01,\n",
       "       4.000e+00, 0.000e+00, 8.000e+00, 2.270e+02, 6.500e+01, 1.760e+02,\n",
       "       5.800e+01, 4.570e+02, 3.000e+02, 9.700e+01, 2.630e+02, 4.520e+02,\n",
       "       2.550e+02, 1.970e+02, 1.930e+02, 6.000e+00, 7.900e+01, 8.160e+02,\n",
       "       1.351e+03, 1.480e+02, 2.100e+01, 2.330e+02, 1.340e+02, 3.570e+02,\n",
       "       1.930e+02, 2.360e+02, 3.100e+01, 3.690e+02, 7.480e+02, 0.000e+00,\n",
       "       2.320e+02, 3.300e+02, 3.650e+02, 1.222e+03, 5.430e+02, 1.000e+01,\n",
       "       1.600e+01, 5.290e+02, 3.790e+02, 4.400e+01, 1.290e+02, 8.100e+02,\n",
       "       2.900e+02, 3.000e+02, 5.290e+02, 2.810e+02, 1.600e+02, 8.280e+02,\n",
       "       1.011e+03, 4.450e+02, 2.960e+02, 1.755e+03, 1.064e+03, 1.783e+03,\n",
       "       8.600e+02, 9.830e+02, 7.070e+02, 3.300e+01, 8.680e+02, 7.240e+02,\n",
       "       2.323e+03, 2.930e+03, 1.461e+03, 8.430e+02, 1.200e+01, 2.610e+02,\n",
       "       1.800e+03, 8.650e+02, 1.435e+03, 3.000e+01, 1.430e+02, 1.080e+02,\n",
       "       0.000e+00, 3.110e+03, 1.247e+03, 9.430e+02, 7.000e+02, 8.750e+02,\n",
       "       2.450e+02, 7.290e+02, 1.897e+03, 4.470e+02, 3.860e+02, 4.460e+02,\n",
       "       1.220e+02, 9.900e+02, 9.480e+02, 1.082e+03, 2.200e+01, 7.500e+01,\n",
       "       4.820e+02, 5.509e+03, 1.000e+02, 1.000e+01, 1.071e+03, 3.710e+02,\n",
       "       7.900e+02, 6.150e+03, 3.321e+03, 1.045e+03, 6.480e+02, 5.485e+03,\n",
       "       1.160e+03, 1.864e+03, 4.116e+03])"
      ]
     },
     "execution_count": 4,
     "metadata": {},
     "output_type": "execute_result"
    }
   ],
   "source": [
    "ar"
   ]
  },
  {
   "cell_type": "code",
   "execution_count": 5,
   "metadata": {},
   "outputs": [
    {
     "data": {
      "text/plain": [
       "Ttest_1sampResult(statistic=1.7572536270462775, pvalue=0.040579209207804064)"
      ]
     },
     "execution_count": 5,
     "metadata": {},
     "output_type": "execute_result"
    }
   ],
   "source": [
    "stats.ttest_1samp(ar, 500, alternative='greater')"
   ]
  },
  {
   "cell_type": "markdown",
   "metadata": {},
   "source": [
    "# sign test"
   ]
  },
  {
   "cell_type": "code",
   "execution_count": 6,
   "metadata": {},
   "outputs": [
    {
     "data": {
      "text/plain": [
       "(290.0, 656.8814814814815, 135, 49)"
      ]
     },
     "execution_count": 6,
     "metadata": {},
     "output_type": "execute_result"
    }
   ],
   "source": [
    "np.median(ar), np.mean(ar), ar.size, ar[ar > 500].size"
   ]
  },
  {
   "cell_type": "code",
   "execution_count": 29,
   "metadata": {},
   "outputs": [
    {
     "data": {
      "text/plain": [
       "BinomTestResult(k=49, n=135, alternative='greater', proportion_estimate=0.362962962962963, pvalue=0.9995002578123924)"
      ]
     },
     "execution_count": 29,
     "metadata": {},
     "output_type": "execute_result"
    }
   ],
   "source": [
    "\n",
    "stats.binomtest(ar[ar > 500].size, ar.size, 0.5, alternative='greater')"
   ]
  },
  {
   "cell_type": "code",
   "execution_count": 8,
   "metadata": {},
   "outputs": [],
   "source": [
    "from statsmodels.stats.descriptivestats import sign_test\n",
    "from statsmodels.stats.weightstats import zconfint"
   ]
  },
  {
   "cell_type": "code",
   "execution_count": 16,
   "metadata": {},
   "outputs": [
    {
     "name": "stdout",
     "output_type": "stream",
     "text": [
      "Sign test: (-18.5, 0.0018377911087715663)\n"
     ]
    }
   ],
   "source": [
    "print(\"Sign test:\", sign_test(ar, mu0=500))"
   ]
  },
  {
   "cell_type": "code",
   "execution_count": 20,
   "metadata": {},
   "outputs": [
    {
     "data": {
      "text/plain": [
       "0.9990811044456143"
      ]
     },
     "execution_count": 20,
     "metadata": {},
     "output_type": "execute_result"
    }
   ],
   "source": [
    "1 - 0.0018377911087715663/2"
   ]
  },
  {
   "cell_type": "code",
   "execution_count": 10,
   "metadata": {},
   "outputs": [
    {
     "name": "stdout",
     "output_type": "stream",
     "text": [
      "Signed rank test: WilcoxonResult(statistic=4091.5, pvalue=0.8632079654217537)\n"
     ]
    }
   ],
   "source": [
    "print(\"Signed rank test:\", stats.wilcoxon(ar - 500, alternative='greater'))"
   ]
  },
  {
   "cell_type": "markdown",
   "metadata": {},
   "source": [
    "# Permutation test"
   ]
  },
  {
   "cell_type": "code",
   "execution_count": 11,
   "metadata": {},
   "outputs": [],
   "source": [
    "def permutation_t_stat_1s(sample, mean):\n",
    "    t_stat = sum(sample - mean)\n",
    "    return t_stat\n",
    "\n",
    "def permutation_null_distr_1s(sample, mean, max_permutations = None):\n",
    "    centered_sample = sample - mean\n",
    "    if max_permutations:\n",
    "        signs_array = set([tuple(x) for x in 2 * np.random.randint(2, size = (max_permutations, \n",
    "                                                                              len(sample))) - 1 ])\n",
    "    else:\n",
    "        signs_array =  itertools.product([-1, 1], repeat = len(sample))\n",
    "    distr = [permutation_t_stat_1s(centered_sample * np.array(signs), 0) for signs in signs_array]\n",
    "    return distr\n",
    "\n",
    "def permutation_test_1s(sample, mean, max_permutations = None, alternative = 'two-sided', return_distr = False):\n",
    "    if alternative not in ('two-sided', 'less', 'greater'):\n",
    "        raise ValueError(\"alternative not recognized\\n\"\n",
    "                         \"should be 'two-sided', 'less' or 'greater'\")\n",
    "    \n",
    "    t_stat = permutation_t_stat_1s(sample, mean)\n",
    "    \n",
    "    null_distr = permutation_null_distr_1s(sample, mean, max_permutations)\n",
    "    \n",
    "    if alternative == 'two-sided':\n",
    "        p = sum([1. if abs(x) >= abs(t_stat) else 0. for x in null_distr]) / len(null_distr)\n",
    "    elif alternative == 'less':\n",
    "        p = sum([1. if x <= t_stat else 0. for x in null_distr]) / len(null_distr)\n",
    "    else: # alternative == 'greater':\n",
    "        p = sum([1. if x >= t_stat else 0. for x in null_distr]) / len(null_distr)\n",
    "        \n",
    "    if return_distr:\n",
    "        return {'t': t_stat, 'p': p, 'null_distr': null_distr}\n",
    "    else:\n",
    "        return {'t': t_stat, 'p': p}"
   ]
  },
  {
   "cell_type": "code",
   "execution_count": 33,
   "metadata": {},
   "outputs": [
    {
     "name": "stdout",
     "output_type": "stream",
     "text": [
      "Permutation test: t = -0.000000, p = 0.497800\n"
     ]
    }
   ],
   "source": [
    "random.seed(0)\n",
    "res = permutation_test_1s(ar, np.mean(ar), max_permutations=10000, return_distr=True, alternative='greater')\n",
    "print(\"Permutation test: t = %f, p = %f\" % (res['t'], res['p']))"
   ]
  },
  {
   "cell_type": "code",
   "execution_count": 13,
   "metadata": {},
   "outputs": [
    {
     "data": {
      "image/png": "[encoded data removed]",
      "text/plain": [
       "<Figure size 432x288 with 1 Axes>"
      ]
     },
     "metadata": {
      "needs_background": "light"
     },
     "output_type": "display_data"
    }
   ],
   "source": [
    "plt.hist(res['null_distr'], bins = 100);"
   ]
  }
 ],
 "metadata": {
  "kernelspec": {
   "display_name": "Python 3 (ipykernel)",
   "language": "python",
   "name": "python3"
  },
  "language_info": {
   "codemirror_mode": {
    "name": "ipython",
    "version": 3
   },
   "file_extension": ".py",
   "mimetype": "text/x-python",
   "name": "python",
   "nbconvert_exporter": "python",
   "pygments_lexer": "ipython3",
   "version": "3.8.13"
  },
  "orig_nbformat": 4
 },
 "nbformat": 4,
 "nbformat_minor": 2
}
