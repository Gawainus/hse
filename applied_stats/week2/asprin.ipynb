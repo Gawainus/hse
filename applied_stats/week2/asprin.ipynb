{
 "cells": [
  {
   "cell_type": "code",
   "execution_count": 9,
   "metadata": {},
   "outputs": [],
   "source": [
    "import numpy as np\n",
    "import pandas as pd\n",
    "\n",
    "from scipy import stats\n",
    "\n",
    "import matplotlib.pyplot as plt\n",
    "\n",
    "%matplotlib inline"
   ]
  },
  {
   "cell_type": "markdown",
   "metadata": {},
   "source": [
    "In a 5 year randomized trial by Harvard Medical School researchers, 11037 subjects were taking aspirin every other day, and 11034 subjects were taking placebo. In the treatment group, 104 subjects had heart attacks during those 5 years; in the control group – 189 subjects.\n",
    "\n",
    "Estimate how much the probability of a heart attack decreases for the aspirin group. Provide the answer with 4 decimal points. "
   ]
  },
  {
   "cell_type": "code",
   "execution_count": 1,
   "metadata": {},
   "outputs": [
    {
     "data": {
      "text/plain": [
       "-0.0077060239760047815"
      ]
     },
     "execution_count": 1,
     "metadata": {},
     "output_type": "execute_result"
    }
   ],
   "source": [
    "104/11037 - 189/11034"
   ]
  },
  {
   "cell_type": "code",
   "execution_count": 29,
   "metadata": {},
   "outputs": [],
   "source": [
    "k1 = 104\n",
    "k2 = 189\n",
    "n1 = 11037\n",
    "n2 = 11034\n",
    "\n",
    "# k1 = 79\n",
    "# k2 = 443\n",
    "# n1 = 271\n",
    "# n2 = 1736"
   ]
  },
  {
   "cell_type": "code",
   "execution_count": 30,
   "metadata": {},
   "outputs": [
    {
     "data": {
      "text/plain": [
       "(0.009422850412249705, 0.017128874388254486, 0.013275338679715464)"
      ]
     },
     "execution_count": 30,
     "metadata": {},
     "output_type": "execute_result"
    }
   ],
   "source": [
    "p_hat_1 = k1 / n1\n",
    "p_hat_2 = k2 / n2\n",
    "p = (k1 + k2) / (n1 + n2)\n",
    "p_hat_1, p_hat_2, p"
   ]
  },
  {
   "cell_type": "code",
   "execution_count": 31,
   "metadata": {},
   "outputs": [
    {
     "data": {
      "text/plain": [
       "-5.001388204008378"
      ]
     },
     "execution_count": 31,
     "metadata": {},
     "output_type": "execute_result"
    }
   ],
   "source": [
    "Z = (p_hat_1 - p_hat_2)/np.sqrt(p*(1-p)*(1/n1 + 1/n2))\n",
    "Z"
   ]
  },
  {
   "cell_type": "markdown",
   "metadata": {},
   "source": [
    "$$\\hat{p}_1 - \\hat{p}_2 \\pm Z_{1-\\frac{\\alpha}{2}} \\sqrt{p(1-p)(\\frac{1}{n_1} + \\frac{1}{n_2})}$$"
   ]
  },
  {
   "cell_type": "code",
   "execution_count": 32,
   "metadata": {},
   "outputs": [],
   "source": [
    "Z = stats.norm().ppf(0.975)"
   ]
  },
  {
   "cell_type": "code",
   "execution_count": 36,
   "metadata": {},
   "outputs": [
    {
     "data": {
      "text/plain": [
       "-0.01072589142897849"
      ]
     },
     "execution_count": 36,
     "metadata": {},
     "output_type": "execute_result"
    }
   ],
   "source": [
    "p_hat_1 - p_hat_2 - Z * np.sqrt(p*(1-p)*(1/n1 + 1/n2))"
   ]
  },
  {
   "cell_type": "code",
   "execution_count": 33,
   "metadata": {},
   "outputs": [
    {
     "data": {
      "text/plain": [
       "-0.0046861565230310745"
      ]
     },
     "execution_count": 33,
     "metadata": {},
     "output_type": "execute_result"
    }
   ],
   "source": [
    "p_hat_1 - p_hat_2 + Z * np.sqrt(p*(1-p)*(1/n1 + 1/n2))"
   ]
  },
  {
   "cell_type": "markdown",
   "metadata": {},
   "source": [
    "Odds:$$p/(1-p)$$"
   ]
  },
  {
   "cell_type": "code",
   "execution_count": 38,
   "metadata": {},
   "outputs": [
    {
     "data": {
      "text/plain": [
       "1.8320539419087138"
      ]
     },
     "execution_count": 38,
     "metadata": {},
     "output_type": "execute_result"
    }
   ],
   "source": [
    "(p_hat_2/(1-p_hat_2)) / (p_hat_1/(1-p_hat_1))"
   ]
  }
 ],
 "metadata": {
  "kernelspec": {
   "display_name": "Python 3 (ipykernel)",
   "language": "python",
   "name": "python3"
  },
  "language_info": {
   "codemirror_mode": {
    "name": "ipython",
    "version": 3
   },
   "file_extension": ".py",
   "mimetype": "text/x-python",
   "name": "python",
   "nbconvert_exporter": "python",
   "pygments_lexer": "ipython3",
   "version": "3.8.13"
  },
  "orig_nbformat": 4
 },
 "nbformat": 4,
 "nbformat_minor": 2
}
