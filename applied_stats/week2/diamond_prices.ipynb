{
 "cells": [
  {
   "cell_type": "code",
   "execution_count": 81,
   "metadata": {},
   "outputs": [],
   "source": [
    "import numpy as np\n",
    "import pandas as pd\n",
    "\n",
    "from scipy import stats\n",
    "\n",
    "from statsmodels.stats.weightstats import DescrStatsW\n",
    "from statsmodels.stats.weightstats import CompareMeans\n",
    "\n",
    "import matplotlib.pyplot as plt\n",
    "\n",
    "%matplotlib inline"
   ]
  },
  {
   "cell_type": "code",
   "execution_count": 4,
   "metadata": {},
   "outputs": [],
   "source": [
    "df = pd.read_csv('/home/yukos/work/hse/applied_stats/week2/diamond_prices.csv')"
   ]
  },
  {
   "cell_type": "code",
   "execution_count": 12,
   "metadata": {},
   "outputs": [
    {
     "data": {
      "text/html": [
       "<div>\n",
       "<style scoped>\n",
       "    .dataframe tbody tr th:only-of-type {\n",
       "        vertical-align: middle;\n",
       "    }\n",
       "\n",
       "    .dataframe tbody tr th {\n",
       "        vertical-align: top;\n",
       "    }\n",
       "\n",
       "    .dataframe thead th {\n",
       "        text-align: right;\n",
       "    }\n",
       "</style>\n",
       "<table border=\"1\" class=\"dataframe\">\n",
       "  <thead>\n",
       "    <tr style=\"text-align: right;\">\n",
       "      <th></th>\n",
       "      <th>price</th>\n",
       "      <th>predicted_price_lm</th>\n",
       "      <th>predicted_price_gbdt</th>\n",
       "    </tr>\n",
       "  </thead>\n",
       "  <tbody>\n",
       "    <tr>\n",
       "      <th>0</th>\n",
       "      <td>564</td>\n",
       "      <td>747.149466</td>\n",
       "      <td>799.049243</td>\n",
       "    </tr>\n",
       "    <tr>\n",
       "      <th>1</th>\n",
       "      <td>5914</td>\n",
       "      <td>6644.569397</td>\n",
       "      <td>6635.491541</td>\n",
       "    </tr>\n",
       "    <tr>\n",
       "      <th>2</th>\n",
       "      <td>2562</td>\n",
       "      <td>2096.573114</td>\n",
       "      <td>2138.584133</td>\n",
       "    </tr>\n",
       "    <tr>\n",
       "      <th>3</th>\n",
       "      <td>537</td>\n",
       "      <td>727.031366</td>\n",
       "      <td>694.107710</td>\n",
       "    </tr>\n",
       "    <tr>\n",
       "      <th>4</th>\n",
       "      <td>5964</td>\n",
       "      <td>7180.988674</td>\n",
       "      <td>7425.353560</td>\n",
       "    </tr>\n",
       "    <tr>\n",
       "      <th>...</th>\n",
       "      <td>...</td>\n",
       "      <td>...</td>\n",
       "      <td>...</td>\n",
       "    </tr>\n",
       "    <tr>\n",
       "      <th>13480</th>\n",
       "      <td>2239</td>\n",
       "      <td>2403.202635</td>\n",
       "      <td>2354.263323</td>\n",
       "    </tr>\n",
       "    <tr>\n",
       "      <th>13481</th>\n",
       "      <td>1092</td>\n",
       "      <td>908.723195</td>\n",
       "      <td>896.414922</td>\n",
       "    </tr>\n",
       "    <tr>\n",
       "      <th>13482</th>\n",
       "      <td>3285</td>\n",
       "      <td>4534.975464</td>\n",
       "      <td>4638.855560</td>\n",
       "    </tr>\n",
       "    <tr>\n",
       "      <th>13483</th>\n",
       "      <td>3734</td>\n",
       "      <td>3465.940124</td>\n",
       "      <td>3381.763771</td>\n",
       "    </tr>\n",
       "    <tr>\n",
       "      <th>13484</th>\n",
       "      <td>1363</td>\n",
       "      <td>1069.489534</td>\n",
       "      <td>1062.376047</td>\n",
       "    </tr>\n",
       "  </tbody>\n",
       "</table>\n",
       "<p>13485 rows × 3 columns</p>\n",
       "</div>"
      ],
      "text/plain": [
       "       price  predicted_price_lm  predicted_price_gbdt\n",
       "0        564          747.149466            799.049243\n",
       "1       5914         6644.569397           6635.491541\n",
       "2       2562         2096.573114           2138.584133\n",
       "3        537          727.031366            694.107710\n",
       "4       5964         7180.988674           7425.353560\n",
       "...      ...                 ...                   ...\n",
       "13480   2239         2403.202635           2354.263323\n",
       "13481   1092          908.723195            896.414922\n",
       "13482   3285         4534.975464           4638.855560\n",
       "13483   3734         3465.940124           3381.763771\n",
       "13484   1363         1069.489534           1062.376047\n",
       "\n",
       "[13485 rows x 3 columns]"
      ]
     },
     "execution_count": 12,
     "metadata": {},
     "output_type": "execute_result"
    }
   ],
   "source": [
    "df"
   ]
  },
  {
   "cell_type": "code",
   "execution_count": 40,
   "metadata": {},
   "outputs": [
    {
     "data": {
      "text/plain": [
       "6.875650288841439"
      ]
     },
     "execution_count": 40,
     "metadata": {},
     "output_type": "execute_result"
    }
   ],
   "source": [
    "(sum((df['predicted_price_lm'] - df['price']).abs()) - sum((df['predicted_price_gbdt'] - df['price']).abs()))/df.shape[0]"
   ]
  },
  {
   "cell_type": "code",
   "execution_count": 27,
   "metadata": {},
   "outputs": [
    {
     "name": "stdout",
     "output_type": "stream",
     "text": [
      "\u001b[0;31mSignature:\u001b[0m\n",
      "\u001b[0mstats\u001b[0m\u001b[0;34m.\u001b[0m\u001b[0mttest_ind\u001b[0m\u001b[0;34m(\u001b[0m\u001b[0;34m\u001b[0m\n",
      "\u001b[0;34m\u001b[0m    \u001b[0ma\u001b[0m\u001b[0;34m,\u001b[0m\u001b[0;34m\u001b[0m\n",
      "\u001b[0;34m\u001b[0m    \u001b[0mb\u001b[0m\u001b[0;34m,\u001b[0m\u001b[0;34m\u001b[0m\n",
      "\u001b[0;34m\u001b[0m    \u001b[0maxis\u001b[0m\u001b[0;34m=\u001b[0m\u001b[0;36m0\u001b[0m\u001b[0;34m,\u001b[0m\u001b[0;34m\u001b[0m\n",
      "\u001b[0;34m\u001b[0m    \u001b[0mequal_var\u001b[0m\u001b[0;34m=\u001b[0m\u001b[0;32mTrue\u001b[0m\u001b[0;34m,\u001b[0m\u001b[0;34m\u001b[0m\n",
      "\u001b[0;34m\u001b[0m    \u001b[0mnan_policy\u001b[0m\u001b[0;34m=\u001b[0m\u001b[0;34m'propagate'\u001b[0m\u001b[0;34m,\u001b[0m\u001b[0;34m\u001b[0m\n",
      "\u001b[0;34m\u001b[0m    \u001b[0mpermutations\u001b[0m\u001b[0;34m=\u001b[0m\u001b[0;32mNone\u001b[0m\u001b[0;34m,\u001b[0m\u001b[0;34m\u001b[0m\n",
      "\u001b[0;34m\u001b[0m    \u001b[0mrandom_state\u001b[0m\u001b[0;34m=\u001b[0m\u001b[0;32mNone\u001b[0m\u001b[0;34m,\u001b[0m\u001b[0;34m\u001b[0m\n",
      "\u001b[0;34m\u001b[0m    \u001b[0malternative\u001b[0m\u001b[0;34m=\u001b[0m\u001b[0;34m'two-sided'\u001b[0m\u001b[0;34m,\u001b[0m\u001b[0;34m\u001b[0m\n",
      "\u001b[0;34m\u001b[0m    \u001b[0mtrim\u001b[0m\u001b[0;34m=\u001b[0m\u001b[0;36m0\u001b[0m\u001b[0;34m,\u001b[0m\u001b[0;34m\u001b[0m\n",
      "\u001b[0;34m\u001b[0m\u001b[0;34m)\u001b[0m\u001b[0;34m\u001b[0m\u001b[0;34m\u001b[0m\u001b[0m\n",
      "\u001b[0;31mDocstring:\u001b[0m\n",
      "Calculate the T-test for the means of *two independent* samples of scores.\n",
      "\n",
      "This is a test for the null hypothesis that 2 independent samples\n",
      "have identical average (expected) values. This test assumes that the\n",
      "populations have identical variances by default.\n",
      "\n",
      "Parameters\n",
      "----------\n",
      "a, b : array_like\n",
      "    The arrays must have the same shape, except in the dimension\n",
      "    corresponding to `axis` (the first, by default).\n",
      "axis : int or None, optional\n",
      "    Axis along which to compute test. If None, compute over the whole\n",
      "    arrays, `a`, and `b`.\n",
      "equal_var : bool, optional\n",
      "    If True (default), perform a standard independent 2 sample test\n",
      "    that assumes equal population variances [1]_.\n",
      "    If False, perform Welch's t-test, which does not assume equal\n",
      "    population variance [2]_.\n",
      "\n",
      "    .. versionadded:: 0.11.0\n",
      "\n",
      "nan_policy : {'propagate', 'raise', 'omit'}, optional\n",
      "    Defines how to handle when input contains nan.\n",
      "    The following options are available (default is 'propagate'):\n",
      "\n",
      "      * 'propagate': returns nan\n",
      "      * 'raise': throws an error\n",
      "      * 'omit': performs the calculations ignoring nan values\n",
      "\n",
      "    The 'omit' option is not currently available for permutation tests or\n",
      "    one-sided asympyotic tests.\n",
      "\n",
      "permutations : non-negative int, np.inf, or None (default), optional\n",
      "    If 0 or None (default), use the t-distribution to calculate p-values.\n",
      "    Otherwise, `permutations` is  the number of random permutations that\n",
      "    will be used to estimate p-values using a permutation test. If\n",
      "    `permutations` equals or exceeds the number of distinct partitions of\n",
      "    the pooled data, an exact test is performed instead (i.e. each\n",
      "    distinct partition is used exactly once). See Notes for details.\n",
      "\n",
      "    .. versionadded:: 1.7.0\n",
      "\n",
      "random_state : {None, int, `numpy.random.Generator`,\n",
      "        `numpy.random.RandomState`}, optional\n",
      "\n",
      "    If `seed` is None (or `np.random`), the `numpy.random.RandomState`\n",
      "    singleton is used.\n",
      "    If `seed` is an int, a new ``RandomState`` instance is used,\n",
      "    seeded with `seed`.\n",
      "    If `seed` is already a ``Generator`` or ``RandomState`` instance then\n",
      "    that instance is used.\n",
      "\n",
      "    Pseudorandom number generator state used to generate permutations\n",
      "    (used only when `permutations` is not None).\n",
      "\n",
      "    .. versionadded:: 1.7.0\n",
      "\n",
      "alternative : {'two-sided', 'less', 'greater'}, optional\n",
      "    Defines the alternative hypothesis.\n",
      "    The following options are available (default is 'two-sided'):\n",
      "\n",
      "    * 'two-sided': the means of the distributions underlying the samples\n",
      "      are unequal.\n",
      "    * 'less': the mean of the distribution underlying the first sample\n",
      "      is less than the mean of the distribution underlying the second\n",
      "      sample.\n",
      "    * 'greater': the mean of the distribution underlying the first\n",
      "      sample is greater than the mean of the distribution underlying\n",
      "      the second sample.\n",
      "\n",
      "    .. versionadded:: 1.6.0\n",
      "\n",
      "trim : float, optional\n",
      "    If nonzero, performs a trimmed (Yuen's) t-test.\n",
      "    Defines the fraction of elements to be trimmed from each end of the\n",
      "    input samples. If 0 (default), no elements will be trimmed from either\n",
      "    side. The number of trimmed elements from each tail is the floor of the\n",
      "    trim times the number of elements. Valid range is [0, .5).\n",
      "\n",
      "    .. versionadded:: 1.7\n",
      "\n",
      "Returns\n",
      "-------\n",
      "statistic : float or array\n",
      "    The calculated t-statistic.\n",
      "pvalue : float or array\n",
      "    The p-value.\n",
      "\n",
      "Notes\n",
      "-----\n",
      "Suppose we observe two independent samples, e.g. flower petal lengths, and\n",
      "we are considering whether the two samples were drawn from the same\n",
      "population (e.g. the same species of flower or two species with similar\n",
      "petal characteristics) or two different populations.\n",
      "\n",
      "The t-test quantifies the difference between the arithmetic means\n",
      "of the two samples. The p-value quantifies the probability of observing\n",
      "as or more extreme values assuming the null hypothesis, that the\n",
      "samples are drawn from populations with the same population means, is true.\n",
      "A p-value larger than a chosen threshold (e.g. 5% or 1%) indicates that\n",
      "our observation is not so unlikely to have occurred by chance. Therefore,\n",
      "we do not reject the null hypothesis of equal population means.\n",
      "If the p-value is smaller than our threshold, then we have evidence\n",
      "against the null hypothesis of equal population means.\n",
      "\n",
      "By default, the p-value is determined by comparing the t-statistic of the\n",
      "observed data against a theoretical t-distribution.\n",
      "When ``1 < permutations < binom(n, k)``, where\n",
      "\n",
      "* ``k`` is the number of observations in `a`,\n",
      "* ``n`` is the total number of observations in `a` and `b`, and\n",
      "* ``binom(n, k)`` is the binomial coefficient (``n`` choose ``k``),\n",
      "\n",
      "the data are pooled (concatenated), randomly assigned to either group `a`\n",
      "or `b`, and the t-statistic is calculated. This process is performed\n",
      "repeatedly (`permutation` times), generating a distribution of the\n",
      "t-statistic under the null hypothesis, and the t-statistic of the observed\n",
      "data is compared to this distribution to determine the p-value. When\n",
      "``permutations >= binom(n, k)``, an exact test is performed: the data are\n",
      "partitioned between the groups in each distinct way exactly once.\n",
      "\n",
      "The permutation test can be computationally expensive and not necessarily\n",
      "more accurate than the analytical test, but it does not make strong\n",
      "assumptions about the shape of the underlying distribution.\n",
      "\n",
      "Use of trimming is commonly referred to as the trimmed t-test. At times\n",
      "called Yuen's t-test, this is an extension of Welch's t-test, with the\n",
      "difference being the use of winsorized means in calculation of the variance\n",
      "and the trimmed sample size in calculation of the statistic. Trimming is\n",
      "recommended if the underlying distribution is long-tailed or contaminated\n",
      "with outliers [4]_.\n",
      "\n",
      "References\n",
      "----------\n",
      ".. [1] https://en.wikipedia.org/wiki/T-test#Independent_two-sample_t-test\n",
      "\n",
      ".. [2] https://en.wikipedia.org/wiki/Welch%27s_t-test\n",
      "\n",
      ".. [3] http://en.wikipedia.org/wiki/Resampling_%28statistics%29\n",
      "\n",
      ".. [4] Yuen, Karen K. \"The Two-Sample Trimmed t for Unequal Population\n",
      "       Variances.\" Biometrika, vol. 61, no. 1, 1974, pp. 165-170. JSTOR,\n",
      "       www.jstor.org/stable/2334299. Accessed 30 Mar. 2021.\n",
      "\n",
      ".. [5] Yuen, Karen K., and W. J. Dixon. \"The Approximate Behaviour and\n",
      "       Performance of the Two-Sample Trimmed t.\" Biometrika, vol. 60,\n",
      "       no. 2, 1973, pp. 369-374. JSTOR, www.jstor.org/stable/2334550.\n",
      "       Accessed 30 Mar. 2021.\n",
      "\n",
      "Examples\n",
      "--------\n",
      ">>> from scipy import stats\n",
      ">>> rng = np.random.default_rng()\n",
      "\n",
      "Test with sample with identical means:\n",
      "\n",
      ">>> rvs1 = stats.norm.rvs(loc=5, scale=10, size=500, random_state=rng)\n",
      ">>> rvs2 = stats.norm.rvs(loc=5, scale=10, size=500, random_state=rng)\n",
      ">>> stats.ttest_ind(rvs1, rvs2)\n",
      "Ttest_indResult(statistic=-0.4390847099199348, pvalue=0.6606952038870015)\n",
      ">>> stats.ttest_ind(rvs1, rvs2, equal_var=False)\n",
      "Ttest_indResult(statistic=-0.4390847099199348, pvalue=0.6606952553131064)\n",
      "\n",
      "`ttest_ind` underestimates p for unequal variances:\n",
      "\n",
      ">>> rvs3 = stats.norm.rvs(loc=5, scale=20, size=500, random_state=rng)\n",
      ">>> stats.ttest_ind(rvs1, rvs3)\n",
      "Ttest_indResult(statistic=-1.6370984482905417, pvalue=0.1019251574705033)\n",
      ">>> stats.ttest_ind(rvs1, rvs3, equal_var=False)\n",
      "Ttest_indResult(statistic=-1.637098448290542, pvalue=0.10202110497954867)\n",
      "\n",
      "When ``n1 != n2``, the equal variance t-statistic is no longer equal to the\n",
      "unequal variance t-statistic:\n",
      "\n",
      ">>> rvs4 = stats.norm.rvs(loc=5, scale=20, size=100, random_state=rng)\n",
      ">>> stats.ttest_ind(rvs1, rvs4)\n",
      "Ttest_indResult(statistic=-1.9481646859513422, pvalue=0.05186270935842703)\n",
      ">>> stats.ttest_ind(rvs1, rvs4, equal_var=False)\n",
      "Ttest_indResult(statistic=-1.3146566100751664, pvalue=0.1913495266513811)\n",
      "\n",
      "T-test with different means, variance, and n:\n",
      "\n",
      ">>> rvs5 = stats.norm.rvs(loc=8, scale=20, size=100, random_state=rng)\n",
      ">>> stats.ttest_ind(rvs1, rvs5)\n",
      "Ttest_indResult(statistic=-2.8415950600298774, pvalue=0.0046418707568707885)\n",
      ">>> stats.ttest_ind(rvs1, rvs5, equal_var=False)\n",
      "Ttest_indResult(statistic=-1.8686598649188084, pvalue=0.06434714193919686)\n",
      "\n",
      "When performing a permutation test, more permutations typically yields\n",
      "more accurate results. Use a ``np.random.Generator`` to ensure\n",
      "reproducibility:\n",
      "\n",
      ">>> stats.ttest_ind(rvs1, rvs5, permutations=10000,\n",
      "...                 random_state=rng)\n",
      "Ttest_indResult(statistic=-2.8415950600298774, pvalue=0.0052)\n",
      "\n",
      "Take these two samples, one of which has an extreme tail.\n",
      "\n",
      ">>> a = (56, 128.6, 12, 123.8, 64.34, 78, 763.3)\n",
      ">>> b = (1.1, 2.9, 4.2)\n",
      "\n",
      "Use the `trim` keyword to perform a trimmed (Yuen) t-test. For example,\n",
      "using 20% trimming, ``trim=.2``, the test will reduce the impact of one\n",
      "(``np.floor(trim*len(a))``) element from each tail of sample `a`. It will\n",
      "have no effect on sample `b` because ``np.floor(trim*len(b))`` is 0.\n",
      "\n",
      ">>> stats.ttest_ind(a, b, trim=.2)\n",
      "Ttest_indResult(statistic=3.4463884028073513,\n",
      "                pvalue=0.01369338726499547)\n",
      "\u001b[0;31mFile:\u001b[0m      ~/anaconda3/envs/ml/lib/python3.8/site-packages/scipy/stats/_stats_py.py\n",
      "\u001b[0;31mType:\u001b[0m      function\n"
     ]
    }
   ],
   "source": [
    "stats.ttest_ind?"
   ]
  },
  {
   "cell_type": "code",
   "execution_count": 78,
   "metadata": {},
   "outputs": [
    {
     "data": {
      "text/plain": [
       "Ttest_indResult(statistic=0.5068941034999136, pvalue=0.612233267646038)"
      ]
     },
     "execution_count": 78,
     "metadata": {},
     "output_type": "execute_result"
    }
   ],
   "source": [
    "stats.ttest_ind((df['predicted_price_lm'] - df['price']).abs().values, (df['predicted_price_gbdt'] - df['price']).abs().values, equal_var=True)"
   ]
  },
  {
   "cell_type": "code",
   "execution_count": 80,
   "metadata": {},
   "outputs": [
    {
     "data": {
      "text/plain": [
       "Ttest_relResult(statistic=2.382783477618914, pvalue=0.017196067393118585)"
      ]
     },
     "execution_count": 80,
     "metadata": {},
     "output_type": "execute_result"
    }
   ],
   "source": [
    "stats.ttest_rel((df['predicted_price_lm'] - df['price']).abs().values, (df['predicted_price_gbdt'] - df['price']).abs().values)"
   ]
  },
  {
   "cell_type": "code",
   "execution_count": 82,
   "metadata": {},
   "outputs": [
    {
     "name": "stdout",
     "output_type": "stream",
     "text": [
      "95% confidence interval: [1.219561, 12.531740]\n"
     ]
    }
   ],
   "source": [
    "print(\"95%% confidence interval: [%f, %f]\" % DescrStatsW((df['predicted_price_lm'] - df['price']).abs().values- (df['predicted_price_gbdt'] - df['price']).abs().values).tconfint_mean())"
   ]
  },
  {
   "cell_type": "code",
   "execution_count": 23,
   "metadata": {},
   "outputs": [
    {
     "data": {
      "text/plain": [
       "<AxesSubplot:xlabel='price', ylabel='predicted_price_gbdt'>"
      ]
     },
     "execution_count": 23,
     "metadata": {},
     "output_type": "execute_result"
    },
    {
     "data": {
      "image/png": "[encoded data removed]",
      "text/plain": [
       "<Figure size 432x288 with 1 Axes>"
      ]
     },
     "metadata": {
      "needs_background": "light"
     },
     "output_type": "display_data"
    },
    {
     "data": {
      "image/png": "[encoded data removed]",
      "text/plain": [
       "<Figure size 432x288 with 1 Axes>"
      ]
     },
     "metadata": {
      "needs_background": "light"
     },
     "output_type": "display_data"
    }
   ],
   "source": [
    "df.plot.scatter('price', 'predicted_price_lm')\n",
    "df.plot.scatter('price', 'predicted_price_gbdt')"
   ]
  }
 ],
 "metadata": {
  "kernelspec": {
   "display_name": "Python 3 (ipykernel)",
   "language": "python",
   "name": "python3"
  },
  "language_info": {
   "codemirror_mode": {
    "name": "ipython",
    "version": 3
   },
   "file_extension": ".py",
   "mimetype": "text/x-python",
   "name": "python",
   "nbconvert_exporter": "python",
   "pygments_lexer": "ipython3",
   "version": "3.8.13"
  },
  "orig_nbformat": 4
 },
 "nbformat": 4,
 "nbformat_minor": 2
}
