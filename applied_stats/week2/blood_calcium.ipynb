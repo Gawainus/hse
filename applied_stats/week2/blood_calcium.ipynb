{
 "cells": [
  {
   "cell_type": "code",
   "execution_count": 3,
   "metadata": {},
   "outputs": [],
   "source": [
    "import numpy as np\n",
    "import pandas as pd\n",
    "\n",
    "from scipy import stats\n",
    "\n",
    "import matplotlib.pyplot as plt\n",
    "\n",
    "%matplotlib inline"
   ]
  },
  {
   "cell_type": "markdown",
   "metadata": {},
   "source": [
    "For healthy young women average level of calcium in blood is 9.5 mg per deciliter with the typical standard deviation of 0.4 mg/dl. In a rurah hospital in Guatemala for 160 healthy women on early stages of pregnancy blood calcium level was measured; the average was 9.57 mg/dl. Does the average level differ from 9.5?\n",
    "\n",
    "Calculate the p-value, round it up to 4 decimal places."
   ]
  },
  {
   "cell_type": "code",
   "execution_count": 13,
   "metadata": {},
   "outputs": [
    {
     "data": {
      "text/plain": [
       "0.026856695507523787"
      ]
     },
     "execution_count": 13,
     "metadata": {},
     "output_type": "execute_result"
    }
   ],
   "source": [
    "n = 160\n",
    "sigma = 0.4\n",
    "(1 - stats.norm.cdf((9.57 - 9.5)/(sigma / np.sqrt(n))))*2"
   ]
  }
 ],
 "metadata": {
  "kernelspec": {
   "display_name": "Python 3 (ipykernel)",
   "language": "python",
   "name": "python3"
  },
  "orig_nbformat": 4
 },
 "nbformat": 4,
 "nbformat_minor": 2
}
