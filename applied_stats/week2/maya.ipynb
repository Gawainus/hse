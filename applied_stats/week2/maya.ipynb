{
 "cells": [
  {
   "cell_type": "code",
   "execution_count": 1,
   "metadata": {},
   "outputs": [],
   "source": [
    "import numpy as np\n",
    "import scipy as sc\n",
    "from matplotlib import pyplot as plt\n",
    "\n",
    "from statsmodels.stats.proportion import proportion_confint\n",
    "from statsmodels.stats.proportion import proportions_ztest\n",
    "from statsmodels.stats.proportion import confint_proportions_2indep\n",
    "from statsmodels.stats.proportion import test_proportions_2indep"
   ]
  },
  {
   "cell_type": "markdown",
   "metadata": {},
   "source": [
    "## One sample"
   ]
  },
  {
   "cell_type": "markdown",
   "metadata": {},
   "source": [
    "In episode 5 of season 13 of Mythbusters they tested the expression \"know something like the back of one's hand\". \n",
    "\n",
    "12 subjects tried to select a photo of their hand from 10 similar pictures.\n",
    "11 of 12 subjects selected their own hand. "
   ]
  },
  {
   "cell_type": "markdown",
   "metadata": {},
   "source": [
    "### Confidence interval\n",
    "Confidence interval for the proportion of people knowing what the back of their hand looks like:"
   ]
  },
  {
   "cell_type": "code",
   "execution_count": 2,
   "metadata": {},
   "outputs": [
    {
     "name": "stdout",
     "output_type": "stream",
     "text": [
      "\u001b[0;31mSignature:\u001b[0m \u001b[0mproportion_confint\u001b[0m\u001b[0;34m(\u001b[0m\u001b[0mcount\u001b[0m\u001b[0;34m,\u001b[0m \u001b[0mnobs\u001b[0m\u001b[0;34m,\u001b[0m \u001b[0malpha\u001b[0m\u001b[0;34m=\u001b[0m\u001b[0;36m0.05\u001b[0m\u001b[0;34m,\u001b[0m \u001b[0mmethod\u001b[0m\u001b[0;34m=\u001b[0m\u001b[0;34m'normal'\u001b[0m\u001b[0;34m)\u001b[0m\u001b[0;34m\u001b[0m\u001b[0;34m\u001b[0m\u001b[0m\n",
      "\u001b[0;31mDocstring:\u001b[0m\n",
      "confidence interval for a binomial proportion\n",
      "\n",
      "Parameters\n",
      "----------\n",
      "count : int or array_array_like\n",
      "    number of successes, can be pandas Series or DataFrame\n",
      "nobs : int\n",
      "    total number of trials\n",
      "alpha : float in (0, 1)\n",
      "    significance level, default 0.05\n",
      "method : {'normal', 'agresti_coull', 'beta', 'wilson', 'binom_test'}\n",
      "    default: 'normal'\n",
      "    method to use for confidence interval,\n",
      "    currently available methods :\n",
      "\n",
      "     - `normal` : asymptotic normal approximation\n",
      "     - `agresti_coull` : Agresti-Coull interval\n",
      "     - `beta` : Clopper-Pearson interval based on Beta distribution\n",
      "     - `wilson` : Wilson Score interval\n",
      "     - `jeffreys` : Jeffreys Bayesian Interval\n",
      "     - `binom_test` : experimental, inversion of binom_test\n",
      "\n",
      "Returns\n",
      "-------\n",
      "ci_low, ci_upp : float, ndarray, or pandas Series or DataFrame\n",
      "    lower and upper confidence level with coverage (approximately) 1-alpha.\n",
      "    When a pandas object is returned, then the index is taken from the\n",
      "    `count`.\n",
      "\n",
      "Notes\n",
      "-----\n",
      "Beta, the Clopper-Pearson exact interval has coverage at least 1-alpha,\n",
      "but is in general conservative. Most of the other methods have average\n",
      "coverage equal to 1-alpha, but will have smaller coverage in some cases.\n",
      "\n",
      "The 'beta' and 'jeffreys' interval are central, they use alpha/2 in each\n",
      "tail, and alpha is not adjusted at the boundaries. In the extreme case\n",
      "when `count` is zero or equal to `nobs`, then the coverage will be only\n",
      "1 - alpha/2 in the case of 'beta'.\n",
      "\n",
      "The confidence intervals are clipped to be in the [0, 1] interval in the\n",
      "case of 'normal' and 'agresti_coull'.\n",
      "\n",
      "Method \"binom_test\" directly inverts the binomial test in scipy.stats.\n",
      "which has discrete steps.\n",
      "\n",
      "TODO: binom_test intervals raise an exception in small samples if one\n",
      "   interval bound is close to zero or one.\n",
      "\n",
      "References\n",
      "----------\n",
      "https://en.wikipedia.org/wiki/Binomial_proportion_confidence_interval\n",
      "\n",
      "Brown, Lawrence D.; Cai, T. Tony; DasGupta, Anirban (2001). \"Interval\n",
      "    Estimation for a Binomial Proportion\",\n",
      "    Statistical Science 16 (2): 101–133. doi:10.1214/ss/1009213286.\n",
      "\u001b[0;31mFile:\u001b[0m      ~/anaconda3/envs/ml/lib/python3.8/site-packages/statsmodels/stats/proportion.py\n",
      "\u001b[0;31mType:\u001b[0m      function\n"
     ]
    }
   ],
   "source": [
    "proportion_confint?"
   ]
  },
  {
   "cell_type": "code",
   "execution_count": 11,
   "metadata": {},
   "outputs": [
    {
     "data": {
      "text/plain": [
       "0.02"
      ]
     },
     "execution_count": 11,
     "metadata": {},
     "output_type": "execute_result"
    }
   ],
   "source": [
    "1/50"
   ]
  },
  {
   "cell_type": "code",
   "execution_count": 10,
   "metadata": {},
   "outputs": [
    {
     "name": "stdout",
     "output_type": "stream",
     "text": [
      "Wald's interval: (0.0, 0.05880530708179099)\n",
      "Wilson's interval: (0.003539259271646236, 0.10495443589637815)\n"
     ]
    }
   ],
   "source": [
    "print(\"Wald's interval:\", proportion_confint(1, 50, method = 'normal'))\n",
    "print(\"Wilson's interval:\", proportion_confint(1, 50, method = 'wilson'))"
   ]
  },
  {
   "cell_type": "markdown",
   "metadata": {},
   "source": [
    "In this implementation of the Wald's interval the result is trimmed so both limits are within [0,1].\n",
    "\n",
    "How many subjects do we need to test if we want an estimate with +- 5% precision (i.e., 95% confidence interval of the width up to 10%)? statsmodels has a function to calculate that (only for Wald's method, unfortunately):"
   ]
  },
  {
   "cell_type": "code",
   "execution_count": 4,
   "metadata": {},
   "outputs": [],
   "source": [
    "from statsmodels.stats.proportion import samplesize_confint_proportion"
   ]
  },
  {
   "cell_type": "markdown",
   "metadata": {},
   "source": [
    "That number of subjects depends on the unknown true proprotion that we are trying to estimate; let's plot sample size as a function of the unknown proportion:"
   ]
  },
  {
   "cell_type": "code",
   "execution_count": 14,
   "metadata": {},
   "outputs": [
    {
     "data": {
      "text/plain": [
       "753.0"
      ]
     },
     "execution_count": 14,
     "metadata": {},
     "output_type": "execute_result"
    }
   ],
   "source": [
    "p = 0.02\n",
    "np.ceil(samplesize_confint_proportion(p, 0.01))"
   ]
  },
  {
   "cell_type": "code",
   "execution_count": 16,
   "metadata": {},
   "outputs": [
    {
     "data": {
      "image/png": "[encoded data removed]",
      "text/plain": [
       "<Figure size 432x288 with 1 Axes>"
      ]
     },
     "metadata": {
      "needs_background": "light"
     },
     "output_type": "display_data"
    }
   ],
   "source": [
    "prop = np.arange(0.01, 0.99, 0.01)\n",
    "n = [np.ceil(samplesize_confint_proportion(p, 0.01)) for p in prop]\n",
    "\n",
    "plt.plot(prop, n);"
   ]
  },
  {
   "cell_type": "code",
   "execution_count": 17,
   "metadata": {},
   "outputs": [
    {
     "data": {
      "text/plain": [
       "9604.0"
      ]
     },
     "execution_count": 17,
     "metadata": {},
     "output_type": "execute_result"
    }
   ],
   "source": [
    "max(n)"
   ]
  },
  {
   "cell_type": "markdown",
   "metadata": {},
   "source": [
    "### Test\n",
    "\n",
    "Let's test a hypothesis now!\n",
    "\n",
    "$H_0$: people do not know what backs of their hands look like and are guessing at random ($p=0.1$).\n",
    "\n",
    "$H_1$: people are able to select a picture of their own hand better than at random ($p>0.1$)."
   ]
  },
  {
   "cell_type": "code",
   "execution_count": 6,
   "metadata": {},
   "outputs": [
    {
     "name": "stdout",
     "output_type": "stream",
     "text": [
      "\u001b[0;31mSignature:\u001b[0m\n",
      "\u001b[0mproportions_ztest\u001b[0m\u001b[0;34m(\u001b[0m\u001b[0;34m\u001b[0m\n",
      "\u001b[0;34m\u001b[0m    \u001b[0mcount\u001b[0m\u001b[0;34m,\u001b[0m\u001b[0;34m\u001b[0m\n",
      "\u001b[0;34m\u001b[0m    \u001b[0mnobs\u001b[0m\u001b[0;34m,\u001b[0m\u001b[0;34m\u001b[0m\n",
      "\u001b[0;34m\u001b[0m    \u001b[0mvalue\u001b[0m\u001b[0;34m=\u001b[0m\u001b[0;32mNone\u001b[0m\u001b[0;34m,\u001b[0m\u001b[0;34m\u001b[0m\n",
      "\u001b[0;34m\u001b[0m    \u001b[0malternative\u001b[0m\u001b[0;34m=\u001b[0m\u001b[0;34m'two-sided'\u001b[0m\u001b[0;34m,\u001b[0m\u001b[0;34m\u001b[0m\n",
      "\u001b[0;34m\u001b[0m    \u001b[0mprop_var\u001b[0m\u001b[0;34m=\u001b[0m\u001b[0;32mFalse\u001b[0m\u001b[0;34m,\u001b[0m\u001b[0;34m\u001b[0m\n",
      "\u001b[0;34m\u001b[0m\u001b[0;34m)\u001b[0m\u001b[0;34m\u001b[0m\u001b[0;34m\u001b[0m\u001b[0m\n",
      "\u001b[0;31mDocstring:\u001b[0m\n",
      "Test for proportions based on normal (z) test\n",
      "\n",
      "Parameters\n",
      "----------\n",
      "count : {int, array_like}\n",
      "    the number of successes in nobs trials. If this is array_like, then\n",
      "    the assumption is that this represents the number of successes for\n",
      "    each independent sample\n",
      "nobs : {int, array_like}\n",
      "    the number of trials or observations, with the same length as\n",
      "    count.\n",
      "value : float, array_like or None, optional\n",
      "    This is the value of the null hypothesis equal to the proportion in the\n",
      "    case of a one sample test. In the case of a two-sample test, the\n",
      "    null hypothesis is that prop[0] - prop[1] = value, where prop is the\n",
      "    proportion in the two samples. If not provided value = 0 and the null\n",
      "    is prop[0] = prop[1]\n",
      "alternative : str in ['two-sided', 'smaller', 'larger']\n",
      "    The alternative hypothesis can be either two-sided or one of the one-\n",
      "    sided tests, smaller means that the alternative hypothesis is\n",
      "    ``prop < value`` and larger means ``prop > value``. In the two sample\n",
      "    test, smaller means that the alternative hypothesis is ``p1 < p2`` and\n",
      "    larger means ``p1 > p2`` where ``p1`` is the proportion of the first\n",
      "    sample and ``p2`` of the second one.\n",
      "prop_var : False or float in (0, 1)\n",
      "    If prop_var is false, then the variance of the proportion estimate is\n",
      "    calculated based on the sample proportion. Alternatively, a proportion\n",
      "    can be specified to calculate this variance. Common use case is to\n",
      "    use the proportion under the Null hypothesis to specify the variance\n",
      "    of the proportion estimate.\n",
      "\n",
      "Returns\n",
      "-------\n",
      "zstat : float\n",
      "    test statistic for the z-test\n",
      "p-value : float\n",
      "    p-value for the z-test\n",
      "\n",
      "Examples\n",
      "--------\n",
      ">>> count = 5\n",
      ">>> nobs = 83\n",
      ">>> value = .05\n",
      ">>> stat, pval = proportions_ztest(count, nobs, value)\n",
      ">>> print('{0:0.3f}'.format(pval))\n",
      "0.695\n",
      "\n",
      ">>> import numpy as np\n",
      ">>> from statsmodels.stats.proportion import proportions_ztest\n",
      ">>> count = np.array([5, 12])\n",
      ">>> nobs = np.array([83, 99])\n",
      ">>> stat, pval = proportions_ztest(count, nobs)\n",
      ">>> print('{0:0.3f}'.format(pval))\n",
      "0.159\n",
      "\n",
      "Notes\n",
      "-----\n",
      "This uses a simple normal test for proportions. It should be the same as\n",
      "running the mean z-test on the data encoded 1 for event and 0 for no event\n",
      "so that the sum corresponds to the count.\n",
      "\n",
      "In the one and two sample cases with two-sided alternative, this test\n",
      "produces the same p-value as ``proportions_chisquare``, since the\n",
      "chisquare is the distribution of the square of a standard normal\n",
      "distribution.\n",
      "\u001b[0;31mFile:\u001b[0m      ~/anaconda3/envs/ml/lib/python3.8/site-packages/statsmodels/stats/proportion.py\n",
      "\u001b[0;31mType:\u001b[0m      function\n"
     ]
    }
   ],
   "source": [
    "proportions_ztest?"
   ]
  },
  {
   "cell_type": "code",
   "execution_count": 7,
   "metadata": {},
   "outputs": [
    {
     "name": "stdout",
     "output_type": "stream",
     "text": [
      "Z test: (10.235766170195031, 6.85528054545589e-25)\n"
     ]
    }
   ],
   "source": [
    "print('Z test:', proportions_ztest(11, 12, value = 0.1, alternative='larger'))"
   ]
  },
  {
   "cell_type": "markdown",
   "metadata": {},
   "source": [
    "The function outputs the value of Z statistic and the corersponding p-value."
   ]
  },
  {
   "cell_type": "markdown",
   "metadata": {},
   "source": [
    "## Two samples, independent"
   ]
  },
  {
   "cell_type": "markdown",
   "metadata": {},
   "source": [
    "The same experiment was run with the pictures of palms. 7 of 12 subjects selected a picture of their own palm. "
   ]
  },
  {
   "cell_type": "markdown",
   "metadata": {},
   "source": [
    "### Confidence interval\n",
    "\n",
    "Confidence interval for the difference in proportions of people knowing back of their hands and palms:"
   ]
  },
  {
   "cell_type": "code",
   "execution_count": 8,
   "metadata": {},
   "outputs": [
    {
     "name": "stdout",
     "output_type": "stream",
     "text": [
      "Wald's interval: (0.013550506137431695, 0.6531161605292348)\n"
     ]
    }
   ],
   "source": [
    "print(\"Wald's interval:\", confint_proportions_2indep(11, 12, 7, 12, method = 'wald', compare='diff'))"
   ]
  },
  {
   "cell_type": "markdown",
   "metadata": {},
   "source": [
    "In theory, the same function implements Wilson's interval too. In practice, at the moment (statsmodels version 0.12.0) this function does not work:"
   ]
  },
  {
   "cell_type": "code",
   "execution_count": 9,
   "metadata": {},
   "outputs": [
    {
     "ename": "ValueError",
     "evalue": "f(a) and f(b) must have different signs",
     "output_type": "error",
     "traceback": [
      "\u001b[0;31m---------------------------------------------------------------------------\u001b[0m",
      "\u001b[0;31mValueError\u001b[0m                                Traceback (most recent call last)",
      "\u001b[1;32mUbuntu-22.04\\home\\yukos\\work\\hse\\applied_stats\\week2\\maya.ipynb Cell 20\u001b[0m in \u001b[0;36m<cell line: 1>\u001b[0;34m()\u001b[0m\n\u001b[0;32m----> <a href='vscode-notebook-cell://wsl.localhost/Ubuntu-22.04/home/yukos/work/hse/applied_stats/week2/maya.ipynb#X25sZmlsZQ%3D%3D?line=0'>1</a>\u001b[0m \u001b[39mprint\u001b[39m(\u001b[39m\"\u001b[39m\u001b[39mWilson\u001b[39m\u001b[39m'\u001b[39m\u001b[39ms interval:\u001b[39m\u001b[39m\"\u001b[39m, confint_proportions_2indep(\u001b[39m11\u001b[39;49m, \u001b[39m12\u001b[39;49m, \u001b[39m7\u001b[39;49m, \u001b[39m12\u001b[39;49m, method \u001b[39m=\u001b[39;49m \u001b[39m'\u001b[39;49m\u001b[39mscore\u001b[39;49m\u001b[39m'\u001b[39;49m, compare\u001b[39m=\u001b[39;49m\u001b[39m'\u001b[39;49m\u001b[39mdiff\u001b[39;49m\u001b[39m'\u001b[39;49m))\n",
      "File \u001b[0;32m~/anaconda3/envs/ml/lib/python3.8/site-packages/statsmodels/stats/proportion.py:1177\u001b[0m, in \u001b[0;36mconfint_proportions_2indep\u001b[0;34m(count1, nobs1, count2, nobs2, method, compare, alpha, correction)\u001b[0m\n\u001b[1;32m   1174\u001b[0m     upp \u001b[39m=\u001b[39m diff \u001b[39m+\u001b[39m d_upp\n\u001b[1;32m   1176\u001b[0m \u001b[39melif\u001b[39;00m method \u001b[39m==\u001b[39m \u001b[39m\"\u001b[39m\u001b[39mscore\u001b[39m\u001b[39m\"\u001b[39m:\n\u001b[0;32m-> 1177\u001b[0m     low, upp \u001b[39m=\u001b[39m _score_confint_inversion(count1, nobs1, count2, nobs2,\n\u001b[1;32m   1178\u001b[0m                                         compare\u001b[39m=\u001b[39;49mcompare, alpha\u001b[39m=\u001b[39;49malpha,\n\u001b[1;32m   1179\u001b[0m                                         correction\u001b[39m=\u001b[39;49mcorrection)\n\u001b[1;32m   1181\u001b[0m \u001b[39melse\u001b[39;00m:\n\u001b[1;32m   1182\u001b[0m     \u001b[39mraise\u001b[39;00m \u001b[39mValueError\u001b[39;00m(\u001b[39m'\u001b[39m\u001b[39mmethod not recognized\u001b[39m\u001b[39m'\u001b[39m)\n",
      "File \u001b[0;32m~/anaconda3/envs/ml/lib/python3.8/site-packages/statsmodels/stats/proportion.py:2046\u001b[0m, in \u001b[0;36m_score_confint_inversion\u001b[0;34m(count1, nobs1, count2, nobs2, compare, alpha, correction)\u001b[0m\n\u001b[1;32m   2044\u001b[0m \u001b[39m# root finding for confint bounds\u001b[39;00m\n\u001b[1;32m   2045\u001b[0m upp \u001b[39m=\u001b[39m optimize\u001b[39m.\u001b[39mbrentq(func, param, ub)\n\u001b[0;32m-> 2046\u001b[0m low \u001b[39m=\u001b[39m optimize\u001b[39m.\u001b[39;49mbrentq(func, lb, param)\n\u001b[1;32m   2047\u001b[0m \u001b[39mreturn\u001b[39;00m low, upp\n",
      "File \u001b[0;32m~/anaconda3/envs/ml/lib/python3.8/site-packages/scipy/optimize/_zeros_py.py:783\u001b[0m, in \u001b[0;36mbrentq\u001b[0;34m(f, a, b, args, xtol, rtol, maxiter, full_output, disp)\u001b[0m\n\u001b[1;32m    781\u001b[0m \u001b[39mif\u001b[39;00m rtol \u001b[39m<\u001b[39m _rtol:\n\u001b[1;32m    782\u001b[0m     \u001b[39mraise\u001b[39;00m \u001b[39mValueError\u001b[39;00m(\u001b[39m\"\u001b[39m\u001b[39mrtol too small (\u001b[39m\u001b[39m%g\u001b[39;00m\u001b[39m < \u001b[39m\u001b[39m%g\u001b[39;00m\u001b[39m)\u001b[39m\u001b[39m\"\u001b[39m \u001b[39m%\u001b[39m (rtol, _rtol))\n\u001b[0;32m--> 783\u001b[0m r \u001b[39m=\u001b[39m _zeros\u001b[39m.\u001b[39;49m_brentq(f, a, b, xtol, rtol, maxiter, args, full_output, disp)\n\u001b[1;32m    784\u001b[0m \u001b[39mreturn\u001b[39;00m results_c(full_output, r)\n",
      "\u001b[0;31mValueError\u001b[0m: f(a) and f(b) must have different signs"
     ]
    }
   ],
   "source": [
    "print(\"Wilson's interval:\", confint_proportions_2indep(11, 12, 7, 12, method = 'score', compare='diff'))"
   ]
  },
  {
   "cell_type": "markdown",
   "metadata": {},
   "source": [
    "Oh well! Did I mention that anything statistics related works much better in R?"
   ]
  },
  {
   "cell_type": "markdown",
   "metadata": {},
   "source": [
    "### Test\n",
    "\n",
    "$𝐻_0$ : the same proportion of people are able to select a picture of their palms and backs of their hands( $p_1=p_2$ ).\n",
    "\n",
    "$𝐻_1$ : people are more likely to identify a picture of the back of their hand than of the palm  ( $p_1>p_2$ )."
   ]
  },
  {
   "cell_type": "code",
   "execution_count": null,
   "metadata": {},
   "outputs": [
    {
     "name": "stdout",
     "output_type": "stream",
     "text": [
      "Z test: (2.0430156738209964, 0.020525443280229438)\n"
     ]
    }
   ],
   "source": [
    "print(\"Z test:\", test_proportions_2indep(11, 12, 7, 12, alternative = 'larger',\n",
    "                                          method = 'wald',  return_results=False))"
   ]
  },
  {
   "cell_type": "code",
   "execution_count": null,
   "metadata": {},
   "outputs": [
    {
     "name": "stdout",
     "output_type": "stream",
     "text": [
      "Wilson's interval based test: (1.845916413981794, 0.0324521714914821)\n"
     ]
    }
   ],
   "source": [
    "print(\"Wilson's interval based test:\", \n",
    "      test_proportions_2indep(11, 12, 7, 12, alternative = 'larger', \n",
    "                              method = 'score', correction=False, return_results=False))"
   ]
  },
  {
   "cell_type": "markdown",
   "metadata": {},
   "source": [
    "## Two samples, paired"
   ]
  },
  {
   "cell_type": "markdown",
   "metadata": {},
   "source": [
    "We could use confidence interval for paired samples, but the problem is that we don't know the pairings (i.e., how many people correctly guessed the palm, but not back, and vice versa. \n",
    "\n",
    "Given our samples though, there aren't that many options!  \n",
    "\n",
    "Option one:\n",
    "\n",
    "| Back \\ Palm | Right | Wrong | Total |\n",
    "|-------------|-------|-------|-------|\n",
    "| Right       | 6     | 5     | 11    |\n",
    "| Wrong       | 1     | 0     | 1     |\n",
    "| Total       | 7     | 5     | 12    | \n",
    "\n",
    "Option two:\n",
    "\n",
    "| Back \\ Palm | Right | Wrong | Total |\n",
    "|-------------|-------|-------|-------|\n",
    "| Right       | 7     | 4     | 11    |\n",
    "| Wrong       | 0     | 1     | 1     |\n",
    "| Total       | 7     | 5     | 12    | \n",
    "\n",
    "There are no other tables that have the same marginal totals."
   ]
  },
  {
   "cell_type": "markdown",
   "metadata": {},
   "source": [
    "### Confidence interval\n",
    "\n",
    "Let's build confidence intervals for differences in proportions for both!"
   ]
  },
  {
   "cell_type": "code",
   "execution_count": null,
   "metadata": {},
   "outputs": [
    {
     "name": "stdout",
     "output_type": "stream",
     "text": [
      "Wald's interval for option 1: (-0.019500510056176756, 0.6861671767228434)\n",
      "Wald's interval for option 2: (0.06661601798026057, 0.6000506486864061)\n"
     ]
    }
   ],
   "source": [
    "def confint_proportions_2paired_wald(b, c, n, alpha = 0.05):\n",
    "    z = sc.stats.norm.ppf(1 - alpha / 2.)\n",
    " \n",
    "    CI_l = float(b - c) / n  - z * np.sqrt(float((b + c)) / n**2 - float((b - c)**2) / n**3)\n",
    "    CI_u = float(b - c) / n  + z * np.sqrt(float((b + c)) / n**2 - float((b - c)**2) / n**3)\n",
    "    return (CI_l, CI_u)\n",
    "\n",
    "print(\"Wald's interval for option 1:\", confint_proportions_2paired_wald(5, 1, 12))\n",
    "print(\"Wald's interval for option 2:\", confint_proportions_2paired_wald(4, 0, 12))"
   ]
  },
  {
   "cell_type": "markdown",
   "metadata": {},
   "source": [
    "### Tests\n",
    "We'll test the same hypothesis now, but using a test for paired samples!\n",
    "\n",
    "$𝐻_0$ : the same proportion of people are able to select a picture of their palms and backs of their hands( $p_1=p_2$ ).\n",
    "\n",
    "$𝐻_1$ : people are more likely to identify a picture of the back of their hand than of the palm  ( $p_1>p_2$ )."
   ]
  },
  {
   "cell_type": "code",
   "execution_count": null,
   "metadata": {},
   "outputs": [
    {
     "name": "stdout",
     "output_type": "stream",
     "text": [
      "Z test for option 1: (1.8516401995451028, 0.03203875322552974)\n",
      "Z test for option 2: (2.449489742783178, 0.007152939217714871)\n"
     ]
    }
   ],
   "source": [
    "def test_proportions_2paired_wald(b, c, n, alternative = 'two-sided'):  \n",
    "    if alternative not in ('two-sided', 'smaller', 'larger'):\n",
    "        raise ValueError(\"alternative not recognized\\n\"\n",
    "                         \"should be 'two-sided', 'smaller' or 'larger'\")\n",
    "        \n",
    "    z = float(b - c) / np.sqrt(b + c - float((b - c)**2) / n )\n",
    "    \n",
    "    if alternative == 'two-sided':\n",
    "        p = 2 * (1 - sc.stats.norm.cdf(np.abs(z)))\n",
    "    \n",
    "    if alternative == 'smaller':\n",
    "        p = sc.stats.norm.cdf(z)\n",
    "\n",
    "    if alternative == 'larger':\n",
    "        p = 1 - sc.stats.norm.cdf(z)\n",
    "    \n",
    "    return(z,p)\n",
    "    \n",
    "print(\"Z test for option 1:\", test_proportions_2paired_wald(5, 1, 12, alternative = 'larger'))\n",
    "print(\"Z test for option 2:\", test_proportions_2paired_wald(4, 0, 12, alternative = 'larger'))"
   ]
  }
 ],
 "metadata": {
  "anaconda-cloud": {},
  "kernelspec": {
   "display_name": "Python 3 (ipykernel)",
   "language": "python",
   "name": "python3"
  }
 },
 "nbformat": 4,
 "nbformat_minor": 1
}
